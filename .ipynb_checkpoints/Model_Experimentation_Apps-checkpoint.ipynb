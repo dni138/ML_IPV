{
 "cells": [
  {
   "cell_type": "code",
   "execution_count": 377,
   "metadata": {},
   "outputs": [],
   "source": [
    "import numpy as np\n",
    "import pandas as pd\n",
    "import matplotlib as plt\n",
    "import seaborn as sns\n",
    "from urllib.parse import urlparse\n",
    "import math\n",
    "import json\n",
    "import langid\n",
    "from sklearn.feature_extraction.text import TfidfVectorizer as tfidf\n",
    "from sklearn.model_selection import train_test_split\n",
    "from sklearn.linear_model import LogisticRegression\n",
    "from sklearn.ensemble import RandomForestClassifier\n",
    "from sklearn.naive_bayes import MultinomialNB\n",
    "from sklearn.naive_bayes import GaussianNB\n",
    "from sklearn.naive_bayes import BernoulliNB\n",
    "from sklearn.linear_model import SGDClassifier\n",
    "from sklearn.preprocessing import label_binarize\n",
    "from sklearn.metrics import precision_score as precision\n",
    "from sklearn.metrics import recall_score as recall\n",
    "from sklearn.metrics import f1_score\n",
    "from sklearn.metrics import confusion_matrix as cm\n",
    "from sklearn.model_selection import cross_validate as cv\n",
    "from sklearn.model_selection import RandomizedSearchCV as rs"
   ]
  },
  {
   "cell_type": "code",
   "execution_count": 2,
   "metadata": {
    "scrolled": true
   },
   "outputs": [],
   "source": [
    "data = pd.read_csv('1000_labeled_and_features.csv')"
   ]
  },
  {
   "cell_type": "code",
   "execution_count": 3,
   "metadata": {},
   "outputs": [
    {
     "data": {
      "text/plain": [
       "Index(['appId', 'true label', 'category', 'id', 'title', 'summary', 'icon',\n",
       "       'price', 'free', 'minInstalls', 'maxInstalls', 'score', 'reviews',\n",
       "       'developer', 'developerId', 'developerEmail', 'developerWebsite',\n",
       "       'updated', 'version', 'genre', 'genreId', 'familyGenre',\n",
       "       'familyGenreId', 'size', 'description', 'descriptionHTML', 'histogram',\n",
       "       'offersIAP', 'adSupported', 'androidVersionText', 'androidVersion',\n",
       "       'contentRating', 'screenshots', 'video', 'comments', 'recentChanges',\n",
       "       'preregister', 'url', 'appId.1', 'similar', 'permissions', 'time',\n",
       "       'lastseen', 'discontinued', 'installs', 'scoreText', 'ratings',\n",
       "       'currency', 'priceText', 'developerAddress', 'privacyPolicy',\n",
       "       'headerImage', 'videoImage', 'contentRatingDescription', 'released'],\n",
       "      dtype='object')"
      ]
     },
     "execution_count": 3,
     "metadata": {},
     "output_type": "execute_result"
    }
   ],
   "source": [
    "data.columns"
   ]
  },
  {
   "cell_type": "code",
   "execution_count": 4,
   "metadata": {},
   "outputs": [],
   "source": [
    "data = data.head(1091)"
   ]
  },
  {
   "cell_type": "code",
   "execution_count": 5,
   "metadata": {},
   "outputs": [],
   "source": [
    "data = data.drop(['id', 'price', 'free', 'minInstalls', 'maxInstalls', 'developer', 'developerId', 'developerEmail', 'genreId', \n",
    "'familyGenre', 'familyGenreId', 'size', 'histogram', 'offersIAP', 'adSupported', 'androidVersionText','preregister', \n",
    "'time', 'lastseen', 'currency', 'priceText', 'developerAddress', 'contentRatingDescription', 'released',\n",
    "'updated', 'version', 'descriptionHTML', 'video', 'installs', 'scoreText', 'ratings', 'videoImage', 'appId.1', \n",
    "'androidVersion'], axis =1)\n",
    "           "
   ]
  },
  {
   "cell_type": "code",
   "execution_count": 6,
   "metadata": {},
   "outputs": [
    {
     "data": {
      "text/html": [
       "<div>\n",
       "<style scoped>\n",
       "    .dataframe tbody tr th:only-of-type {\n",
       "        vertical-align: middle;\n",
       "    }\n",
       "\n",
       "    .dataframe tbody tr th {\n",
       "        vertical-align: top;\n",
       "    }\n",
       "\n",
       "    .dataframe thead th {\n",
       "        text-align: right;\n",
       "    }\n",
       "</style>\n",
       "<table border=\"1\" class=\"dataframe\">\n",
       "  <thead>\n",
       "    <tr style=\"text-align: right;\">\n",
       "      <th></th>\n",
       "      <th>appId</th>\n",
       "      <th>true label</th>\n",
       "      <th>category</th>\n",
       "      <th>title</th>\n",
       "      <th>summary</th>\n",
       "      <th>icon</th>\n",
       "      <th>score</th>\n",
       "      <th>reviews</th>\n",
       "      <th>developerWebsite</th>\n",
       "      <th>genre</th>\n",
       "      <th>...</th>\n",
       "      <th>contentRating</th>\n",
       "      <th>screenshots</th>\n",
       "      <th>comments</th>\n",
       "      <th>recentChanges</th>\n",
       "      <th>url</th>\n",
       "      <th>similar</th>\n",
       "      <th>permissions</th>\n",
       "      <th>discontinued</th>\n",
       "      <th>privacyPolicy</th>\n",
       "      <th>headerImage</th>\n",
       "    </tr>\n",
       "  </thead>\n",
       "  <tbody>\n",
       "    <tr>\n",
       "      <td>0</td>\n",
       "      <td>a2ndappwhats.sdkw.com</td>\n",
       "      <td>surveillance:social-media</td>\n",
       "      <td>surveillance</td>\n",
       "      <td>2nd Account for Whatsapp</td>\n",
       "      <td>2 Whatsapps on Same Device | Same Whatsapps on...</td>\n",
       "      <td>//lh3.googleusercontent.com/nCOacYEXACIuhJWb9J...</td>\n",
       "      <td>4.0</td>\n",
       "      <td>6939.0</td>\n",
       "      <td>http://jh-jewelry.in/sureshkheni.html</td>\n",
       "      <td>Communication</td>\n",
       "      <td>...</td>\n",
       "      <td>Teen</td>\n",
       "      <td>[\"//lh3.googleusercontent.com/e32FVC6gtcvUj1B1...</td>\n",
       "      <td>[\"Very good applications but not suppose to al...</td>\n",
       "      <td>[\"Bug Fixes\"]</td>\n",
       "      <td>https://play.google.com/store/apps/details?id=...</td>\n",
       "      <td>[\"com.lbe.parallel.intl\", \"com.app.tiki.multim...</td>\n",
       "      <td>[\"read the contents of your USB storage\", \"mod...</td>\n",
       "      <td>20171111:1135</td>\n",
       "      <td>NaN</td>\n",
       "      <td>NaN</td>\n",
       "    </tr>\n",
       "    <tr>\n",
       "      <td>1</td>\n",
       "      <td>air.au.com.metro.DumbWaysToDie2</td>\n",
       "      <td>none:misc</td>\n",
       "      <td>none</td>\n",
       "      <td>Dumb Ways to Die 2: The Games</td>\n",
       "      <td>A new set of dumb characters are here to take ...</td>\n",
       "      <td>//lh3.googleusercontent.com/-ckfFIgLg_qkKbVVgv...</td>\n",
       "      <td>4.2</td>\n",
       "      <td>1584158.0</td>\n",
       "      <td>http://dumbwaystodie.com</td>\n",
       "      <td>Casual</td>\n",
       "      <td>...</td>\n",
       "      <td>Teen</td>\n",
       "      <td>[\"//lh3.googleusercontent.com/G_-nQwn58EEoZbof...</td>\n",
       "      <td>[\"It's a good game, and there's variety, but t...</td>\n",
       "      <td>[\"AMERICALAND\", \"We\\u2019re celebrating the Fo...</td>\n",
       "      <td>https://play.google.com/store/apps/details?id=...</td>\n",
       "      <td>[\"com.popreach.dumbways\", \"com.zynga.looney\", ...</td>\n",
       "      <td>[\"find accounts on the device\", \"read the cont...</td>\n",
       "      <td>NaN</td>\n",
       "      <td>NaN</td>\n",
       "      <td>NaN</td>\n",
       "    </tr>\n",
       "    <tr>\n",
       "      <td>2</td>\n",
       "      <td>air.com.applauz.timeoutkids</td>\n",
       "      <td>control:use-limitation</td>\n",
       "      <td>control</td>\n",
       "      <td>Time Out - Behaviour Meter</td>\n",
       "      <td>Live Behaviour Meter companion app for &amp;quot;T...</td>\n",
       "      <td>https://lh3.googleusercontent.com/uRLr8icEKEhV...</td>\n",
       "      <td>4.5</td>\n",
       "      <td>0.0</td>\n",
       "      <td>http://www.applauz-media.com/timeout</td>\n",
       "      <td>Parenting</td>\n",
       "      <td>...</td>\n",
       "      <td>Everyone</td>\n",
       "      <td>[\"https://lh3.googleusercontent.com/Fon1L3syRL...</td>\n",
       "      <td>[]</td>\n",
       "      <td>NaN</td>\n",
       "      <td>https://play.google.com/store/apps/details?id=...</td>\n",
       "      <td>[\"com.jeesmon.malayalambible\", \"com.bn.speacki...</td>\n",
       "      <td>[\"full network access\"]</td>\n",
       "      <td>NaN</td>\n",
       "      <td>http://applauz-media.com/privacypolicy</td>\n",
       "      <td>https://lh3.googleusercontent.com/3_G29zRlpVOA...</td>\n",
       "    </tr>\n",
       "    <tr>\n",
       "      <td>3</td>\n",
       "      <td>ajx.com.calltracker</td>\n",
       "      <td>callerid:misc</td>\n",
       "      <td>callerid</td>\n",
       "      <td>Call Tracker</td>\n",
       "      <td>Call Tracker helps you identify numbers real-t...</td>\n",
       "      <td>//lh3.googleusercontent.com/RQi_G-l3CadNwi4PNc...</td>\n",
       "      <td>3.9</td>\n",
       "      <td>71.0</td>\n",
       "      <td>http://www.optcrm.com/privacypolicy.html</td>\n",
       "      <td>Tools</td>\n",
       "      <td>...</td>\n",
       "      <td>Everyone</td>\n",
       "      <td>[\"//lh3.googleusercontent.com/kIVoX7kgHvKld7LP...</td>\n",
       "      <td>[\"Thanks\", \"Chutiya App and which people has c...</td>\n",
       "      <td>[\"Improved search result\"]</td>\n",
       "      <td>https://play.google.com/store/apps/details?id=...</td>\n",
       "      <td>[\"com.truecaller\", \"com.caller.id.location.gps...</td>\n",
       "      <td>[\"read your contacts\", \"modify your contacts\",...</td>\n",
       "      <td>NaN</td>\n",
       "      <td>NaN</td>\n",
       "      <td>NaN</td>\n",
       "    </tr>\n",
       "    <tr>\n",
       "      <td>4</td>\n",
       "      <td>allcall.location.tracker</td>\n",
       "      <td>callerid:location</td>\n",
       "      <td>callerid</td>\n",
       "      <td>All Call Location Tracker</td>\n",
       "      <td>All Calls Location Tracker shows the location ...</td>\n",
       "      <td>//lh4.ggpht.com/GJHw8FTW0PqpDnLoHDJvg1MIQHZwjV...</td>\n",
       "      <td>4.0</td>\n",
       "      <td>3406.0</td>\n",
       "      <td>NaN</td>\n",
       "      <td>Communication</td>\n",
       "      <td>...</td>\n",
       "      <td>Everyone</td>\n",
       "      <td>[\"//lh3.googleusercontent.com/UZ80Bvz4FwbnfU4I...</td>\n",
       "      <td>[\"Very Slow and looks like a spam :-(\", \"Too m...</td>\n",
       "      <td>[]</td>\n",
       "      <td>https://play.google.com/store/apps/details?id=...</td>\n",
       "      <td>[\"com.caller.id.location.gps.maps.phone.number...</td>\n",
       "      <td>[\"read sensitive log data\", \"read your Web boo...</td>\n",
       "      <td>20171214:1228</td>\n",
       "      <td>NaN</td>\n",
       "      <td>NaN</td>\n",
       "    </tr>\n",
       "  </tbody>\n",
       "</table>\n",
       "<p>5 rows × 21 columns</p>\n",
       "</div>"
      ],
      "text/plain": [
       "                             appId                 true label      category  \\\n",
       "0            a2ndappwhats.sdkw.com  surveillance:social-media  surveillance   \n",
       "1  air.au.com.metro.DumbWaysToDie2                  none:misc          none   \n",
       "2      air.com.applauz.timeoutkids     control:use-limitation       control   \n",
       "3              ajx.com.calltracker              callerid:misc      callerid   \n",
       "4         allcall.location.tracker          callerid:location      callerid   \n",
       "\n",
       "                           title  \\\n",
       "0       2nd Account for Whatsapp   \n",
       "1  Dumb Ways to Die 2: The Games   \n",
       "2     Time Out - Behaviour Meter   \n",
       "3                   Call Tracker   \n",
       "4      All Call Location Tracker   \n",
       "\n",
       "                                             summary  \\\n",
       "0  2 Whatsapps on Same Device | Same Whatsapps on...   \n",
       "1  A new set of dumb characters are here to take ...   \n",
       "2  Live Behaviour Meter companion app for &quot;T...   \n",
       "3  Call Tracker helps you identify numbers real-t...   \n",
       "4  All Calls Location Tracker shows the location ...   \n",
       "\n",
       "                                                icon  score    reviews  \\\n",
       "0  //lh3.googleusercontent.com/nCOacYEXACIuhJWb9J...    4.0     6939.0   \n",
       "1  //lh3.googleusercontent.com/-ckfFIgLg_qkKbVVgv...    4.2  1584158.0   \n",
       "2  https://lh3.googleusercontent.com/uRLr8icEKEhV...    4.5        0.0   \n",
       "3  //lh3.googleusercontent.com/RQi_G-l3CadNwi4PNc...    3.9       71.0   \n",
       "4  //lh4.ggpht.com/GJHw8FTW0PqpDnLoHDJvg1MIQHZwjV...    4.0     3406.0   \n",
       "\n",
       "                           developerWebsite          genre  ... contentRating  \\\n",
       "0     http://jh-jewelry.in/sureshkheni.html  Communication  ...          Teen   \n",
       "1                  http://dumbwaystodie.com         Casual  ...          Teen   \n",
       "2      http://www.applauz-media.com/timeout      Parenting  ...      Everyone   \n",
       "3  http://www.optcrm.com/privacypolicy.html          Tools  ...      Everyone   \n",
       "4                                       NaN  Communication  ...      Everyone   \n",
       "\n",
       "                                         screenshots  \\\n",
       "0  [\"//lh3.googleusercontent.com/e32FVC6gtcvUj1B1...   \n",
       "1  [\"//lh3.googleusercontent.com/G_-nQwn58EEoZbof...   \n",
       "2  [\"https://lh3.googleusercontent.com/Fon1L3syRL...   \n",
       "3  [\"//lh3.googleusercontent.com/kIVoX7kgHvKld7LP...   \n",
       "4  [\"//lh3.googleusercontent.com/UZ80Bvz4FwbnfU4I...   \n",
       "\n",
       "                                            comments  \\\n",
       "0  [\"Very good applications but not suppose to al...   \n",
       "1  [\"It's a good game, and there's variety, but t...   \n",
       "2                                                 []   \n",
       "3  [\"Thanks\", \"Chutiya App and which people has c...   \n",
       "4  [\"Very Slow and looks like a spam :-(\", \"Too m...   \n",
       "\n",
       "                                       recentChanges  \\\n",
       "0                                      [\"Bug Fixes\"]   \n",
       "1  [\"AMERICALAND\", \"We\\u2019re celebrating the Fo...   \n",
       "2                                                NaN   \n",
       "3                         [\"Improved search result\"]   \n",
       "4                                                 []   \n",
       "\n",
       "                                                 url  \\\n",
       "0  https://play.google.com/store/apps/details?id=...   \n",
       "1  https://play.google.com/store/apps/details?id=...   \n",
       "2  https://play.google.com/store/apps/details?id=...   \n",
       "3  https://play.google.com/store/apps/details?id=...   \n",
       "4  https://play.google.com/store/apps/details?id=...   \n",
       "\n",
       "                                             similar  \\\n",
       "0  [\"com.lbe.parallel.intl\", \"com.app.tiki.multim...   \n",
       "1  [\"com.popreach.dumbways\", \"com.zynga.looney\", ...   \n",
       "2  [\"com.jeesmon.malayalambible\", \"com.bn.speacki...   \n",
       "3  [\"com.truecaller\", \"com.caller.id.location.gps...   \n",
       "4  [\"com.caller.id.location.gps.maps.phone.number...   \n",
       "\n",
       "                                         permissions   discontinued  \\\n",
       "0  [\"read the contents of your USB storage\", \"mod...  20171111:1135   \n",
       "1  [\"find accounts on the device\", \"read the cont...            NaN   \n",
       "2                            [\"full network access\"]            NaN   \n",
       "3  [\"read your contacts\", \"modify your contacts\",...            NaN   \n",
       "4  [\"read sensitive log data\", \"read your Web boo...  20171214:1228   \n",
       "\n",
       "                            privacyPolicy  \\\n",
       "0                                     NaN   \n",
       "1                                     NaN   \n",
       "2  http://applauz-media.com/privacypolicy   \n",
       "3                                     NaN   \n",
       "4                                     NaN   \n",
       "\n",
       "                                         headerImage  \n",
       "0                                                NaN  \n",
       "1                                                NaN  \n",
       "2  https://lh3.googleusercontent.com/3_G29zRlpVOA...  \n",
       "3                                                NaN  \n",
       "4                                                NaN  \n",
       "\n",
       "[5 rows x 21 columns]"
      ]
     },
     "execution_count": 6,
     "metadata": {},
     "output_type": "execute_result"
    }
   ],
   "source": [
    "data.head()"
   ]
  },
  {
   "cell_type": "code",
   "execution_count": 7,
   "metadata": {},
   "outputs": [],
   "source": [
    "data['discontinued'] = data['discontinued'].notnull().astype('int')\n",
    "data['privacyPolicy'] = data['privacyPolicy'].notnull().astype('int')"
   ]
  },
  {
   "cell_type": "code",
   "execution_count": 8,
   "metadata": {},
   "outputs": [
    {
     "data": {
      "text/plain": [
       "Index(['appId', 'true label', 'category', 'title', 'summary', 'icon', 'score',\n",
       "       'reviews', 'developerWebsite', 'genre', 'description', 'contentRating',\n",
       "       'screenshots', 'comments', 'recentChanges', 'url', 'similar',\n",
       "       'permissions', 'discontinued', 'privacyPolicy', 'headerImage'],\n",
       "      dtype='object')"
      ]
     },
     "execution_count": 8,
     "metadata": {},
     "output_type": "execute_result"
    }
   ],
   "source": [
    "data.columns"
   ]
  },
  {
   "cell_type": "code",
   "execution_count": 9,
   "metadata": {},
   "outputs": [],
   "source": [
    "discontinued = pd.get_dummies(data['discontinued'])\n",
    "privacy = pd.get_dummies(data['privacyPolicy'])"
   ]
  },
  {
   "cell_type": "code",
   "execution_count": 10,
   "metadata": {},
   "outputs": [],
   "source": [
    "privacy.columns = ['not_privacy', 'privacy']\n",
    "discontinued.columns = ['not_discontinued', 'discontinued']"
   ]
  },
  {
   "cell_type": "code",
   "execution_count": 11,
   "metadata": {},
   "outputs": [
    {
     "data": {
      "text/html": [
       "<div>\n",
       "<style scoped>\n",
       "    .dataframe tbody tr th:only-of-type {\n",
       "        vertical-align: middle;\n",
       "    }\n",
       "\n",
       "    .dataframe tbody tr th {\n",
       "        vertical-align: top;\n",
       "    }\n",
       "\n",
       "    .dataframe thead th {\n",
       "        text-align: right;\n",
       "    }\n",
       "</style>\n",
       "<table border=\"1\" class=\"dataframe\">\n",
       "  <thead>\n",
       "    <tr style=\"text-align: right;\">\n",
       "      <th></th>\n",
       "      <th>not_discontinued</th>\n",
       "      <th>discontinued</th>\n",
       "    </tr>\n",
       "  </thead>\n",
       "  <tbody>\n",
       "    <tr>\n",
       "      <td>0</td>\n",
       "      <td>0</td>\n",
       "      <td>1</td>\n",
       "    </tr>\n",
       "    <tr>\n",
       "      <td>1</td>\n",
       "      <td>1</td>\n",
       "      <td>0</td>\n",
       "    </tr>\n",
       "    <tr>\n",
       "      <td>2</td>\n",
       "      <td>1</td>\n",
       "      <td>0</td>\n",
       "    </tr>\n",
       "    <tr>\n",
       "      <td>3</td>\n",
       "      <td>1</td>\n",
       "      <td>0</td>\n",
       "    </tr>\n",
       "    <tr>\n",
       "      <td>4</td>\n",
       "      <td>0</td>\n",
       "      <td>1</td>\n",
       "    </tr>\n",
       "  </tbody>\n",
       "</table>\n",
       "</div>"
      ],
      "text/plain": [
       "   not_discontinued  discontinued\n",
       "0                 0             1\n",
       "1                 1             0\n",
       "2                 1             0\n",
       "3                 1             0\n",
       "4                 0             1"
      ]
     },
     "execution_count": 11,
     "metadata": {},
     "output_type": "execute_result"
    }
   ],
   "source": [
    "discontinued.head()"
   ]
  },
  {
   "cell_type": "code",
   "execution_count": 12,
   "metadata": {},
   "outputs": [],
   "source": [
    "data = data.drop(['discontinued', 'privacyPolicy'], axis  = 1)"
   ]
  },
  {
   "cell_type": "code",
   "execution_count": 13,
   "metadata": {},
   "outputs": [],
   "source": [
    "data = pd.concat([data, privacy, discontinued], axis = 1)"
   ]
  },
  {
   "cell_type": "code",
   "execution_count": 14,
   "metadata": {},
   "outputs": [
    {
     "data": {
      "text/plain": [
       "Index(['appId', 'true label', 'category', 'title', 'summary', 'icon', 'score',\n",
       "       'reviews', 'developerWebsite', 'genre', 'description', 'contentRating',\n",
       "       'screenshots', 'comments', 'recentChanges', 'url', 'similar',\n",
       "       'permissions', 'headerImage', 'not_privacy', 'privacy',\n",
       "       'not_discontinued', 'discontinued'],\n",
       "      dtype='object')"
      ]
     },
     "execution_count": 14,
     "metadata": {},
     "output_type": "execute_result"
    }
   ],
   "source": [
    "data.columns"
   ]
  },
  {
   "cell_type": "code",
   "execution_count": 15,
   "metadata": {},
   "outputs": [],
   "source": [
    "labels = data[['true label', 'category']]"
   ]
  },
  {
   "cell_type": "code",
   "execution_count": 16,
   "metadata": {},
   "outputs": [
    {
     "data": {
      "text/html": [
       "<div>\n",
       "<style scoped>\n",
       "    .dataframe tbody tr th:only-of-type {\n",
       "        vertical-align: middle;\n",
       "    }\n",
       "\n",
       "    .dataframe tbody tr th {\n",
       "        vertical-align: top;\n",
       "    }\n",
       "\n",
       "    .dataframe thead th {\n",
       "        text-align: right;\n",
       "    }\n",
       "</style>\n",
       "<table border=\"1\" class=\"dataframe\">\n",
       "  <thead>\n",
       "    <tr style=\"text-align: right;\">\n",
       "      <th></th>\n",
       "      <th>true label</th>\n",
       "      <th>category</th>\n",
       "    </tr>\n",
       "  </thead>\n",
       "  <tbody>\n",
       "    <tr>\n",
       "      <td>0</td>\n",
       "      <td>surveillance:social-media</td>\n",
       "      <td>surveillance</td>\n",
       "    </tr>\n",
       "    <tr>\n",
       "      <td>1</td>\n",
       "      <td>none:misc</td>\n",
       "      <td>none</td>\n",
       "    </tr>\n",
       "    <tr>\n",
       "      <td>2</td>\n",
       "      <td>control:use-limitation</td>\n",
       "      <td>control</td>\n",
       "    </tr>\n",
       "    <tr>\n",
       "      <td>3</td>\n",
       "      <td>callerid:misc</td>\n",
       "      <td>callerid</td>\n",
       "    </tr>\n",
       "    <tr>\n",
       "      <td>4</td>\n",
       "      <td>callerid:location</td>\n",
       "      <td>callerid</td>\n",
       "    </tr>\n",
       "  </tbody>\n",
       "</table>\n",
       "</div>"
      ],
      "text/plain": [
       "                  true label      category\n",
       "0  surveillance:social-media  surveillance\n",
       "1                  none:misc          none\n",
       "2     control:use-limitation       control\n",
       "3              callerid:misc      callerid\n",
       "4          callerid:location      callerid"
      ]
     },
     "execution_count": 16,
     "metadata": {},
     "output_type": "execute_result"
    }
   ],
   "source": [
    "labels.head()"
   ]
  },
  {
   "cell_type": "code",
   "execution_count": 17,
   "metadata": {},
   "outputs": [],
   "source": [
    "data = data.drop(['true label', 'category'], axis = 1)"
   ]
  },
  {
   "cell_type": "code",
   "execution_count": 18,
   "metadata": {},
   "outputs": [],
   "source": [
    "data = data.fillna(0)"
   ]
  },
  {
   "cell_type": "code",
   "execution_count": 19,
   "metadata": {},
   "outputs": [
    {
     "data": {
      "text/html": [
       "<div>\n",
       "<style scoped>\n",
       "    .dataframe tbody tr th:only-of-type {\n",
       "        vertical-align: middle;\n",
       "    }\n",
       "\n",
       "    .dataframe tbody tr th {\n",
       "        vertical-align: top;\n",
       "    }\n",
       "\n",
       "    .dataframe thead th {\n",
       "        text-align: right;\n",
       "    }\n",
       "</style>\n",
       "<table border=\"1\" class=\"dataframe\">\n",
       "  <thead>\n",
       "    <tr style=\"text-align: right;\">\n",
       "      <th></th>\n",
       "      <th>appId</th>\n",
       "      <th>title</th>\n",
       "      <th>summary</th>\n",
       "      <th>icon</th>\n",
       "      <th>score</th>\n",
       "      <th>reviews</th>\n",
       "      <th>developerWebsite</th>\n",
       "      <th>genre</th>\n",
       "      <th>description</th>\n",
       "      <th>contentRating</th>\n",
       "      <th>...</th>\n",
       "      <th>comments</th>\n",
       "      <th>recentChanges</th>\n",
       "      <th>url</th>\n",
       "      <th>similar</th>\n",
       "      <th>permissions</th>\n",
       "      <th>headerImage</th>\n",
       "      <th>not_privacy</th>\n",
       "      <th>privacy</th>\n",
       "      <th>not_discontinued</th>\n",
       "      <th>discontinued</th>\n",
       "    </tr>\n",
       "  </thead>\n",
       "  <tbody>\n",
       "    <tr>\n",
       "      <td>0</td>\n",
       "      <td>a2ndappwhats.sdkw.com</td>\n",
       "      <td>2nd Account for Whatsapp</td>\n",
       "      <td>2 Whatsapps on Same Device | Same Whatsapps on...</td>\n",
       "      <td>//lh3.googleusercontent.com/nCOacYEXACIuhJWb9J...</td>\n",
       "      <td>4.0</td>\n",
       "      <td>6939.0</td>\n",
       "      <td>http://jh-jewelry.in/sureshkheni.html</td>\n",
       "      <td>Communication</td>\n",
       "      <td>use &amp; Control another WhatsApp with the same d...</td>\n",
       "      <td>Teen</td>\n",
       "      <td>...</td>\n",
       "      <td>[\"Very good applications but not suppose to al...</td>\n",
       "      <td>[\"Bug Fixes\"]</td>\n",
       "      <td>https://play.google.com/store/apps/details?id=...</td>\n",
       "      <td>[\"com.lbe.parallel.intl\", \"com.app.tiki.multim...</td>\n",
       "      <td>[\"read the contents of your USB storage\", \"mod...</td>\n",
       "      <td>0</td>\n",
       "      <td>1</td>\n",
       "      <td>0</td>\n",
       "      <td>0</td>\n",
       "      <td>1</td>\n",
       "    </tr>\n",
       "    <tr>\n",
       "      <td>1</td>\n",
       "      <td>air.au.com.metro.DumbWaysToDie2</td>\n",
       "      <td>Dumb Ways to Die 2: The Games</td>\n",
       "      <td>A new set of dumb characters are here to take ...</td>\n",
       "      <td>//lh3.googleusercontent.com/-ckfFIgLg_qkKbVVgv...</td>\n",
       "      <td>4.2</td>\n",
       "      <td>1584158.0</td>\n",
       "      <td>http://dumbwaystodie.com</td>\n",
       "      <td>Casual</td>\n",
       "      <td>There’s a whole new set of dumb characters tha...</td>\n",
       "      <td>Teen</td>\n",
       "      <td>...</td>\n",
       "      <td>[\"It's a good game, and there's variety, but t...</td>\n",
       "      <td>[\"AMERICALAND\", \"We\\u2019re celebrating the Fo...</td>\n",
       "      <td>https://play.google.com/store/apps/details?id=...</td>\n",
       "      <td>[\"com.popreach.dumbways\", \"com.zynga.looney\", ...</td>\n",
       "      <td>[\"find accounts on the device\", \"read the cont...</td>\n",
       "      <td>0</td>\n",
       "      <td>1</td>\n",
       "      <td>0</td>\n",
       "      <td>1</td>\n",
       "      <td>0</td>\n",
       "    </tr>\n",
       "    <tr>\n",
       "      <td>2</td>\n",
       "      <td>air.com.applauz.timeoutkids</td>\n",
       "      <td>Time Out - Behaviour Meter</td>\n",
       "      <td>Live Behaviour Meter companion app for &amp;quot;T...</td>\n",
       "      <td>https://lh3.googleusercontent.com/uRLr8icEKEhV...</td>\n",
       "      <td>4.5</td>\n",
       "      <td>0.0</td>\n",
       "      <td>http://www.applauz-media.com/timeout</td>\n",
       "      <td>Parenting</td>\n",
       "      <td>You already have our app \"Time Out - Time Out ...</td>\n",
       "      <td>Everyone</td>\n",
       "      <td>...</td>\n",
       "      <td>[]</td>\n",
       "      <td>0</td>\n",
       "      <td>https://play.google.com/store/apps/details?id=...</td>\n",
       "      <td>[\"com.jeesmon.malayalambible\", \"com.bn.speacki...</td>\n",
       "      <td>[\"full network access\"]</td>\n",
       "      <td>https://lh3.googleusercontent.com/3_G29zRlpVOA...</td>\n",
       "      <td>0</td>\n",
       "      <td>1</td>\n",
       "      <td>1</td>\n",
       "      <td>0</td>\n",
       "    </tr>\n",
       "    <tr>\n",
       "      <td>3</td>\n",
       "      <td>ajx.com.calltracker</td>\n",
       "      <td>Call Tracker</td>\n",
       "      <td>Call Tracker helps you identify numbers real-t...</td>\n",
       "      <td>//lh3.googleusercontent.com/RQi_G-l3CadNwi4PNc...</td>\n",
       "      <td>3.9</td>\n",
       "      <td>71.0</td>\n",
       "      <td>http://www.optcrm.com/privacypolicy.html</td>\n",
       "      <td>Tools</td>\n",
       "      <td>Call Tracker caller ID helps you identify numb...</td>\n",
       "      <td>Everyone</td>\n",
       "      <td>...</td>\n",
       "      <td>[\"Thanks\", \"Chutiya App and which people has c...</td>\n",
       "      <td>[\"Improved search result\"]</td>\n",
       "      <td>https://play.google.com/store/apps/details?id=...</td>\n",
       "      <td>[\"com.truecaller\", \"com.caller.id.location.gps...</td>\n",
       "      <td>[\"read your contacts\", \"modify your contacts\",...</td>\n",
       "      <td>0</td>\n",
       "      <td>1</td>\n",
       "      <td>0</td>\n",
       "      <td>1</td>\n",
       "      <td>0</td>\n",
       "    </tr>\n",
       "    <tr>\n",
       "      <td>4</td>\n",
       "      <td>allcall.location.tracker</td>\n",
       "      <td>All Call Location Tracker</td>\n",
       "      <td>All Calls Location Tracker shows the location ...</td>\n",
       "      <td>//lh4.ggpht.com/GJHw8FTW0PqpDnLoHDJvg1MIQHZwjV...</td>\n",
       "      <td>4.0</td>\n",
       "      <td>3406.0</td>\n",
       "      <td>0</td>\n",
       "      <td>Communication</td>\n",
       "      <td>All Calls Location Tracker shows the location ...</td>\n",
       "      <td>Everyone</td>\n",
       "      <td>...</td>\n",
       "      <td>[\"Very Slow and looks like a spam :-(\", \"Too m...</td>\n",
       "      <td>[]</td>\n",
       "      <td>https://play.google.com/store/apps/details?id=...</td>\n",
       "      <td>[\"com.caller.id.location.gps.maps.phone.number...</td>\n",
       "      <td>[\"read sensitive log data\", \"read your Web boo...</td>\n",
       "      <td>0</td>\n",
       "      <td>1</td>\n",
       "      <td>0</td>\n",
       "      <td>0</td>\n",
       "      <td>1</td>\n",
       "    </tr>\n",
       "  </tbody>\n",
       "</table>\n",
       "<p>5 rows × 21 columns</p>\n",
       "</div>"
      ],
      "text/plain": [
       "                             appId                          title  \\\n",
       "0            a2ndappwhats.sdkw.com       2nd Account for Whatsapp   \n",
       "1  air.au.com.metro.DumbWaysToDie2  Dumb Ways to Die 2: The Games   \n",
       "2      air.com.applauz.timeoutkids     Time Out - Behaviour Meter   \n",
       "3              ajx.com.calltracker                   Call Tracker   \n",
       "4         allcall.location.tracker      All Call Location Tracker   \n",
       "\n",
       "                                             summary  \\\n",
       "0  2 Whatsapps on Same Device | Same Whatsapps on...   \n",
       "1  A new set of dumb characters are here to take ...   \n",
       "2  Live Behaviour Meter companion app for &quot;T...   \n",
       "3  Call Tracker helps you identify numbers real-t...   \n",
       "4  All Calls Location Tracker shows the location ...   \n",
       "\n",
       "                                                icon  score    reviews  \\\n",
       "0  //lh3.googleusercontent.com/nCOacYEXACIuhJWb9J...    4.0     6939.0   \n",
       "1  //lh3.googleusercontent.com/-ckfFIgLg_qkKbVVgv...    4.2  1584158.0   \n",
       "2  https://lh3.googleusercontent.com/uRLr8icEKEhV...    4.5        0.0   \n",
       "3  //lh3.googleusercontent.com/RQi_G-l3CadNwi4PNc...    3.9       71.0   \n",
       "4  //lh4.ggpht.com/GJHw8FTW0PqpDnLoHDJvg1MIQHZwjV...    4.0     3406.0   \n",
       "\n",
       "                           developerWebsite          genre  \\\n",
       "0     http://jh-jewelry.in/sureshkheni.html  Communication   \n",
       "1                  http://dumbwaystodie.com         Casual   \n",
       "2      http://www.applauz-media.com/timeout      Parenting   \n",
       "3  http://www.optcrm.com/privacypolicy.html          Tools   \n",
       "4                                         0  Communication   \n",
       "\n",
       "                                         description contentRating  ...  \\\n",
       "0  use & Control another WhatsApp with the same d...          Teen  ...   \n",
       "1  There’s a whole new set of dumb characters tha...          Teen  ...   \n",
       "2  You already have our app \"Time Out - Time Out ...      Everyone  ...   \n",
       "3  Call Tracker caller ID helps you identify numb...      Everyone  ...   \n",
       "4  All Calls Location Tracker shows the location ...      Everyone  ...   \n",
       "\n",
       "                                            comments  \\\n",
       "0  [\"Very good applications but not suppose to al...   \n",
       "1  [\"It's a good game, and there's variety, but t...   \n",
       "2                                                 []   \n",
       "3  [\"Thanks\", \"Chutiya App and which people has c...   \n",
       "4  [\"Very Slow and looks like a spam :-(\", \"Too m...   \n",
       "\n",
       "                                       recentChanges  \\\n",
       "0                                      [\"Bug Fixes\"]   \n",
       "1  [\"AMERICALAND\", \"We\\u2019re celebrating the Fo...   \n",
       "2                                                  0   \n",
       "3                         [\"Improved search result\"]   \n",
       "4                                                 []   \n",
       "\n",
       "                                                 url  \\\n",
       "0  https://play.google.com/store/apps/details?id=...   \n",
       "1  https://play.google.com/store/apps/details?id=...   \n",
       "2  https://play.google.com/store/apps/details?id=...   \n",
       "3  https://play.google.com/store/apps/details?id=...   \n",
       "4  https://play.google.com/store/apps/details?id=...   \n",
       "\n",
       "                                             similar  \\\n",
       "0  [\"com.lbe.parallel.intl\", \"com.app.tiki.multim...   \n",
       "1  [\"com.popreach.dumbways\", \"com.zynga.looney\", ...   \n",
       "2  [\"com.jeesmon.malayalambible\", \"com.bn.speacki...   \n",
       "3  [\"com.truecaller\", \"com.caller.id.location.gps...   \n",
       "4  [\"com.caller.id.location.gps.maps.phone.number...   \n",
       "\n",
       "                                         permissions  \\\n",
       "0  [\"read the contents of your USB storage\", \"mod...   \n",
       "1  [\"find accounts on the device\", \"read the cont...   \n",
       "2                            [\"full network access\"]   \n",
       "3  [\"read your contacts\", \"modify your contacts\",...   \n",
       "4  [\"read sensitive log data\", \"read your Web boo...   \n",
       "\n",
       "                                         headerImage not_privacy  privacy  \\\n",
       "0                                                  0           1        0   \n",
       "1                                                  0           1        0   \n",
       "2  https://lh3.googleusercontent.com/3_G29zRlpVOA...           0        1   \n",
       "3                                                  0           1        0   \n",
       "4                                                  0           1        0   \n",
       "\n",
       "   not_discontinued  discontinued  \n",
       "0                 0             1  \n",
       "1                 1             0  \n",
       "2                 1             0  \n",
       "3                 1             0  \n",
       "4                 0             1  \n",
       "\n",
       "[5 rows x 21 columns]"
      ]
     },
     "execution_count": 19,
     "metadata": {},
     "output_type": "execute_result"
    }
   ],
   "source": [
    "data.head()"
   ]
  },
  {
   "cell_type": "code",
   "execution_count": 20,
   "metadata": {},
   "outputs": [
    {
     "data": {
      "text/plain": [
       "Index(['appId', 'title', 'summary', 'icon', 'score', 'reviews',\n",
       "       'developerWebsite', 'genre', 'description', 'contentRating',\n",
       "       'screenshots', 'comments', 'recentChanges', 'url', 'similar',\n",
       "       'permissions', 'headerImage', 'not_privacy', 'privacy',\n",
       "       'not_discontinued', 'discontinued'],\n",
       "      dtype='object')"
      ]
     },
     "execution_count": 20,
     "metadata": {},
     "output_type": "execute_result"
    }
   ],
   "source": [
    "data.columns"
   ]
  },
  {
   "cell_type": "code",
   "execution_count": 21,
   "metadata": {},
   "outputs": [],
   "source": [
    "text = []\n",
    "for el in data.values:\n",
    "    all_string = el[1] + ' ' + el[2] + ' ' + el[7] + ' ' + el[8]\n",
    "    if type(el[11]) == type('a'):\n",
    "        try:\n",
    "            for comment in json.loads(el[11]):\n",
    "                all_string += ' ' + comment\n",
    "        except:\n",
    "            all_string += ' ' + el[11]\n",
    "    text.append(all_string.encode('utf-8'))"
   ]
  },
  {
   "cell_type": "code",
   "execution_count": 22,
   "metadata": {},
   "outputs": [],
   "source": [
    "data = data.drop(['title', 'summary', 'description', 'contentRating', 'comments', 'recentChanges', 'permissions'], axis = 1)"
   ]
  },
  {
   "cell_type": "code",
   "execution_count": 23,
   "metadata": {},
   "outputs": [],
   "source": [
    "text = pd.DataFrame(text, columns = ['text'])"
   ]
  },
  {
   "cell_type": "code",
   "execution_count": 24,
   "metadata": {},
   "outputs": [],
   "source": [
    "data = pd.concat([data, text], axis = 1)"
   ]
  },
  {
   "cell_type": "code",
   "execution_count": 25,
   "metadata": {},
   "outputs": [],
   "source": [
    "data = data.drop(['icon', 'reviews', 'developerWebsite', 'genre', \n",
    "                  'screenshots', 'url', 'similar', 'headerImage', 'score', \n",
    "                  'not_privacy', 'privacy', 'not_discontinued', 'discontinued'], axis = 1)"
   ]
  },
  {
   "cell_type": "code",
   "execution_count": 26,
   "metadata": {},
   "outputs": [],
   "source": [
    "data = pd.concat([data, labels], axis = 1)"
   ]
  },
  {
   "cell_type": "code",
   "execution_count": 27,
   "metadata": {},
   "outputs": [
    {
     "data": {
      "text/html": [
       "<div>\n",
       "<style scoped>\n",
       "    .dataframe tbody tr th:only-of-type {\n",
       "        vertical-align: middle;\n",
       "    }\n",
       "\n",
       "    .dataframe tbody tr th {\n",
       "        vertical-align: top;\n",
       "    }\n",
       "\n",
       "    .dataframe thead th {\n",
       "        text-align: right;\n",
       "    }\n",
       "</style>\n",
       "<table border=\"1\" class=\"dataframe\">\n",
       "  <thead>\n",
       "    <tr style=\"text-align: right;\">\n",
       "      <th></th>\n",
       "      <th>appId</th>\n",
       "      <th>text</th>\n",
       "      <th>true label</th>\n",
       "      <th>category</th>\n",
       "    </tr>\n",
       "  </thead>\n",
       "  <tbody>\n",
       "    <tr>\n",
       "      <td>0</td>\n",
       "      <td>a2ndappwhats.sdkw.com</td>\n",
       "      <td>b\"2nd Account for Whatsapp 2 Whatsapps on Same...</td>\n",
       "      <td>surveillance:social-media</td>\n",
       "      <td>surveillance</td>\n",
       "    </tr>\n",
       "    <tr>\n",
       "      <td>1</td>\n",
       "      <td>air.au.com.metro.DumbWaysToDie2</td>\n",
       "      <td>b\"Dumb Ways to Die 2: The Games A new set of d...</td>\n",
       "      <td>none:misc</td>\n",
       "      <td>none</td>\n",
       "    </tr>\n",
       "    <tr>\n",
       "      <td>2</td>\n",
       "      <td>air.com.applauz.timeoutkids</td>\n",
       "      <td>b'Time Out - Behaviour Meter Live Behaviour Me...</td>\n",
       "      <td>control:use-limitation</td>\n",
       "      <td>control</td>\n",
       "    </tr>\n",
       "    <tr>\n",
       "      <td>3</td>\n",
       "      <td>ajx.com.calltracker</td>\n",
       "      <td>b\"Call Tracker Call Tracker helps you identify...</td>\n",
       "      <td>callerid:misc</td>\n",
       "      <td>callerid</td>\n",
       "    </tr>\n",
       "    <tr>\n",
       "      <td>4</td>\n",
       "      <td>allcall.location.tracker</td>\n",
       "      <td>b\"All Call Location Tracker All Calls Location...</td>\n",
       "      <td>callerid:location</td>\n",
       "      <td>callerid</td>\n",
       "    </tr>\n",
       "  </tbody>\n",
       "</table>\n",
       "</div>"
      ],
      "text/plain": [
       "                             appId  \\\n",
       "0            a2ndappwhats.sdkw.com   \n",
       "1  air.au.com.metro.DumbWaysToDie2   \n",
       "2      air.com.applauz.timeoutkids   \n",
       "3              ajx.com.calltracker   \n",
       "4         allcall.location.tracker   \n",
       "\n",
       "                                                text  \\\n",
       "0  b\"2nd Account for Whatsapp 2 Whatsapps on Same...   \n",
       "1  b\"Dumb Ways to Die 2: The Games A new set of d...   \n",
       "2  b'Time Out - Behaviour Meter Live Behaviour Me...   \n",
       "3  b\"Call Tracker Call Tracker helps you identify...   \n",
       "4  b\"All Call Location Tracker All Calls Location...   \n",
       "\n",
       "                  true label      category  \n",
       "0  surveillance:social-media  surveillance  \n",
       "1                  none:misc          none  \n",
       "2     control:use-limitation       control  \n",
       "3              callerid:misc      callerid  \n",
       "4          callerid:location      callerid  "
      ]
     },
     "execution_count": 27,
     "metadata": {},
     "output_type": "execute_result"
    }
   ],
   "source": [
    "data.head()"
   ]
  },
  {
   "cell_type": "code",
   "execution_count": 28,
   "metadata": {},
   "outputs": [],
   "source": [
    "train_data, test_data = train_test_split(data, test_size = .25, \n",
    "                                         random_state = 28, \n",
    "                                         stratify = list(data['category']))"
   ]
  },
  {
   "cell_type": "code",
   "execution_count": 29,
   "metadata": {},
   "outputs": [],
   "source": [
    "train_text = train_data['text']\n",
    "test_text = test_data['text']"
   ]
  },
  {
   "cell_type": "code",
   "execution_count": 30,
   "metadata": {},
   "outputs": [],
   "source": [
    "stopwords = [\"a\", \"about\", \"across\", \"after\", \"afterwards\", \"again\", \"all\", \n",
    "             \"almost\", \"alone\", \"along\", \"already\", \"also\",\"although\",\"always\",\"am\",\"among\", \"amongst\",\n",
    "             \"amoungst\", \"amount\",  \"an\", \"and\", \"another\", \"any\",\"anyhow\",\"anyone\",\"anything\",\"anyway\",\n",
    "             \"anywhere\", \"are\", \"around\", \"as\",  \"at\", \"back\",\"be\",\"became\", \"because\",\"become\",\"becomes\", \n",
    "             \"becoming\", \"been\", \"before\", \"beforehand\", \"behind\", \"being\", \"beside\", \"besides\", \n",
    "             \"between\", \"beyond\", \"bill\", \"both\", \"but\", \"by\", \"call\", \"can\", \"cannot\", \"cant\", \n",
    "             \"co\", \"con\", \"could\", \"couldnt\", \"cry\", \"de\", \"describe\", \"detail\", \"do\", \"done\",\n",
    "             \"due\", \"during\", \"each\", \"eg\", \"eight\", \"either\", \"eleven\",\"else\", \"elsewhere\", \n",
    "             \"enough\", \"etc\", \"even\", \"ever\", \"every\", \"everyone\", \"everything\", \"everywhere\", \"except\", \n",
    "             \"few\", \"fifteen\", \"fify\", \"fill\", \"find\", \"fire\", \"first\", \"five\", \"for\", \"former\", \"formerly\", \n",
    "             \"forty\", \"found\", \"four\", \"from\", \"further\", \"get\", \"give\", \"go\", \"had\", \"has\", \n",
    "             \"hasnt\", \"have\", \"he\", \"hence\", \"her\", \"here\", \"hereafter\", \"hereby\", \"herein\", \"hereupon\", \"hers\", \n",
    "             \"herself\", \"him\", \"himself\", \"his\", \"how\", \"however\", \"hundred\", \"ie\", \"if\", \"in\", \"inc\", \"indeed\", \n",
    "             \"interest\", \"into\", \"is\", \"it\", \"its\", \"itself\", \"keep\", \"last\", \"latter\", \"latterly\", \"least\", \"less\",\n",
    "             \"ltd\", \"made\", \"many\", \"may\", \"me\", \"meanwhile\", \"might\", \"mill\", \"mine\", \"more\", \"moreover\", \"most\", \n",
    "             \"mostly\", \"move\", \"much\", \"must\", \"my\", \"myself\", \"name\", \"namely\", \"neither\", \"never\", \"nevertheless\", \n",
    "             \"next\", \"nine\", \"no\", \"nobody\", \"none\", \"noone\", \"nor\", \"not\", \"nothing\", \"now\", \"nowhere\", \"of\", \"off\", \n",
    "             \"often\", \"on\", \"once\", \"one\", \"only\", \"onto\", \"or\", \"other\", \"others\", \"otherwise\", \"our\", \"ours\", \"ourselves\",\n",
    "             \"out\", \"over\", \"own\",\"part\", \"per\", \"perhaps\", \"please\", \"put\", \"rather\", \"re\", \"same\", \"see\", \"seem\", \"seemed\",\n",
    "             \"seeming\", \"seems\", \"serious\", \"several\", \"she\", \"should\", \"show\", \"side\", \"since\", \"sincere\", \"six\", \"sixty\", \n",
    "             \"so\", \"some\", \"somehow\", \"someone\", \"something\", \"sometime\", \"sometimes\", \"somewhere\", \"still\", \"such\", \"system\",\n",
    "             \"take\", \"ten\", \"than\", \"that\", \"the\", \"their\", \"them\", \"themselves\", \"then\", \"thence\", \"there\", \"thereafter\", \n",
    "             \"thereby\", \"therefore\", \"therein\", \"thereupon\", \"these\", \"they\", \"thick\", \"thin\", \"third\", \"this\", \"those\",\n",
    "             \"though\", \"three\", \"through\", \"throughout\", \"thru\", \"thus\", \"to\", \"together\", \"too\", \"toward\", \"towards\",\n",
    "             \"twelve\", \"twenty\", \"two\", \"un\", \"until\", \"upon\", \"us\", \"very\", \"via\", \"was\", \"we\", \"well\", \n",
    "             \"were\", \"what\", \"whatever\", \"when\", \"whence\", \"whenever\", \"where\", \"whereafter\", \"whereas\", \"whereby\", \"wherein\",\n",
    "             \"whereupon\", \"wherever\", \"whether\", \"which\", \"while\", \"whither\", \"who\", \"whoever\", \"whole\", \"whom\", \"whose\", \n",
    "             \"why\", \"will\", \"with\", \"within\", \"without\", \"would\", \"yet\", \"you\", \"your\", \"yours\", \"yourself\", \"yourselves\", \n",
    "             \"the\"]\n",
    "\n"
   ]
  },
  {
   "cell_type": "code",
   "execution_count": 31,
   "metadata": {},
   "outputs": [],
   "source": [
    "tfidf = tfidf(stop_words = stopwords, min_df = 5)"
   ]
  },
  {
   "cell_type": "code",
   "execution_count": 32,
   "metadata": {},
   "outputs": [],
   "source": [
    "vocabulary = tfidf.fit(train_text.values)"
   ]
  },
  {
   "cell_type": "code",
   "execution_count": 33,
   "metadata": {},
   "outputs": [],
   "source": [
    "train_text_matrix = vocabulary.transform(train_text.values)"
   ]
  },
  {
   "cell_type": "code",
   "execution_count": 34,
   "metadata": {},
   "outputs": [],
   "source": [
    "train_text_matrix = train_text_matrix.toarray()"
   ]
  },
  {
   "cell_type": "code",
   "execution_count": 35,
   "metadata": {},
   "outputs": [
    {
     "data": {
      "text/plain": [
       "array([0., 0., 0., ..., 0., 0., 0.])"
      ]
     },
     "execution_count": 35,
     "metadata": {},
     "output_type": "execute_result"
    }
   ],
   "source": [
    "train_text_matrix[0]"
   ]
  },
  {
   "cell_type": "code",
   "execution_count": 36,
   "metadata": {},
   "outputs": [],
   "source": [
    "test_text_matrix = vocabulary.transform(test_text.values)"
   ]
  },
  {
   "cell_type": "code",
   "execution_count": 37,
   "metadata": {},
   "outputs": [],
   "source": [
    "test_text_matrix = test_text_matrix.toarray()"
   ]
  },
  {
   "cell_type": "code",
   "execution_count": 38,
   "metadata": {},
   "outputs": [],
   "source": [
    "tfidf_test = pd.DataFrame(test_text_matrix)\n",
    "tfidf_train = pd.DataFrame(train_text_matrix)"
   ]
  },
  {
   "cell_type": "code",
   "execution_count": 39,
   "metadata": {},
   "outputs": [],
   "source": [
    "train_data = train_data.reset_index()\n",
    "test_data = test_data.reset_index()"
   ]
  },
  {
   "cell_type": "code",
   "execution_count": 40,
   "metadata": {},
   "outputs": [],
   "source": [
    "train_data = pd.concat([train_data, tfidf_train], axis = 1)\n",
    "test_data = pd.concat([test_data, tfidf_test], axis = 1)"
   ]
  },
  {
   "cell_type": "code",
   "execution_count": 41,
   "metadata": {},
   "outputs": [
    {
     "data": {
      "text/html": [
       "<div>\n",
       "<style scoped>\n",
       "    .dataframe tbody tr th:only-of-type {\n",
       "        vertical-align: middle;\n",
       "    }\n",
       "\n",
       "    .dataframe tbody tr th {\n",
       "        vertical-align: top;\n",
       "    }\n",
       "\n",
       "    .dataframe thead th {\n",
       "        text-align: right;\n",
       "    }\n",
       "</style>\n",
       "<table border=\"1\" class=\"dataframe\">\n",
       "  <thead>\n",
       "    <tr style=\"text-align: right;\">\n",
       "      <th></th>\n",
       "      <th>index</th>\n",
       "      <th>appId</th>\n",
       "      <th>text</th>\n",
       "      <th>true label</th>\n",
       "      <th>category</th>\n",
       "      <th>0</th>\n",
       "      <th>1</th>\n",
       "      <th>2</th>\n",
       "      <th>3</th>\n",
       "      <th>4</th>\n",
       "      <th>...</th>\n",
       "      <th>3379</th>\n",
       "      <th>3380</th>\n",
       "      <th>3381</th>\n",
       "      <th>3382</th>\n",
       "      <th>3383</th>\n",
       "      <th>3384</th>\n",
       "      <th>3385</th>\n",
       "      <th>3386</th>\n",
       "      <th>3387</th>\n",
       "      <th>3388</th>\n",
       "    </tr>\n",
       "  </thead>\n",
       "  <tbody>\n",
       "    <tr>\n",
       "      <td>0</td>\n",
       "      <td>292</td>\n",
       "      <td>com.fmee.fmeeserv</td>\n",
       "      <td>b'GPS Tracker By FollowMee Locate and Track Yo...</td>\n",
       "      <td>surveillance:location</td>\n",
       "      <td>surveillance</td>\n",
       "      <td>0.0</td>\n",
       "      <td>0.0</td>\n",
       "      <td>0.0</td>\n",
       "      <td>0.021414</td>\n",
       "      <td>0.000000</td>\n",
       "      <td>...</td>\n",
       "      <td>0.0</td>\n",
       "      <td>0.0</td>\n",
       "      <td>0.0</td>\n",
       "      <td>0.0</td>\n",
       "      <td>0.0</td>\n",
       "      <td>0.0</td>\n",
       "      <td>0.0</td>\n",
       "      <td>0.0</td>\n",
       "      <td>0.0</td>\n",
       "      <td>0.0</td>\n",
       "    </tr>\n",
       "    <tr>\n",
       "      <td>1</td>\n",
       "      <td>688</td>\n",
       "      <td>com.skibapps.messagespyremover</td>\n",
       "      <td>b'Message Spy Remover (Anti Spy) Detect, Ident...</td>\n",
       "      <td>defense:anti-surveillance</td>\n",
       "      <td>defense</td>\n",
       "      <td>0.0</td>\n",
       "      <td>0.0</td>\n",
       "      <td>0.0</td>\n",
       "      <td>0.032309</td>\n",
       "      <td>0.000000</td>\n",
       "      <td>...</td>\n",
       "      <td>0.0</td>\n",
       "      <td>0.0</td>\n",
       "      <td>0.0</td>\n",
       "      <td>0.0</td>\n",
       "      <td>0.0</td>\n",
       "      <td>0.0</td>\n",
       "      <td>0.0</td>\n",
       "      <td>0.0</td>\n",
       "      <td>0.0</td>\n",
       "      <td>0.0</td>\n",
       "    </tr>\n",
       "    <tr>\n",
       "      <td>2</td>\n",
       "      <td>12</td>\n",
       "      <td>appinventor.ai_oscar_rdzmty7.UnlockPhonePlus_copy</td>\n",
       "      <td>b\"Unlock Phone ( Unlock Codes ) Unlock your ce...</td>\n",
       "      <td>tutorial:settings</td>\n",
       "      <td>tutorial</td>\n",
       "      <td>0.0</td>\n",
       "      <td>0.0</td>\n",
       "      <td>0.0</td>\n",
       "      <td>0.036652</td>\n",
       "      <td>0.040718</td>\n",
       "      <td>...</td>\n",
       "      <td>0.0</td>\n",
       "      <td>0.0</td>\n",
       "      <td>0.0</td>\n",
       "      <td>0.0</td>\n",
       "      <td>0.0</td>\n",
       "      <td>0.0</td>\n",
       "      <td>0.0</td>\n",
       "      <td>0.0</td>\n",
       "      <td>0.0</td>\n",
       "      <td>0.0</td>\n",
       "    </tr>\n",
       "    <tr>\n",
       "      <td>3</td>\n",
       "      <td>236</td>\n",
       "      <td>com.djit.equalizerplusforandroidfree</td>\n",
       "      <td>b\"Equalizer music player booster The best musi...</td>\n",
       "      <td>none:misc</td>\n",
       "      <td>none</td>\n",
       "      <td>0.0</td>\n",
       "      <td>0.0</td>\n",
       "      <td>0.0</td>\n",
       "      <td>0.021145</td>\n",
       "      <td>0.000000</td>\n",
       "      <td>...</td>\n",
       "      <td>0.0</td>\n",
       "      <td>0.0</td>\n",
       "      <td>0.0</td>\n",
       "      <td>0.0</td>\n",
       "      <td>0.0</td>\n",
       "      <td>0.0</td>\n",
       "      <td>0.0</td>\n",
       "      <td>0.0</td>\n",
       "      <td>0.0</td>\n",
       "      <td>0.0</td>\n",
       "    </tr>\n",
       "    <tr>\n",
       "      <td>4</td>\n",
       "      <td>290</td>\n",
       "      <td>com.flexsolution.fakecallsms</td>\n",
       "      <td>b'Fake Call &amp; SMS Make prank call or SMS and t...</td>\n",
       "      <td>spoof:burner-phone</td>\n",
       "      <td>spoof</td>\n",
       "      <td>0.0</td>\n",
       "      <td>0.0</td>\n",
       "      <td>0.0</td>\n",
       "      <td>0.000000</td>\n",
       "      <td>0.054280</td>\n",
       "      <td>...</td>\n",
       "      <td>0.0</td>\n",
       "      <td>0.0</td>\n",
       "      <td>0.0</td>\n",
       "      <td>0.0</td>\n",
       "      <td>0.0</td>\n",
       "      <td>0.0</td>\n",
       "      <td>0.0</td>\n",
       "      <td>0.0</td>\n",
       "      <td>0.0</td>\n",
       "      <td>0.0</td>\n",
       "    </tr>\n",
       "  </tbody>\n",
       "</table>\n",
       "<p>5 rows × 3394 columns</p>\n",
       "</div>"
      ],
      "text/plain": [
       "   index                                              appId  \\\n",
       "0    292                                  com.fmee.fmeeserv   \n",
       "1    688                     com.skibapps.messagespyremover   \n",
       "2     12  appinventor.ai_oscar_rdzmty7.UnlockPhonePlus_copy   \n",
       "3    236               com.djit.equalizerplusforandroidfree   \n",
       "4    290                       com.flexsolution.fakecallsms   \n",
       "\n",
       "                                                text  \\\n",
       "0  b'GPS Tracker By FollowMee Locate and Track Yo...   \n",
       "1  b'Message Spy Remover (Anti Spy) Detect, Ident...   \n",
       "2  b\"Unlock Phone ( Unlock Codes ) Unlock your ce...   \n",
       "3  b\"Equalizer music player booster The best musi...   \n",
       "4  b'Fake Call & SMS Make prank call or SMS and t...   \n",
       "\n",
       "                  true label      category    0    1    2         3         4  \\\n",
       "0      surveillance:location  surveillance  0.0  0.0  0.0  0.021414  0.000000   \n",
       "1  defense:anti-surveillance       defense  0.0  0.0  0.0  0.032309  0.000000   \n",
       "2          tutorial:settings      tutorial  0.0  0.0  0.0  0.036652  0.040718   \n",
       "3                  none:misc          none  0.0  0.0  0.0  0.021145  0.000000   \n",
       "4         spoof:burner-phone         spoof  0.0  0.0  0.0  0.000000  0.054280   \n",
       "\n",
       "   ...  3379  3380  3381  3382  3383  3384  3385  3386  3387  3388  \n",
       "0  ...   0.0   0.0   0.0   0.0   0.0   0.0   0.0   0.0   0.0   0.0  \n",
       "1  ...   0.0   0.0   0.0   0.0   0.0   0.0   0.0   0.0   0.0   0.0  \n",
       "2  ...   0.0   0.0   0.0   0.0   0.0   0.0   0.0   0.0   0.0   0.0  \n",
       "3  ...   0.0   0.0   0.0   0.0   0.0   0.0   0.0   0.0   0.0   0.0  \n",
       "4  ...   0.0   0.0   0.0   0.0   0.0   0.0   0.0   0.0   0.0   0.0  \n",
       "\n",
       "[5 rows x 3394 columns]"
      ]
     },
     "execution_count": 41,
     "metadata": {},
     "output_type": "execute_result"
    }
   ],
   "source": [
    "train_data.head()"
   ]
  },
  {
   "cell_type": "code",
   "execution_count": 42,
   "metadata": {},
   "outputs": [],
   "source": [
    "train_labels = train_data['category'].values\n",
    "test_labels = test_data['category'].values\n",
    "train_data = train_data.drop(['text', 'true label', 'category', 'index'], axis = 1)\n",
    "test_data = test_data.drop(['text', 'true label', 'category', 'index'], axis = 1)"
   ]
  },
  {
   "cell_type": "code",
   "execution_count": 43,
   "metadata": {},
   "outputs": [
    {
     "data": {
      "text/html": [
       "<div>\n",
       "<style scoped>\n",
       "    .dataframe tbody tr th:only-of-type {\n",
       "        vertical-align: middle;\n",
       "    }\n",
       "\n",
       "    .dataframe tbody tr th {\n",
       "        vertical-align: top;\n",
       "    }\n",
       "\n",
       "    .dataframe thead th {\n",
       "        text-align: right;\n",
       "    }\n",
       "</style>\n",
       "<table border=\"1\" class=\"dataframe\">\n",
       "  <thead>\n",
       "    <tr style=\"text-align: right;\">\n",
       "      <th></th>\n",
       "      <th>appId</th>\n",
       "      <th>0</th>\n",
       "      <th>1</th>\n",
       "      <th>2</th>\n",
       "      <th>3</th>\n",
       "      <th>4</th>\n",
       "      <th>5</th>\n",
       "      <th>6</th>\n",
       "      <th>7</th>\n",
       "      <th>8</th>\n",
       "      <th>...</th>\n",
       "      <th>3379</th>\n",
       "      <th>3380</th>\n",
       "      <th>3381</th>\n",
       "      <th>3382</th>\n",
       "      <th>3383</th>\n",
       "      <th>3384</th>\n",
       "      <th>3385</th>\n",
       "      <th>3386</th>\n",
       "      <th>3387</th>\n",
       "      <th>3388</th>\n",
       "    </tr>\n",
       "  </thead>\n",
       "  <tbody>\n",
       "    <tr>\n",
       "      <td>0</td>\n",
       "      <td>com.fmee.fmeeserv</td>\n",
       "      <td>0.0</td>\n",
       "      <td>0.0</td>\n",
       "      <td>0.0</td>\n",
       "      <td>0.021414</td>\n",
       "      <td>0.000000</td>\n",
       "      <td>0.0</td>\n",
       "      <td>0.0</td>\n",
       "      <td>0.0</td>\n",
       "      <td>0.000000</td>\n",
       "      <td>...</td>\n",
       "      <td>0.0</td>\n",
       "      <td>0.0</td>\n",
       "      <td>0.0</td>\n",
       "      <td>0.0</td>\n",
       "      <td>0.0</td>\n",
       "      <td>0.0</td>\n",
       "      <td>0.0</td>\n",
       "      <td>0.0</td>\n",
       "      <td>0.0</td>\n",
       "      <td>0.0</td>\n",
       "    </tr>\n",
       "    <tr>\n",
       "      <td>1</td>\n",
       "      <td>com.skibapps.messagespyremover</td>\n",
       "      <td>0.0</td>\n",
       "      <td>0.0</td>\n",
       "      <td>0.0</td>\n",
       "      <td>0.032309</td>\n",
       "      <td>0.000000</td>\n",
       "      <td>0.0</td>\n",
       "      <td>0.0</td>\n",
       "      <td>0.0</td>\n",
       "      <td>0.000000</td>\n",
       "      <td>...</td>\n",
       "      <td>0.0</td>\n",
       "      <td>0.0</td>\n",
       "      <td>0.0</td>\n",
       "      <td>0.0</td>\n",
       "      <td>0.0</td>\n",
       "      <td>0.0</td>\n",
       "      <td>0.0</td>\n",
       "      <td>0.0</td>\n",
       "      <td>0.0</td>\n",
       "      <td>0.0</td>\n",
       "    </tr>\n",
       "    <tr>\n",
       "      <td>2</td>\n",
       "      <td>appinventor.ai_oscar_rdzmty7.UnlockPhonePlus_copy</td>\n",
       "      <td>0.0</td>\n",
       "      <td>0.0</td>\n",
       "      <td>0.0</td>\n",
       "      <td>0.036652</td>\n",
       "      <td>0.040718</td>\n",
       "      <td>0.0</td>\n",
       "      <td>0.0</td>\n",
       "      <td>0.0</td>\n",
       "      <td>0.051928</td>\n",
       "      <td>...</td>\n",
       "      <td>0.0</td>\n",
       "      <td>0.0</td>\n",
       "      <td>0.0</td>\n",
       "      <td>0.0</td>\n",
       "      <td>0.0</td>\n",
       "      <td>0.0</td>\n",
       "      <td>0.0</td>\n",
       "      <td>0.0</td>\n",
       "      <td>0.0</td>\n",
       "      <td>0.0</td>\n",
       "    </tr>\n",
       "    <tr>\n",
       "      <td>3</td>\n",
       "      <td>com.djit.equalizerplusforandroidfree</td>\n",
       "      <td>0.0</td>\n",
       "      <td>0.0</td>\n",
       "      <td>0.0</td>\n",
       "      <td>0.021145</td>\n",
       "      <td>0.000000</td>\n",
       "      <td>0.0</td>\n",
       "      <td>0.0</td>\n",
       "      <td>0.0</td>\n",
       "      <td>0.000000</td>\n",
       "      <td>...</td>\n",
       "      <td>0.0</td>\n",
       "      <td>0.0</td>\n",
       "      <td>0.0</td>\n",
       "      <td>0.0</td>\n",
       "      <td>0.0</td>\n",
       "      <td>0.0</td>\n",
       "      <td>0.0</td>\n",
       "      <td>0.0</td>\n",
       "      <td>0.0</td>\n",
       "      <td>0.0</td>\n",
       "    </tr>\n",
       "    <tr>\n",
       "      <td>4</td>\n",
       "      <td>com.flexsolution.fakecallsms</td>\n",
       "      <td>0.0</td>\n",
       "      <td>0.0</td>\n",
       "      <td>0.0</td>\n",
       "      <td>0.000000</td>\n",
       "      <td>0.054280</td>\n",
       "      <td>0.0</td>\n",
       "      <td>0.0</td>\n",
       "      <td>0.0</td>\n",
       "      <td>0.000000</td>\n",
       "      <td>...</td>\n",
       "      <td>0.0</td>\n",
       "      <td>0.0</td>\n",
       "      <td>0.0</td>\n",
       "      <td>0.0</td>\n",
       "      <td>0.0</td>\n",
       "      <td>0.0</td>\n",
       "      <td>0.0</td>\n",
       "      <td>0.0</td>\n",
       "      <td>0.0</td>\n",
       "      <td>0.0</td>\n",
       "    </tr>\n",
       "  </tbody>\n",
       "</table>\n",
       "<p>5 rows × 3390 columns</p>\n",
       "</div>"
      ],
      "text/plain": [
       "                                               appId    0    1    2         3  \\\n",
       "0                                  com.fmee.fmeeserv  0.0  0.0  0.0  0.021414   \n",
       "1                     com.skibapps.messagespyremover  0.0  0.0  0.0  0.032309   \n",
       "2  appinventor.ai_oscar_rdzmty7.UnlockPhonePlus_copy  0.0  0.0  0.0  0.036652   \n",
       "3               com.djit.equalizerplusforandroidfree  0.0  0.0  0.0  0.021145   \n",
       "4                       com.flexsolution.fakecallsms  0.0  0.0  0.0  0.000000   \n",
       "\n",
       "          4    5    6    7         8  ...  3379  3380  3381  3382  3383  3384  \\\n",
       "0  0.000000  0.0  0.0  0.0  0.000000  ...   0.0   0.0   0.0   0.0   0.0   0.0   \n",
       "1  0.000000  0.0  0.0  0.0  0.000000  ...   0.0   0.0   0.0   0.0   0.0   0.0   \n",
       "2  0.040718  0.0  0.0  0.0  0.051928  ...   0.0   0.0   0.0   0.0   0.0   0.0   \n",
       "3  0.000000  0.0  0.0  0.0  0.000000  ...   0.0   0.0   0.0   0.0   0.0   0.0   \n",
       "4  0.054280  0.0  0.0  0.0  0.000000  ...   0.0   0.0   0.0   0.0   0.0   0.0   \n",
       "\n",
       "   3385  3386  3387  3388  \n",
       "0   0.0   0.0   0.0   0.0  \n",
       "1   0.0   0.0   0.0   0.0  \n",
       "2   0.0   0.0   0.0   0.0  \n",
       "3   0.0   0.0   0.0   0.0  \n",
       "4   0.0   0.0   0.0   0.0  \n",
       "\n",
       "[5 rows x 3390 columns]"
      ]
     },
     "execution_count": 43,
     "metadata": {},
     "output_type": "execute_result"
    }
   ],
   "source": [
    "train_data.head()"
   ]
  },
  {
   "cell_type": "code",
   "execution_count": 44,
   "metadata": {},
   "outputs": [],
   "source": [
    "train_data = train_data.drop(['appId'], axis = 1).values\n",
    "test_data = test_data.drop(['appId'], axis = 1).values"
   ]
  },
  {
   "cell_type": "code",
   "execution_count": 45,
   "metadata": {},
   "outputs": [
    {
     "name": "stderr",
     "output_type": "stream",
     "text": [
      "/usr/local/lib/python3.7/site-packages/sklearn/linear_model/logistic.py:432: FutureWarning: Default solver will be changed to 'lbfgs' in 0.22. Specify a solver to silence this warning.\n",
      "  FutureWarning)\n",
      "/usr/local/lib/python3.7/site-packages/sklearn/linear_model/logistic.py:469: FutureWarning: Default multi_class will be changed to 'auto' in 0.22. Specify the multi_class option to silence this warning.\n",
      "  \"this warning.\", FutureWarning)\n"
     ]
    },
    {
     "data": {
      "text/plain": [
       "LogisticRegression(C=1.0, class_weight=None, dual=False, fit_intercept=True,\n",
       "                   intercept_scaling=1, l1_ratio=None, max_iter=100,\n",
       "                   multi_class='warn', n_jobs=None, penalty='l2',\n",
       "                   random_state=None, solver='warn', tol=0.0001, verbose=0,\n",
       "                   warm_start=False)"
      ]
     },
     "execution_count": 45,
     "metadata": {},
     "output_type": "execute_result"
    }
   ],
   "source": [
    "lr = LogisticRegression()\n",
    "lr.fit(train_data, train_labels)"
   ]
  },
  {
   "cell_type": "code",
   "execution_count": 46,
   "metadata": {},
   "outputs": [
    {
     "data": {
      "text/plain": [
       "0.7655677655677655"
      ]
     },
     "execution_count": 46,
     "metadata": {},
     "output_type": "execute_result"
    }
   ],
   "source": [
    "lr.score(test_data, test_labels)"
   ]
  },
  {
   "cell_type": "code",
   "execution_count": 47,
   "metadata": {},
   "outputs": [
    {
     "data": {
      "text/plain": [
       "0.8447432762836186"
      ]
     },
     "execution_count": 47,
     "metadata": {},
     "output_type": "execute_result"
    }
   ],
   "source": [
    "lr.score(train_data, train_labels)"
   ]
  },
  {
   "cell_type": "code",
   "execution_count": 48,
   "metadata": {},
   "outputs": [],
   "source": [
    "predictions = lr.predict(test_data)"
   ]
  },
  {
   "cell_type": "code",
   "execution_count": 49,
   "metadata": {},
   "outputs": [
    {
     "name": "stderr",
     "output_type": "stream",
     "text": [
      "/usr/local/lib/python3.7/site-packages/sklearn/metrics/classification.py:1437: UndefinedMetricWarning: Precision is ill-defined and being set to 0.0 in labels with no predicted samples.\n",
      "  'precision', 'predicted', average, warn_for)\n"
     ]
    },
    {
     "data": {
      "text/plain": [
       "0.6904992947127778"
      ]
     },
     "execution_count": 49,
     "metadata": {},
     "output_type": "execute_result"
    }
   ],
   "source": [
    "precision(test_labels, predictions, average = 'macro')"
   ]
  },
  {
   "cell_type": "code",
   "execution_count": 50,
   "metadata": {},
   "outputs": [
    {
     "data": {
      "text/plain": [
       "0.4399946168367648"
      ]
     },
     "execution_count": 50,
     "metadata": {},
     "output_type": "execute_result"
    }
   ],
   "source": [
    "recall(test_labels, predictions, average = 'macro')"
   ]
  },
  {
   "cell_type": "code",
   "execution_count": 51,
   "metadata": {},
   "outputs": [
    {
     "name": "stderr",
     "output_type": "stream",
     "text": [
      "/usr/local/lib/python3.7/site-packages/sklearn/metrics/classification.py:1437: UndefinedMetricWarning: F-score is ill-defined and being set to 0.0 in labels with no predicted samples.\n",
      "  'precision', 'predicted', average, warn_for)\n"
     ]
    },
    {
     "data": {
      "text/plain": [
       "0.49913830061939296"
      ]
     },
     "execution_count": 51,
     "metadata": {},
     "output_type": "execute_result"
    }
   ],
   "source": [
    "f1_score(test_labels, predictions, average = 'macro')"
   ]
  },
  {
   "cell_type": "code",
   "execution_count": 99,
   "metadata": {},
   "outputs": [],
   "source": [
    "unique_labels = list(set(test_labels))"
   ]
  },
  {
   "cell_type": "code",
   "execution_count": 173,
   "metadata": {},
   "outputs": [
    {
     "data": {
      "text/plain": [
       "0.8095238095238095"
      ]
     },
     "execution_count": 173,
     "metadata": {},
     "output_type": "execute_result"
    }
   ],
   "source": [
    "rf = SGDClassifier(learning_rate = 'optimal', early_stopping = True, penalty = 'l2', loss = 'log')\n",
    "rf.fit(train_data, train_labels)\n",
    "rf.score(test_data, test_labels)"
   ]
  },
  {
   "cell_type": "code",
   "execution_count": 174,
   "metadata": {},
   "outputs": [],
   "source": [
    "rf_predictions = rf.predict(test_data)"
   ]
  },
  {
   "cell_type": "code",
   "execution_count": 175,
   "metadata": {},
   "outputs": [
    {
     "name": "stderr",
     "output_type": "stream",
     "text": [
      "/usr/local/lib/python3.7/site-packages/sklearn/metrics/classification.py:1437: UndefinedMetricWarning: Precision is ill-defined and being set to 0.0 in labels with no predicted samples.\n",
      "  'precision', 'predicted', average, warn_for)\n"
     ]
    },
    {
     "data": {
      "text/plain": [
       "array([0.        , 1.        , 0.83333333, 0.7       , 0.88235294,\n",
       "       0.        , 0.84313725, 0.7       , 0.64705882, 0.7826087 ])"
      ]
     },
     "execution_count": 175,
     "metadata": {},
     "output_type": "execute_result"
    }
   ],
   "source": [
    "precision(test_labels, rf_predictions, average =None, labels = unique_labels)"
   ]
  },
  {
   "cell_type": "code",
   "execution_count": 273,
   "metadata": {},
   "outputs": [
    {
     "ename": "ValueError",
     "evalue": "Found input variables with inconsistent numbers of samples: [164, 273]",
     "output_type": "error",
     "traceback": [
      "\u001b[0;31m---------------------------------------------------------------------------\u001b[0m",
      "\u001b[0;31mValueError\u001b[0m                                Traceback (most recent call last)",
      "\u001b[0;32m<ipython-input-273-84c5a5c01338>\u001b[0m in \u001b[0;36m<module>\u001b[0;34m\u001b[0m\n\u001b[0;32m----> 1\u001b[0;31m \u001b[0mrecall\u001b[0m\u001b[0;34m(\u001b[0m\u001b[0mtest_labels\u001b[0m\u001b[0;34m,\u001b[0m \u001b[0mrf_predictions\u001b[0m\u001b[0;34m,\u001b[0m \u001b[0maverage\u001b[0m \u001b[0;34m=\u001b[0m \u001b[0;34m'macro'\u001b[0m\u001b[0;34m)\u001b[0m\u001b[0;34m\u001b[0m\u001b[0;34m\u001b[0m\u001b[0m\n\u001b[0m",
      "\u001b[0;32m/usr/local/lib/python3.7/site-packages/sklearn/metrics/classification.py\u001b[0m in \u001b[0;36mrecall_score\u001b[0;34m(y_true, y_pred, labels, pos_label, average, sample_weight)\u001b[0m\n\u001b[1;32m   1673\u001b[0m                                                  \u001b[0maverage\u001b[0m\u001b[0;34m=\u001b[0m\u001b[0maverage\u001b[0m\u001b[0;34m,\u001b[0m\u001b[0;34m\u001b[0m\u001b[0;34m\u001b[0m\u001b[0m\n\u001b[1;32m   1674\u001b[0m                                                  \u001b[0mwarn_for\u001b[0m\u001b[0;34m=\u001b[0m\u001b[0;34m(\u001b[0m\u001b[0;34m'recall'\u001b[0m\u001b[0;34m,\u001b[0m\u001b[0;34m)\u001b[0m\u001b[0;34m,\u001b[0m\u001b[0;34m\u001b[0m\u001b[0;34m\u001b[0m\u001b[0m\n\u001b[0;32m-> 1675\u001b[0;31m                                                  sample_weight=sample_weight)\n\u001b[0m\u001b[1;32m   1676\u001b[0m     \u001b[0;32mreturn\u001b[0m \u001b[0mr\u001b[0m\u001b[0;34m\u001b[0m\u001b[0;34m\u001b[0m\u001b[0m\n\u001b[1;32m   1677\u001b[0m \u001b[0;34m\u001b[0m\u001b[0m\n",
      "\u001b[0;32m/usr/local/lib/python3.7/site-packages/sklearn/metrics/classification.py\u001b[0m in \u001b[0;36mprecision_recall_fscore_support\u001b[0;34m(y_true, y_pred, beta, labels, pos_label, average, warn_for, sample_weight)\u001b[0m\n\u001b[1;32m   1413\u001b[0m         \u001b[0;32mraise\u001b[0m \u001b[0mValueError\u001b[0m\u001b[0;34m(\u001b[0m\u001b[0;34m\"beta should be >0 in the F-beta score\"\u001b[0m\u001b[0;34m)\u001b[0m\u001b[0;34m\u001b[0m\u001b[0;34m\u001b[0m\u001b[0m\n\u001b[1;32m   1414\u001b[0m     labels = _check_set_wise_labels(y_true, y_pred, average, labels,\n\u001b[0;32m-> 1415\u001b[0;31m                                     pos_label)\n\u001b[0m\u001b[1;32m   1416\u001b[0m \u001b[0;34m\u001b[0m\u001b[0m\n\u001b[1;32m   1417\u001b[0m     \u001b[0;31m# Calculate tp_sum, pred_sum, true_sum ###\u001b[0m\u001b[0;34m\u001b[0m\u001b[0;34m\u001b[0m\u001b[0;34m\u001b[0m\u001b[0m\n",
      "\u001b[0;32m/usr/local/lib/python3.7/site-packages/sklearn/metrics/classification.py\u001b[0m in \u001b[0;36m_check_set_wise_labels\u001b[0;34m(y_true, y_pred, average, labels, pos_label)\u001b[0m\n\u001b[1;32m   1237\u001b[0m                          str(average_options))\n\u001b[1;32m   1238\u001b[0m \u001b[0;34m\u001b[0m\u001b[0m\n\u001b[0;32m-> 1239\u001b[0;31m     \u001b[0my_type\u001b[0m\u001b[0;34m,\u001b[0m \u001b[0my_true\u001b[0m\u001b[0;34m,\u001b[0m \u001b[0my_pred\u001b[0m \u001b[0;34m=\u001b[0m \u001b[0m_check_targets\u001b[0m\u001b[0;34m(\u001b[0m\u001b[0my_true\u001b[0m\u001b[0;34m,\u001b[0m \u001b[0my_pred\u001b[0m\u001b[0;34m)\u001b[0m\u001b[0;34m\u001b[0m\u001b[0;34m\u001b[0m\u001b[0m\n\u001b[0m\u001b[1;32m   1240\u001b[0m     \u001b[0mpresent_labels\u001b[0m \u001b[0;34m=\u001b[0m \u001b[0munique_labels\u001b[0m\u001b[0;34m(\u001b[0m\u001b[0my_true\u001b[0m\u001b[0;34m,\u001b[0m \u001b[0my_pred\u001b[0m\u001b[0;34m)\u001b[0m\u001b[0;34m\u001b[0m\u001b[0;34m\u001b[0m\u001b[0m\n\u001b[1;32m   1241\u001b[0m     \u001b[0;32mif\u001b[0m \u001b[0maverage\u001b[0m \u001b[0;34m==\u001b[0m \u001b[0;34m'binary'\u001b[0m\u001b[0;34m:\u001b[0m\u001b[0;34m\u001b[0m\u001b[0;34m\u001b[0m\u001b[0m\n",
      "\u001b[0;32m/usr/local/lib/python3.7/site-packages/sklearn/metrics/classification.py\u001b[0m in \u001b[0;36m_check_targets\u001b[0;34m(y_true, y_pred)\u001b[0m\n\u001b[1;32m     69\u001b[0m     \u001b[0my_pred\u001b[0m \u001b[0;34m:\u001b[0m \u001b[0marray\u001b[0m \u001b[0;32mor\u001b[0m \u001b[0mindicator\u001b[0m \u001b[0mmatrix\u001b[0m\u001b[0;34m\u001b[0m\u001b[0;34m\u001b[0m\u001b[0m\n\u001b[1;32m     70\u001b[0m     \"\"\"\n\u001b[0;32m---> 71\u001b[0;31m     \u001b[0mcheck_consistent_length\u001b[0m\u001b[0;34m(\u001b[0m\u001b[0my_true\u001b[0m\u001b[0;34m,\u001b[0m \u001b[0my_pred\u001b[0m\u001b[0;34m)\u001b[0m\u001b[0;34m\u001b[0m\u001b[0;34m\u001b[0m\u001b[0m\n\u001b[0m\u001b[1;32m     72\u001b[0m     \u001b[0mtype_true\u001b[0m \u001b[0;34m=\u001b[0m \u001b[0mtype_of_target\u001b[0m\u001b[0;34m(\u001b[0m\u001b[0my_true\u001b[0m\u001b[0;34m)\u001b[0m\u001b[0;34m\u001b[0m\u001b[0;34m\u001b[0m\u001b[0m\n\u001b[1;32m     73\u001b[0m     \u001b[0mtype_pred\u001b[0m \u001b[0;34m=\u001b[0m \u001b[0mtype_of_target\u001b[0m\u001b[0;34m(\u001b[0m\u001b[0my_pred\u001b[0m\u001b[0;34m)\u001b[0m\u001b[0;34m\u001b[0m\u001b[0;34m\u001b[0m\u001b[0m\n",
      "\u001b[0;32m/usr/local/lib/python3.7/site-packages/sklearn/utils/validation.py\u001b[0m in \u001b[0;36mcheck_consistent_length\u001b[0;34m(*arrays)\u001b[0m\n\u001b[1;32m    203\u001b[0m     \u001b[0;32mif\u001b[0m \u001b[0mlen\u001b[0m\u001b[0;34m(\u001b[0m\u001b[0muniques\u001b[0m\u001b[0;34m)\u001b[0m \u001b[0;34m>\u001b[0m \u001b[0;36m1\u001b[0m\u001b[0;34m:\u001b[0m\u001b[0;34m\u001b[0m\u001b[0;34m\u001b[0m\u001b[0m\n\u001b[1;32m    204\u001b[0m         raise ValueError(\"Found input variables with inconsistent numbers of\"\n\u001b[0;32m--> 205\u001b[0;31m                          \" samples: %r\" % [int(l) for l in lengths])\n\u001b[0m\u001b[1;32m    206\u001b[0m \u001b[0;34m\u001b[0m\u001b[0m\n\u001b[1;32m    207\u001b[0m \u001b[0;34m\u001b[0m\u001b[0m\n",
      "\u001b[0;31mValueError\u001b[0m: Found input variables with inconsistent numbers of samples: [164, 273]"
     ]
    }
   ],
   "source": [
    "recall(test_labels, rf_predictions, average = 'macro')"
   ]
  },
  {
   "cell_type": "code",
   "execution_count": 177,
   "metadata": {},
   "outputs": [
    {
     "name": "stderr",
     "output_type": "stream",
     "text": [
      "/usr/local/lib/python3.7/site-packages/sklearn/metrics/classification.py:1437: UndefinedMetricWarning: F-score is ill-defined and being set to 0.0 in labels with no predicted samples.\n",
      "  'precision', 'predicted', average, warn_for)\n"
     ]
    },
    {
     "data": {
      "text/plain": [
       "array([0.        , 0.57142857, 0.66666667, 0.68292683, 0.90909091,\n",
       "       0.        , 0.8989547 , 0.66666667, 0.57894737, 0.7826087 ])"
      ]
     },
     "execution_count": 177,
     "metadata": {},
     "output_type": "execute_result"
    }
   ],
   "source": [
    "f1_score(test_labels, rf_predictions, average = None, labels = unique_labels)"
   ]
  },
  {
   "cell_type": "code",
   "execution_count": 178,
   "metadata": {},
   "outputs": [
    {
     "data": {
      "text/plain": [
       "array([[  0,   0,   0,   0,   0,   0,   1,   0,   1,   0],\n",
       "       [  0,   4,   0,   0,   0,   0,   4,   0,   2,   0],\n",
       "       [  0,   0,   5,   0,   1,   0,   2,   0,   0,   1],\n",
       "       [  0,   0,   0,  14,   1,   0,   3,   0,   0,   3],\n",
       "       [  0,   0,   0,   0,  15,   0,   1,   0,   0,   0],\n",
       "       [  0,   0,   0,   1,   0,   0,   1,   0,   0,   1],\n",
       "       [  0,   0,   0,   1,   0,   0, 129,   1,   2,   1],\n",
       "       [  0,   0,   0,   0,   0,   0,   2,   7,   0,   2],\n",
       "       [  0,   0,   0,   2,   0,   0,   5,   1,  11,   2],\n",
       "       [  0,   0,   1,   2,   0,   0,   5,   1,   1,  36]])"
      ]
     },
     "execution_count": 178,
     "metadata": {},
     "output_type": "execute_result"
    }
   ],
   "source": [
    "cm(test_labels, rf_predictions, labels = unique_labels)"
   ]
  },
  {
   "cell_type": "code",
   "execution_count": 93,
   "metadata": {},
   "outputs": [
    {
     "data": {
      "text/plain": [
       "['control',\n",
       " 'callerid',\n",
       " 'harassment',\n",
       " 'defense',\n",
       " 'spoof',\n",
       " 'evasion',\n",
       " 'surveillance',\n",
       " 'tutorial',\n",
       " 'info-extraction',\n",
       " 'none']"
      ]
     },
     "execution_count": 93,
     "metadata": {},
     "output_type": "execute_result"
    }
   ],
   "source": [
    "unique_labels"
   ]
  },
  {
   "cell_type": "markdown",
   "metadata": {},
   "source": [
    "## Model Selection"
   ]
  },
  {
   "cell_type": "code",
   "execution_count": 108,
   "metadata": {},
   "outputs": [
    {
     "data": {
      "text/html": [
       "<div>\n",
       "<style scoped>\n",
       "    .dataframe tbody tr th:only-of-type {\n",
       "        vertical-align: middle;\n",
       "    }\n",
       "\n",
       "    .dataframe tbody tr th {\n",
       "        vertical-align: top;\n",
       "    }\n",
       "\n",
       "    .dataframe thead th {\n",
       "        text-align: right;\n",
       "    }\n",
       "</style>\n",
       "<table border=\"1\" class=\"dataframe\">\n",
       "  <thead>\n",
       "    <tr style=\"text-align: right;\">\n",
       "      <th></th>\n",
       "      <th>appId</th>\n",
       "      <th>text</th>\n",
       "      <th>true label</th>\n",
       "      <th>category</th>\n",
       "    </tr>\n",
       "  </thead>\n",
       "  <tbody>\n",
       "    <tr>\n",
       "      <td>0</td>\n",
       "      <td>a2ndappwhats.sdkw.com</td>\n",
       "      <td>b\"2nd Account for Whatsapp 2 Whatsapps on Same...</td>\n",
       "      <td>surveillance:social-media</td>\n",
       "      <td>surveillance</td>\n",
       "    </tr>\n",
       "    <tr>\n",
       "      <td>1</td>\n",
       "      <td>air.au.com.metro.DumbWaysToDie2</td>\n",
       "      <td>b\"Dumb Ways to Die 2: The Games A new set of d...</td>\n",
       "      <td>none:misc</td>\n",
       "      <td>none</td>\n",
       "    </tr>\n",
       "    <tr>\n",
       "      <td>2</td>\n",
       "      <td>air.com.applauz.timeoutkids</td>\n",
       "      <td>b'Time Out - Behaviour Meter Live Behaviour Me...</td>\n",
       "      <td>control:use-limitation</td>\n",
       "      <td>control</td>\n",
       "    </tr>\n",
       "    <tr>\n",
       "      <td>3</td>\n",
       "      <td>ajx.com.calltracker</td>\n",
       "      <td>b\"Call Tracker Call Tracker helps you identify...</td>\n",
       "      <td>callerid:misc</td>\n",
       "      <td>callerid</td>\n",
       "    </tr>\n",
       "    <tr>\n",
       "      <td>4</td>\n",
       "      <td>allcall.location.tracker</td>\n",
       "      <td>b\"All Call Location Tracker All Calls Location...</td>\n",
       "      <td>callerid:location</td>\n",
       "      <td>callerid</td>\n",
       "    </tr>\n",
       "  </tbody>\n",
       "</table>\n",
       "</div>"
      ],
      "text/plain": [
       "                             appId  \\\n",
       "0            a2ndappwhats.sdkw.com   \n",
       "1  air.au.com.metro.DumbWaysToDie2   \n",
       "2      air.com.applauz.timeoutkids   \n",
       "3              ajx.com.calltracker   \n",
       "4         allcall.location.tracker   \n",
       "\n",
       "                                                text  \\\n",
       "0  b\"2nd Account for Whatsapp 2 Whatsapps on Same...   \n",
       "1  b\"Dumb Ways to Die 2: The Games A new set of d...   \n",
       "2  b'Time Out - Behaviour Meter Live Behaviour Me...   \n",
       "3  b\"Call Tracker Call Tracker helps you identify...   \n",
       "4  b\"All Call Location Tracker All Calls Location...   \n",
       "\n",
       "                  true label      category  \n",
       "0  surveillance:social-media  surveillance  \n",
       "1                  none:misc          none  \n",
       "2     control:use-limitation       control  \n",
       "3              callerid:misc      callerid  \n",
       "4          callerid:location      callerid  "
      ]
     },
     "execution_count": 108,
     "metadata": {},
     "output_type": "execute_result"
    }
   ],
   "source": [
    "data.head()"
   ]
  },
  {
   "cell_type": "code",
   "execution_count": 117,
   "metadata": {},
   "outputs": [],
   "source": [
    "jaco = tfidf(stop_words = stopwords, min_df = 5)\n",
    "vocabulary = jaco.fit(data.text.values)\n",
    "all_labeled_data = vocabulary.transform(data.text.values)\n",
    "all_labeled_data = all_labeled_data.toarray()"
   ]
  },
  {
   "cell_type": "code",
   "execution_count": 119,
   "metadata": {},
   "outputs": [],
   "source": [
    "data = pd.concat([data, pd.DataFrame(all_labeled_data)], axis = 1)"
   ]
  },
  {
   "cell_type": "code",
   "execution_count": 153,
   "metadata": {},
   "outputs": [],
   "source": [
    "workable_data = data.drop(['appId', 'text', 'true label', 'category'], axis = 1)\n",
    "#workable_labels = label_binarize(data.category.values, classes = list(set(data.category.values)))\n",
    "workable_labels = data.category.values"
   ]
  },
  {
   "cell_type": "code",
   "execution_count": 154,
   "metadata": {},
   "outputs": [
    {
     "data": {
      "text/html": [
       "<div>\n",
       "<style scoped>\n",
       "    .dataframe tbody tr th:only-of-type {\n",
       "        vertical-align: middle;\n",
       "    }\n",
       "\n",
       "    .dataframe tbody tr th {\n",
       "        vertical-align: top;\n",
       "    }\n",
       "\n",
       "    .dataframe thead th {\n",
       "        text-align: right;\n",
       "    }\n",
       "</style>\n",
       "<table border=\"1\" class=\"dataframe\">\n",
       "  <thead>\n",
       "    <tr style=\"text-align: right;\">\n",
       "      <th></th>\n",
       "      <th>0</th>\n",
       "      <th>1</th>\n",
       "      <th>2</th>\n",
       "      <th>3</th>\n",
       "      <th>4</th>\n",
       "      <th>5</th>\n",
       "      <th>6</th>\n",
       "      <th>7</th>\n",
       "      <th>8</th>\n",
       "      <th>9</th>\n",
       "      <th>...</th>\n",
       "      <th>4031</th>\n",
       "      <th>4032</th>\n",
       "      <th>4033</th>\n",
       "      <th>4034</th>\n",
       "      <th>4035</th>\n",
       "      <th>4036</th>\n",
       "      <th>4037</th>\n",
       "      <th>4038</th>\n",
       "      <th>4039</th>\n",
       "      <th>4040</th>\n",
       "    </tr>\n",
       "  </thead>\n",
       "  <tbody>\n",
       "    <tr>\n",
       "      <td>0</td>\n",
       "      <td>0.0</td>\n",
       "      <td>0.0</td>\n",
       "      <td>0.0</td>\n",
       "      <td>0.0</td>\n",
       "      <td>0.0</td>\n",
       "      <td>0.0</td>\n",
       "      <td>0.0</td>\n",
       "      <td>0.096136</td>\n",
       "      <td>0.0</td>\n",
       "      <td>0.0</td>\n",
       "      <td>...</td>\n",
       "      <td>0.0</td>\n",
       "      <td>0.0</td>\n",
       "      <td>0.0</td>\n",
       "      <td>0.0</td>\n",
       "      <td>0.104762</td>\n",
       "      <td>0.0</td>\n",
       "      <td>0.0</td>\n",
       "      <td>0.0</td>\n",
       "      <td>0.0</td>\n",
       "      <td>0.0</td>\n",
       "    </tr>\n",
       "    <tr>\n",
       "      <td>1</td>\n",
       "      <td>0.0</td>\n",
       "      <td>0.0</td>\n",
       "      <td>0.0</td>\n",
       "      <td>0.0</td>\n",
       "      <td>0.0</td>\n",
       "      <td>0.0</td>\n",
       "      <td>0.0</td>\n",
       "      <td>0.000000</td>\n",
       "      <td>0.0</td>\n",
       "      <td>0.0</td>\n",
       "      <td>...</td>\n",
       "      <td>0.0</td>\n",
       "      <td>0.0</td>\n",
       "      <td>0.0</td>\n",
       "      <td>0.0</td>\n",
       "      <td>0.000000</td>\n",
       "      <td>0.0</td>\n",
       "      <td>0.0</td>\n",
       "      <td>0.0</td>\n",
       "      <td>0.0</td>\n",
       "      <td>0.0</td>\n",
       "    </tr>\n",
       "    <tr>\n",
       "      <td>2</td>\n",
       "      <td>0.0</td>\n",
       "      <td>0.0</td>\n",
       "      <td>0.0</td>\n",
       "      <td>0.0</td>\n",
       "      <td>0.0</td>\n",
       "      <td>0.0</td>\n",
       "      <td>0.0</td>\n",
       "      <td>0.000000</td>\n",
       "      <td>0.0</td>\n",
       "      <td>0.0</td>\n",
       "      <td>...</td>\n",
       "      <td>0.0</td>\n",
       "      <td>0.0</td>\n",
       "      <td>0.0</td>\n",
       "      <td>0.0</td>\n",
       "      <td>0.000000</td>\n",
       "      <td>0.0</td>\n",
       "      <td>0.0</td>\n",
       "      <td>0.0</td>\n",
       "      <td>0.0</td>\n",
       "      <td>0.0</td>\n",
       "    </tr>\n",
       "    <tr>\n",
       "      <td>3</td>\n",
       "      <td>0.0</td>\n",
       "      <td>0.0</td>\n",
       "      <td>0.0</td>\n",
       "      <td>0.0</td>\n",
       "      <td>0.0</td>\n",
       "      <td>0.0</td>\n",
       "      <td>0.0</td>\n",
       "      <td>0.000000</td>\n",
       "      <td>0.0</td>\n",
       "      <td>0.0</td>\n",
       "      <td>...</td>\n",
       "      <td>0.0</td>\n",
       "      <td>0.0</td>\n",
       "      <td>0.0</td>\n",
       "      <td>0.0</td>\n",
       "      <td>0.000000</td>\n",
       "      <td>0.0</td>\n",
       "      <td>0.0</td>\n",
       "      <td>0.0</td>\n",
       "      <td>0.0</td>\n",
       "      <td>0.0</td>\n",
       "    </tr>\n",
       "    <tr>\n",
       "      <td>4</td>\n",
       "      <td>0.0</td>\n",
       "      <td>0.0</td>\n",
       "      <td>0.0</td>\n",
       "      <td>0.0</td>\n",
       "      <td>0.0</td>\n",
       "      <td>0.0</td>\n",
       "      <td>0.0</td>\n",
       "      <td>0.000000</td>\n",
       "      <td>0.0</td>\n",
       "      <td>0.0</td>\n",
       "      <td>...</td>\n",
       "      <td>0.0</td>\n",
       "      <td>0.0</td>\n",
       "      <td>0.0</td>\n",
       "      <td>0.0</td>\n",
       "      <td>0.000000</td>\n",
       "      <td>0.0</td>\n",
       "      <td>0.0</td>\n",
       "      <td>0.0</td>\n",
       "      <td>0.0</td>\n",
       "      <td>0.0</td>\n",
       "    </tr>\n",
       "  </tbody>\n",
       "</table>\n",
       "<p>5 rows × 4041 columns</p>\n",
       "</div>"
      ],
      "text/plain": [
       "   0     1     2     3     4     5     6         7     8     9     ...  4031  \\\n",
       "0   0.0   0.0   0.0   0.0   0.0   0.0   0.0  0.096136   0.0   0.0  ...   0.0   \n",
       "1   0.0   0.0   0.0   0.0   0.0   0.0   0.0  0.000000   0.0   0.0  ...   0.0   \n",
       "2   0.0   0.0   0.0   0.0   0.0   0.0   0.0  0.000000   0.0   0.0  ...   0.0   \n",
       "3   0.0   0.0   0.0   0.0   0.0   0.0   0.0  0.000000   0.0   0.0  ...   0.0   \n",
       "4   0.0   0.0   0.0   0.0   0.0   0.0   0.0  0.000000   0.0   0.0  ...   0.0   \n",
       "\n",
       "   4032  4033  4034      4035  4036  4037  4038  4039  4040  \n",
       "0   0.0   0.0   0.0  0.104762   0.0   0.0   0.0   0.0   0.0  \n",
       "1   0.0   0.0   0.0  0.000000   0.0   0.0   0.0   0.0   0.0  \n",
       "2   0.0   0.0   0.0  0.000000   0.0   0.0   0.0   0.0   0.0  \n",
       "3   0.0   0.0   0.0  0.000000   0.0   0.0   0.0   0.0   0.0  \n",
       "4   0.0   0.0   0.0  0.000000   0.0   0.0   0.0   0.0   0.0  \n",
       "\n",
       "[5 rows x 4041 columns]"
      ]
     },
     "execution_count": 154,
     "metadata": {},
     "output_type": "execute_result"
    }
   ],
   "source": [
    "workable_data.head()"
   ]
  },
  {
   "cell_type": "code",
   "execution_count": 181,
   "metadata": {},
   "outputs": [],
   "source": [
    "lr = LogisticRegression(multi_class = 'multinomial', solver = 'lbfgs')\n",
    "rf = RandomForestClassifier(random_state = 28, n_estimators = 10, max_depth = 30)\n",
    "sgd = SGDClassifier(learning_rate = 'optimal', early_stopping = True, penalty = 'l2', loss = 'log')\n",
    "nb = MultinomialNB()\n",
    "gnb = GaussianNB()\n",
    "bnb = BernoulliNB()\n",
    "classifiers = [lr, rf, sgd, nb, gnb, bnb]"
   ]
  },
  {
   "cell_type": "code",
   "execution_count": 183,
   "metadata": {
    "collapsed": true,
    "jupyter": {
     "outputs_hidden": true
    }
   },
   "outputs": [
    {
     "name": "stderr",
     "output_type": "stream",
     "text": [
      "/usr/local/lib/python3.7/site-packages/sklearn/metrics/classification.py:1437: UndefinedMetricWarning: F-score is ill-defined and being set to 0.0 in labels with no predicted samples.\n",
      "  'precision', 'predicted', average, warn_for)\n",
      "/usr/local/lib/python3.7/site-packages/sklearn/metrics/classification.py:1437: UndefinedMetricWarning: Precision is ill-defined and being set to 0.0 in labels with no predicted samples.\n",
      "  'precision', 'predicted', average, warn_for)\n",
      "/usr/local/lib/python3.7/site-packages/sklearn/metrics/classification.py:1437: UndefinedMetricWarning: F-score is ill-defined and being set to 0.0 in labels with no predicted samples.\n",
      "  'precision', 'predicted', average, warn_for)\n",
      "/usr/local/lib/python3.7/site-packages/sklearn/metrics/classification.py:1437: UndefinedMetricWarning: Precision is ill-defined and being set to 0.0 in labels with no predicted samples.\n",
      "  'precision', 'predicted', average, warn_for)\n",
      "/usr/local/lib/python3.7/site-packages/sklearn/metrics/classification.py:1437: UndefinedMetricWarning: F-score is ill-defined and being set to 0.0 in labels with no predicted samples.\n",
      "  'precision', 'predicted', average, warn_for)\n",
      "/usr/local/lib/python3.7/site-packages/sklearn/metrics/classification.py:1437: UndefinedMetricWarning: Precision is ill-defined and being set to 0.0 in labels with no predicted samples.\n",
      "  'precision', 'predicted', average, warn_for)\n",
      "/usr/local/lib/python3.7/site-packages/sklearn/metrics/classification.py:1437: UndefinedMetricWarning: F-score is ill-defined and being set to 0.0 in labels with no predicted samples.\n",
      "  'precision', 'predicted', average, warn_for)\n",
      "/usr/local/lib/python3.7/site-packages/sklearn/metrics/classification.py:1437: UndefinedMetricWarning: Precision is ill-defined and being set to 0.0 in labels with no predicted samples.\n",
      "  'precision', 'predicted', average, warn_for)\n",
      "/usr/local/lib/python3.7/site-packages/sklearn/metrics/classification.py:1437: UndefinedMetricWarning: F-score is ill-defined and being set to 0.0 in labels with no predicted samples.\n",
      "  'precision', 'predicted', average, warn_for)\n",
      "/usr/local/lib/python3.7/site-packages/sklearn/metrics/classification.py:1437: UndefinedMetricWarning: Precision is ill-defined and being set to 0.0 in labels with no predicted samples.\n",
      "  'precision', 'predicted', average, warn_for)\n",
      "/usr/local/lib/python3.7/site-packages/sklearn/metrics/classification.py:1437: UndefinedMetricWarning: F-score is ill-defined and being set to 0.0 in labels with no predicted samples.\n",
      "  'precision', 'predicted', average, warn_for)\n",
      "/usr/local/lib/python3.7/site-packages/sklearn/metrics/classification.py:1437: UndefinedMetricWarning: Precision is ill-defined and being set to 0.0 in labels with no predicted samples.\n",
      "  'precision', 'predicted', average, warn_for)\n"
     ]
    },
    {
     "name": "stdout",
     "output_type": "stream",
     "text": [
      "{'fit_time': array([0.90408802, 0.88309503, 1.01952505, 0.89368796, 1.2008779 ]), 'score_time': array([0.01546001, 0.01393008, 0.03205991, 0.01433802, 0.03427386]), 'test_f1_macro': array([0.47668015, 0.5396781 , 0.55115593, 0.53133438, 0.5536105 ]), 'test_precision_macro': array([0.68542159, 0.72510396, 0.67129997, 0.63252963, 0.67551948]), 'test_recall_macro': array([0.41088045, 0.47196286, 0.51064792, 0.48001159, 0.49399827])}\n"
     ]
    },
    {
     "name": "stderr",
     "output_type": "stream",
     "text": [
      "/usr/local/lib/python3.7/site-packages/sklearn/metrics/classification.py:1437: UndefinedMetricWarning: F-score is ill-defined and being set to 0.0 in labels with no predicted samples.\n",
      "  'precision', 'predicted', average, warn_for)\n",
      "/usr/local/lib/python3.7/site-packages/sklearn/metrics/classification.py:1437: UndefinedMetricWarning: Precision is ill-defined and being set to 0.0 in labels with no predicted samples.\n",
      "  'precision', 'predicted', average, warn_for)\n",
      "/usr/local/lib/python3.7/site-packages/sklearn/metrics/classification.py:1437: UndefinedMetricWarning: F-score is ill-defined and being set to 0.0 in labels with no predicted samples.\n",
      "  'precision', 'predicted', average, warn_for)\n",
      "/usr/local/lib/python3.7/site-packages/sklearn/metrics/classification.py:1437: UndefinedMetricWarning: Precision is ill-defined and being set to 0.0 in labels with no predicted samples.\n",
      "  'precision', 'predicted', average, warn_for)\n",
      "/usr/local/lib/python3.7/site-packages/sklearn/metrics/classification.py:1437: UndefinedMetricWarning: F-score is ill-defined and being set to 0.0 in labels with no predicted samples.\n",
      "  'precision', 'predicted', average, warn_for)\n",
      "/usr/local/lib/python3.7/site-packages/sklearn/metrics/classification.py:1437: UndefinedMetricWarning: Precision is ill-defined and being set to 0.0 in labels with no predicted samples.\n",
      "  'precision', 'predicted', average, warn_for)\n",
      "/usr/local/lib/python3.7/site-packages/sklearn/metrics/classification.py:1437: UndefinedMetricWarning: F-score is ill-defined and being set to 0.0 in labels with no predicted samples.\n",
      "  'precision', 'predicted', average, warn_for)\n",
      "/usr/local/lib/python3.7/site-packages/sklearn/metrics/classification.py:1437: UndefinedMetricWarning: Precision is ill-defined and being set to 0.0 in labels with no predicted samples.\n",
      "  'precision', 'predicted', average, warn_for)\n"
     ]
    },
    {
     "name": "stdout",
     "output_type": "stream",
     "text": [
      "{'fit_time': array([0.09039378, 0.10471606, 0.13263202, 0.18938494, 0.17267704]), 'score_time': array([0.01559329, 0.02955008, 0.02418685, 0.02998805, 0.01983094]), 'test_f1_macro': array([0.31685069, 0.4166458 , 0.41318696, 0.43001814, 0.38115066]), 'test_precision_macro': array([0.55851397, 0.62502712, 0.57224603, 0.60744253, 0.54701929]), 'test_recall_macro': array([0.27371285, 0.35775074, 0.36429661, 0.39000595, 0.32715351])}\n"
     ]
    },
    {
     "name": "stderr",
     "output_type": "stream",
     "text": [
      "/usr/local/lib/python3.7/site-packages/sklearn/metrics/classification.py:1437: UndefinedMetricWarning: F-score is ill-defined and being set to 0.0 in labels with no predicted samples.\n",
      "  'precision', 'predicted', average, warn_for)\n",
      "/usr/local/lib/python3.7/site-packages/sklearn/metrics/classification.py:1437: UndefinedMetricWarning: Precision is ill-defined and being set to 0.0 in labels with no predicted samples.\n",
      "  'precision', 'predicted', average, warn_for)\n",
      "/usr/local/lib/python3.7/site-packages/sklearn/metrics/classification.py:1437: UndefinedMetricWarning: F-score is ill-defined and being set to 0.0 in labels with no predicted samples.\n",
      "  'precision', 'predicted', average, warn_for)\n",
      "/usr/local/lib/python3.7/site-packages/sklearn/metrics/classification.py:1437: UndefinedMetricWarning: Precision is ill-defined and being set to 0.0 in labels with no predicted samples.\n",
      "  'precision', 'predicted', average, warn_for)\n",
      "/usr/local/lib/python3.7/site-packages/sklearn/metrics/classification.py:1437: UndefinedMetricWarning: F-score is ill-defined and being set to 0.0 in labels with no predicted samples.\n",
      "  'precision', 'predicted', average, warn_for)\n",
      "/usr/local/lib/python3.7/site-packages/sklearn/metrics/classification.py:1437: UndefinedMetricWarning: Precision is ill-defined and being set to 0.0 in labels with no predicted samples.\n",
      "  'precision', 'predicted', average, warn_for)\n",
      "/usr/local/lib/python3.7/site-packages/sklearn/metrics/classification.py:1437: UndefinedMetricWarning: F-score is ill-defined and being set to 0.0 in labels with no predicted samples.\n",
      "  'precision', 'predicted', average, warn_for)\n",
      "/usr/local/lib/python3.7/site-packages/sklearn/metrics/classification.py:1437: UndefinedMetricWarning: Precision is ill-defined and being set to 0.0 in labels with no predicted samples.\n",
      "  'precision', 'predicted', average, warn_for)\n",
      "/usr/local/lib/python3.7/site-packages/sklearn/metrics/classification.py:1437: UndefinedMetricWarning: F-score is ill-defined and being set to 0.0 in labels with no predicted samples.\n",
      "  'precision', 'predicted', average, warn_for)\n",
      "/usr/local/lib/python3.7/site-packages/sklearn/metrics/classification.py:1437: UndefinedMetricWarning: Precision is ill-defined and being set to 0.0 in labels with no predicted samples.\n",
      "  'precision', 'predicted', average, warn_for)\n",
      "/usr/local/lib/python3.7/site-packages/sklearn/metrics/classification.py:1437: UndefinedMetricWarning: F-score is ill-defined and being set to 0.0 in labels with no predicted samples.\n",
      "  'precision', 'predicted', average, warn_for)\n",
      "/usr/local/lib/python3.7/site-packages/sklearn/metrics/classification.py:1437: UndefinedMetricWarning: Precision is ill-defined and being set to 0.0 in labels with no predicted samples.\n",
      "  'precision', 'predicted', average, warn_for)\n",
      "/usr/local/lib/python3.7/site-packages/sklearn/metrics/classification.py:1437: UndefinedMetricWarning: F-score is ill-defined and being set to 0.0 in labels with no predicted samples.\n",
      "  'precision', 'predicted', average, warn_for)\n",
      "/usr/local/lib/python3.7/site-packages/sklearn/metrics/classification.py:1437: UndefinedMetricWarning: Precision is ill-defined and being set to 0.0 in labels with no predicted samples.\n",
      "  'precision', 'predicted', average, warn_for)\n",
      "/usr/local/lib/python3.7/site-packages/sklearn/metrics/classification.py:1437: UndefinedMetricWarning: F-score is ill-defined and being set to 0.0 in labels with no predicted samples.\n",
      "  'precision', 'predicted', average, warn_for)\n",
      "/usr/local/lib/python3.7/site-packages/sklearn/metrics/classification.py:1437: UndefinedMetricWarning: Precision is ill-defined and being set to 0.0 in labels with no predicted samples.\n",
      "  'precision', 'predicted', average, warn_for)\n"
     ]
    },
    {
     "name": "stdout",
     "output_type": "stream",
     "text": [
      "{'fit_time': array([1.01831388, 1.12172127, 0.93912482, 0.77782702, 0.71575308]), 'score_time': array([0.02432394, 0.02788997, 0.01032805, 0.01015925, 0.01089096]), 'test_f1_macro': array([0.57933908, 0.60844719, 0.71203229, 0.64759565, 0.6045433 ]), 'test_precision_macro': array([0.65749472, 0.70566897, 0.77233186, 0.71598806, 0.67892184]), 'test_recall_macro': array([0.53515773, 0.55986716, 0.69218305, 0.61188516, 0.56733922])}\n"
     ]
    },
    {
     "name": "stderr",
     "output_type": "stream",
     "text": [
      "/usr/local/lib/python3.7/site-packages/sklearn/metrics/classification.py:1437: UndefinedMetricWarning: F-score is ill-defined and being set to 0.0 in labels with no predicted samples.\n",
      "  'precision', 'predicted', average, warn_for)\n",
      "/usr/local/lib/python3.7/site-packages/sklearn/metrics/classification.py:1437: UndefinedMetricWarning: Precision is ill-defined and being set to 0.0 in labels with no predicted samples.\n",
      "  'precision', 'predicted', average, warn_for)\n",
      "/usr/local/lib/python3.7/site-packages/sklearn/metrics/classification.py:1437: UndefinedMetricWarning: F-score is ill-defined and being set to 0.0 in labels with no predicted samples.\n",
      "  'precision', 'predicted', average, warn_for)\n",
      "/usr/local/lib/python3.7/site-packages/sklearn/metrics/classification.py:1437: UndefinedMetricWarning: Precision is ill-defined and being set to 0.0 in labels with no predicted samples.\n",
      "  'precision', 'predicted', average, warn_for)\n"
     ]
    },
    {
     "name": "stdout",
     "output_type": "stream",
     "text": [
      "{'fit_time': array([0.02024198, 0.02706623, 0.0644412 , 0.0685339 , 0.04116917]), 'score_time': array([0.015769  , 0.01879191, 0.01959395, 0.02164388, 0.02421474]), 'test_f1_macro': array([0.12994505, 0.18397757, 0.15848421, 0.18410698, 0.17753268]), 'test_precision_macro': array([0.14241486, 0.24482234, 0.24959184, 0.35376884, 0.34543551]), 'test_recall_macro': array([0.14594595, 0.18198198, 0.16388889, 0.1753268 , 0.17013889])}\n"
     ]
    },
    {
     "name": "stderr",
     "output_type": "stream",
     "text": [
      "/usr/local/lib/python3.7/site-packages/sklearn/metrics/classification.py:1437: UndefinedMetricWarning: F-score is ill-defined and being set to 0.0 in labels with no predicted samples.\n",
      "  'precision', 'predicted', average, warn_for)\n",
      "/usr/local/lib/python3.7/site-packages/sklearn/metrics/classification.py:1437: UndefinedMetricWarning: Precision is ill-defined and being set to 0.0 in labels with no predicted samples.\n",
      "  'precision', 'predicted', average, warn_for)\n",
      "/usr/local/lib/python3.7/site-packages/sklearn/metrics/classification.py:1437: UndefinedMetricWarning: F-score is ill-defined and being set to 0.0 in labels with no predicted samples.\n",
      "  'precision', 'predicted', average, warn_for)\n",
      "/usr/local/lib/python3.7/site-packages/sklearn/metrics/classification.py:1437: UndefinedMetricWarning: Precision is ill-defined and being set to 0.0 in labels with no predicted samples.\n",
      "  'precision', 'predicted', average, warn_for)\n",
      "/usr/local/lib/python3.7/site-packages/sklearn/metrics/classification.py:1437: UndefinedMetricWarning: F-score is ill-defined and being set to 0.0 in labels with no predicted samples.\n",
      "  'precision', 'predicted', average, warn_for)\n",
      "/usr/local/lib/python3.7/site-packages/sklearn/metrics/classification.py:1437: UndefinedMetricWarning: Precision is ill-defined and being set to 0.0 in labels with no predicted samples.\n",
      "  'precision', 'predicted', average, warn_for)\n",
      "/usr/local/lib/python3.7/site-packages/sklearn/metrics/classification.py:1437: UndefinedMetricWarning: F-score is ill-defined and being set to 0.0 in labels with no predicted samples.\n",
      "  'precision', 'predicted', average, warn_for)\n",
      "/usr/local/lib/python3.7/site-packages/sklearn/metrics/classification.py:1437: UndefinedMetricWarning: Precision is ill-defined and being set to 0.0 in labels with no predicted samples.\n",
      "  'precision', 'predicted', average, warn_for)\n",
      "/usr/local/lib/python3.7/site-packages/sklearn/metrics/classification.py:1437: UndefinedMetricWarning: F-score is ill-defined and being set to 0.0 in labels with no predicted samples.\n",
      "  'precision', 'predicted', average, warn_for)\n",
      "/usr/local/lib/python3.7/site-packages/sklearn/metrics/classification.py:1437: UndefinedMetricWarning: Precision is ill-defined and being set to 0.0 in labels with no predicted samples.\n",
      "  'precision', 'predicted', average, warn_for)\n",
      "/usr/local/lib/python3.7/site-packages/sklearn/metrics/classification.py:1437: UndefinedMetricWarning: F-score is ill-defined and being set to 0.0 in labels with no predicted samples.\n",
      "  'precision', 'predicted', average, warn_for)\n",
      "/usr/local/lib/python3.7/site-packages/sklearn/metrics/classification.py:1437: UndefinedMetricWarning: Precision is ill-defined and being set to 0.0 in labels with no predicted samples.\n",
      "  'precision', 'predicted', average, warn_for)\n"
     ]
    },
    {
     "name": "stdout",
     "output_type": "stream",
     "text": [
      "{'fit_time': array([0.13381004, 0.14830303, 0.13528395, 0.11153698, 0.08465815]), 'score_time': array([0.21042395, 0.19650507, 0.26577997, 0.13869405, 0.14177704]), 'test_f1_macro': array([0.20940229, 0.28302345, 0.2728355 , 0.33582727, 0.21402205]), 'test_precision_macro': array([0.31154691, 0.4098661 , 0.56167932, 0.61428091, 0.29838509]), 'test_recall_macro': array([0.21173164, 0.27354345, 0.24124949, 0.29736702, 0.20382269])}\n"
     ]
    },
    {
     "name": "stderr",
     "output_type": "stream",
     "text": [
      "/usr/local/lib/python3.7/site-packages/sklearn/metrics/classification.py:1437: UndefinedMetricWarning: F-score is ill-defined and being set to 0.0 in labels with no predicted samples.\n",
      "  'precision', 'predicted', average, warn_for)\n",
      "/usr/local/lib/python3.7/site-packages/sklearn/metrics/classification.py:1437: UndefinedMetricWarning: Precision is ill-defined and being set to 0.0 in labels with no predicted samples.\n",
      "  'precision', 'predicted', average, warn_for)\n",
      "/usr/local/lib/python3.7/site-packages/sklearn/metrics/classification.py:1437: UndefinedMetricWarning: F-score is ill-defined and being set to 0.0 in labels with no predicted samples.\n",
      "  'precision', 'predicted', average, warn_for)\n",
      "/usr/local/lib/python3.7/site-packages/sklearn/metrics/classification.py:1437: UndefinedMetricWarning: Precision is ill-defined and being set to 0.0 in labels with no predicted samples.\n",
      "  'precision', 'predicted', average, warn_for)\n"
     ]
    },
    {
     "name": "stdout",
     "output_type": "stream",
     "text": [
      "{'fit_time': array([0.06813383, 0.10046005, 0.06436777, 0.06857228, 0.06237793]), 'score_time': array([0.04230309, 0.05515075, 0.03435802, 0.0576117 , 0.03508997]), 'test_f1_macro': array([0.33787002, 0.47444734, 0.44449339, 0.39353898, 0.41596869]), 'test_precision_macro': array([0.44571522, 0.61684524, 0.59627158, 0.46817405, 0.51749257]), 'test_recall_macro': array([0.31299557, 0.42813815, 0.40277621, 0.35600393, 0.37155623])}\n"
     ]
    },
    {
     "name": "stderr",
     "output_type": "stream",
     "text": [
      "/usr/local/lib/python3.7/site-packages/sklearn/metrics/classification.py:1437: UndefinedMetricWarning: F-score is ill-defined and being set to 0.0 in labels with no predicted samples.\n",
      "  'precision', 'predicted', average, warn_for)\n",
      "/usr/local/lib/python3.7/site-packages/sklearn/metrics/classification.py:1437: UndefinedMetricWarning: Precision is ill-defined and being set to 0.0 in labels with no predicted samples.\n",
      "  'precision', 'predicted', average, warn_for)\n",
      "/usr/local/lib/python3.7/site-packages/sklearn/metrics/classification.py:1437: UndefinedMetricWarning: F-score is ill-defined and being set to 0.0 in labels with no predicted samples.\n",
      "  'precision', 'predicted', average, warn_for)\n",
      "/usr/local/lib/python3.7/site-packages/sklearn/metrics/classification.py:1437: UndefinedMetricWarning: Precision is ill-defined and being set to 0.0 in labels with no predicted samples.\n",
      "  'precision', 'predicted', average, warn_for)\n"
     ]
    }
   ],
   "source": [
    "for classifier in classifiers:\n",
    "    print(cv(classifier, workable_data, workable_labels, cv = 5, scoring = ['f1_macro', \n",
    "                                                                            'precision_macro', \n",
    "                                                                            'recall_macro']))"
   ]
  },
  {
   "cell_type": "code",
   "execution_count": 127,
   "metadata": {
    "collapsed": true,
    "jupyter": {
     "outputs_hidden": true
    }
   },
   "outputs": [
    {
     "data": {
      "text/plain": [
       "['accuracy',\n",
       " 'adjusted_mutual_info_score',\n",
       " 'adjusted_rand_score',\n",
       " 'average_precision',\n",
       " 'balanced_accuracy',\n",
       " 'brier_score_loss',\n",
       " 'completeness_score',\n",
       " 'explained_variance',\n",
       " 'f1',\n",
       " 'f1_macro',\n",
       " 'f1_micro',\n",
       " 'f1_samples',\n",
       " 'f1_weighted',\n",
       " 'fowlkes_mallows_score',\n",
       " 'homogeneity_score',\n",
       " 'jaccard',\n",
       " 'jaccard_macro',\n",
       " 'jaccard_micro',\n",
       " 'jaccard_samples',\n",
       " 'jaccard_weighted',\n",
       " 'max_error',\n",
       " 'mutual_info_score',\n",
       " 'neg_log_loss',\n",
       " 'neg_mean_absolute_error',\n",
       " 'neg_mean_squared_error',\n",
       " 'neg_mean_squared_log_error',\n",
       " 'neg_median_absolute_error',\n",
       " 'normalized_mutual_info_score',\n",
       " 'precision',\n",
       " 'precision_macro',\n",
       " 'precision_micro',\n",
       " 'precision_samples',\n",
       " 'precision_weighted',\n",
       " 'r2',\n",
       " 'recall',\n",
       " 'recall_macro',\n",
       " 'recall_micro',\n",
       " 'recall_samples',\n",
       " 'recall_weighted',\n",
       " 'roc_auc',\n",
       " 'v_measure_score']"
      ]
     },
     "execution_count": 127,
     "metadata": {},
     "output_type": "execute_result"
    }
   ],
   "source": [
    "import sklearn.metrics\n",
    "\n",
    "sorted(sklearn.metrics.SCORERS.keys())"
   ]
  },
  {
   "cell_type": "markdown",
   "metadata": {},
   "source": [
    "## Hyperparameter Tuning"
   ]
  },
  {
   "cell_type": "code",
   "execution_count": 338,
   "metadata": {},
   "outputs": [],
   "source": [
    "data = data[['appId', 'text', 'category']]"
   ]
  },
  {
   "cell_type": "code",
   "execution_count": 339,
   "metadata": {},
   "outputs": [
    {
     "data": {
      "text/html": [
       "<div>\n",
       "<style scoped>\n",
       "    .dataframe tbody tr th:only-of-type {\n",
       "        vertical-align: middle;\n",
       "    }\n",
       "\n",
       "    .dataframe tbody tr th {\n",
       "        vertical-align: top;\n",
       "    }\n",
       "\n",
       "    .dataframe thead th {\n",
       "        text-align: right;\n",
       "    }\n",
       "</style>\n",
       "<table border=\"1\" class=\"dataframe\">\n",
       "  <thead>\n",
       "    <tr style=\"text-align: right;\">\n",
       "      <th></th>\n",
       "      <th>appId</th>\n",
       "      <th>text</th>\n",
       "      <th>category</th>\n",
       "    </tr>\n",
       "  </thead>\n",
       "  <tbody>\n",
       "    <tr>\n",
       "      <td>0</td>\n",
       "      <td>a2ndappwhats.sdkw.com</td>\n",
       "      <td>b\"2nd Account for Whatsapp 2 Whatsapps on Same...</td>\n",
       "      <td>surveillance</td>\n",
       "    </tr>\n",
       "    <tr>\n",
       "      <td>1</td>\n",
       "      <td>air.au.com.metro.DumbWaysToDie2</td>\n",
       "      <td>b\"Dumb Ways to Die 2: The Games A new set of d...</td>\n",
       "      <td>none</td>\n",
       "    </tr>\n",
       "    <tr>\n",
       "      <td>2</td>\n",
       "      <td>air.com.applauz.timeoutkids</td>\n",
       "      <td>b'Time Out - Behaviour Meter Live Behaviour Me...</td>\n",
       "      <td>control</td>\n",
       "    </tr>\n",
       "    <tr>\n",
       "      <td>3</td>\n",
       "      <td>ajx.com.calltracker</td>\n",
       "      <td>b\"Call Tracker Call Tracker helps you identify...</td>\n",
       "      <td>callerid</td>\n",
       "    </tr>\n",
       "    <tr>\n",
       "      <td>4</td>\n",
       "      <td>allcall.location.tracker</td>\n",
       "      <td>b\"All Call Location Tracker All Calls Location...</td>\n",
       "      <td>callerid</td>\n",
       "    </tr>\n",
       "  </tbody>\n",
       "</table>\n",
       "</div>"
      ],
      "text/plain": [
       "                             appId  \\\n",
       "0            a2ndappwhats.sdkw.com   \n",
       "1  air.au.com.metro.DumbWaysToDie2   \n",
       "2      air.com.applauz.timeoutkids   \n",
       "3              ajx.com.calltracker   \n",
       "4         allcall.location.tracker   \n",
       "\n",
       "                                                text      category  \n",
       "0  b\"2nd Account for Whatsapp 2 Whatsapps on Same...  surveillance  \n",
       "1  b\"Dumb Ways to Die 2: The Games A new set of d...          none  \n",
       "2  b'Time Out - Behaviour Meter Live Behaviour Me...       control  \n",
       "3  b\"Call Tracker Call Tracker helps you identify...      callerid  \n",
       "4  b\"All Call Location Tracker All Calls Location...      callerid  "
      ]
     },
     "execution_count": 339,
     "metadata": {},
     "output_type": "execute_result"
    }
   ],
   "source": [
    "data.head()"
   ]
  },
  {
   "cell_type": "code",
   "execution_count": 340,
   "metadata": {},
   "outputs": [],
   "source": [
    "hpt_data = data[['appId', 'text', 'category']]"
   ]
  },
  {
   "cell_type": "code",
   "execution_count": 347,
   "metadata": {},
   "outputs": [
    {
     "data": {
      "text/html": [
       "<div>\n",
       "<style scoped>\n",
       "    .dataframe tbody tr th:only-of-type {\n",
       "        vertical-align: middle;\n",
       "    }\n",
       "\n",
       "    .dataframe tbody tr th {\n",
       "        vertical-align: top;\n",
       "    }\n",
       "\n",
       "    .dataframe thead th {\n",
       "        text-align: right;\n",
       "    }\n",
       "</style>\n",
       "<table border=\"1\" class=\"dataframe\">\n",
       "  <thead>\n",
       "    <tr style=\"text-align: right;\">\n",
       "      <th></th>\n",
       "      <th>appId</th>\n",
       "      <th>text</th>\n",
       "      <th>category</th>\n",
       "    </tr>\n",
       "  </thead>\n",
       "  <tbody>\n",
       "    <tr>\n",
       "      <td>0</td>\n",
       "      <td>a2ndappwhats.sdkw.com</td>\n",
       "      <td>b\"2nd Account for Whatsapp 2 Whatsapps on Same...</td>\n",
       "      <td>surveillance</td>\n",
       "    </tr>\n",
       "    <tr>\n",
       "      <td>1</td>\n",
       "      <td>air.au.com.metro.DumbWaysToDie2</td>\n",
       "      <td>b\"Dumb Ways to Die 2: The Games A new set of d...</td>\n",
       "      <td>none</td>\n",
       "    </tr>\n",
       "    <tr>\n",
       "      <td>2</td>\n",
       "      <td>air.com.applauz.timeoutkids</td>\n",
       "      <td>b'Time Out - Behaviour Meter Live Behaviour Me...</td>\n",
       "      <td>control</td>\n",
       "    </tr>\n",
       "    <tr>\n",
       "      <td>3</td>\n",
       "      <td>ajx.com.calltracker</td>\n",
       "      <td>b\"Call Tracker Call Tracker helps you identify...</td>\n",
       "      <td>callerid</td>\n",
       "    </tr>\n",
       "    <tr>\n",
       "      <td>4</td>\n",
       "      <td>allcall.location.tracker</td>\n",
       "      <td>b\"All Call Location Tracker All Calls Location...</td>\n",
       "      <td>callerid</td>\n",
       "    </tr>\n",
       "  </tbody>\n",
       "</table>\n",
       "</div>"
      ],
      "text/plain": [
       "                             appId  \\\n",
       "0            a2ndappwhats.sdkw.com   \n",
       "1  air.au.com.metro.DumbWaysToDie2   \n",
       "2      air.com.applauz.timeoutkids   \n",
       "3              ajx.com.calltracker   \n",
       "4         allcall.location.tracker   \n",
       "\n",
       "                                                text      category  \n",
       "0  b\"2nd Account for Whatsapp 2 Whatsapps on Same...  surveillance  \n",
       "1  b\"Dumb Ways to Die 2: The Games A new set of d...          none  \n",
       "2  b'Time Out - Behaviour Meter Live Behaviour Me...       control  \n",
       "3  b\"Call Tracker Call Tracker helps you identify...      callerid  \n",
       "4  b\"All Call Location Tracker All Calls Location...      callerid  "
      ]
     },
     "execution_count": 347,
     "metadata": {},
     "output_type": "execute_result"
    }
   ],
   "source": [
    "hpt_data.head()"
   ]
  },
  {
   "cell_type": "code",
   "execution_count": 348,
   "metadata": {},
   "outputs": [],
   "source": [
    "train_data, test_data = train_test_split(hpt_data, test_size = .25, \n",
    "                                         random_state = 28, \n",
    "                                         stratify = list(hpt_data['category']))"
   ]
  },
  {
   "cell_type": "code",
   "execution_count": 349,
   "metadata": {},
   "outputs": [
    {
     "name": "stdout",
     "output_type": "stream",
     "text": [
      "818\n",
      "273\n"
     ]
    }
   ],
   "source": [
    "print(len(train_data))\n",
    "print(len(test_data))"
   ]
  },
  {
   "cell_type": "code",
   "execution_count": 350,
   "metadata": {},
   "outputs": [],
   "source": [
    "train_data = train_data.reset_index()\n",
    "test_data = test_data.reset_index()"
   ]
  },
  {
   "cell_type": "code",
   "execution_count": 351,
   "metadata": {},
   "outputs": [
    {
     "data": {
      "text/html": [
       "<div>\n",
       "<style scoped>\n",
       "    .dataframe tbody tr th:only-of-type {\n",
       "        vertical-align: middle;\n",
       "    }\n",
       "\n",
       "    .dataframe tbody tr th {\n",
       "        vertical-align: top;\n",
       "    }\n",
       "\n",
       "    .dataframe thead th {\n",
       "        text-align: right;\n",
       "    }\n",
       "</style>\n",
       "<table border=\"1\" class=\"dataframe\">\n",
       "  <thead>\n",
       "    <tr style=\"text-align: right;\">\n",
       "      <th></th>\n",
       "      <th>index</th>\n",
       "      <th>appId</th>\n",
       "      <th>text</th>\n",
       "      <th>category</th>\n",
       "    </tr>\n",
       "  </thead>\n",
       "  <tbody>\n",
       "    <tr>\n",
       "      <td>0</td>\n",
       "      <td>292</td>\n",
       "      <td>com.fmee.fmeeserv</td>\n",
       "      <td>b'GPS Tracker By FollowMee Locate and Track Yo...</td>\n",
       "      <td>surveillance</td>\n",
       "    </tr>\n",
       "    <tr>\n",
       "      <td>1</td>\n",
       "      <td>688</td>\n",
       "      <td>com.skibapps.messagespyremover</td>\n",
       "      <td>b'Message Spy Remover (Anti Spy) Detect, Ident...</td>\n",
       "      <td>defense</td>\n",
       "    </tr>\n",
       "    <tr>\n",
       "      <td>2</td>\n",
       "      <td>12</td>\n",
       "      <td>appinventor.ai_oscar_rdzmty7.UnlockPhonePlus_copy</td>\n",
       "      <td>b\"Unlock Phone ( Unlock Codes ) Unlock your ce...</td>\n",
       "      <td>tutorial</td>\n",
       "    </tr>\n",
       "    <tr>\n",
       "      <td>3</td>\n",
       "      <td>236</td>\n",
       "      <td>com.djit.equalizerplusforandroidfree</td>\n",
       "      <td>b\"Equalizer music player booster The best musi...</td>\n",
       "      <td>none</td>\n",
       "    </tr>\n",
       "    <tr>\n",
       "      <td>4</td>\n",
       "      <td>290</td>\n",
       "      <td>com.flexsolution.fakecallsms</td>\n",
       "      <td>b'Fake Call &amp; SMS Make prank call or SMS and t...</td>\n",
       "      <td>spoof</td>\n",
       "    </tr>\n",
       "  </tbody>\n",
       "</table>\n",
       "</div>"
      ],
      "text/plain": [
       "   index                                              appId  \\\n",
       "0    292                                  com.fmee.fmeeserv   \n",
       "1    688                     com.skibapps.messagespyremover   \n",
       "2     12  appinventor.ai_oscar_rdzmty7.UnlockPhonePlus_copy   \n",
       "3    236               com.djit.equalizerplusforandroidfree   \n",
       "4    290                       com.flexsolution.fakecallsms   \n",
       "\n",
       "                                                text      category  \n",
       "0  b'GPS Tracker By FollowMee Locate and Track Yo...  surveillance  \n",
       "1  b'Message Spy Remover (Anti Spy) Detect, Ident...       defense  \n",
       "2  b\"Unlock Phone ( Unlock Codes ) Unlock your ce...      tutorial  \n",
       "3  b\"Equalizer music player booster The best musi...          none  \n",
       "4  b'Fake Call & SMS Make prank call or SMS and t...         spoof  "
      ]
     },
     "execution_count": 351,
     "metadata": {},
     "output_type": "execute_result"
    }
   ],
   "source": [
    "train_data.head()"
   ]
  },
  {
   "cell_type": "code",
   "execution_count": 352,
   "metadata": {},
   "outputs": [],
   "source": [
    "tfidf_init = tfidf(stop_words = stopwords, min_df = 5)\n",
    "vocabulary = tfidf_init.fit(train_data.text)\n",
    "train_matrix = vocabulary.transform(train_data.text).toarray()\n",
    "test_matrix = vocabulary.transform(test_data.text).toarray()"
   ]
  },
  {
   "cell_type": "code",
   "execution_count": 353,
   "metadata": {},
   "outputs": [],
   "source": [
    "train_data = pd.concat([train_data, pd.DataFrame(train_matrix)], axis = 1)\n",
    "test_data = pd.concat([test_data, pd.DataFrame(test_matrix)], axis = 1)"
   ]
  },
  {
   "cell_type": "code",
   "execution_count": 354,
   "metadata": {},
   "outputs": [
    {
     "data": {
      "text/html": [
       "<div>\n",
       "<style scoped>\n",
       "    .dataframe tbody tr th:only-of-type {\n",
       "        vertical-align: middle;\n",
       "    }\n",
       "\n",
       "    .dataframe tbody tr th {\n",
       "        vertical-align: top;\n",
       "    }\n",
       "\n",
       "    .dataframe thead th {\n",
       "        text-align: right;\n",
       "    }\n",
       "</style>\n",
       "<table border=\"1\" class=\"dataframe\">\n",
       "  <thead>\n",
       "    <tr style=\"text-align: right;\">\n",
       "      <th></th>\n",
       "      <th>index</th>\n",
       "      <th>appId</th>\n",
       "      <th>text</th>\n",
       "      <th>category</th>\n",
       "      <th>0</th>\n",
       "      <th>1</th>\n",
       "      <th>2</th>\n",
       "      <th>3</th>\n",
       "      <th>4</th>\n",
       "      <th>5</th>\n",
       "      <th>...</th>\n",
       "      <th>3379</th>\n",
       "      <th>3380</th>\n",
       "      <th>3381</th>\n",
       "      <th>3382</th>\n",
       "      <th>3383</th>\n",
       "      <th>3384</th>\n",
       "      <th>3385</th>\n",
       "      <th>3386</th>\n",
       "      <th>3387</th>\n",
       "      <th>3388</th>\n",
       "    </tr>\n",
       "  </thead>\n",
       "  <tbody>\n",
       "    <tr>\n",
       "      <td>0</td>\n",
       "      <td>292</td>\n",
       "      <td>com.fmee.fmeeserv</td>\n",
       "      <td>b'GPS Tracker By FollowMee Locate and Track Yo...</td>\n",
       "      <td>surveillance</td>\n",
       "      <td>0.0</td>\n",
       "      <td>0.0</td>\n",
       "      <td>0.0</td>\n",
       "      <td>0.021414</td>\n",
       "      <td>0.000000</td>\n",
       "      <td>0.0</td>\n",
       "      <td>...</td>\n",
       "      <td>0.0</td>\n",
       "      <td>0.0</td>\n",
       "      <td>0.0</td>\n",
       "      <td>0.0</td>\n",
       "      <td>0.0</td>\n",
       "      <td>0.0</td>\n",
       "      <td>0.0</td>\n",
       "      <td>0.0</td>\n",
       "      <td>0.0</td>\n",
       "      <td>0.0</td>\n",
       "    </tr>\n",
       "    <tr>\n",
       "      <td>1</td>\n",
       "      <td>688</td>\n",
       "      <td>com.skibapps.messagespyremover</td>\n",
       "      <td>b'Message Spy Remover (Anti Spy) Detect, Ident...</td>\n",
       "      <td>defense</td>\n",
       "      <td>0.0</td>\n",
       "      <td>0.0</td>\n",
       "      <td>0.0</td>\n",
       "      <td>0.032309</td>\n",
       "      <td>0.000000</td>\n",
       "      <td>0.0</td>\n",
       "      <td>...</td>\n",
       "      <td>0.0</td>\n",
       "      <td>0.0</td>\n",
       "      <td>0.0</td>\n",
       "      <td>0.0</td>\n",
       "      <td>0.0</td>\n",
       "      <td>0.0</td>\n",
       "      <td>0.0</td>\n",
       "      <td>0.0</td>\n",
       "      <td>0.0</td>\n",
       "      <td>0.0</td>\n",
       "    </tr>\n",
       "    <tr>\n",
       "      <td>2</td>\n",
       "      <td>12</td>\n",
       "      <td>appinventor.ai_oscar_rdzmty7.UnlockPhonePlus_copy</td>\n",
       "      <td>b\"Unlock Phone ( Unlock Codes ) Unlock your ce...</td>\n",
       "      <td>tutorial</td>\n",
       "      <td>0.0</td>\n",
       "      <td>0.0</td>\n",
       "      <td>0.0</td>\n",
       "      <td>0.036652</td>\n",
       "      <td>0.040718</td>\n",
       "      <td>0.0</td>\n",
       "      <td>...</td>\n",
       "      <td>0.0</td>\n",
       "      <td>0.0</td>\n",
       "      <td>0.0</td>\n",
       "      <td>0.0</td>\n",
       "      <td>0.0</td>\n",
       "      <td>0.0</td>\n",
       "      <td>0.0</td>\n",
       "      <td>0.0</td>\n",
       "      <td>0.0</td>\n",
       "      <td>0.0</td>\n",
       "    </tr>\n",
       "    <tr>\n",
       "      <td>3</td>\n",
       "      <td>236</td>\n",
       "      <td>com.djit.equalizerplusforandroidfree</td>\n",
       "      <td>b\"Equalizer music player booster The best musi...</td>\n",
       "      <td>none</td>\n",
       "      <td>0.0</td>\n",
       "      <td>0.0</td>\n",
       "      <td>0.0</td>\n",
       "      <td>0.021145</td>\n",
       "      <td>0.000000</td>\n",
       "      <td>0.0</td>\n",
       "      <td>...</td>\n",
       "      <td>0.0</td>\n",
       "      <td>0.0</td>\n",
       "      <td>0.0</td>\n",
       "      <td>0.0</td>\n",
       "      <td>0.0</td>\n",
       "      <td>0.0</td>\n",
       "      <td>0.0</td>\n",
       "      <td>0.0</td>\n",
       "      <td>0.0</td>\n",
       "      <td>0.0</td>\n",
       "    </tr>\n",
       "    <tr>\n",
       "      <td>4</td>\n",
       "      <td>290</td>\n",
       "      <td>com.flexsolution.fakecallsms</td>\n",
       "      <td>b'Fake Call &amp; SMS Make prank call or SMS and t...</td>\n",
       "      <td>spoof</td>\n",
       "      <td>0.0</td>\n",
       "      <td>0.0</td>\n",
       "      <td>0.0</td>\n",
       "      <td>0.000000</td>\n",
       "      <td>0.054280</td>\n",
       "      <td>0.0</td>\n",
       "      <td>...</td>\n",
       "      <td>0.0</td>\n",
       "      <td>0.0</td>\n",
       "      <td>0.0</td>\n",
       "      <td>0.0</td>\n",
       "      <td>0.0</td>\n",
       "      <td>0.0</td>\n",
       "      <td>0.0</td>\n",
       "      <td>0.0</td>\n",
       "      <td>0.0</td>\n",
       "      <td>0.0</td>\n",
       "    </tr>\n",
       "  </tbody>\n",
       "</table>\n",
       "<p>5 rows × 3393 columns</p>\n",
       "</div>"
      ],
      "text/plain": [
       "   index                                              appId  \\\n",
       "0    292                                  com.fmee.fmeeserv   \n",
       "1    688                     com.skibapps.messagespyremover   \n",
       "2     12  appinventor.ai_oscar_rdzmty7.UnlockPhonePlus_copy   \n",
       "3    236               com.djit.equalizerplusforandroidfree   \n",
       "4    290                       com.flexsolution.fakecallsms   \n",
       "\n",
       "                                                text      category    0    1  \\\n",
       "0  b'GPS Tracker By FollowMee Locate and Track Yo...  surveillance  0.0  0.0   \n",
       "1  b'Message Spy Remover (Anti Spy) Detect, Ident...       defense  0.0  0.0   \n",
       "2  b\"Unlock Phone ( Unlock Codes ) Unlock your ce...      tutorial  0.0  0.0   \n",
       "3  b\"Equalizer music player booster The best musi...          none  0.0  0.0   \n",
       "4  b'Fake Call & SMS Make prank call or SMS and t...         spoof  0.0  0.0   \n",
       "\n",
       "     2         3         4    5  ...  3379  3380  3381  3382  3383  3384  \\\n",
       "0  0.0  0.021414  0.000000  0.0  ...   0.0   0.0   0.0   0.0   0.0   0.0   \n",
       "1  0.0  0.032309  0.000000  0.0  ...   0.0   0.0   0.0   0.0   0.0   0.0   \n",
       "2  0.0  0.036652  0.040718  0.0  ...   0.0   0.0   0.0   0.0   0.0   0.0   \n",
       "3  0.0  0.021145  0.000000  0.0  ...   0.0   0.0   0.0   0.0   0.0   0.0   \n",
       "4  0.0  0.000000  0.054280  0.0  ...   0.0   0.0   0.0   0.0   0.0   0.0   \n",
       "\n",
       "   3385  3386  3387  3388  \n",
       "0   0.0   0.0   0.0   0.0  \n",
       "1   0.0   0.0   0.0   0.0  \n",
       "2   0.0   0.0   0.0   0.0  \n",
       "3   0.0   0.0   0.0   0.0  \n",
       "4   0.0   0.0   0.0   0.0  \n",
       "\n",
       "[5 rows x 3393 columns]"
      ]
     },
     "execution_count": 354,
     "metadata": {},
     "output_type": "execute_result"
    }
   ],
   "source": [
    "train_data.head()"
   ]
  },
  {
   "cell_type": "code",
   "execution_count": 355,
   "metadata": {},
   "outputs": [],
   "source": [
    "train_labels = train_data.category.values\n",
    "test_labels = test_data.category.values"
   ]
  },
  {
   "cell_type": "code",
   "execution_count": 356,
   "metadata": {},
   "outputs": [],
   "source": [
    "train_id = train_data.appId\n",
    "test_id = test_data.appId"
   ]
  },
  {
   "cell_type": "code",
   "execution_count": 357,
   "metadata": {},
   "outputs": [],
   "source": [
    "train_data = train_data.drop(['index', 'appId', 'text', 'category'], axis = 1)\n",
    "test_data = test_data.drop(['index', 'appId', 'text', 'category'], axis = 1)"
   ]
  },
  {
   "cell_type": "code",
   "execution_count": 358,
   "metadata": {},
   "outputs": [],
   "source": [
    "params = {\n",
    "    'loss': ['hinge', 'log', 'squared_hinge', 'modified_huber'],\n",
    "    'penalty': ['l1', 'l2', 'elasticnet'],\n",
    "    'alpha': [.000001, .00001, .0001, .0005, .001, .005, .01, .05],\n",
    "    'l1_ratio': [0, .15, .3, .45, .6, .75, .9, 1],\n",
    "    'fit_intercept': [True, False],\n",
    "    'learning_rate': ['constant', 'optimal', 'invscaling', 'adaptive'],\n",
    "    'eta0': [.001]\n",
    "}"
   ]
  },
  {
   "cell_type": "code",
   "execution_count": 359,
   "metadata": {},
   "outputs": [
    {
     "data": {
      "text/plain": [
       "6144"
      ]
     },
     "execution_count": 359,
     "metadata": {},
     "output_type": "execute_result"
    }
   ],
   "source": [
    "len(params['loss'])*len(params['penalty'])*len(params['alpha'])*len(params['l1_ratio'])*len(params['fit_intercept'])*len(params['learning_rate'])"
   ]
  },
  {
   "cell_type": "code",
   "execution_count": 360,
   "metadata": {},
   "outputs": [],
   "source": [
    "sgd = SGDClassifier()"
   ]
  },
  {
   "cell_type": "code",
   "execution_count": 361,
   "metadata": {},
   "outputs": [],
   "source": [
    "random_search = rs(sgd, params, n_iter = 30, scoring = 'recall_macro', cv = 3, random_state = 28)"
   ]
  },
  {
   "cell_type": "code",
   "execution_count": 362,
   "metadata": {},
   "outputs": [
    {
     "name": "stderr",
     "output_type": "stream",
     "text": [
      "/usr/local/lib/python3.7/site-packages/sklearn/model_selection/_search.py:814: DeprecationWarning: The default of the `iid` parameter will change from True to False in version 0.22 and will be removed in 0.24. This will change numeric results when test-set sizes are unequal.\n",
      "  DeprecationWarning)\n"
     ]
    },
    {
     "data": {
      "text/plain": [
       "RandomizedSearchCV(cv=3, error_score='raise-deprecating',\n",
       "                   estimator=SGDClassifier(alpha=0.0001, average=False,\n",
       "                                           class_weight=None,\n",
       "                                           early_stopping=False, epsilon=0.1,\n",
       "                                           eta0=0.0, fit_intercept=True,\n",
       "                                           l1_ratio=0.15,\n",
       "                                           learning_rate='optimal',\n",
       "                                           loss='hinge', max_iter=1000,\n",
       "                                           n_iter_no_change=5, n_jobs=None,\n",
       "                                           penalty='l2', power_t=0.5,\n",
       "                                           random_state=None, shuffle=True,\n",
       "                                           tol=0.001, va...\n",
       "                                        'eta0': [0.001],\n",
       "                                        'fit_intercept': [True, False],\n",
       "                                        'l1_ratio': [0, 0.15, 0.3, 0.45, 0.6,\n",
       "                                                     0.75, 0.9, 1],\n",
       "                                        'learning_rate': ['constant', 'optimal',\n",
       "                                                          'invscaling',\n",
       "                                                          'adaptive'],\n",
       "                                        'loss': ['hinge', 'log',\n",
       "                                                 'squared_hinge',\n",
       "                                                 'modified_huber'],\n",
       "                                        'penalty': ['l1', 'l2', 'elasticnet']},\n",
       "                   pre_dispatch='2*n_jobs', random_state=28, refit=True,\n",
       "                   return_train_score=False, scoring='recall_macro', verbose=0)"
      ]
     },
     "execution_count": 362,
     "metadata": {},
     "output_type": "execute_result"
    }
   ],
   "source": [
    "random_search.fit(train_data.values, train_labels)"
   ]
  },
  {
   "cell_type": "code",
   "execution_count": 363,
   "metadata": {},
   "outputs": [],
   "source": [
    "best_sgd = random_search.best_estimator_"
   ]
  },
  {
   "cell_type": "code",
   "execution_count": 364,
   "metadata": {},
   "outputs": [
    {
     "data": {
      "text/plain": [
       "SGDClassifier(alpha=0.0001, average=False, class_weight=None,\n",
       "              early_stopping=False, epsilon=0.1, eta0=0.001, fit_intercept=True,\n",
       "              l1_ratio=0.75, learning_rate='optimal', loss='hinge',\n",
       "              max_iter=1000, n_iter_no_change=5, n_jobs=None, penalty='l1',\n",
       "              power_t=0.5, random_state=None, shuffle=True, tol=0.001,\n",
       "              validation_fraction=0.1, verbose=0, warm_start=False)"
      ]
     },
     "execution_count": 364,
     "metadata": {},
     "output_type": "execute_result"
    }
   ],
   "source": [
    "best_sgd.fit(train_data, train_labels)"
   ]
  },
  {
   "cell_type": "code",
   "execution_count": 366,
   "metadata": {},
   "outputs": [
    {
     "data": {
      "text/plain": [
       "0.7948717948717948"
      ]
     },
     "execution_count": 366,
     "metadata": {},
     "output_type": "execute_result"
    }
   ],
   "source": [
    "best_sgd.score(test_data, test_labels)"
   ]
  },
  {
   "cell_type": "code",
   "execution_count": 368,
   "metadata": {},
   "outputs": [],
   "source": [
    "sgd_predictions = best_sgd.predict(test_data)"
   ]
  },
  {
   "cell_type": "code",
   "execution_count": 370,
   "metadata": {},
   "outputs": [
    {
     "name": "stderr",
     "output_type": "stream",
     "text": [
      "/usr/local/lib/python3.7/site-packages/sklearn/metrics/classification.py:1437: UndefinedMetricWarning: Precision is ill-defined and being set to 0.0 in labels with no predicted samples.\n",
      "  'precision', 'predicted', average, warn_for)\n"
     ]
    },
    {
     "data": {
      "text/plain": [
       "0.6588745083517088"
      ]
     },
     "execution_count": 370,
     "metadata": {},
     "output_type": "execute_result"
    }
   ],
   "source": [
    "precision(test_labels, sgd_predictions, average = 'macro')"
   ]
  },
  {
   "cell_type": "code",
   "execution_count": 371,
   "metadata": {},
   "outputs": [
    {
     "data": {
      "text/plain": [
       "0.6346025729624042"
      ]
     },
     "execution_count": 371,
     "metadata": {},
     "output_type": "execute_result"
    }
   ],
   "source": [
    "recall(test_labels, sgd_predictions, average = 'macro')"
   ]
  },
  {
   "cell_type": "code",
   "execution_count": 372,
   "metadata": {},
   "outputs": [
    {
     "name": "stderr",
     "output_type": "stream",
     "text": [
      "/usr/local/lib/python3.7/site-packages/sklearn/metrics/classification.py:1437: UndefinedMetricWarning: F-score is ill-defined and being set to 0.0 in labels with no predicted samples.\n",
      "  'precision', 'predicted', average, warn_for)\n"
     ]
    },
    {
     "data": {
      "text/plain": [
       "0.6400802081860059"
      ]
     },
     "execution_count": 372,
     "metadata": {},
     "output_type": "execute_result"
    }
   ],
   "source": [
    "f1_score(test_labels, sgd_predictions, average = 'macro')"
   ]
  },
  {
   "cell_type": "code",
   "execution_count": 374,
   "metadata": {},
   "outputs": [
    {
     "data": {
      "text/plain": [
       "array([[  0,   0,   0,   0,   0,   0,   0,   0,   2,   0],\n",
       "       [  0,   5,   0,   0,   0,   0,   3,   0,   2,   0],\n",
       "       [  0,   0,   6,   0,   1,   0,   1,   0,   0,   1],\n",
       "       [  0,   0,   1,  15,   1,   0,   3,   0,   0,   1],\n",
       "       [  0,   0,   0,   1,  14,   0,   1,   0,   0,   0],\n",
       "       [  0,   0,   1,   0,   0,   2,   0,   0,   0,   0],\n",
       "       [  0,   1,   1,   1,   1,   0, 121,   1,   6,   2],\n",
       "       [  0,   0,   0,   1,   0,   0,   1,   7,   0,   2],\n",
       "       [  0,   0,   0,   2,   0,   0,   1,   2,  14,   2],\n",
       "       [  0,   1,   1,   3,   1,   0,   4,   2,   1,  33]])"
      ]
     },
     "execution_count": 374,
     "metadata": {},
     "output_type": "execute_result"
    }
   ],
   "source": [
    "cm(test_labels, sgd_predictions, labels = list(set(test_labels)))"
   ]
  },
  {
   "cell_type": "code",
   "execution_count": 375,
   "metadata": {},
   "outputs": [],
   "source": [
    "with open('allMktData.txt', 'r') as f:\n",
    "    app_data = []\n",
    "    for line in f:\n",
    "        app_data.append(line.split('\\t'))"
   ]
  },
  {
   "cell_type": "code",
   "execution_count": 376,
   "metadata": {},
   "outputs": [
    {
     "data": {
      "text/plain": [
       "['esp.espana.chat',\n",
       " 'Chat España: Chatear, ligar y conocer gente',\n",
       " 'Chat citas españa y conocer gente nueva en la app de citas de chat amor españa es un hobby. Busca chat hot fotos en la mejor pagina para buscar pareja. Novedoso sistema de chat citas españa y buscar pareja gratis. Entra a nuestro chat app y encuentra citas gratis para conocer gente y mirar chat hot fotos en línea. Además, encontrar pareja +40 en este chat citas españa, utilizando frases para ligar del 2018<br><br>¡Es súper fácil acceder en el chat hot app gratis y conocer gente en españa! Descárgala y empieza a ligar mujeres en la sección de chat hot fotos. Es una manera instantánea para buscar pareja gratis y ligar en Madrid. Es un chat ligar españa y encontrar pareja +15 más famoso<br><br>Chat España es una red social que ha crecido y que tiene más de 80k de usuarios actualmente para chat hot fotos. Es una de las &quot;chat citas españa&quot; donde buscar pareja gratis es más fácil con los juegos para buscar novia y ligar mujeres. El chat hot app gratis también es muy famoso porque es un chat app que tiene más chat con mujeres solteras del 2018.<br><br>Unas de las características de esta red social es que puedes encontrar el chat amor España. Esta es una app chat citas españa, y si buscas chat con mujeres solteras y divorciadas o conocer personas de otros países, elige la opción “Configuración”, en la pestaña de chat ligar España.<br><br>Queremos que te sientas cómodo, por eso tenemos:<br>★100% citas GRATIS<br>★100% Segura y funcional<br>★100% chat españa<br>★100% chat ligar españa<br>★100% ligar gratis en españa<br>★100% chat hot app gratis<br><br>En nuestro chat app españa puedes:<br>▶Activa la característica de chat anónimo en español<br>▶Enviar nota de voz a los usuarios.<br>▶Chat hot fotos<br>▶Chat españa gratis<br>▶Encontrar pareja cerca de ti<br>▶Chat español gratis<br>▶Encontrar pareja cerca<br>▶Iniciar sesión con Facebook<br><br>Este es un estilo chatnow, que entras y estas chat con mujeres solteras dispuestas a chat hot fotos y chat ligar españa como también conocer gente nueva de todo el mundo y ligar mujeres<br><br>¡En fin, únete a descargar página para buscar pareja en españa! Chat ligar quedar solteros citas busca pareja. Hay muchos usuarios en este chat, Barcelona, ligar madrid, servilla, valencia, en este chat hot app gratis<br><br>chat app españa<br>chat hot fotos<br>chat amor españa<br>chat citas españa<br>chat españa gratis<br>chat hot app gratis<br>ligar mujeres<br>chat ligar españa<br>chat hot app gratis mexico<br>citas con mujeres<br>apps para ligar<br>buscar pareja gratis<br>chat hot app gratis argentina<br>frases para ligar<br>ligar en madrid<br>ligar gratis en españa<br>la mejor app para ligar<br>buscar pareja en España<br>aplicacion para buscar novia<br>pagina para buscar pareja<br>chat para conocer y ligar<br>chat en linea en españa<br>chat anonimo gratis español<br>encontrar pareja +40<br>encontrar pareja +15<br>buscar pareja extranjera<br>ligar con gente cerca gratis<br>chat con mujeres solteras<br>conocer personas en españa<br>buscar pareja en estados unidos<br>buscar novia en mi area<br>encontrar pareja +30<br>chatea en privado<br>buscar pareja de otros paises<br>conocer personas cercanas<br>conocer personas de otros paises<br>chat ligar quedar solteros citas busca pareja<br>conocer personas extranjeras<br>conocer personas de todo el mundo<br><br>Información adicional:<br>http://chatenespana.us/blog<br><br>Síguenos en redes sociales:<br>https://www.facebook.com/chatespana/<br>https://twitter.com/MASAbundancia<br>https://plus.google.com/u/0/collection/AjLsSF<br><br>Contactanos a: admin@chatenespana.us\\n']"
      ]
     },
     "execution_count": 376,
     "metadata": {},
     "output_type": "execute_result"
    }
   ],
   "source": [
    "app_data[0]"
   ]
  },
  {
   "cell_type": "code",
   "execution_count": null,
   "metadata": {},
   "outputs": [],
   "source": []
  }
 ],
 "metadata": {
  "kernelspec": {
   "display_name": "Python 3",
   "language": "python",
   "name": "python3"
  },
  "language_info": {
   "codemirror_mode": {
    "name": "ipython",
    "version": 3
   },
   "file_extension": ".py",
   "mimetype": "text/x-python",
   "name": "python",
   "nbconvert_exporter": "python",
   "pygments_lexer": "ipython3",
   "version": "3.7.4"
  }
 },
 "nbformat": 4,
 "nbformat_minor": 4
}
