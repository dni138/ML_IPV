{
 "cells": [
  {
   "cell_type": "code",
   "execution_count": 34,
   "metadata": {},
   "outputs": [],
   "source": [
    "import numpy as np\n",
    "import pandas as pd\n",
    "import matplotlib.pyplot as plt\n",
    "import seaborn as sns\n",
    "from urllib.parse import urlparse\n",
    "import math\n",
    "import json\n",
    "import langid\n",
    "from sklearn.feature_extraction.text import TfidfVectorizer as tfidf\n",
    "from sklearn.model_selection import train_test_split\n",
    "from sklearn.linear_model import LogisticRegression\n",
    "from sklearn.ensemble import RandomForestClassifier\n",
    "from sklearn.naive_bayes import MultinomialNB\n",
    "from sklearn.naive_bayes import GaussianNB\n",
    "from sklearn.naive_bayes import BernoulliNB\n",
    "from sklearn.linear_model import SGDClassifier\n",
    "from sklearn.preprocessing import label_binarize\n",
    "from sklearn.metrics import precision_score as precision\n",
    "from sklearn.metrics import recall_score as recall\n",
    "from sklearn.metrics import f1_score\n",
    "from sklearn.metrics import confusion_matrix as cm\n",
    "from sklearn.model_selection import cross_validate as cv\n",
    "from sklearn.model_selection import RandomizedSearchCV as rs\n",
    "from sklearn.decomposition import PCA\n",
    "from sklearn.feature_selection import SelectKBest\n",
    "from sklearn.feature_selection import chi2"
   ]
  },
  {
   "cell_type": "code",
   "execution_count": 35,
   "metadata": {
    "scrolled": true
   },
   "outputs": [],
   "source": [
    "data = pd.read_csv('1000_labeled_and_features.csv')"
   ]
  },
  {
   "cell_type": "code",
   "execution_count": 36,
   "metadata": {},
   "outputs": [
    {
     "data": {
      "text/plain": [
       "Index(['appId', 'true label', 'category', 'id', 'title', 'summary', 'icon',\n",
       "       'price', 'free', 'minInstalls', 'maxInstalls', 'score', 'reviews',\n",
       "       'developer', 'developerId', 'developerEmail', 'developerWebsite',\n",
       "       'updated', 'version', 'genre', 'genreId', 'familyGenre',\n",
       "       'familyGenreId', 'size', 'description', 'descriptionHTML', 'histogram',\n",
       "       'offersIAP', 'adSupported', 'androidVersionText', 'androidVersion',\n",
       "       'contentRating', 'screenshots', 'video', 'comments', 'recentChanges',\n",
       "       'preregister', 'url', 'appId.1', 'similar', 'permissions', 'time',\n",
       "       'lastseen', 'discontinued', 'installs', 'scoreText', 'ratings',\n",
       "       'currency', 'priceText', 'developerAddress', 'privacyPolicy',\n",
       "       'headerImage', 'videoImage', 'contentRatingDescription', 'released'],\n",
       "      dtype='object')"
      ]
     },
     "execution_count": 36,
     "metadata": {},
     "output_type": "execute_result"
    }
   ],
   "source": [
    "data.columns"
   ]
  },
  {
   "cell_type": "code",
   "execution_count": 37,
   "metadata": {},
   "outputs": [],
   "source": [
    "data = data.head(1091)"
   ]
  },
  {
   "cell_type": "code",
   "execution_count": 38,
   "metadata": {},
   "outputs": [],
   "source": [
    "data = data.drop(['id', 'price', 'free', 'minInstalls', 'maxInstalls', 'developer', 'developerId', 'developerEmail', 'genreId', \n",
    "'familyGenre', 'familyGenreId', 'size', 'histogram', 'offersIAP', 'adSupported', 'androidVersionText','preregister', \n",
    "'time', 'lastseen', 'currency', 'priceText', 'developerAddress', 'contentRatingDescription', 'released',\n",
    "'updated', 'version', 'descriptionHTML', 'video', 'installs', 'scoreText', 'ratings', 'videoImage', 'appId.1', \n",
    "'androidVersion'], axis =1)\n",
    "           "
   ]
  },
  {
   "cell_type": "code",
   "execution_count": 39,
   "metadata": {},
   "outputs": [
    {
     "data": {
      "text/html": [
       "<div>\n",
       "<style scoped>\n",
       "    .dataframe tbody tr th:only-of-type {\n",
       "        vertical-align: middle;\n",
       "    }\n",
       "\n",
       "    .dataframe tbody tr th {\n",
       "        vertical-align: top;\n",
       "    }\n",
       "\n",
       "    .dataframe thead th {\n",
       "        text-align: right;\n",
       "    }\n",
       "</style>\n",
       "<table border=\"1\" class=\"dataframe\">\n",
       "  <thead>\n",
       "    <tr style=\"text-align: right;\">\n",
       "      <th></th>\n",
       "      <th>appId</th>\n",
       "      <th>true label</th>\n",
       "      <th>category</th>\n",
       "      <th>title</th>\n",
       "      <th>summary</th>\n",
       "      <th>icon</th>\n",
       "      <th>score</th>\n",
       "      <th>reviews</th>\n",
       "      <th>developerWebsite</th>\n",
       "      <th>genre</th>\n",
       "      <th>...</th>\n",
       "      <th>contentRating</th>\n",
       "      <th>screenshots</th>\n",
       "      <th>comments</th>\n",
       "      <th>recentChanges</th>\n",
       "      <th>url</th>\n",
       "      <th>similar</th>\n",
       "      <th>permissions</th>\n",
       "      <th>discontinued</th>\n",
       "      <th>privacyPolicy</th>\n",
       "      <th>headerImage</th>\n",
       "    </tr>\n",
       "  </thead>\n",
       "  <tbody>\n",
       "    <tr>\n",
       "      <td>0</td>\n",
       "      <td>a2ndappwhats.sdkw.com</td>\n",
       "      <td>surveillance:social-media</td>\n",
       "      <td>surveillance</td>\n",
       "      <td>2nd Account for Whatsapp</td>\n",
       "      <td>2 Whatsapps on Same Device | Same Whatsapps on...</td>\n",
       "      <td>//lh3.googleusercontent.com/nCOacYEXACIuhJWb9J...</td>\n",
       "      <td>4.0</td>\n",
       "      <td>6939.0</td>\n",
       "      <td>http://jh-jewelry.in/sureshkheni.html</td>\n",
       "      <td>Communication</td>\n",
       "      <td>...</td>\n",
       "      <td>Teen</td>\n",
       "      <td>[\"//lh3.googleusercontent.com/e32FVC6gtcvUj1B1...</td>\n",
       "      <td>[\"Very good applications but not suppose to al...</td>\n",
       "      <td>[\"Bug Fixes\"]</td>\n",
       "      <td>https://play.google.com/store/apps/details?id=...</td>\n",
       "      <td>[\"com.lbe.parallel.intl\", \"com.app.tiki.multim...</td>\n",
       "      <td>[\"read the contents of your USB storage\", \"mod...</td>\n",
       "      <td>20171111:1135</td>\n",
       "      <td>NaN</td>\n",
       "      <td>NaN</td>\n",
       "    </tr>\n",
       "    <tr>\n",
       "      <td>1</td>\n",
       "      <td>air.au.com.metro.DumbWaysToDie2</td>\n",
       "      <td>none:misc</td>\n",
       "      <td>none</td>\n",
       "      <td>Dumb Ways to Die 2: The Games</td>\n",
       "      <td>A new set of dumb characters are here to take ...</td>\n",
       "      <td>//lh3.googleusercontent.com/-ckfFIgLg_qkKbVVgv...</td>\n",
       "      <td>4.2</td>\n",
       "      <td>1584158.0</td>\n",
       "      <td>http://dumbwaystodie.com</td>\n",
       "      <td>Casual</td>\n",
       "      <td>...</td>\n",
       "      <td>Teen</td>\n",
       "      <td>[\"//lh3.googleusercontent.com/G_-nQwn58EEoZbof...</td>\n",
       "      <td>[\"It's a good game, and there's variety, but t...</td>\n",
       "      <td>[\"AMERICALAND\", \"We\\u2019re celebrating the Fo...</td>\n",
       "      <td>https://play.google.com/store/apps/details?id=...</td>\n",
       "      <td>[\"com.popreach.dumbways\", \"com.zynga.looney\", ...</td>\n",
       "      <td>[\"find accounts on the device\", \"read the cont...</td>\n",
       "      <td>NaN</td>\n",
       "      <td>NaN</td>\n",
       "      <td>NaN</td>\n",
       "    </tr>\n",
       "    <tr>\n",
       "      <td>2</td>\n",
       "      <td>air.com.applauz.timeoutkids</td>\n",
       "      <td>control:use-limitation</td>\n",
       "      <td>control</td>\n",
       "      <td>Time Out - Behaviour Meter</td>\n",
       "      <td>Live Behaviour Meter companion app for &amp;quot;T...</td>\n",
       "      <td>https://lh3.googleusercontent.com/uRLr8icEKEhV...</td>\n",
       "      <td>4.5</td>\n",
       "      <td>0.0</td>\n",
       "      <td>http://www.applauz-media.com/timeout</td>\n",
       "      <td>Parenting</td>\n",
       "      <td>...</td>\n",
       "      <td>Everyone</td>\n",
       "      <td>[\"https://lh3.googleusercontent.com/Fon1L3syRL...</td>\n",
       "      <td>[]</td>\n",
       "      <td>NaN</td>\n",
       "      <td>https://play.google.com/store/apps/details?id=...</td>\n",
       "      <td>[\"com.jeesmon.malayalambible\", \"com.bn.speacki...</td>\n",
       "      <td>[\"full network access\"]</td>\n",
       "      <td>NaN</td>\n",
       "      <td>http://applauz-media.com/privacypolicy</td>\n",
       "      <td>https://lh3.googleusercontent.com/3_G29zRlpVOA...</td>\n",
       "    </tr>\n",
       "    <tr>\n",
       "      <td>3</td>\n",
       "      <td>ajx.com.calltracker</td>\n",
       "      <td>callerid:misc</td>\n",
       "      <td>callerid</td>\n",
       "      <td>Call Tracker</td>\n",
       "      <td>Call Tracker helps you identify numbers real-t...</td>\n",
       "      <td>//lh3.googleusercontent.com/RQi_G-l3CadNwi4PNc...</td>\n",
       "      <td>3.9</td>\n",
       "      <td>71.0</td>\n",
       "      <td>http://www.optcrm.com/privacypolicy.html</td>\n",
       "      <td>Tools</td>\n",
       "      <td>...</td>\n",
       "      <td>Everyone</td>\n",
       "      <td>[\"//lh3.googleusercontent.com/kIVoX7kgHvKld7LP...</td>\n",
       "      <td>[\"Thanks\", \"Chutiya App and which people has c...</td>\n",
       "      <td>[\"Improved search result\"]</td>\n",
       "      <td>https://play.google.com/store/apps/details?id=...</td>\n",
       "      <td>[\"com.truecaller\", \"com.caller.id.location.gps...</td>\n",
       "      <td>[\"read your contacts\", \"modify your contacts\",...</td>\n",
       "      <td>NaN</td>\n",
       "      <td>NaN</td>\n",
       "      <td>NaN</td>\n",
       "    </tr>\n",
       "    <tr>\n",
       "      <td>4</td>\n",
       "      <td>allcall.location.tracker</td>\n",
       "      <td>callerid:location</td>\n",
       "      <td>callerid</td>\n",
       "      <td>All Call Location Tracker</td>\n",
       "      <td>All Calls Location Tracker shows the location ...</td>\n",
       "      <td>//lh4.ggpht.com/GJHw8FTW0PqpDnLoHDJvg1MIQHZwjV...</td>\n",
       "      <td>4.0</td>\n",
       "      <td>3406.0</td>\n",
       "      <td>NaN</td>\n",
       "      <td>Communication</td>\n",
       "      <td>...</td>\n",
       "      <td>Everyone</td>\n",
       "      <td>[\"//lh3.googleusercontent.com/UZ80Bvz4FwbnfU4I...</td>\n",
       "      <td>[\"Very Slow and looks like a spam :-(\", \"Too m...</td>\n",
       "      <td>[]</td>\n",
       "      <td>https://play.google.com/store/apps/details?id=...</td>\n",
       "      <td>[\"com.caller.id.location.gps.maps.phone.number...</td>\n",
       "      <td>[\"read sensitive log data\", \"read your Web boo...</td>\n",
       "      <td>20171214:1228</td>\n",
       "      <td>NaN</td>\n",
       "      <td>NaN</td>\n",
       "    </tr>\n",
       "  </tbody>\n",
       "</table>\n",
       "<p>5 rows × 21 columns</p>\n",
       "</div>"
      ],
      "text/plain": [
       "                             appId                 true label      category  \\\n",
       "0            a2ndappwhats.sdkw.com  surveillance:social-media  surveillance   \n",
       "1  air.au.com.metro.DumbWaysToDie2                  none:misc          none   \n",
       "2      air.com.applauz.timeoutkids     control:use-limitation       control   \n",
       "3              ajx.com.calltracker              callerid:misc      callerid   \n",
       "4         allcall.location.tracker          callerid:location      callerid   \n",
       "\n",
       "                           title  \\\n",
       "0       2nd Account for Whatsapp   \n",
       "1  Dumb Ways to Die 2: The Games   \n",
       "2     Time Out - Behaviour Meter   \n",
       "3                   Call Tracker   \n",
       "4      All Call Location Tracker   \n",
       "\n",
       "                                             summary  \\\n",
       "0  2 Whatsapps on Same Device | Same Whatsapps on...   \n",
       "1  A new set of dumb characters are here to take ...   \n",
       "2  Live Behaviour Meter companion app for &quot;T...   \n",
       "3  Call Tracker helps you identify numbers real-t...   \n",
       "4  All Calls Location Tracker shows the location ...   \n",
       "\n",
       "                                                icon  score    reviews  \\\n",
       "0  //lh3.googleusercontent.com/nCOacYEXACIuhJWb9J...    4.0     6939.0   \n",
       "1  //lh3.googleusercontent.com/-ckfFIgLg_qkKbVVgv...    4.2  1584158.0   \n",
       "2  https://lh3.googleusercontent.com/uRLr8icEKEhV...    4.5        0.0   \n",
       "3  //lh3.googleusercontent.com/RQi_G-l3CadNwi4PNc...    3.9       71.0   \n",
       "4  //lh4.ggpht.com/GJHw8FTW0PqpDnLoHDJvg1MIQHZwjV...    4.0     3406.0   \n",
       "\n",
       "                           developerWebsite          genre  ... contentRating  \\\n",
       "0     http://jh-jewelry.in/sureshkheni.html  Communication  ...          Teen   \n",
       "1                  http://dumbwaystodie.com         Casual  ...          Teen   \n",
       "2      http://www.applauz-media.com/timeout      Parenting  ...      Everyone   \n",
       "3  http://www.optcrm.com/privacypolicy.html          Tools  ...      Everyone   \n",
       "4                                       NaN  Communication  ...      Everyone   \n",
       "\n",
       "                                         screenshots  \\\n",
       "0  [\"//lh3.googleusercontent.com/e32FVC6gtcvUj1B1...   \n",
       "1  [\"//lh3.googleusercontent.com/G_-nQwn58EEoZbof...   \n",
       "2  [\"https://lh3.googleusercontent.com/Fon1L3syRL...   \n",
       "3  [\"//lh3.googleusercontent.com/kIVoX7kgHvKld7LP...   \n",
       "4  [\"//lh3.googleusercontent.com/UZ80Bvz4FwbnfU4I...   \n",
       "\n",
       "                                            comments  \\\n",
       "0  [\"Very good applications but not suppose to al...   \n",
       "1  [\"It's a good game, and there's variety, but t...   \n",
       "2                                                 []   \n",
       "3  [\"Thanks\", \"Chutiya App and which people has c...   \n",
       "4  [\"Very Slow and looks like a spam :-(\", \"Too m...   \n",
       "\n",
       "                                       recentChanges  \\\n",
       "0                                      [\"Bug Fixes\"]   \n",
       "1  [\"AMERICALAND\", \"We\\u2019re celebrating the Fo...   \n",
       "2                                                NaN   \n",
       "3                         [\"Improved search result\"]   \n",
       "4                                                 []   \n",
       "\n",
       "                                                 url  \\\n",
       "0  https://play.google.com/store/apps/details?id=...   \n",
       "1  https://play.google.com/store/apps/details?id=...   \n",
       "2  https://play.google.com/store/apps/details?id=...   \n",
       "3  https://play.google.com/store/apps/details?id=...   \n",
       "4  https://play.google.com/store/apps/details?id=...   \n",
       "\n",
       "                                             similar  \\\n",
       "0  [\"com.lbe.parallel.intl\", \"com.app.tiki.multim...   \n",
       "1  [\"com.popreach.dumbways\", \"com.zynga.looney\", ...   \n",
       "2  [\"com.jeesmon.malayalambible\", \"com.bn.speacki...   \n",
       "3  [\"com.truecaller\", \"com.caller.id.location.gps...   \n",
       "4  [\"com.caller.id.location.gps.maps.phone.number...   \n",
       "\n",
       "                                         permissions   discontinued  \\\n",
       "0  [\"read the contents of your USB storage\", \"mod...  20171111:1135   \n",
       "1  [\"find accounts on the device\", \"read the cont...            NaN   \n",
       "2                            [\"full network access\"]            NaN   \n",
       "3  [\"read your contacts\", \"modify your contacts\",...            NaN   \n",
       "4  [\"read sensitive log data\", \"read your Web boo...  20171214:1228   \n",
       "\n",
       "                            privacyPolicy  \\\n",
       "0                                     NaN   \n",
       "1                                     NaN   \n",
       "2  http://applauz-media.com/privacypolicy   \n",
       "3                                     NaN   \n",
       "4                                     NaN   \n",
       "\n",
       "                                         headerImage  \n",
       "0                                                NaN  \n",
       "1                                                NaN  \n",
       "2  https://lh3.googleusercontent.com/3_G29zRlpVOA...  \n",
       "3                                                NaN  \n",
       "4                                                NaN  \n",
       "\n",
       "[5 rows x 21 columns]"
      ]
     },
     "execution_count": 39,
     "metadata": {},
     "output_type": "execute_result"
    }
   ],
   "source": [
    "data.head()"
   ]
  },
  {
   "cell_type": "code",
   "execution_count": 40,
   "metadata": {},
   "outputs": [],
   "source": [
    "data['discontinued'] = data['discontinued'].notnull().astype('int')\n",
    "data['privacyPolicy'] = data['privacyPolicy'].notnull().astype('int')"
   ]
  },
  {
   "cell_type": "code",
   "execution_count": 41,
   "metadata": {},
   "outputs": [
    {
     "data": {
      "text/plain": [
       "Index(['appId', 'true label', 'category', 'title', 'summary', 'icon', 'score',\n",
       "       'reviews', 'developerWebsite', 'genre', 'description', 'contentRating',\n",
       "       'screenshots', 'comments', 'recentChanges', 'url', 'similar',\n",
       "       'permissions', 'discontinued', 'privacyPolicy', 'headerImage'],\n",
       "      dtype='object')"
      ]
     },
     "execution_count": 41,
     "metadata": {},
     "output_type": "execute_result"
    }
   ],
   "source": [
    "data.columns"
   ]
  },
  {
   "cell_type": "code",
   "execution_count": 42,
   "metadata": {},
   "outputs": [],
   "source": [
    "discontinued = pd.get_dummies(data['discontinued'])\n",
    "privacy = pd.get_dummies(data['privacyPolicy'])"
   ]
  },
  {
   "cell_type": "code",
   "execution_count": 43,
   "metadata": {},
   "outputs": [],
   "source": [
    "privacy.columns = ['not_privacy', 'privacy']\n",
    "discontinued.columns = ['not_discontinued', 'discontinued']"
   ]
  },
  {
   "cell_type": "code",
   "execution_count": 44,
   "metadata": {},
   "outputs": [
    {
     "data": {
      "text/html": [
       "<div>\n",
       "<style scoped>\n",
       "    .dataframe tbody tr th:only-of-type {\n",
       "        vertical-align: middle;\n",
       "    }\n",
       "\n",
       "    .dataframe tbody tr th {\n",
       "        vertical-align: top;\n",
       "    }\n",
       "\n",
       "    .dataframe thead th {\n",
       "        text-align: right;\n",
       "    }\n",
       "</style>\n",
       "<table border=\"1\" class=\"dataframe\">\n",
       "  <thead>\n",
       "    <tr style=\"text-align: right;\">\n",
       "      <th></th>\n",
       "      <th>not_discontinued</th>\n",
       "      <th>discontinued</th>\n",
       "    </tr>\n",
       "  </thead>\n",
       "  <tbody>\n",
       "    <tr>\n",
       "      <td>0</td>\n",
       "      <td>0</td>\n",
       "      <td>1</td>\n",
       "    </tr>\n",
       "    <tr>\n",
       "      <td>1</td>\n",
       "      <td>1</td>\n",
       "      <td>0</td>\n",
       "    </tr>\n",
       "    <tr>\n",
       "      <td>2</td>\n",
       "      <td>1</td>\n",
       "      <td>0</td>\n",
       "    </tr>\n",
       "    <tr>\n",
       "      <td>3</td>\n",
       "      <td>1</td>\n",
       "      <td>0</td>\n",
       "    </tr>\n",
       "    <tr>\n",
       "      <td>4</td>\n",
       "      <td>0</td>\n",
       "      <td>1</td>\n",
       "    </tr>\n",
       "  </tbody>\n",
       "</table>\n",
       "</div>"
      ],
      "text/plain": [
       "   not_discontinued  discontinued\n",
       "0                 0             1\n",
       "1                 1             0\n",
       "2                 1             0\n",
       "3                 1             0\n",
       "4                 0             1"
      ]
     },
     "execution_count": 44,
     "metadata": {},
     "output_type": "execute_result"
    }
   ],
   "source": [
    "discontinued.head()"
   ]
  },
  {
   "cell_type": "code",
   "execution_count": 45,
   "metadata": {},
   "outputs": [],
   "source": [
    "data = data.drop(['discontinued', 'privacyPolicy'], axis  = 1)"
   ]
  },
  {
   "cell_type": "code",
   "execution_count": 46,
   "metadata": {},
   "outputs": [],
   "source": [
    "data = pd.concat([data, privacy, discontinued], axis = 1)"
   ]
  },
  {
   "cell_type": "code",
   "execution_count": 47,
   "metadata": {},
   "outputs": [
    {
     "data": {
      "text/plain": [
       "Index(['appId', 'true label', 'category', 'title', 'summary', 'icon', 'score',\n",
       "       'reviews', 'developerWebsite', 'genre', 'description', 'contentRating',\n",
       "       'screenshots', 'comments', 'recentChanges', 'url', 'similar',\n",
       "       'permissions', 'headerImage', 'not_privacy', 'privacy',\n",
       "       'not_discontinued', 'discontinued'],\n",
       "      dtype='object')"
      ]
     },
     "execution_count": 47,
     "metadata": {},
     "output_type": "execute_result"
    }
   ],
   "source": [
    "data.columns"
   ]
  },
  {
   "cell_type": "code",
   "execution_count": 48,
   "metadata": {},
   "outputs": [],
   "source": [
    "labels = data[['true label', 'category']]"
   ]
  },
  {
   "cell_type": "code",
   "execution_count": 49,
   "metadata": {},
   "outputs": [
    {
     "data": {
      "text/html": [
       "<div>\n",
       "<style scoped>\n",
       "    .dataframe tbody tr th:only-of-type {\n",
       "        vertical-align: middle;\n",
       "    }\n",
       "\n",
       "    .dataframe tbody tr th {\n",
       "        vertical-align: top;\n",
       "    }\n",
       "\n",
       "    .dataframe thead th {\n",
       "        text-align: right;\n",
       "    }\n",
       "</style>\n",
       "<table border=\"1\" class=\"dataframe\">\n",
       "  <thead>\n",
       "    <tr style=\"text-align: right;\">\n",
       "      <th></th>\n",
       "      <th>true label</th>\n",
       "      <th>category</th>\n",
       "    </tr>\n",
       "  </thead>\n",
       "  <tbody>\n",
       "    <tr>\n",
       "      <td>0</td>\n",
       "      <td>surveillance:social-media</td>\n",
       "      <td>surveillance</td>\n",
       "    </tr>\n",
       "    <tr>\n",
       "      <td>1</td>\n",
       "      <td>none:misc</td>\n",
       "      <td>none</td>\n",
       "    </tr>\n",
       "    <tr>\n",
       "      <td>2</td>\n",
       "      <td>control:use-limitation</td>\n",
       "      <td>control</td>\n",
       "    </tr>\n",
       "    <tr>\n",
       "      <td>3</td>\n",
       "      <td>callerid:misc</td>\n",
       "      <td>callerid</td>\n",
       "    </tr>\n",
       "    <tr>\n",
       "      <td>4</td>\n",
       "      <td>callerid:location</td>\n",
       "      <td>callerid</td>\n",
       "    </tr>\n",
       "  </tbody>\n",
       "</table>\n",
       "</div>"
      ],
      "text/plain": [
       "                  true label      category\n",
       "0  surveillance:social-media  surveillance\n",
       "1                  none:misc          none\n",
       "2     control:use-limitation       control\n",
       "3              callerid:misc      callerid\n",
       "4          callerid:location      callerid"
      ]
     },
     "execution_count": 49,
     "metadata": {},
     "output_type": "execute_result"
    }
   ],
   "source": [
    "labels.head()"
   ]
  },
  {
   "cell_type": "code",
   "execution_count": 50,
   "metadata": {},
   "outputs": [],
   "source": [
    "data = data.drop(['true label', 'category'], axis = 1)"
   ]
  },
  {
   "cell_type": "code",
   "execution_count": 51,
   "metadata": {},
   "outputs": [],
   "source": [
    "data = data.fillna(0)"
   ]
  },
  {
   "cell_type": "code",
   "execution_count": 52,
   "metadata": {},
   "outputs": [
    {
     "data": {
      "text/html": [
       "<div>\n",
       "<style scoped>\n",
       "    .dataframe tbody tr th:only-of-type {\n",
       "        vertical-align: middle;\n",
       "    }\n",
       "\n",
       "    .dataframe tbody tr th {\n",
       "        vertical-align: top;\n",
       "    }\n",
       "\n",
       "    .dataframe thead th {\n",
       "        text-align: right;\n",
       "    }\n",
       "</style>\n",
       "<table border=\"1\" class=\"dataframe\">\n",
       "  <thead>\n",
       "    <tr style=\"text-align: right;\">\n",
       "      <th></th>\n",
       "      <th>appId</th>\n",
       "      <th>title</th>\n",
       "      <th>summary</th>\n",
       "      <th>icon</th>\n",
       "      <th>score</th>\n",
       "      <th>reviews</th>\n",
       "      <th>developerWebsite</th>\n",
       "      <th>genre</th>\n",
       "      <th>description</th>\n",
       "      <th>contentRating</th>\n",
       "      <th>...</th>\n",
       "      <th>comments</th>\n",
       "      <th>recentChanges</th>\n",
       "      <th>url</th>\n",
       "      <th>similar</th>\n",
       "      <th>permissions</th>\n",
       "      <th>headerImage</th>\n",
       "      <th>not_privacy</th>\n",
       "      <th>privacy</th>\n",
       "      <th>not_discontinued</th>\n",
       "      <th>discontinued</th>\n",
       "    </tr>\n",
       "  </thead>\n",
       "  <tbody>\n",
       "    <tr>\n",
       "      <td>0</td>\n",
       "      <td>a2ndappwhats.sdkw.com</td>\n",
       "      <td>2nd Account for Whatsapp</td>\n",
       "      <td>2 Whatsapps on Same Device | Same Whatsapps on...</td>\n",
       "      <td>//lh3.googleusercontent.com/nCOacYEXACIuhJWb9J...</td>\n",
       "      <td>4.0</td>\n",
       "      <td>6939.0</td>\n",
       "      <td>http://jh-jewelry.in/sureshkheni.html</td>\n",
       "      <td>Communication</td>\n",
       "      <td>use &amp; Control another WhatsApp with the same d...</td>\n",
       "      <td>Teen</td>\n",
       "      <td>...</td>\n",
       "      <td>[\"Very good applications but not suppose to al...</td>\n",
       "      <td>[\"Bug Fixes\"]</td>\n",
       "      <td>https://play.google.com/store/apps/details?id=...</td>\n",
       "      <td>[\"com.lbe.parallel.intl\", \"com.app.tiki.multim...</td>\n",
       "      <td>[\"read the contents of your USB storage\", \"mod...</td>\n",
       "      <td>0</td>\n",
       "      <td>1</td>\n",
       "      <td>0</td>\n",
       "      <td>0</td>\n",
       "      <td>1</td>\n",
       "    </tr>\n",
       "    <tr>\n",
       "      <td>1</td>\n",
       "      <td>air.au.com.metro.DumbWaysToDie2</td>\n",
       "      <td>Dumb Ways to Die 2: The Games</td>\n",
       "      <td>A new set of dumb characters are here to take ...</td>\n",
       "      <td>//lh3.googleusercontent.com/-ckfFIgLg_qkKbVVgv...</td>\n",
       "      <td>4.2</td>\n",
       "      <td>1584158.0</td>\n",
       "      <td>http://dumbwaystodie.com</td>\n",
       "      <td>Casual</td>\n",
       "      <td>There’s a whole new set of dumb characters tha...</td>\n",
       "      <td>Teen</td>\n",
       "      <td>...</td>\n",
       "      <td>[\"It's a good game, and there's variety, but t...</td>\n",
       "      <td>[\"AMERICALAND\", \"We\\u2019re celebrating the Fo...</td>\n",
       "      <td>https://play.google.com/store/apps/details?id=...</td>\n",
       "      <td>[\"com.popreach.dumbways\", \"com.zynga.looney\", ...</td>\n",
       "      <td>[\"find accounts on the device\", \"read the cont...</td>\n",
       "      <td>0</td>\n",
       "      <td>1</td>\n",
       "      <td>0</td>\n",
       "      <td>1</td>\n",
       "      <td>0</td>\n",
       "    </tr>\n",
       "    <tr>\n",
       "      <td>2</td>\n",
       "      <td>air.com.applauz.timeoutkids</td>\n",
       "      <td>Time Out - Behaviour Meter</td>\n",
       "      <td>Live Behaviour Meter companion app for &amp;quot;T...</td>\n",
       "      <td>https://lh3.googleusercontent.com/uRLr8icEKEhV...</td>\n",
       "      <td>4.5</td>\n",
       "      <td>0.0</td>\n",
       "      <td>http://www.applauz-media.com/timeout</td>\n",
       "      <td>Parenting</td>\n",
       "      <td>You already have our app \"Time Out - Time Out ...</td>\n",
       "      <td>Everyone</td>\n",
       "      <td>...</td>\n",
       "      <td>[]</td>\n",
       "      <td>0</td>\n",
       "      <td>https://play.google.com/store/apps/details?id=...</td>\n",
       "      <td>[\"com.jeesmon.malayalambible\", \"com.bn.speacki...</td>\n",
       "      <td>[\"full network access\"]</td>\n",
       "      <td>https://lh3.googleusercontent.com/3_G29zRlpVOA...</td>\n",
       "      <td>0</td>\n",
       "      <td>1</td>\n",
       "      <td>1</td>\n",
       "      <td>0</td>\n",
       "    </tr>\n",
       "    <tr>\n",
       "      <td>3</td>\n",
       "      <td>ajx.com.calltracker</td>\n",
       "      <td>Call Tracker</td>\n",
       "      <td>Call Tracker helps you identify numbers real-t...</td>\n",
       "      <td>//lh3.googleusercontent.com/RQi_G-l3CadNwi4PNc...</td>\n",
       "      <td>3.9</td>\n",
       "      <td>71.0</td>\n",
       "      <td>http://www.optcrm.com/privacypolicy.html</td>\n",
       "      <td>Tools</td>\n",
       "      <td>Call Tracker caller ID helps you identify numb...</td>\n",
       "      <td>Everyone</td>\n",
       "      <td>...</td>\n",
       "      <td>[\"Thanks\", \"Chutiya App and which people has c...</td>\n",
       "      <td>[\"Improved search result\"]</td>\n",
       "      <td>https://play.google.com/store/apps/details?id=...</td>\n",
       "      <td>[\"com.truecaller\", \"com.caller.id.location.gps...</td>\n",
       "      <td>[\"read your contacts\", \"modify your contacts\",...</td>\n",
       "      <td>0</td>\n",
       "      <td>1</td>\n",
       "      <td>0</td>\n",
       "      <td>1</td>\n",
       "      <td>0</td>\n",
       "    </tr>\n",
       "    <tr>\n",
       "      <td>4</td>\n",
       "      <td>allcall.location.tracker</td>\n",
       "      <td>All Call Location Tracker</td>\n",
       "      <td>All Calls Location Tracker shows the location ...</td>\n",
       "      <td>//lh4.ggpht.com/GJHw8FTW0PqpDnLoHDJvg1MIQHZwjV...</td>\n",
       "      <td>4.0</td>\n",
       "      <td>3406.0</td>\n",
       "      <td>0</td>\n",
       "      <td>Communication</td>\n",
       "      <td>All Calls Location Tracker shows the location ...</td>\n",
       "      <td>Everyone</td>\n",
       "      <td>...</td>\n",
       "      <td>[\"Very Slow and looks like a spam :-(\", \"Too m...</td>\n",
       "      <td>[]</td>\n",
       "      <td>https://play.google.com/store/apps/details?id=...</td>\n",
       "      <td>[\"com.caller.id.location.gps.maps.phone.number...</td>\n",
       "      <td>[\"read sensitive log data\", \"read your Web boo...</td>\n",
       "      <td>0</td>\n",
       "      <td>1</td>\n",
       "      <td>0</td>\n",
       "      <td>0</td>\n",
       "      <td>1</td>\n",
       "    </tr>\n",
       "  </tbody>\n",
       "</table>\n",
       "<p>5 rows × 21 columns</p>\n",
       "</div>"
      ],
      "text/plain": [
       "                             appId                          title  \\\n",
       "0            a2ndappwhats.sdkw.com       2nd Account for Whatsapp   \n",
       "1  air.au.com.metro.DumbWaysToDie2  Dumb Ways to Die 2: The Games   \n",
       "2      air.com.applauz.timeoutkids     Time Out - Behaviour Meter   \n",
       "3              ajx.com.calltracker                   Call Tracker   \n",
       "4         allcall.location.tracker      All Call Location Tracker   \n",
       "\n",
       "                                             summary  \\\n",
       "0  2 Whatsapps on Same Device | Same Whatsapps on...   \n",
       "1  A new set of dumb characters are here to take ...   \n",
       "2  Live Behaviour Meter companion app for &quot;T...   \n",
       "3  Call Tracker helps you identify numbers real-t...   \n",
       "4  All Calls Location Tracker shows the location ...   \n",
       "\n",
       "                                                icon  score    reviews  \\\n",
       "0  //lh3.googleusercontent.com/nCOacYEXACIuhJWb9J...    4.0     6939.0   \n",
       "1  //lh3.googleusercontent.com/-ckfFIgLg_qkKbVVgv...    4.2  1584158.0   \n",
       "2  https://lh3.googleusercontent.com/uRLr8icEKEhV...    4.5        0.0   \n",
       "3  //lh3.googleusercontent.com/RQi_G-l3CadNwi4PNc...    3.9       71.0   \n",
       "4  //lh4.ggpht.com/GJHw8FTW0PqpDnLoHDJvg1MIQHZwjV...    4.0     3406.0   \n",
       "\n",
       "                           developerWebsite          genre  \\\n",
       "0     http://jh-jewelry.in/sureshkheni.html  Communication   \n",
       "1                  http://dumbwaystodie.com         Casual   \n",
       "2      http://www.applauz-media.com/timeout      Parenting   \n",
       "3  http://www.optcrm.com/privacypolicy.html          Tools   \n",
       "4                                         0  Communication   \n",
       "\n",
       "                                         description contentRating  ...  \\\n",
       "0  use & Control another WhatsApp with the same d...          Teen  ...   \n",
       "1  There’s a whole new set of dumb characters tha...          Teen  ...   \n",
       "2  You already have our app \"Time Out - Time Out ...      Everyone  ...   \n",
       "3  Call Tracker caller ID helps you identify numb...      Everyone  ...   \n",
       "4  All Calls Location Tracker shows the location ...      Everyone  ...   \n",
       "\n",
       "                                            comments  \\\n",
       "0  [\"Very good applications but not suppose to al...   \n",
       "1  [\"It's a good game, and there's variety, but t...   \n",
       "2                                                 []   \n",
       "3  [\"Thanks\", \"Chutiya App and which people has c...   \n",
       "4  [\"Very Slow and looks like a spam :-(\", \"Too m...   \n",
       "\n",
       "                                       recentChanges  \\\n",
       "0                                      [\"Bug Fixes\"]   \n",
       "1  [\"AMERICALAND\", \"We\\u2019re celebrating the Fo...   \n",
       "2                                                  0   \n",
       "3                         [\"Improved search result\"]   \n",
       "4                                                 []   \n",
       "\n",
       "                                                 url  \\\n",
       "0  https://play.google.com/store/apps/details?id=...   \n",
       "1  https://play.google.com/store/apps/details?id=...   \n",
       "2  https://play.google.com/store/apps/details?id=...   \n",
       "3  https://play.google.com/store/apps/details?id=...   \n",
       "4  https://play.google.com/store/apps/details?id=...   \n",
       "\n",
       "                                             similar  \\\n",
       "0  [\"com.lbe.parallel.intl\", \"com.app.tiki.multim...   \n",
       "1  [\"com.popreach.dumbways\", \"com.zynga.looney\", ...   \n",
       "2  [\"com.jeesmon.malayalambible\", \"com.bn.speacki...   \n",
       "3  [\"com.truecaller\", \"com.caller.id.location.gps...   \n",
       "4  [\"com.caller.id.location.gps.maps.phone.number...   \n",
       "\n",
       "                                         permissions  \\\n",
       "0  [\"read the contents of your USB storage\", \"mod...   \n",
       "1  [\"find accounts on the device\", \"read the cont...   \n",
       "2                            [\"full network access\"]   \n",
       "3  [\"read your contacts\", \"modify your contacts\",...   \n",
       "4  [\"read sensitive log data\", \"read your Web boo...   \n",
       "\n",
       "                                         headerImage not_privacy  privacy  \\\n",
       "0                                                  0           1        0   \n",
       "1                                                  0           1        0   \n",
       "2  https://lh3.googleusercontent.com/3_G29zRlpVOA...           0        1   \n",
       "3                                                  0           1        0   \n",
       "4                                                  0           1        0   \n",
       "\n",
       "   not_discontinued  discontinued  \n",
       "0                 0             1  \n",
       "1                 1             0  \n",
       "2                 1             0  \n",
       "3                 1             0  \n",
       "4                 0             1  \n",
       "\n",
       "[5 rows x 21 columns]"
      ]
     },
     "execution_count": 52,
     "metadata": {},
     "output_type": "execute_result"
    }
   ],
   "source": [
    "data.head()"
   ]
  },
  {
   "cell_type": "code",
   "execution_count": 53,
   "metadata": {},
   "outputs": [
    {
     "data": {
      "text/plain": [
       "Index(['appId', 'title', 'summary', 'icon', 'score', 'reviews',\n",
       "       'developerWebsite', 'genre', 'description', 'contentRating',\n",
       "       'screenshots', 'comments', 'recentChanges', 'url', 'similar',\n",
       "       'permissions', 'headerImage', 'not_privacy', 'privacy',\n",
       "       'not_discontinued', 'discontinued'],\n",
       "      dtype='object')"
      ]
     },
     "execution_count": 53,
     "metadata": {},
     "output_type": "execute_result"
    }
   ],
   "source": [
    "data.columns"
   ]
  },
  {
   "cell_type": "code",
   "execution_count": 54,
   "metadata": {},
   "outputs": [],
   "source": [
    "text = []\n",
    "for el in data.values:\n",
    "    all_string = el[1] + ' ' + el[2] + ' ' + el[7] + ' ' + el[8]\n",
    "    if type(el[11]) == type('a'):\n",
    "        try:\n",
    "            for comment in json.loads(el[11]):\n",
    "                all_string += ' ' + comment\n",
    "        except:\n",
    "            all_string += ' ' + el[11]\n",
    "    text.append(all_string.encode('utf-8'))"
   ]
  },
  {
   "cell_type": "code",
   "execution_count": 55,
   "metadata": {},
   "outputs": [],
   "source": [
    "data = data.drop(['title', 'summary', 'description', 'contentRating', 'comments', 'recentChanges', 'permissions'], axis = 1)"
   ]
  },
  {
   "cell_type": "code",
   "execution_count": 56,
   "metadata": {},
   "outputs": [],
   "source": [
    "text = pd.DataFrame(text, columns = ['text'])"
   ]
  },
  {
   "cell_type": "code",
   "execution_count": 57,
   "metadata": {},
   "outputs": [],
   "source": [
    "data = pd.concat([data, text], axis = 1)"
   ]
  },
  {
   "cell_type": "code",
   "execution_count": 58,
   "metadata": {},
   "outputs": [],
   "source": [
    "data = data.drop(['icon', 'reviews', 'developerWebsite', 'genre', \n",
    "                  'screenshots', 'url', 'similar', 'headerImage', 'score', \n",
    "                  'not_privacy', 'privacy', 'not_discontinued', 'discontinued'], axis = 1)"
   ]
  },
  {
   "cell_type": "code",
   "execution_count": 59,
   "metadata": {},
   "outputs": [],
   "source": [
    "data = pd.concat([data, labels], axis = 1)"
   ]
  },
  {
   "cell_type": "code",
   "execution_count": 60,
   "metadata": {},
   "outputs": [
    {
     "data": {
      "text/html": [
       "<div>\n",
       "<style scoped>\n",
       "    .dataframe tbody tr th:only-of-type {\n",
       "        vertical-align: middle;\n",
       "    }\n",
       "\n",
       "    .dataframe tbody tr th {\n",
       "        vertical-align: top;\n",
       "    }\n",
       "\n",
       "    .dataframe thead th {\n",
       "        text-align: right;\n",
       "    }\n",
       "</style>\n",
       "<table border=\"1\" class=\"dataframe\">\n",
       "  <thead>\n",
       "    <tr style=\"text-align: right;\">\n",
       "      <th></th>\n",
       "      <th>appId</th>\n",
       "      <th>text</th>\n",
       "      <th>true label</th>\n",
       "      <th>category</th>\n",
       "    </tr>\n",
       "  </thead>\n",
       "  <tbody>\n",
       "    <tr>\n",
       "      <td>0</td>\n",
       "      <td>a2ndappwhats.sdkw.com</td>\n",
       "      <td>b\"2nd Account for Whatsapp 2 Whatsapps on Same...</td>\n",
       "      <td>surveillance:social-media</td>\n",
       "      <td>surveillance</td>\n",
       "    </tr>\n",
       "    <tr>\n",
       "      <td>1</td>\n",
       "      <td>air.au.com.metro.DumbWaysToDie2</td>\n",
       "      <td>b\"Dumb Ways to Die 2: The Games A new set of d...</td>\n",
       "      <td>none:misc</td>\n",
       "      <td>none</td>\n",
       "    </tr>\n",
       "    <tr>\n",
       "      <td>2</td>\n",
       "      <td>air.com.applauz.timeoutkids</td>\n",
       "      <td>b'Time Out - Behaviour Meter Live Behaviour Me...</td>\n",
       "      <td>control:use-limitation</td>\n",
       "      <td>control</td>\n",
       "    </tr>\n",
       "    <tr>\n",
       "      <td>3</td>\n",
       "      <td>ajx.com.calltracker</td>\n",
       "      <td>b\"Call Tracker Call Tracker helps you identify...</td>\n",
       "      <td>callerid:misc</td>\n",
       "      <td>callerid</td>\n",
       "    </tr>\n",
       "    <tr>\n",
       "      <td>4</td>\n",
       "      <td>allcall.location.tracker</td>\n",
       "      <td>b\"All Call Location Tracker All Calls Location...</td>\n",
       "      <td>callerid:location</td>\n",
       "      <td>callerid</td>\n",
       "    </tr>\n",
       "  </tbody>\n",
       "</table>\n",
       "</div>"
      ],
      "text/plain": [
       "                             appId  \\\n",
       "0            a2ndappwhats.sdkw.com   \n",
       "1  air.au.com.metro.DumbWaysToDie2   \n",
       "2      air.com.applauz.timeoutkids   \n",
       "3              ajx.com.calltracker   \n",
       "4         allcall.location.tracker   \n",
       "\n",
       "                                                text  \\\n",
       "0  b\"2nd Account for Whatsapp 2 Whatsapps on Same...   \n",
       "1  b\"Dumb Ways to Die 2: The Games A new set of d...   \n",
       "2  b'Time Out - Behaviour Meter Live Behaviour Me...   \n",
       "3  b\"Call Tracker Call Tracker helps you identify...   \n",
       "4  b\"All Call Location Tracker All Calls Location...   \n",
       "\n",
       "                  true label      category  \n",
       "0  surveillance:social-media  surveillance  \n",
       "1                  none:misc          none  \n",
       "2     control:use-limitation       control  \n",
       "3              callerid:misc      callerid  \n",
       "4          callerid:location      callerid  "
      ]
     },
     "execution_count": 60,
     "metadata": {},
     "output_type": "execute_result"
    }
   ],
   "source": [
    "data.head()"
   ]
  },
  {
   "cell_type": "code",
   "execution_count": 61,
   "metadata": {},
   "outputs": [],
   "source": [
    "data.to_csv('/Users/nissani/Desktop/IPV/concatenated_text.csv')"
   ]
  },
  {
   "cell_type": "code",
   "execution_count": 62,
   "metadata": {},
   "outputs": [],
   "source": [
    "train_data, test_data = train_test_split(data, test_size = .25, \n",
    "                                         random_state = 28, \n",
    "                                         stratify = list(data['category']))"
   ]
  },
  {
   "cell_type": "code",
   "execution_count": 63,
   "metadata": {},
   "outputs": [],
   "source": [
    "train_text = train_data['text']\n",
    "test_text = test_data['text']"
   ]
  },
  {
   "cell_type": "code",
   "execution_count": 64,
   "metadata": {},
   "outputs": [],
   "source": [
    "stopwords = [\"a\", \"about\", \"across\", \"after\", \"afterwards\", \"again\", \"all\", \n",
    "             \"almost\", \"alone\", \"along\", \"already\", \"also\",\"although\",\"always\",\"am\",\"among\", \"amongst\",\n",
    "             \"amoungst\", \"amount\",  \"an\", \"and\", \"another\", \"any\",\"anyhow\",\"anyone\",\"anything\",\"anyway\",\n",
    "             \"anywhere\", \"are\", \"around\", \"as\",  \"at\", \"back\",\"be\",\"became\", \"because\",\"become\",\"becomes\", \n",
    "             \"becoming\", \"been\", \"before\", \"beforehand\", \"behind\", \"being\", \"beside\", \"besides\", \n",
    "             \"between\", \"beyond\", \"bill\", \"both\", \"but\", \"by\", \"call\", \"can\", \"cannot\", \"cant\", \n",
    "             \"co\", \"con\", \"could\", \"couldnt\", \"cry\", \"de\", \"describe\", \"detail\", \"do\", \"done\",\n",
    "             \"due\", \"during\", \"each\", \"eg\", \"eight\", \"either\", \"eleven\",\"else\", \"elsewhere\", \n",
    "             \"enough\", \"etc\", \"even\", \"ever\", \"every\", \"everyone\", \"everything\", \"everywhere\", \"except\", \n",
    "             \"few\", \"fifteen\", \"fify\", \"fill\", \"find\", \"fire\", \"first\", \"five\", \"for\", \"former\", \"formerly\", \n",
    "             \"forty\", \"found\", \"four\", \"from\", \"further\", \"get\", \"give\", \"go\", \"had\", \"has\", \n",
    "             \"hasnt\", \"have\", \"he\", \"hence\", \"her\", \"here\", \"hereafter\", \"hereby\", \"herein\", \"hereupon\", \"hers\", \n",
    "             \"herself\", \"him\", \"himself\", \"his\", \"how\", \"however\", \"hundred\", \"ie\", \"if\", \"in\", \"inc\", \"indeed\", \n",
    "             \"interest\", \"into\", \"is\", \"it\", \"its\", \"itself\", \"keep\", \"last\", \"latter\", \"latterly\", \"least\", \"less\",\n",
    "             \"ltd\", \"made\", \"many\", \"may\", \"me\", \"meanwhile\", \"might\", \"mill\", \"mine\", \"more\", \"moreover\", \"most\", \n",
    "             \"mostly\", \"move\", \"much\", \"must\", \"my\", \"myself\", \"name\", \"namely\", \"neither\", \"never\", \"nevertheless\", \n",
    "             \"next\", \"nine\", \"no\", \"nobody\", \"none\", \"noone\", \"nor\", \"not\", \"nothing\", \"now\", \"nowhere\", \"of\", \"off\", \n",
    "             \"often\", \"on\", \"once\", \"one\", \"only\", \"onto\", \"or\", \"other\", \"others\", \"otherwise\", \"our\", \"ours\", \"ourselves\",\n",
    "             \"out\", \"over\", \"own\",\"part\", \"per\", \"perhaps\", \"please\", \"put\", \"rather\", \"re\", \"same\", \"see\", \"seem\", \"seemed\",\n",
    "             \"seeming\", \"seems\", \"serious\", \"several\", \"she\", \"should\", \"show\", \"side\", \"since\", \"sincere\", \"six\", \"sixty\", \n",
    "             \"so\", \"some\", \"somehow\", \"someone\", \"something\", \"sometime\", \"sometimes\", \"somewhere\", \"still\", \"such\", \"system\",\n",
    "             \"take\", \"ten\", \"than\", \"that\", \"the\", \"their\", \"them\", \"themselves\", \"then\", \"thence\", \"there\", \"thereafter\", \n",
    "             \"thereby\", \"therefore\", \"therein\", \"thereupon\", \"these\", \"they\", \"thick\", \"thin\", \"third\", \"this\", \"those\",\n",
    "             \"though\", \"three\", \"through\", \"throughout\", \"thru\", \"thus\", \"to\", \"together\", \"too\", \"toward\", \"towards\",\n",
    "             \"twelve\", \"twenty\", \"two\", \"un\", \"until\", \"upon\", \"us\", \"very\", \"via\", \"was\", \"we\", \"well\", \n",
    "             \"were\", \"what\", \"whatever\", \"when\", \"whence\", \"whenever\", \"where\", \"whereafter\", \"whereas\", \"whereby\", \"wherein\",\n",
    "             \"whereupon\", \"wherever\", \"whether\", \"which\", \"while\", \"whither\", \"who\", \"whoever\", \"whole\", \"whom\", \"whose\", \n",
    "             \"why\", \"will\", \"with\", \"within\", \"without\", \"would\", \"yet\", \"you\", \"your\", \"yours\", \"yourself\", \"yourselves\", \n",
    "             \"the\"]\n",
    "\n"
   ]
  },
  {
   "cell_type": "code",
   "execution_count": 31,
   "metadata": {},
   "outputs": [],
   "source": [
    "tfidf = tfidf(stop_words = stopwords, min_df = 5)"
   ]
  },
  {
   "cell_type": "code",
   "execution_count": 32,
   "metadata": {},
   "outputs": [],
   "source": [
    "vocabulary = tfidf.fit(train_text.values)"
   ]
  },
  {
   "cell_type": "code",
   "execution_count": 33,
   "metadata": {},
   "outputs": [],
   "source": [
    "train_text_matrix = vocabulary.transform(train_text.values)"
   ]
  },
  {
   "cell_type": "code",
   "execution_count": 34,
   "metadata": {},
   "outputs": [],
   "source": [
    "train_text_matrix = train_text_matrix.toarray()"
   ]
  },
  {
   "cell_type": "code",
   "execution_count": 35,
   "metadata": {},
   "outputs": [
    {
     "data": {
      "text/plain": [
       "array([0., 0., 0., ..., 0., 0., 0.])"
      ]
     },
     "execution_count": 35,
     "metadata": {},
     "output_type": "execute_result"
    }
   ],
   "source": [
    "train_text_matrix[0]"
   ]
  },
  {
   "cell_type": "code",
   "execution_count": 36,
   "metadata": {},
   "outputs": [
    {
     "data": {
      "text/plain": [
       "SelectKBest(k=500, score_func=<function chi2 at 0x11995c950>)"
      ]
     },
     "execution_count": 36,
     "metadata": {},
     "output_type": "execute_result"
    }
   ],
   "source": [
    "selectK = SelectKBest(chi2, k = 500)\n",
    "selectK.fit(train_text_matrix, train_data['category'])"
   ]
  },
  {
   "cell_type": "code",
   "execution_count": 37,
   "metadata": {},
   "outputs": [
    {
     "data": {
      "text/plain": [
       "array(['2018', '246', '3d', 'abroad', 'accidentally', 'action', 'address',\n",
       "       'adventure', 'against', 'alarm', 'anonymous', 'anti', 'antivirus',\n",
       "       'application', 'applications', 'applock', 'apps', 'area',\n",
       "       'artists', 'attack', 'attacks', 'attempts', 'aur', 'author',\n",
       "       'automatic', 'awkward', 'backup', 'bass', 'battle', 'begin',\n",
       "       'beginners', 'bike', 'bikes', 'bills', 'blacklist', 'blocker',\n",
       "       'bomb', 'bookmarks', 'books', 'boost', 'break', 'brightness',\n",
       "       'brought', 'bug', 'calculator', 'caller', 'callers', 'calling',\n",
       "       'calls', 'camera', 'cameras', 'canada', 'captured', 'cards',\n",
       "       'cars', 'casual', 'catch', 'categories', 'cdma', 'cell',\n",
       "       'challenge', 'challenges', 'changer', 'cheap', 'cheat', 'cheaters',\n",
       "       'cheating', 'checker', 'checks', 'child', 'children', 'chosen',\n",
       "       'cities', 'city', 'clash', 'code', 'codes', 'coding', 'color',\n",
       "       'companion', 'consumed', 'contents', 'conversation',\n",
       "       'conversations', 'countries', 'country', 'cpu', 'crack',\n",
       "       'craigslist', 'create', 'creates', 'credit', 'credits', 'criminal',\n",
       "       'current', 'customization', 'customize', 'cut', 'data',\n",
       "       'databases', 'dating', 'debug', 'deep', 'definitions', 'deleted',\n",
       "       'details', 'detect', 'detecting', 'detection', 'detector',\n",
       "       'device', 'dial', 'dialer', 'dialing', 'dialog', 'disappears',\n",
       "       'disclaimer', 'diy', 'dns', 'docs', 'dosent', 'drawer', 'droid',\n",
       "       'earn', 'edit', 'editing', 'editor', 'education', 'effectively',\n",
       "       'effects', 'el', 'email', 'emoji', 'encrypt', 'enemies', 'enemy',\n",
       "       'entertainment', 'es', 'ethical', 'excuse', 'experience',\n",
       "       'explained', 'explains', 'express', 'facts', 'fake', 'faker',\n",
       "       'family', 'favorite', 'favorites', 'fb', 'feeling', 'female',\n",
       "       'file', 'files', 'filters', 'finder', 'fingerprint', 'fingers',\n",
       "       'firewall', 'floating', 'fool', 'forward', 'forwarding', 'free',\n",
       "       'friends', 'fun', 'funny', 'gallery', 'game', 'gameplay', 'games',\n",
       "       'generated', 'geographic', 'gif', 'gift', 'gps', 'graphics', 'gsm',\n",
       "       'gt', 'guard', 'guide', 'hack', 'hacked', 'hacker', 'hackers',\n",
       "       'hacking', 'hacks', 'hai', 'hair', 'handle', 'harm', 'heart',\n",
       "       'helps', 'hidden', 'hide', 'hider', 'history', 'icon', 'icons',\n",
       "       'id', 'identify', 'illusion', 'imei', 'impress', 'impression',\n",
       "       'inbuilt', 'incoming', 'india', 'info', 'information', 'infrared',\n",
       "       'injection', 'input', 'interaction', 'internal', 'international',\n",
       "       'introduction', 'intruder', 'intruders', 'ip', 'isd', 'jio',\n",
       "       'joke', 'kali', 'keyboard', 'keys', 'ki', 'kids', 'knowledge',\n",
       "       'la', 'landline', 'laugh', 'launch', 'launcher', 'learn',\n",
       "       'learned', 'learning', 'levels', 'linux', 'live', 'locate',\n",
       "       'location', 'locations', 'locator', 'lock', 'locked', 'locker',\n",
       "       'locking', 'logs', 'lookup', 'lost', 'love', 'lover', 'lying',\n",
       "       'magnetic', 'make', 'male', 'malicious', 'malware', 'managing',\n",
       "       'manual', 'map', 'maps', 'master', 'matches', 'media', 'members',\n",
       "       'men', 'message', 'messages', 'messaging', 'meter', 'microphone',\n",
       "       'miles', 'mobile', 'money', 'monitor', 'monitoring', 'mouse',\n",
       "       'movies', 'msg', 'multiplayer', 'music', 'nahi', 'new', 'news',\n",
       "       'number', 'numbers', 'offline', 'operator', 'operators', 'oreo',\n",
       "       'outfit7', 'outgoing', 'overview', 'packs', 'pakistan',\n",
       "       'parenting', 'parents', 'password', 'passwords', 'pattern', 'pc',\n",
       "       'penetration', 'perform', 'permission', 'personalized', 'phone',\n",
       "       'photo', 'photography', 'pictures', 'pin', 'placed', 'plans',\n",
       "       'play', 'player', 'players', 'playing', 'prank', 'pranked',\n",
       "       'pretend', 'prevent', 'prior', 'privacy', 'private', 'privo',\n",
       "       'profile', 'profiles', 'programming', 'projects', 'protect',\n",
       "       'protection', 'provider', 'prying', 'public', 'quot', 'race',\n",
       "       'racing', 'radiation', 'ram', 'randomly', 'rates', 'readings',\n",
       "       'realistic', 'receive', 'recipient', 'record', 'recorded',\n",
       "       'recorder', 'recording', 'records', 'recover', 'recovered',\n",
       "       'recovery', 'reference', 'related', 'relationship', 'relax',\n",
       "       'remaining', 'remote', 'remotely', 'restore', 'restoring',\n",
       "       'restrictions', 'reverse', 'romantic', 'root', 'rooted', 'rooting',\n",
       "       'safety', 'samsung', 'scams', 'scanner', 'scary', 'schedule',\n",
       "       'search', 'searched', 'searches', 'secret', 'secrets', 'section',\n",
       "       'secure', 'security', 'send', 'sensor', 'sensors', 'sent',\n",
       "       'serial', 'shooting', 'shortcut', 'signs', 'simulate', 'simulates',\n",
       "       'simulation', 'simulator', 'skills', 'smart', 'sms', 'sniffing',\n",
       "       'snoopers', 'song', 'songs', 'spoof', 'spoofing', 'spouse', 'spy',\n",
       "       'spying', 'spyware', 'sql', 'state', 'status', 'std', 'step',\n",
       "       'stickers', 'stolen', 'style', 'subscriber', 'suspected',\n",
       "       'talking', 'talks', 'target', 'teach', 'tech', 'techniques',\n",
       "       'technology', 'telecom', 'telemarketers', 'temporary', 'testing',\n",
       "       'text', 'texting', 'texts', 'theft', 'theme', 'themes', 'threats',\n",
       "       'tips', 'tom', 'trace', 'track', 'tracker', 'tracking', 'transfer',\n",
       "       'trick', 'tricks', 'tries', 'trojans', 'true', 'tuned', 'tutorial',\n",
       "       'tutorials', 'tv', 'twitter', 'txt', 'types', 'undelete', 'unhide',\n",
       "       'uninstall', 'united', 'unknown', 'unlock', 'unlocked',\n",
       "       'unlocking', 'untill', 'updates', 'usa', 'utilize', 'vacation',\n",
       "       'various', 'vault', 'vcf', 'victim', 'video', 'videos', 'virus',\n",
       "       'viruses', 'visited', 'vodafone', 'voice', 'voicemail', 'voip',\n",
       "       'vpn', 'vulnerabilities', 'wait', 'wake', 'wallpaper',\n",
       "       'wallpapers', 'wastage', 'waste', 'ways', 'weapons', 'web', 'west',\n",
       "       'whatsapp', 'whitepages', 'win', 'woman', 'wpa', 'zip'],\n",
       "      dtype='<U15')"
      ]
     },
     "execution_count": 37,
     "metadata": {},
     "output_type": "execute_result"
    }
   ],
   "source": [
    "np.array(vocabulary.get_feature_names())[selectK.get_support(indices = True)]"
   ]
  },
  {
   "cell_type": "code",
   "execution_count": 38,
   "metadata": {},
   "outputs": [],
   "source": [
    "bestK_train = selectK.transform(train_text_matrix)"
   ]
  },
  {
   "cell_type": "code",
   "execution_count": 39,
   "metadata": {},
   "outputs": [],
   "source": [
    "test_text_matrix = vocabulary.transform(test_text.values)"
   ]
  },
  {
   "cell_type": "code",
   "execution_count": 40,
   "metadata": {},
   "outputs": [],
   "source": [
    "test_text_matrix = test_text_matrix.toarray()\n",
    "bestK_test = selectK.transform(test_text_matrix)"
   ]
  },
  {
   "cell_type": "code",
   "execution_count": 41,
   "metadata": {},
   "outputs": [],
   "source": [
    "tfidf_test = pd.DataFrame(bestK_test)\n",
    "tfidf_train = pd.DataFrame(bestK_train)"
   ]
  },
  {
   "cell_type": "code",
   "execution_count": 42,
   "metadata": {},
   "outputs": [],
   "source": [
    "train_data = train_data.reset_index()\n",
    "test_data = test_data.reset_index()"
   ]
  },
  {
   "cell_type": "code",
   "execution_count": 43,
   "metadata": {},
   "outputs": [],
   "source": [
    "train_data = pd.concat([train_data, tfidf_train], axis = 1)\n",
    "test_data = pd.concat([test_data, tfidf_test], axis = 1)"
   ]
  },
  {
   "cell_type": "code",
   "execution_count": 44,
   "metadata": {},
   "outputs": [
    {
     "data": {
      "text/html": [
       "<div>\n",
       "<style scoped>\n",
       "    .dataframe tbody tr th:only-of-type {\n",
       "        vertical-align: middle;\n",
       "    }\n",
       "\n",
       "    .dataframe tbody tr th {\n",
       "        vertical-align: top;\n",
       "    }\n",
       "\n",
       "    .dataframe thead th {\n",
       "        text-align: right;\n",
       "    }\n",
       "</style>\n",
       "<table border=\"1\" class=\"dataframe\">\n",
       "  <thead>\n",
       "    <tr style=\"text-align: right;\">\n",
       "      <th></th>\n",
       "      <th>index</th>\n",
       "      <th>appId</th>\n",
       "      <th>text</th>\n",
       "      <th>true label</th>\n",
       "      <th>category</th>\n",
       "      <th>0</th>\n",
       "      <th>1</th>\n",
       "      <th>2</th>\n",
       "      <th>3</th>\n",
       "      <th>4</th>\n",
       "      <th>...</th>\n",
       "      <th>490</th>\n",
       "      <th>491</th>\n",
       "      <th>492</th>\n",
       "      <th>493</th>\n",
       "      <th>494</th>\n",
       "      <th>495</th>\n",
       "      <th>496</th>\n",
       "      <th>497</th>\n",
       "      <th>498</th>\n",
       "      <th>499</th>\n",
       "    </tr>\n",
       "  </thead>\n",
       "  <tbody>\n",
       "    <tr>\n",
       "      <td>0</td>\n",
       "      <td>292</td>\n",
       "      <td>com.fmee.fmeeserv</td>\n",
       "      <td>b'GPS Tracker By FollowMee Locate and Track Yo...</td>\n",
       "      <td>surveillance:location</td>\n",
       "      <td>surveillance</td>\n",
       "      <td>0.0</td>\n",
       "      <td>0.0</td>\n",
       "      <td>0.0</td>\n",
       "      <td>0.0</td>\n",
       "      <td>0.0</td>\n",
       "      <td>...</td>\n",
       "      <td>0.0</td>\n",
       "      <td>0.0</td>\n",
       "      <td>0.193906</td>\n",
       "      <td>0.0</td>\n",
       "      <td>0.0</td>\n",
       "      <td>0.0</td>\n",
       "      <td>0.0</td>\n",
       "      <td>0.0</td>\n",
       "      <td>0.0</td>\n",
       "      <td>0.0</td>\n",
       "    </tr>\n",
       "    <tr>\n",
       "      <td>1</td>\n",
       "      <td>688</td>\n",
       "      <td>com.skibapps.messagespyremover</td>\n",
       "      <td>b'Message Spy Remover (Anti Spy) Detect, Ident...</td>\n",
       "      <td>defense:anti-surveillance</td>\n",
       "      <td>defense</td>\n",
       "      <td>0.0</td>\n",
       "      <td>0.0</td>\n",
       "      <td>0.0</td>\n",
       "      <td>0.0</td>\n",
       "      <td>0.0</td>\n",
       "      <td>...</td>\n",
       "      <td>0.0</td>\n",
       "      <td>0.0</td>\n",
       "      <td>0.000000</td>\n",
       "      <td>0.0</td>\n",
       "      <td>0.0</td>\n",
       "      <td>0.0</td>\n",
       "      <td>0.0</td>\n",
       "      <td>0.0</td>\n",
       "      <td>0.0</td>\n",
       "      <td>0.0</td>\n",
       "    </tr>\n",
       "    <tr>\n",
       "      <td>2</td>\n",
       "      <td>12</td>\n",
       "      <td>appinventor.ai_oscar_rdzmty7.UnlockPhonePlus_copy</td>\n",
       "      <td>b\"Unlock Phone ( Unlock Codes ) Unlock your ce...</td>\n",
       "      <td>tutorial:settings</td>\n",
       "      <td>tutorial</td>\n",
       "      <td>0.0</td>\n",
       "      <td>0.0</td>\n",
       "      <td>0.0</td>\n",
       "      <td>0.0</td>\n",
       "      <td>0.0</td>\n",
       "      <td>...</td>\n",
       "      <td>0.0</td>\n",
       "      <td>0.0</td>\n",
       "      <td>0.000000</td>\n",
       "      <td>0.0</td>\n",
       "      <td>0.0</td>\n",
       "      <td>0.0</td>\n",
       "      <td>0.0</td>\n",
       "      <td>0.0</td>\n",
       "      <td>0.0</td>\n",
       "      <td>0.0</td>\n",
       "    </tr>\n",
       "    <tr>\n",
       "      <td>3</td>\n",
       "      <td>236</td>\n",
       "      <td>com.djit.equalizerplusforandroidfree</td>\n",
       "      <td>b\"Equalizer music player booster The best musi...</td>\n",
       "      <td>none:misc</td>\n",
       "      <td>none</td>\n",
       "      <td>0.0</td>\n",
       "      <td>0.0</td>\n",
       "      <td>0.0</td>\n",
       "      <td>0.0</td>\n",
       "      <td>0.0</td>\n",
       "      <td>...</td>\n",
       "      <td>0.0</td>\n",
       "      <td>0.0</td>\n",
       "      <td>0.000000</td>\n",
       "      <td>0.0</td>\n",
       "      <td>0.0</td>\n",
       "      <td>0.0</td>\n",
       "      <td>0.0</td>\n",
       "      <td>0.0</td>\n",
       "      <td>0.0</td>\n",
       "      <td>0.0</td>\n",
       "    </tr>\n",
       "    <tr>\n",
       "      <td>4</td>\n",
       "      <td>290</td>\n",
       "      <td>com.flexsolution.fakecallsms</td>\n",
       "      <td>b'Fake Call &amp; SMS Make prank call or SMS and t...</td>\n",
       "      <td>spoof:burner-phone</td>\n",
       "      <td>spoof</td>\n",
       "      <td>0.0</td>\n",
       "      <td>0.0</td>\n",
       "      <td>0.0</td>\n",
       "      <td>0.0</td>\n",
       "      <td>0.0</td>\n",
       "      <td>...</td>\n",
       "      <td>0.0</td>\n",
       "      <td>0.0</td>\n",
       "      <td>0.000000</td>\n",
       "      <td>0.0</td>\n",
       "      <td>0.0</td>\n",
       "      <td>0.0</td>\n",
       "      <td>0.0</td>\n",
       "      <td>0.0</td>\n",
       "      <td>0.0</td>\n",
       "      <td>0.0</td>\n",
       "    </tr>\n",
       "  </tbody>\n",
       "</table>\n",
       "<p>5 rows × 505 columns</p>\n",
       "</div>"
      ],
      "text/plain": [
       "   index                                              appId  \\\n",
       "0    292                                  com.fmee.fmeeserv   \n",
       "1    688                     com.skibapps.messagespyremover   \n",
       "2     12  appinventor.ai_oscar_rdzmty7.UnlockPhonePlus_copy   \n",
       "3    236               com.djit.equalizerplusforandroidfree   \n",
       "4    290                       com.flexsolution.fakecallsms   \n",
       "\n",
       "                                                text  \\\n",
       "0  b'GPS Tracker By FollowMee Locate and Track Yo...   \n",
       "1  b'Message Spy Remover (Anti Spy) Detect, Ident...   \n",
       "2  b\"Unlock Phone ( Unlock Codes ) Unlock your ce...   \n",
       "3  b\"Equalizer music player booster The best musi...   \n",
       "4  b'Fake Call & SMS Make prank call or SMS and t...   \n",
       "\n",
       "                  true label      category    0    1    2    3    4  ...  490  \\\n",
       "0      surveillance:location  surveillance  0.0  0.0  0.0  0.0  0.0  ...  0.0   \n",
       "1  defense:anti-surveillance       defense  0.0  0.0  0.0  0.0  0.0  ...  0.0   \n",
       "2          tutorial:settings      tutorial  0.0  0.0  0.0  0.0  0.0  ...  0.0   \n",
       "3                  none:misc          none  0.0  0.0  0.0  0.0  0.0  ...  0.0   \n",
       "4         spoof:burner-phone         spoof  0.0  0.0  0.0  0.0  0.0  ...  0.0   \n",
       "\n",
       "   491       492  493  494  495  496  497  498  499  \n",
       "0  0.0  0.193906  0.0  0.0  0.0  0.0  0.0  0.0  0.0  \n",
       "1  0.0  0.000000  0.0  0.0  0.0  0.0  0.0  0.0  0.0  \n",
       "2  0.0  0.000000  0.0  0.0  0.0  0.0  0.0  0.0  0.0  \n",
       "3  0.0  0.000000  0.0  0.0  0.0  0.0  0.0  0.0  0.0  \n",
       "4  0.0  0.000000  0.0  0.0  0.0  0.0  0.0  0.0  0.0  \n",
       "\n",
       "[5 rows x 505 columns]"
      ]
     },
     "execution_count": 44,
     "metadata": {},
     "output_type": "execute_result"
    }
   ],
   "source": [
    "train_data.head()"
   ]
  },
  {
   "cell_type": "code",
   "execution_count": 45,
   "metadata": {},
   "outputs": [],
   "source": [
    "train_labels = train_data['category'].values\n",
    "test_labels = test_data['category'].values\n",
    "train_data = train_data.drop(['text', 'true label', 'category', 'index'], axis = 1)\n",
    "test_data = test_data.drop(['text', 'true label', 'category', 'index'], axis = 1)"
   ]
  },
  {
   "cell_type": "code",
   "execution_count": 46,
   "metadata": {},
   "outputs": [
    {
     "data": {
      "text/html": [
       "<div>\n",
       "<style scoped>\n",
       "    .dataframe tbody tr th:only-of-type {\n",
       "        vertical-align: middle;\n",
       "    }\n",
       "\n",
       "    .dataframe tbody tr th {\n",
       "        vertical-align: top;\n",
       "    }\n",
       "\n",
       "    .dataframe thead th {\n",
       "        text-align: right;\n",
       "    }\n",
       "</style>\n",
       "<table border=\"1\" class=\"dataframe\">\n",
       "  <thead>\n",
       "    <tr style=\"text-align: right;\">\n",
       "      <th></th>\n",
       "      <th>appId</th>\n",
       "      <th>0</th>\n",
       "      <th>1</th>\n",
       "      <th>2</th>\n",
       "      <th>3</th>\n",
       "      <th>4</th>\n",
       "      <th>5</th>\n",
       "      <th>6</th>\n",
       "      <th>7</th>\n",
       "      <th>8</th>\n",
       "      <th>...</th>\n",
       "      <th>490</th>\n",
       "      <th>491</th>\n",
       "      <th>492</th>\n",
       "      <th>493</th>\n",
       "      <th>494</th>\n",
       "      <th>495</th>\n",
       "      <th>496</th>\n",
       "      <th>497</th>\n",
       "      <th>498</th>\n",
       "      <th>499</th>\n",
       "    </tr>\n",
       "  </thead>\n",
       "  <tbody>\n",
       "    <tr>\n",
       "      <td>0</td>\n",
       "      <td>com.fmee.fmeeserv</td>\n",
       "      <td>0.0</td>\n",
       "      <td>0.0</td>\n",
       "      <td>0.0</td>\n",
       "      <td>0.0</td>\n",
       "      <td>0.0</td>\n",
       "      <td>0.0</td>\n",
       "      <td>0.000000</td>\n",
       "      <td>0.0</td>\n",
       "      <td>0.0</td>\n",
       "      <td>...</td>\n",
       "      <td>0.0</td>\n",
       "      <td>0.0</td>\n",
       "      <td>0.193906</td>\n",
       "      <td>0.0</td>\n",
       "      <td>0.0</td>\n",
       "      <td>0.0</td>\n",
       "      <td>0.0</td>\n",
       "      <td>0.0</td>\n",
       "      <td>0.0</td>\n",
       "      <td>0.0</td>\n",
       "    </tr>\n",
       "    <tr>\n",
       "      <td>1</td>\n",
       "      <td>com.skibapps.messagespyremover</td>\n",
       "      <td>0.0</td>\n",
       "      <td>0.0</td>\n",
       "      <td>0.0</td>\n",
       "      <td>0.0</td>\n",
       "      <td>0.0</td>\n",
       "      <td>0.0</td>\n",
       "      <td>0.031829</td>\n",
       "      <td>0.0</td>\n",
       "      <td>0.0</td>\n",
       "      <td>...</td>\n",
       "      <td>0.0</td>\n",
       "      <td>0.0</td>\n",
       "      <td>0.000000</td>\n",
       "      <td>0.0</td>\n",
       "      <td>0.0</td>\n",
       "      <td>0.0</td>\n",
       "      <td>0.0</td>\n",
       "      <td>0.0</td>\n",
       "      <td>0.0</td>\n",
       "      <td>0.0</td>\n",
       "    </tr>\n",
       "    <tr>\n",
       "      <td>2</td>\n",
       "      <td>appinventor.ai_oscar_rdzmty7.UnlockPhonePlus_copy</td>\n",
       "      <td>0.0</td>\n",
       "      <td>0.0</td>\n",
       "      <td>0.0</td>\n",
       "      <td>0.0</td>\n",
       "      <td>0.0</td>\n",
       "      <td>0.0</td>\n",
       "      <td>0.036107</td>\n",
       "      <td>0.0</td>\n",
       "      <td>0.0</td>\n",
       "      <td>...</td>\n",
       "      <td>0.0</td>\n",
       "      <td>0.0</td>\n",
       "      <td>0.000000</td>\n",
       "      <td>0.0</td>\n",
       "      <td>0.0</td>\n",
       "      <td>0.0</td>\n",
       "      <td>0.0</td>\n",
       "      <td>0.0</td>\n",
       "      <td>0.0</td>\n",
       "      <td>0.0</td>\n",
       "    </tr>\n",
       "    <tr>\n",
       "      <td>3</td>\n",
       "      <td>com.djit.equalizerplusforandroidfree</td>\n",
       "      <td>0.0</td>\n",
       "      <td>0.0</td>\n",
       "      <td>0.0</td>\n",
       "      <td>0.0</td>\n",
       "      <td>0.0</td>\n",
       "      <td>0.0</td>\n",
       "      <td>0.000000</td>\n",
       "      <td>0.0</td>\n",
       "      <td>0.0</td>\n",
       "      <td>...</td>\n",
       "      <td>0.0</td>\n",
       "      <td>0.0</td>\n",
       "      <td>0.000000</td>\n",
       "      <td>0.0</td>\n",
       "      <td>0.0</td>\n",
       "      <td>0.0</td>\n",
       "      <td>0.0</td>\n",
       "      <td>0.0</td>\n",
       "      <td>0.0</td>\n",
       "      <td>0.0</td>\n",
       "    </tr>\n",
       "    <tr>\n",
       "      <td>4</td>\n",
       "      <td>com.flexsolution.fakecallsms</td>\n",
       "      <td>0.0</td>\n",
       "      <td>0.0</td>\n",
       "      <td>0.0</td>\n",
       "      <td>0.0</td>\n",
       "      <td>0.0</td>\n",
       "      <td>0.0</td>\n",
       "      <td>0.000000</td>\n",
       "      <td>0.0</td>\n",
       "      <td>0.0</td>\n",
       "      <td>...</td>\n",
       "      <td>0.0</td>\n",
       "      <td>0.0</td>\n",
       "      <td>0.000000</td>\n",
       "      <td>0.0</td>\n",
       "      <td>0.0</td>\n",
       "      <td>0.0</td>\n",
       "      <td>0.0</td>\n",
       "      <td>0.0</td>\n",
       "      <td>0.0</td>\n",
       "      <td>0.0</td>\n",
       "    </tr>\n",
       "  </tbody>\n",
       "</table>\n",
       "<p>5 rows × 501 columns</p>\n",
       "</div>"
      ],
      "text/plain": [
       "                                               appId    0    1    2    3    4  \\\n",
       "0                                  com.fmee.fmeeserv  0.0  0.0  0.0  0.0  0.0   \n",
       "1                     com.skibapps.messagespyremover  0.0  0.0  0.0  0.0  0.0   \n",
       "2  appinventor.ai_oscar_rdzmty7.UnlockPhonePlus_copy  0.0  0.0  0.0  0.0  0.0   \n",
       "3               com.djit.equalizerplusforandroidfree  0.0  0.0  0.0  0.0  0.0   \n",
       "4                       com.flexsolution.fakecallsms  0.0  0.0  0.0  0.0  0.0   \n",
       "\n",
       "     5         6    7    8  ...  490  491       492  493  494  495  496  497  \\\n",
       "0  0.0  0.000000  0.0  0.0  ...  0.0  0.0  0.193906  0.0  0.0  0.0  0.0  0.0   \n",
       "1  0.0  0.031829  0.0  0.0  ...  0.0  0.0  0.000000  0.0  0.0  0.0  0.0  0.0   \n",
       "2  0.0  0.036107  0.0  0.0  ...  0.0  0.0  0.000000  0.0  0.0  0.0  0.0  0.0   \n",
       "3  0.0  0.000000  0.0  0.0  ...  0.0  0.0  0.000000  0.0  0.0  0.0  0.0  0.0   \n",
       "4  0.0  0.000000  0.0  0.0  ...  0.0  0.0  0.000000  0.0  0.0  0.0  0.0  0.0   \n",
       "\n",
       "   498  499  \n",
       "0  0.0  0.0  \n",
       "1  0.0  0.0  \n",
       "2  0.0  0.0  \n",
       "3  0.0  0.0  \n",
       "4  0.0  0.0  \n",
       "\n",
       "[5 rows x 501 columns]"
      ]
     },
     "execution_count": 46,
     "metadata": {},
     "output_type": "execute_result"
    }
   ],
   "source": [
    "train_data.head()"
   ]
  },
  {
   "cell_type": "code",
   "execution_count": 47,
   "metadata": {},
   "outputs": [],
   "source": [
    "train_data = train_data.drop(['appId'], axis = 1).values\n",
    "test_data = test_data.drop(['appId'], axis = 1).values"
   ]
  },
  {
   "cell_type": "code",
   "execution_count": 48,
   "metadata": {},
   "outputs": [
    {
     "name": "stderr",
     "output_type": "stream",
     "text": [
      "/usr/local/lib/python3.7/site-packages/sklearn/linear_model/logistic.py:432: FutureWarning: Default solver will be changed to 'lbfgs' in 0.22. Specify a solver to silence this warning.\n",
      "  FutureWarning)\n",
      "/usr/local/lib/python3.7/site-packages/sklearn/linear_model/logistic.py:469: FutureWarning: Default multi_class will be changed to 'auto' in 0.22. Specify the multi_class option to silence this warning.\n",
      "  \"this warning.\", FutureWarning)\n"
     ]
    },
    {
     "data": {
      "text/plain": [
       "LogisticRegression(C=1.0, class_weight=None, dual=False, fit_intercept=True,\n",
       "                   intercept_scaling=1, l1_ratio=None, max_iter=100,\n",
       "                   multi_class='warn', n_jobs=None, penalty='l2',\n",
       "                   random_state=None, solver='warn', tol=0.0001, verbose=0,\n",
       "                   warm_start=False)"
      ]
     },
     "execution_count": 48,
     "metadata": {},
     "output_type": "execute_result"
    }
   ],
   "source": [
    "lr = LogisticRegression()\n",
    "lr.fit(train_data, train_labels)"
   ]
  },
  {
   "cell_type": "code",
   "execution_count": 49,
   "metadata": {},
   "outputs": [
    {
     "data": {
      "text/plain": [
       "0.717948717948718"
      ]
     },
     "execution_count": 49,
     "metadata": {},
     "output_type": "execute_result"
    }
   ],
   "source": [
    "lr.score(test_data, test_labels)"
   ]
  },
  {
   "cell_type": "code",
   "execution_count": 50,
   "metadata": {},
   "outputs": [
    {
     "data": {
      "text/plain": [
       "0.7652811735941321"
      ]
     },
     "execution_count": 50,
     "metadata": {},
     "output_type": "execute_result"
    }
   ],
   "source": [
    "lr.score(train_data, train_labels)"
   ]
  },
  {
   "cell_type": "code",
   "execution_count": 51,
   "metadata": {},
   "outputs": [],
   "source": [
    "predictions = lr.predict(test_data)"
   ]
  },
  {
   "cell_type": "code",
   "execution_count": 52,
   "metadata": {},
   "outputs": [
    {
     "name": "stderr",
     "output_type": "stream",
     "text": [
      "/usr/local/lib/python3.7/site-packages/sklearn/metrics/classification.py:1437: UndefinedMetricWarning: Precision is ill-defined and being set to 0.0 in labels with no predicted samples.\n",
      "  'precision', 'predicted', average, warn_for)\n"
     ]
    },
    {
     "data": {
      "text/plain": [
       "0.6888515519568151"
      ]
     },
     "execution_count": 52,
     "metadata": {},
     "output_type": "execute_result"
    }
   ],
   "source": [
    "precision(test_labels, predictions, average = 'macro')"
   ]
  },
  {
   "cell_type": "code",
   "execution_count": 53,
   "metadata": {},
   "outputs": [
    {
     "data": {
      "text/plain": [
       "0.3802258751415143"
      ]
     },
     "execution_count": 53,
     "metadata": {},
     "output_type": "execute_result"
    }
   ],
   "source": [
    "recall(test_labels, predictions, average = 'macro')"
   ]
  },
  {
   "cell_type": "code",
   "execution_count": 54,
   "metadata": {},
   "outputs": [
    {
     "name": "stderr",
     "output_type": "stream",
     "text": [
      "/usr/local/lib/python3.7/site-packages/sklearn/metrics/classification.py:1437: UndefinedMetricWarning: F-score is ill-defined and being set to 0.0 in labels with no predicted samples.\n",
      "  'precision', 'predicted', average, warn_for)\n"
     ]
    },
    {
     "data": {
      "text/plain": [
       "0.437871025105554"
      ]
     },
     "execution_count": 54,
     "metadata": {},
     "output_type": "execute_result"
    }
   ],
   "source": [
    "f1_score(test_labels, predictions, average = 'macro')"
   ]
  },
  {
   "cell_type": "code",
   "execution_count": 55,
   "metadata": {},
   "outputs": [],
   "source": [
    "unique_labels = list(set(test_labels))"
   ]
  },
  {
   "cell_type": "code",
   "execution_count": 56,
   "metadata": {},
   "outputs": [
    {
     "name": "stderr",
     "output_type": "stream",
     "text": [
      "/usr/local/lib/python3.7/site-packages/sklearn/ensemble/forest.py:245: FutureWarning: The default value of n_estimators will change from 10 in version 0.20 to 100 in 0.22.\n",
      "  \"10 in version 0.20 to 100 in 0.22.\", FutureWarning)\n"
     ]
    },
    {
     "data": {
      "text/plain": [
       "0.7582417582417582"
      ]
     },
     "execution_count": 56,
     "metadata": {},
     "output_type": "execute_result"
    }
   ],
   "source": [
    "random_forest = RandomForestClassifier()\n",
    "random_forest.fit(train_data, train_labels)\n",
    "random_forest.score(test_data, test_labels)"
   ]
  },
  {
   "cell_type": "code",
   "execution_count": 57,
   "metadata": {},
   "outputs": [
    {
     "name": "stdout",
     "output_type": "stream",
     "text": [
      "0.622138351844234\n",
      "0.4705437193853806\n",
      "0.5182318595380621\n"
     ]
    },
    {
     "name": "stderr",
     "output_type": "stream",
     "text": [
      "/usr/local/lib/python3.7/site-packages/sklearn/metrics/classification.py:1437: UndefinedMetricWarning: Precision is ill-defined and being set to 0.0 in labels with no predicted samples.\n",
      "  'precision', 'predicted', average, warn_for)\n",
      "/usr/local/lib/python3.7/site-packages/sklearn/metrics/classification.py:1437: UndefinedMetricWarning: F-score is ill-defined and being set to 0.0 in labels with no predicted samples.\n",
      "  'precision', 'predicted', average, warn_for)\n"
     ]
    }
   ],
   "source": [
    "random_pred = random_forest.predict(test_data)\n",
    "print(precision(test_labels, random_pred, average = 'macro'))\n",
    "print(recall(test_labels, random_pred, average = 'macro'))\n",
    "print(f1_score(test_labels, random_pred, average = 'macro'))"
   ]
  },
  {
   "cell_type": "code",
   "execution_count": 58,
   "metadata": {},
   "outputs": [
    {
     "data": {
      "text/plain": [
       "0.7802197802197802"
      ]
     },
     "execution_count": 58,
     "metadata": {},
     "output_type": "execute_result"
    }
   ],
   "source": [
    "rf = SGDClassifier(learning_rate = 'optimal', early_stopping = True, penalty = 'l2', loss = 'log')\n",
    "rf.fit(train_data, train_labels)\n",
    "rf.score(test_data, test_labels)"
   ]
  },
  {
   "cell_type": "code",
   "execution_count": 59,
   "metadata": {},
   "outputs": [],
   "source": [
    "rf_predictions = rf.predict(test_data)"
   ]
  },
  {
   "cell_type": "code",
   "execution_count": 60,
   "metadata": {},
   "outputs": [
    {
     "name": "stderr",
     "output_type": "stream",
     "text": [
      "/usr/local/lib/python3.7/site-packages/sklearn/metrics/classification.py:1437: UndefinedMetricWarning: Precision is ill-defined and being set to 0.0 in labels with no predicted samples.\n",
      "  'precision', 'predicted', average, warn_for)\n"
     ]
    },
    {
     "data": {
      "text/plain": [
       "0.6247682406295852"
      ]
     },
     "execution_count": 60,
     "metadata": {},
     "output_type": "execute_result"
    }
   ],
   "source": [
    "precision(test_labels, rf_predictions, average = 'macro')"
   ]
  },
  {
   "cell_type": "code",
   "execution_count": 61,
   "metadata": {},
   "outputs": [
    {
     "data": {
      "text/plain": [
       "0.5142662627948158"
      ]
     },
     "execution_count": 61,
     "metadata": {},
     "output_type": "execute_result"
    }
   ],
   "source": [
    "recall(test_labels, rf_predictions, average = 'macro')"
   ]
  },
  {
   "cell_type": "code",
   "execution_count": 62,
   "metadata": {},
   "outputs": [
    {
     "name": "stderr",
     "output_type": "stream",
     "text": [
      "/usr/local/lib/python3.7/site-packages/sklearn/metrics/classification.py:1437: UndefinedMetricWarning: F-score is ill-defined and being set to 0.0 in labels with no predicted samples.\n",
      "  'precision', 'predicted', average, warn_for)\n"
     ]
    },
    {
     "data": {
      "text/plain": [
       "0.5433556652248973"
      ]
     },
     "execution_count": 62,
     "metadata": {},
     "output_type": "execute_result"
    }
   ],
   "source": [
    "f1_score(test_labels, rf_predictions, average = 'macro')"
   ]
  },
  {
   "cell_type": "code",
   "execution_count": 63,
   "metadata": {},
   "outputs": [
    {
     "data": {
      "text/plain": [
       "array([[ 11,   0,   0,   5,   0,   1,   0,   0,   1,   3],\n",
       "       [  0,   4,   0,   1,   0,   0,   1,   0,   0,   3],\n",
       "       [  0,   0,   0,   1,   0,   0,   0,   0,   1,   0],\n",
       "       [  1,   0,   0,  38,   0,   1,   0,   0,   1,   5],\n",
       "       [  2,   0,   0,   0,   3,   0,   0,   0,   0,   5],\n",
       "       [  0,   0,   0,   2,   0,   7,   0,   0,   0,   2],\n",
       "       [  0,   0,   0,   1,   0,   0,  14,   0,   0,   1],\n",
       "       [  0,   1,   0,   0,   0,   0,   0,   0,   1,   1],\n",
       "       [  0,   0,   0,   3,   0,   0,   1,   0,  13,   4],\n",
       "       [  3,   0,   0,   6,   0,   1,   0,   0,   1, 123]])"
      ]
     },
     "execution_count": 63,
     "metadata": {},
     "output_type": "execute_result"
    }
   ],
   "source": [
    "cm(test_labels, rf_predictions, labels = unique_labels)"
   ]
  },
  {
   "cell_type": "code",
   "execution_count": 64,
   "metadata": {},
   "outputs": [
    {
     "data": {
      "text/plain": [
       "['info-extraction',\n",
       " 'harassment',\n",
       " 'control',\n",
       " 'none',\n",
       " 'callerid',\n",
       " 'tutorial',\n",
       " 'spoof',\n",
       " 'evasion',\n",
       " 'defense',\n",
       " 'surveillance']"
      ]
     },
     "execution_count": 64,
     "metadata": {},
     "output_type": "execute_result"
    }
   ],
   "source": [
    "unique_labels"
   ]
  },
  {
   "cell_type": "markdown",
   "metadata": {},
   "source": [
    "## Model Selection"
   ]
  },
  {
   "cell_type": "code",
   "execution_count": 65,
   "metadata": {},
   "outputs": [
    {
     "data": {
      "text/html": [
       "<div>\n",
       "<style scoped>\n",
       "    .dataframe tbody tr th:only-of-type {\n",
       "        vertical-align: middle;\n",
       "    }\n",
       "\n",
       "    .dataframe tbody tr th {\n",
       "        vertical-align: top;\n",
       "    }\n",
       "\n",
       "    .dataframe thead th {\n",
       "        text-align: right;\n",
       "    }\n",
       "</style>\n",
       "<table border=\"1\" class=\"dataframe\">\n",
       "  <thead>\n",
       "    <tr style=\"text-align: right;\">\n",
       "      <th></th>\n",
       "      <th>appId</th>\n",
       "      <th>text</th>\n",
       "      <th>true label</th>\n",
       "      <th>category</th>\n",
       "    </tr>\n",
       "  </thead>\n",
       "  <tbody>\n",
       "    <tr>\n",
       "      <td>0</td>\n",
       "      <td>a2ndappwhats.sdkw.com</td>\n",
       "      <td>b\"2nd Account for Whatsapp 2 Whatsapps on Same...</td>\n",
       "      <td>surveillance:social-media</td>\n",
       "      <td>surveillance</td>\n",
       "    </tr>\n",
       "    <tr>\n",
       "      <td>1</td>\n",
       "      <td>air.au.com.metro.DumbWaysToDie2</td>\n",
       "      <td>b\"Dumb Ways to Die 2: The Games A new set of d...</td>\n",
       "      <td>none:misc</td>\n",
       "      <td>none</td>\n",
       "    </tr>\n",
       "    <tr>\n",
       "      <td>2</td>\n",
       "      <td>air.com.applauz.timeoutkids</td>\n",
       "      <td>b'Time Out - Behaviour Meter Live Behaviour Me...</td>\n",
       "      <td>control:use-limitation</td>\n",
       "      <td>control</td>\n",
       "    </tr>\n",
       "    <tr>\n",
       "      <td>3</td>\n",
       "      <td>ajx.com.calltracker</td>\n",
       "      <td>b\"Call Tracker Call Tracker helps you identify...</td>\n",
       "      <td>callerid:misc</td>\n",
       "      <td>callerid</td>\n",
       "    </tr>\n",
       "    <tr>\n",
       "      <td>4</td>\n",
       "      <td>allcall.location.tracker</td>\n",
       "      <td>b\"All Call Location Tracker All Calls Location...</td>\n",
       "      <td>callerid:location</td>\n",
       "      <td>callerid</td>\n",
       "    </tr>\n",
       "  </tbody>\n",
       "</table>\n",
       "</div>"
      ],
      "text/plain": [
       "                             appId  \\\n",
       "0            a2ndappwhats.sdkw.com   \n",
       "1  air.au.com.metro.DumbWaysToDie2   \n",
       "2      air.com.applauz.timeoutkids   \n",
       "3              ajx.com.calltracker   \n",
       "4         allcall.location.tracker   \n",
       "\n",
       "                                                text  \\\n",
       "0  b\"2nd Account for Whatsapp 2 Whatsapps on Same...   \n",
       "1  b\"Dumb Ways to Die 2: The Games A new set of d...   \n",
       "2  b'Time Out - Behaviour Meter Live Behaviour Me...   \n",
       "3  b\"Call Tracker Call Tracker helps you identify...   \n",
       "4  b\"All Call Location Tracker All Calls Location...   \n",
       "\n",
       "                  true label      category  \n",
       "0  surveillance:social-media  surveillance  \n",
       "1                  none:misc          none  \n",
       "2     control:use-limitation       control  \n",
       "3              callerid:misc      callerid  \n",
       "4          callerid:location      callerid  "
      ]
     },
     "execution_count": 65,
     "metadata": {},
     "output_type": "execute_result"
    }
   ],
   "source": [
    "data.head()"
   ]
  },
  {
   "cell_type": "code",
   "execution_count": 66,
   "metadata": {},
   "outputs": [],
   "source": [
    "jaco = tfidf(stop_words = stopwords, min_df = 5)\n",
    "vocabulary = jaco.fit(data.text.values)\n",
    "all_labeled_data = vocabulary.transform(data.text.values)\n",
    "all_labeled_data = all_labeled_data.toarray()"
   ]
  },
  {
   "cell_type": "code",
   "execution_count": 67,
   "metadata": {},
   "outputs": [],
   "source": [
    "selectK = SelectKBest(chi2, k = 500)\n",
    "selectK.fit(all_labeled_data, data.category)\n",
    "bestK_all = selectK.transform(all_labeled_data)\n",
    "pca = PCA(n_components = 'mle', whiten = True, svd_solver = 'full')\n",
    "pca.fit(bestK_all)\n",
    "pca_all = pca.transform(bestK_all)"
   ]
  },
  {
   "cell_type": "code",
   "execution_count": 68,
   "metadata": {},
   "outputs": [],
   "source": [
    "data = pd.concat([data, pd.DataFrame(pca_all)], axis = 1)"
   ]
  },
  {
   "cell_type": "code",
   "execution_count": 69,
   "metadata": {},
   "outputs": [],
   "source": [
    "workable_data = data.drop(['appId', 'text', 'true label', 'category'], axis = 1)\n",
    "#workable_labels = label_binarize(data.category.values, classes = list(set(data.category.values)))\n",
    "workable_labels = data.category.values"
   ]
  },
  {
   "cell_type": "code",
   "execution_count": 70,
   "metadata": {},
   "outputs": [
    {
     "data": {
      "text/html": [
       "<div>\n",
       "<style scoped>\n",
       "    .dataframe tbody tr th:only-of-type {\n",
       "        vertical-align: middle;\n",
       "    }\n",
       "\n",
       "    .dataframe tbody tr th {\n",
       "        vertical-align: top;\n",
       "    }\n",
       "\n",
       "    .dataframe thead th {\n",
       "        text-align: right;\n",
       "    }\n",
       "</style>\n",
       "<table border=\"1\" class=\"dataframe\">\n",
       "  <thead>\n",
       "    <tr style=\"text-align: right;\">\n",
       "      <th></th>\n",
       "      <th>0</th>\n",
       "      <th>1</th>\n",
       "      <th>2</th>\n",
       "      <th>3</th>\n",
       "      <th>4</th>\n",
       "      <th>5</th>\n",
       "      <th>6</th>\n",
       "      <th>7</th>\n",
       "      <th>8</th>\n",
       "      <th>9</th>\n",
       "      <th>...</th>\n",
       "      <th>489</th>\n",
       "      <th>490</th>\n",
       "      <th>491</th>\n",
       "      <th>492</th>\n",
       "      <th>493</th>\n",
       "      <th>494</th>\n",
       "      <th>495</th>\n",
       "      <th>496</th>\n",
       "      <th>497</th>\n",
       "      <th>498</th>\n",
       "    </tr>\n",
       "  </thead>\n",
       "  <tbody>\n",
       "    <tr>\n",
       "      <td>0</td>\n",
       "      <td>-0.702403</td>\n",
       "      <td>-0.013170</td>\n",
       "      <td>-1.351355</td>\n",
       "      <td>1.020158</td>\n",
       "      <td>2.210695</td>\n",
       "      <td>0.045997</td>\n",
       "      <td>0.289980</td>\n",
       "      <td>-0.222339</td>\n",
       "      <td>-0.352203</td>\n",
       "      <td>-0.488136</td>\n",
       "      <td>...</td>\n",
       "      <td>-0.029044</td>\n",
       "      <td>0.140987</td>\n",
       "      <td>1.730031</td>\n",
       "      <td>-0.717379</td>\n",
       "      <td>0.377815</td>\n",
       "      <td>-0.218129</td>\n",
       "      <td>0.892528</td>\n",
       "      <td>0.989371</td>\n",
       "      <td>0.053714</td>\n",
       "      <td>0.180903</td>\n",
       "    </tr>\n",
       "    <tr>\n",
       "      <td>1</td>\n",
       "      <td>-0.826029</td>\n",
       "      <td>-0.974637</td>\n",
       "      <td>-0.189904</td>\n",
       "      <td>-0.146395</td>\n",
       "      <td>-1.094100</td>\n",
       "      <td>2.427956</td>\n",
       "      <td>0.349108</td>\n",
       "      <td>-0.197016</td>\n",
       "      <td>0.061003</td>\n",
       "      <td>0.105162</td>\n",
       "      <td>...</td>\n",
       "      <td>0.051639</td>\n",
       "      <td>3.319325</td>\n",
       "      <td>1.551104</td>\n",
       "      <td>-0.222941</td>\n",
       "      <td>-1.031423</td>\n",
       "      <td>-2.209566</td>\n",
       "      <td>-0.250071</td>\n",
       "      <td>0.146102</td>\n",
       "      <td>-0.830432</td>\n",
       "      <td>0.098592</td>\n",
       "    </tr>\n",
       "    <tr>\n",
       "      <td>2</td>\n",
       "      <td>-0.476117</td>\n",
       "      <td>-0.501983</td>\n",
       "      <td>-0.217438</td>\n",
       "      <td>-0.362357</td>\n",
       "      <td>-0.219918</td>\n",
       "      <td>-0.484866</td>\n",
       "      <td>0.170534</td>\n",
       "      <td>-0.725774</td>\n",
       "      <td>0.129992</td>\n",
       "      <td>-0.453286</td>\n",
       "      <td>...</td>\n",
       "      <td>-0.020698</td>\n",
       "      <td>-0.324608</td>\n",
       "      <td>0.079795</td>\n",
       "      <td>0.417177</td>\n",
       "      <td>-0.186653</td>\n",
       "      <td>-0.317758</td>\n",
       "      <td>0.485150</td>\n",
       "      <td>-0.109918</td>\n",
       "      <td>0.033863</td>\n",
       "      <td>0.227624</td>\n",
       "    </tr>\n",
       "    <tr>\n",
       "      <td>3</td>\n",
       "      <td>0.747579</td>\n",
       "      <td>-0.635917</td>\n",
       "      <td>1.241295</td>\n",
       "      <td>1.993982</td>\n",
       "      <td>-0.074404</td>\n",
       "      <td>0.258497</td>\n",
       "      <td>0.592406</td>\n",
       "      <td>-0.289052</td>\n",
       "      <td>0.168251</td>\n",
       "      <td>0.427020</td>\n",
       "      <td>...</td>\n",
       "      <td>-0.425907</td>\n",
       "      <td>-0.895080</td>\n",
       "      <td>-1.106635</td>\n",
       "      <td>0.308248</td>\n",
       "      <td>-1.342241</td>\n",
       "      <td>-0.133334</td>\n",
       "      <td>0.337098</td>\n",
       "      <td>-0.054704</td>\n",
       "      <td>0.011807</td>\n",
       "      <td>-1.071221</td>\n",
       "    </tr>\n",
       "    <tr>\n",
       "      <td>4</td>\n",
       "      <td>1.597835</td>\n",
       "      <td>-1.180056</td>\n",
       "      <td>1.527300</td>\n",
       "      <td>1.813605</td>\n",
       "      <td>0.259926</td>\n",
       "      <td>0.012771</td>\n",
       "      <td>-0.068876</td>\n",
       "      <td>-0.858143</td>\n",
       "      <td>1.280338</td>\n",
       "      <td>-0.813350</td>\n",
       "      <td>...</td>\n",
       "      <td>0.662864</td>\n",
       "      <td>0.556817</td>\n",
       "      <td>0.089987</td>\n",
       "      <td>0.453047</td>\n",
       "      <td>-1.209240</td>\n",
       "      <td>0.584064</td>\n",
       "      <td>0.200158</td>\n",
       "      <td>0.400857</td>\n",
       "      <td>-0.227150</td>\n",
       "      <td>0.480551</td>\n",
       "    </tr>\n",
       "    <tr>\n",
       "      <td>...</td>\n",
       "      <td>...</td>\n",
       "      <td>...</td>\n",
       "      <td>...</td>\n",
       "      <td>...</td>\n",
       "      <td>...</td>\n",
       "      <td>...</td>\n",
       "      <td>...</td>\n",
       "      <td>...</td>\n",
       "      <td>...</td>\n",
       "      <td>...</td>\n",
       "      <td>...</td>\n",
       "      <td>...</td>\n",
       "      <td>...</td>\n",
       "      <td>...</td>\n",
       "      <td>...</td>\n",
       "      <td>...</td>\n",
       "      <td>...</td>\n",
       "      <td>...</td>\n",
       "      <td>...</td>\n",
       "      <td>...</td>\n",
       "      <td>...</td>\n",
       "    </tr>\n",
       "    <tr>\n",
       "      <td>1086</td>\n",
       "      <td>-0.815556</td>\n",
       "      <td>0.099120</td>\n",
       "      <td>-1.891064</td>\n",
       "      <td>1.582008</td>\n",
       "      <td>2.706980</td>\n",
       "      <td>0.420885</td>\n",
       "      <td>-0.029191</td>\n",
       "      <td>-0.263599</td>\n",
       "      <td>-0.156261</td>\n",
       "      <td>-0.139537</td>\n",
       "      <td>...</td>\n",
       "      <td>-0.262259</td>\n",
       "      <td>-0.354258</td>\n",
       "      <td>0.225117</td>\n",
       "      <td>-0.009805</td>\n",
       "      <td>-0.538264</td>\n",
       "      <td>-0.030787</td>\n",
       "      <td>-0.515127</td>\n",
       "      <td>0.026546</td>\n",
       "      <td>0.308169</td>\n",
       "      <td>0.237108</td>\n",
       "    </tr>\n",
       "    <tr>\n",
       "      <td>1087</td>\n",
       "      <td>1.067223</td>\n",
       "      <td>-0.737374</td>\n",
       "      <td>-0.815585</td>\n",
       "      <td>-1.641721</td>\n",
       "      <td>0.076046</td>\n",
       "      <td>-0.555497</td>\n",
       "      <td>-0.726722</td>\n",
       "      <td>-0.082873</td>\n",
       "      <td>-0.481327</td>\n",
       "      <td>0.161596</td>\n",
       "      <td>...</td>\n",
       "      <td>0.304318</td>\n",
       "      <td>0.018494</td>\n",
       "      <td>0.398669</td>\n",
       "      <td>0.643649</td>\n",
       "      <td>0.893661</td>\n",
       "      <td>-0.011599</td>\n",
       "      <td>-0.197307</td>\n",
       "      <td>-0.817042</td>\n",
       "      <td>-0.313631</td>\n",
       "      <td>-1.002021</td>\n",
       "    </tr>\n",
       "    <tr>\n",
       "      <td>1088</td>\n",
       "      <td>-0.553370</td>\n",
       "      <td>-0.567103</td>\n",
       "      <td>-0.381798</td>\n",
       "      <td>-0.181271</td>\n",
       "      <td>-0.206374</td>\n",
       "      <td>-0.373493</td>\n",
       "      <td>-0.500659</td>\n",
       "      <td>0.034616</td>\n",
       "      <td>-0.312570</td>\n",
       "      <td>0.226828</td>\n",
       "      <td>...</td>\n",
       "      <td>-0.040601</td>\n",
       "      <td>0.295607</td>\n",
       "      <td>0.367192</td>\n",
       "      <td>0.368615</td>\n",
       "      <td>0.411981</td>\n",
       "      <td>0.721845</td>\n",
       "      <td>-0.044890</td>\n",
       "      <td>0.345387</td>\n",
       "      <td>-0.560354</td>\n",
       "      <td>-0.232894</td>\n",
       "    </tr>\n",
       "    <tr>\n",
       "      <td>1089</td>\n",
       "      <td>-0.078404</td>\n",
       "      <td>1.725917</td>\n",
       "      <td>1.077500</td>\n",
       "      <td>1.013148</td>\n",
       "      <td>-0.730114</td>\n",
       "      <td>-0.328502</td>\n",
       "      <td>-0.138679</td>\n",
       "      <td>0.401451</td>\n",
       "      <td>-2.601293</td>\n",
       "      <td>0.071361</td>\n",
       "      <td>...</td>\n",
       "      <td>-0.796446</td>\n",
       "      <td>-0.704450</td>\n",
       "      <td>1.230231</td>\n",
       "      <td>-1.027436</td>\n",
       "      <td>-0.095375</td>\n",
       "      <td>0.572186</td>\n",
       "      <td>2.632754</td>\n",
       "      <td>-0.763178</td>\n",
       "      <td>1.624847</td>\n",
       "      <td>-0.623059</td>\n",
       "    </tr>\n",
       "    <tr>\n",
       "      <td>1090</td>\n",
       "      <td>-0.853699</td>\n",
       "      <td>-0.830797</td>\n",
       "      <td>-0.310394</td>\n",
       "      <td>0.124028</td>\n",
       "      <td>-0.840937</td>\n",
       "      <td>-1.684467</td>\n",
       "      <td>1.353668</td>\n",
       "      <td>3.714552</td>\n",
       "      <td>2.655448</td>\n",
       "      <td>0.315921</td>\n",
       "      <td>...</td>\n",
       "      <td>-0.550199</td>\n",
       "      <td>-0.979558</td>\n",
       "      <td>-0.454694</td>\n",
       "      <td>0.102418</td>\n",
       "      <td>0.051536</td>\n",
       "      <td>-0.493912</td>\n",
       "      <td>0.230834</td>\n",
       "      <td>1.497779</td>\n",
       "      <td>-3.021748</td>\n",
       "      <td>0.105912</td>\n",
       "    </tr>\n",
       "  </tbody>\n",
       "</table>\n",
       "<p>1091 rows × 499 columns</p>\n",
       "</div>"
      ],
      "text/plain": [
       "           0         1         2         3         4         5         6    \\\n",
       "0    -0.702403 -0.013170 -1.351355  1.020158  2.210695  0.045997  0.289980   \n",
       "1    -0.826029 -0.974637 -0.189904 -0.146395 -1.094100  2.427956  0.349108   \n",
       "2    -0.476117 -0.501983 -0.217438 -0.362357 -0.219918 -0.484866  0.170534   \n",
       "3     0.747579 -0.635917  1.241295  1.993982 -0.074404  0.258497  0.592406   \n",
       "4     1.597835 -1.180056  1.527300  1.813605  0.259926  0.012771 -0.068876   \n",
       "...        ...       ...       ...       ...       ...       ...       ...   \n",
       "1086 -0.815556  0.099120 -1.891064  1.582008  2.706980  0.420885 -0.029191   \n",
       "1087  1.067223 -0.737374 -0.815585 -1.641721  0.076046 -0.555497 -0.726722   \n",
       "1088 -0.553370 -0.567103 -0.381798 -0.181271 -0.206374 -0.373493 -0.500659   \n",
       "1089 -0.078404  1.725917  1.077500  1.013148 -0.730114 -0.328502 -0.138679   \n",
       "1090 -0.853699 -0.830797 -0.310394  0.124028 -0.840937 -1.684467  1.353668   \n",
       "\n",
       "           7         8         9    ...       489       490       491  \\\n",
       "0    -0.222339 -0.352203 -0.488136  ... -0.029044  0.140987  1.730031   \n",
       "1    -0.197016  0.061003  0.105162  ...  0.051639  3.319325  1.551104   \n",
       "2    -0.725774  0.129992 -0.453286  ... -0.020698 -0.324608  0.079795   \n",
       "3    -0.289052  0.168251  0.427020  ... -0.425907 -0.895080 -1.106635   \n",
       "4    -0.858143  1.280338 -0.813350  ...  0.662864  0.556817  0.089987   \n",
       "...        ...       ...       ...  ...       ...       ...       ...   \n",
       "1086 -0.263599 -0.156261 -0.139537  ... -0.262259 -0.354258  0.225117   \n",
       "1087 -0.082873 -0.481327  0.161596  ...  0.304318  0.018494  0.398669   \n",
       "1088  0.034616 -0.312570  0.226828  ... -0.040601  0.295607  0.367192   \n",
       "1089  0.401451 -2.601293  0.071361  ... -0.796446 -0.704450  1.230231   \n",
       "1090  3.714552  2.655448  0.315921  ... -0.550199 -0.979558 -0.454694   \n",
       "\n",
       "           492       493       494       495       496       497       498  \n",
       "0    -0.717379  0.377815 -0.218129  0.892528  0.989371  0.053714  0.180903  \n",
       "1    -0.222941 -1.031423 -2.209566 -0.250071  0.146102 -0.830432  0.098592  \n",
       "2     0.417177 -0.186653 -0.317758  0.485150 -0.109918  0.033863  0.227624  \n",
       "3     0.308248 -1.342241 -0.133334  0.337098 -0.054704  0.011807 -1.071221  \n",
       "4     0.453047 -1.209240  0.584064  0.200158  0.400857 -0.227150  0.480551  \n",
       "...        ...       ...       ...       ...       ...       ...       ...  \n",
       "1086 -0.009805 -0.538264 -0.030787 -0.515127  0.026546  0.308169  0.237108  \n",
       "1087  0.643649  0.893661 -0.011599 -0.197307 -0.817042 -0.313631 -1.002021  \n",
       "1088  0.368615  0.411981  0.721845 -0.044890  0.345387 -0.560354 -0.232894  \n",
       "1089 -1.027436 -0.095375  0.572186  2.632754 -0.763178  1.624847 -0.623059  \n",
       "1090  0.102418  0.051536 -0.493912  0.230834  1.497779 -3.021748  0.105912  \n",
       "\n",
       "[1091 rows x 499 columns]"
      ]
     },
     "execution_count": 70,
     "metadata": {},
     "output_type": "execute_result"
    }
   ],
   "source": [
    "workable_data"
   ]
  },
  {
   "cell_type": "code",
   "execution_count": 71,
   "metadata": {},
   "outputs": [],
   "source": [
    "lr = LogisticRegression(multi_class = 'multinomial', solver = 'lbfgs')\n",
    "rf = RandomForestClassifier(random_state = 28, n_estimators = 10, max_depth = 30)\n",
    "sgd = SGDClassifier(learning_rate = 'optimal', early_stopping = True, penalty = 'l2', loss = 'log')\n",
    "classifiers = [lr, rf, sgd]\n",
    "scores = ['f1_macro', 'precision_macro', 'recall_macro', 'accuracy']"
   ]
  },
  {
   "cell_type": "code",
   "execution_count": 72,
   "metadata": {},
   "outputs": [
    {
     "name": "stderr",
     "output_type": "stream",
     "text": [
      "/usr/local/lib/python3.7/site-packages/sklearn/linear_model/logistic.py:947: ConvergenceWarning: lbfgs failed to converge. Increase the number of iterations.\n",
      "  \"of iterations.\", ConvergenceWarning)\n",
      "/usr/local/lib/python3.7/site-packages/sklearn/metrics/classification.py:1437: UndefinedMetricWarning: F-score is ill-defined and being set to 0.0 in labels with no predicted samples.\n",
      "  'precision', 'predicted', average, warn_for)\n",
      "/usr/local/lib/python3.7/site-packages/sklearn/metrics/classification.py:1437: UndefinedMetricWarning: Precision is ill-defined and being set to 0.0 in labels with no predicted samples.\n",
      "  'precision', 'predicted', average, warn_for)\n",
      "/usr/local/lib/python3.7/site-packages/sklearn/linear_model/logistic.py:947: ConvergenceWarning: lbfgs failed to converge. Increase the number of iterations.\n",
      "  \"of iterations.\", ConvergenceWarning)\n",
      "/usr/local/lib/python3.7/site-packages/sklearn/metrics/classification.py:1437: UndefinedMetricWarning: F-score is ill-defined and being set to 0.0 in labels with no predicted samples.\n",
      "  'precision', 'predicted', average, warn_for)\n",
      "/usr/local/lib/python3.7/site-packages/sklearn/metrics/classification.py:1437: UndefinedMetricWarning: Precision is ill-defined and being set to 0.0 in labels with no predicted samples.\n",
      "  'precision', 'predicted', average, warn_for)\n",
      "/usr/local/lib/python3.7/site-packages/sklearn/linear_model/logistic.py:947: ConvergenceWarning: lbfgs failed to converge. Increase the number of iterations.\n",
      "  \"of iterations.\", ConvergenceWarning)\n",
      "/usr/local/lib/python3.7/site-packages/sklearn/metrics/classification.py:1437: UndefinedMetricWarning: F-score is ill-defined and being set to 0.0 in labels with no predicted samples.\n",
      "  'precision', 'predicted', average, warn_for)\n",
      "/usr/local/lib/python3.7/site-packages/sklearn/metrics/classification.py:1437: UndefinedMetricWarning: Precision is ill-defined and being set to 0.0 in labels with no predicted samples.\n",
      "  'precision', 'predicted', average, warn_for)\n",
      "/usr/local/lib/python3.7/site-packages/sklearn/linear_model/logistic.py:947: ConvergenceWarning: lbfgs failed to converge. Increase the number of iterations.\n",
      "  \"of iterations.\", ConvergenceWarning)\n",
      "/usr/local/lib/python3.7/site-packages/sklearn/metrics/classification.py:1437: UndefinedMetricWarning: F-score is ill-defined and being set to 0.0 in labels with no predicted samples.\n",
      "  'precision', 'predicted', average, warn_for)\n",
      "/usr/local/lib/python3.7/site-packages/sklearn/metrics/classification.py:1437: UndefinedMetricWarning: Precision is ill-defined and being set to 0.0 in labels with no predicted samples.\n",
      "  'precision', 'predicted', average, warn_for)\n",
      "/usr/local/lib/python3.7/site-packages/sklearn/linear_model/logistic.py:947: ConvergenceWarning: lbfgs failed to converge. Increase the number of iterations.\n",
      "  \"of iterations.\", ConvergenceWarning)\n",
      "/usr/local/lib/python3.7/site-packages/sklearn/metrics/classification.py:1437: UndefinedMetricWarning: F-score is ill-defined and being set to 0.0 in labels with no predicted samples.\n",
      "  'precision', 'predicted', average, warn_for)\n",
      "/usr/local/lib/python3.7/site-packages/sklearn/metrics/classification.py:1437: UndefinedMetricWarning: Precision is ill-defined and being set to 0.0 in labels with no predicted samples.\n",
      "  'precision', 'predicted', average, warn_for)\n"
     ]
    },
    {
     "name": "stdout",
     "output_type": "stream",
     "text": [
      "0.3326539666484137\n",
      "0.2953762024020408\n",
      "0.5081610117452067\n"
     ]
    },
    {
     "name": "stderr",
     "output_type": "stream",
     "text": [
      "/usr/local/lib/python3.7/site-packages/sklearn/metrics/classification.py:1437: UndefinedMetricWarning: F-score is ill-defined and being set to 0.0 in labels with no predicted samples.\n",
      "  'precision', 'predicted', average, warn_for)\n",
      "/usr/local/lib/python3.7/site-packages/sklearn/metrics/classification.py:1437: UndefinedMetricWarning: Precision is ill-defined and being set to 0.0 in labels with no predicted samples.\n",
      "  'precision', 'predicted', average, warn_for)\n",
      "/usr/local/lib/python3.7/site-packages/sklearn/metrics/classification.py:1437: UndefinedMetricWarning: F-score is ill-defined and being set to 0.0 in labels with no predicted samples.\n",
      "  'precision', 'predicted', average, warn_for)\n",
      "/usr/local/lib/python3.7/site-packages/sklearn/metrics/classification.py:1437: UndefinedMetricWarning: Precision is ill-defined and being set to 0.0 in labels with no predicted samples.\n",
      "  'precision', 'predicted', average, warn_for)\n",
      "/usr/local/lib/python3.7/site-packages/sklearn/metrics/classification.py:1437: UndefinedMetricWarning: F-score is ill-defined and being set to 0.0 in labels with no predicted samples.\n",
      "  'precision', 'predicted', average, warn_for)\n",
      "/usr/local/lib/python3.7/site-packages/sklearn/metrics/classification.py:1437: UndefinedMetricWarning: Precision is ill-defined and being set to 0.0 in labels with no predicted samples.\n",
      "  'precision', 'predicted', average, warn_for)\n",
      "/usr/local/lib/python3.7/site-packages/sklearn/metrics/classification.py:1437: UndefinedMetricWarning: F-score is ill-defined and being set to 0.0 in labels with no predicted samples.\n",
      "  'precision', 'predicted', average, warn_for)\n",
      "/usr/local/lib/python3.7/site-packages/sklearn/metrics/classification.py:1437: UndefinedMetricWarning: Precision is ill-defined and being set to 0.0 in labels with no predicted samples.\n",
      "  'precision', 'predicted', average, warn_for)\n",
      "/usr/local/lib/python3.7/site-packages/sklearn/metrics/classification.py:1437: UndefinedMetricWarning: F-score is ill-defined and being set to 0.0 in labels with no predicted samples.\n",
      "  'precision', 'predicted', average, warn_for)\n",
      "/usr/local/lib/python3.7/site-packages/sklearn/metrics/classification.py:1437: UndefinedMetricWarning: Precision is ill-defined and being set to 0.0 in labels with no predicted samples.\n",
      "  'precision', 'predicted', average, warn_for)\n"
     ]
    },
    {
     "name": "stdout",
     "output_type": "stream",
     "text": [
      "0.3265694857444197\n",
      "0.3086090924291859\n",
      "0.3997082336330805\n"
     ]
    },
    {
     "name": "stderr",
     "output_type": "stream",
     "text": [
      "/usr/local/lib/python3.7/site-packages/sklearn/metrics/classification.py:1437: UndefinedMetricWarning: F-score is ill-defined and being set to 0.0 in labels with no predicted samples.\n",
      "  'precision', 'predicted', average, warn_for)\n",
      "/usr/local/lib/python3.7/site-packages/sklearn/metrics/classification.py:1437: UndefinedMetricWarning: Precision is ill-defined and being set to 0.0 in labels with no predicted samples.\n",
      "  'precision', 'predicted', average, warn_for)\n",
      "/usr/local/lib/python3.7/site-packages/sklearn/metrics/classification.py:1437: UndefinedMetricWarning: F-score is ill-defined and being set to 0.0 in labels with no predicted samples.\n",
      "  'precision', 'predicted', average, warn_for)\n",
      "/usr/local/lib/python3.7/site-packages/sklearn/metrics/classification.py:1437: UndefinedMetricWarning: Precision is ill-defined and being set to 0.0 in labels with no predicted samples.\n",
      "  'precision', 'predicted', average, warn_for)\n",
      "/usr/local/lib/python3.7/site-packages/sklearn/metrics/classification.py:1437: UndefinedMetricWarning: F-score is ill-defined and being set to 0.0 in labels with no predicted samples.\n",
      "  'precision', 'predicted', average, warn_for)\n",
      "/usr/local/lib/python3.7/site-packages/sklearn/metrics/classification.py:1437: UndefinedMetricWarning: Precision is ill-defined and being set to 0.0 in labels with no predicted samples.\n",
      "  'precision', 'predicted', average, warn_for)\n"
     ]
    },
    {
     "name": "stdout",
     "output_type": "stream",
     "text": [
      "0.3347667418616524\n",
      "0.3012277511851454\n",
      "0.4596379786659188\n"
     ]
    },
    {
     "name": "stderr",
     "output_type": "stream",
     "text": [
      "/usr/local/lib/python3.7/site-packages/sklearn/metrics/classification.py:1437: UndefinedMetricWarning: F-score is ill-defined and being set to 0.0 in labels with no predicted samples.\n",
      "  'precision', 'predicted', average, warn_for)\n",
      "/usr/local/lib/python3.7/site-packages/sklearn/metrics/classification.py:1437: UndefinedMetricWarning: Precision is ill-defined and being set to 0.0 in labels with no predicted samples.\n",
      "  'precision', 'predicted', average, warn_for)\n"
     ]
    }
   ],
   "source": [
    "for classifier in classifiers:\n",
    "    cross = cv(classifier, workable_data, workable_labels, cv = 5, scoring = scores)\n",
    "   \n",
    "    print(cross['test_f1_macro'].mean())\n",
    "    print(cross['test_recall_macro'].mean())\n",
    "    print(cross['test_precision_macro'].mean())"
   ]
  },
  {
   "cell_type": "code",
   "execution_count": 325,
   "metadata": {},
   "outputs": [
    {
     "data": {
      "text/plain": [
       "['accuracy',\n",
       " 'adjusted_mutual_info_score',\n",
       " 'adjusted_rand_score',\n",
       " 'average_precision',\n",
       " 'balanced_accuracy',\n",
       " 'brier_score_loss',\n",
       " 'completeness_score',\n",
       " 'explained_variance',\n",
       " 'f1',\n",
       " 'f1_macro',\n",
       " 'f1_micro',\n",
       " 'f1_samples',\n",
       " 'f1_weighted',\n",
       " 'fowlkes_mallows_score',\n",
       " 'homogeneity_score',\n",
       " 'jaccard',\n",
       " 'jaccard_macro',\n",
       " 'jaccard_micro',\n",
       " 'jaccard_samples',\n",
       " 'jaccard_weighted',\n",
       " 'max_error',\n",
       " 'mutual_info_score',\n",
       " 'neg_log_loss',\n",
       " 'neg_mean_absolute_error',\n",
       " 'neg_mean_squared_error',\n",
       " 'neg_mean_squared_log_error',\n",
       " 'neg_median_absolute_error',\n",
       " 'normalized_mutual_info_score',\n",
       " 'precision',\n",
       " 'precision_macro',\n",
       " 'precision_micro',\n",
       " 'precision_samples',\n",
       " 'precision_weighted',\n",
       " 'r2',\n",
       " 'recall',\n",
       " 'recall_macro',\n",
       " 'recall_micro',\n",
       " 'recall_samples',\n",
       " 'recall_weighted',\n",
       " 'roc_auc',\n",
       " 'v_measure_score']"
      ]
     },
     "execution_count": 325,
     "metadata": {},
     "output_type": "execute_result"
    }
   ],
   "source": [
    "import sklearn.metrics\n",
    "\n",
    "sorted(sklearn.metrics.SCORERS.keys())"
   ]
  },
  {
   "cell_type": "markdown",
   "metadata": {},
   "source": [
    "## Hyperparameter Tuning"
   ]
  },
  {
   "cell_type": "code",
   "execution_count": 338,
   "metadata": {},
   "outputs": [],
   "source": [
    "data = data[['appId', 'text', 'category']]"
   ]
  },
  {
   "cell_type": "code",
   "execution_count": 339,
   "metadata": {},
   "outputs": [
    {
     "data": {
      "text/html": [
       "<div>\n",
       "<style scoped>\n",
       "    .dataframe tbody tr th:only-of-type {\n",
       "        vertical-align: middle;\n",
       "    }\n",
       "\n",
       "    .dataframe tbody tr th {\n",
       "        vertical-align: top;\n",
       "    }\n",
       "\n",
       "    .dataframe thead th {\n",
       "        text-align: right;\n",
       "    }\n",
       "</style>\n",
       "<table border=\"1\" class=\"dataframe\">\n",
       "  <thead>\n",
       "    <tr style=\"text-align: right;\">\n",
       "      <th></th>\n",
       "      <th>appId</th>\n",
       "      <th>text</th>\n",
       "      <th>category</th>\n",
       "    </tr>\n",
       "  </thead>\n",
       "  <tbody>\n",
       "    <tr>\n",
       "      <td>0</td>\n",
       "      <td>a2ndappwhats.sdkw.com</td>\n",
       "      <td>b\"2nd Account for Whatsapp 2 Whatsapps on Same...</td>\n",
       "      <td>surveillance</td>\n",
       "    </tr>\n",
       "    <tr>\n",
       "      <td>1</td>\n",
       "      <td>air.au.com.metro.DumbWaysToDie2</td>\n",
       "      <td>b\"Dumb Ways to Die 2: The Games A new set of d...</td>\n",
       "      <td>none</td>\n",
       "    </tr>\n",
       "    <tr>\n",
       "      <td>2</td>\n",
       "      <td>air.com.applauz.timeoutkids</td>\n",
       "      <td>b'Time Out - Behaviour Meter Live Behaviour Me...</td>\n",
       "      <td>control</td>\n",
       "    </tr>\n",
       "    <tr>\n",
       "      <td>3</td>\n",
       "      <td>ajx.com.calltracker</td>\n",
       "      <td>b\"Call Tracker Call Tracker helps you identify...</td>\n",
       "      <td>callerid</td>\n",
       "    </tr>\n",
       "    <tr>\n",
       "      <td>4</td>\n",
       "      <td>allcall.location.tracker</td>\n",
       "      <td>b\"All Call Location Tracker All Calls Location...</td>\n",
       "      <td>callerid</td>\n",
       "    </tr>\n",
       "  </tbody>\n",
       "</table>\n",
       "</div>"
      ],
      "text/plain": [
       "                             appId  \\\n",
       "0            a2ndappwhats.sdkw.com   \n",
       "1  air.au.com.metro.DumbWaysToDie2   \n",
       "2      air.com.applauz.timeoutkids   \n",
       "3              ajx.com.calltracker   \n",
       "4         allcall.location.tracker   \n",
       "\n",
       "                                                text      category  \n",
       "0  b\"2nd Account for Whatsapp 2 Whatsapps on Same...  surveillance  \n",
       "1  b\"Dumb Ways to Die 2: The Games A new set of d...          none  \n",
       "2  b'Time Out - Behaviour Meter Live Behaviour Me...       control  \n",
       "3  b\"Call Tracker Call Tracker helps you identify...      callerid  \n",
       "4  b\"All Call Location Tracker All Calls Location...      callerid  "
      ]
     },
     "execution_count": 339,
     "metadata": {},
     "output_type": "execute_result"
    }
   ],
   "source": [
    "data.head()"
   ]
  },
  {
   "cell_type": "code",
   "execution_count": 340,
   "metadata": {},
   "outputs": [],
   "source": [
    "hpt_data = data[['appId', 'text', 'category']]"
   ]
  },
  {
   "cell_type": "code",
   "execution_count": 347,
   "metadata": {},
   "outputs": [
    {
     "data": {
      "text/html": [
       "<div>\n",
       "<style scoped>\n",
       "    .dataframe tbody tr th:only-of-type {\n",
       "        vertical-align: middle;\n",
       "    }\n",
       "\n",
       "    .dataframe tbody tr th {\n",
       "        vertical-align: top;\n",
       "    }\n",
       "\n",
       "    .dataframe thead th {\n",
       "        text-align: right;\n",
       "    }\n",
       "</style>\n",
       "<table border=\"1\" class=\"dataframe\">\n",
       "  <thead>\n",
       "    <tr style=\"text-align: right;\">\n",
       "      <th></th>\n",
       "      <th>appId</th>\n",
       "      <th>text</th>\n",
       "      <th>category</th>\n",
       "    </tr>\n",
       "  </thead>\n",
       "  <tbody>\n",
       "    <tr>\n",
       "      <td>0</td>\n",
       "      <td>a2ndappwhats.sdkw.com</td>\n",
       "      <td>b\"2nd Account for Whatsapp 2 Whatsapps on Same...</td>\n",
       "      <td>surveillance</td>\n",
       "    </tr>\n",
       "    <tr>\n",
       "      <td>1</td>\n",
       "      <td>air.au.com.metro.DumbWaysToDie2</td>\n",
       "      <td>b\"Dumb Ways to Die 2: The Games A new set of d...</td>\n",
       "      <td>none</td>\n",
       "    </tr>\n",
       "    <tr>\n",
       "      <td>2</td>\n",
       "      <td>air.com.applauz.timeoutkids</td>\n",
       "      <td>b'Time Out - Behaviour Meter Live Behaviour Me...</td>\n",
       "      <td>control</td>\n",
       "    </tr>\n",
       "    <tr>\n",
       "      <td>3</td>\n",
       "      <td>ajx.com.calltracker</td>\n",
       "      <td>b\"Call Tracker Call Tracker helps you identify...</td>\n",
       "      <td>callerid</td>\n",
       "    </tr>\n",
       "    <tr>\n",
       "      <td>4</td>\n",
       "      <td>allcall.location.tracker</td>\n",
       "      <td>b\"All Call Location Tracker All Calls Location...</td>\n",
       "      <td>callerid</td>\n",
       "    </tr>\n",
       "  </tbody>\n",
       "</table>\n",
       "</div>"
      ],
      "text/plain": [
       "                             appId  \\\n",
       "0            a2ndappwhats.sdkw.com   \n",
       "1  air.au.com.metro.DumbWaysToDie2   \n",
       "2      air.com.applauz.timeoutkids   \n",
       "3              ajx.com.calltracker   \n",
       "4         allcall.location.tracker   \n",
       "\n",
       "                                                text      category  \n",
       "0  b\"2nd Account for Whatsapp 2 Whatsapps on Same...  surveillance  \n",
       "1  b\"Dumb Ways to Die 2: The Games A new set of d...          none  \n",
       "2  b'Time Out - Behaviour Meter Live Behaviour Me...       control  \n",
       "3  b\"Call Tracker Call Tracker helps you identify...      callerid  \n",
       "4  b\"All Call Location Tracker All Calls Location...      callerid  "
      ]
     },
     "execution_count": 347,
     "metadata": {},
     "output_type": "execute_result"
    }
   ],
   "source": [
    "hpt_data.head()"
   ]
  },
  {
   "cell_type": "code",
   "execution_count": 348,
   "metadata": {},
   "outputs": [],
   "source": [
    "train_data, test_data = train_test_split(hpt_data, test_size = .25, \n",
    "                                         random_state = 28, \n",
    "                                         stratify = list(hpt_data['category']))"
   ]
  },
  {
   "cell_type": "code",
   "execution_count": 349,
   "metadata": {},
   "outputs": [
    {
     "name": "stdout",
     "output_type": "stream",
     "text": [
      "818\n",
      "273\n"
     ]
    }
   ],
   "source": [
    "print(len(train_data))\n",
    "print(len(test_data))"
   ]
  },
  {
   "cell_type": "code",
   "execution_count": 350,
   "metadata": {},
   "outputs": [],
   "source": [
    "train_data = train_data.reset_index()\n",
    "test_data = test_data.reset_index()"
   ]
  },
  {
   "cell_type": "code",
   "execution_count": 351,
   "metadata": {},
   "outputs": [
    {
     "data": {
      "text/html": [
       "<div>\n",
       "<style scoped>\n",
       "    .dataframe tbody tr th:only-of-type {\n",
       "        vertical-align: middle;\n",
       "    }\n",
       "\n",
       "    .dataframe tbody tr th {\n",
       "        vertical-align: top;\n",
       "    }\n",
       "\n",
       "    .dataframe thead th {\n",
       "        text-align: right;\n",
       "    }\n",
       "</style>\n",
       "<table border=\"1\" class=\"dataframe\">\n",
       "  <thead>\n",
       "    <tr style=\"text-align: right;\">\n",
       "      <th></th>\n",
       "      <th>index</th>\n",
       "      <th>appId</th>\n",
       "      <th>text</th>\n",
       "      <th>category</th>\n",
       "    </tr>\n",
       "  </thead>\n",
       "  <tbody>\n",
       "    <tr>\n",
       "      <td>0</td>\n",
       "      <td>292</td>\n",
       "      <td>com.fmee.fmeeserv</td>\n",
       "      <td>b'GPS Tracker By FollowMee Locate and Track Yo...</td>\n",
       "      <td>surveillance</td>\n",
       "    </tr>\n",
       "    <tr>\n",
       "      <td>1</td>\n",
       "      <td>688</td>\n",
       "      <td>com.skibapps.messagespyremover</td>\n",
       "      <td>b'Message Spy Remover (Anti Spy) Detect, Ident...</td>\n",
       "      <td>defense</td>\n",
       "    </tr>\n",
       "    <tr>\n",
       "      <td>2</td>\n",
       "      <td>12</td>\n",
       "      <td>appinventor.ai_oscar_rdzmty7.UnlockPhonePlus_copy</td>\n",
       "      <td>b\"Unlock Phone ( Unlock Codes ) Unlock your ce...</td>\n",
       "      <td>tutorial</td>\n",
       "    </tr>\n",
       "    <tr>\n",
       "      <td>3</td>\n",
       "      <td>236</td>\n",
       "      <td>com.djit.equalizerplusforandroidfree</td>\n",
       "      <td>b\"Equalizer music player booster The best musi...</td>\n",
       "      <td>none</td>\n",
       "    </tr>\n",
       "    <tr>\n",
       "      <td>4</td>\n",
       "      <td>290</td>\n",
       "      <td>com.flexsolution.fakecallsms</td>\n",
       "      <td>b'Fake Call &amp; SMS Make prank call or SMS and t...</td>\n",
       "      <td>spoof</td>\n",
       "    </tr>\n",
       "  </tbody>\n",
       "</table>\n",
       "</div>"
      ],
      "text/plain": [
       "   index                                              appId  \\\n",
       "0    292                                  com.fmee.fmeeserv   \n",
       "1    688                     com.skibapps.messagespyremover   \n",
       "2     12  appinventor.ai_oscar_rdzmty7.UnlockPhonePlus_copy   \n",
       "3    236               com.djit.equalizerplusforandroidfree   \n",
       "4    290                       com.flexsolution.fakecallsms   \n",
       "\n",
       "                                                text      category  \n",
       "0  b'GPS Tracker By FollowMee Locate and Track Yo...  surveillance  \n",
       "1  b'Message Spy Remover (Anti Spy) Detect, Ident...       defense  \n",
       "2  b\"Unlock Phone ( Unlock Codes ) Unlock your ce...      tutorial  \n",
       "3  b\"Equalizer music player booster The best musi...          none  \n",
       "4  b'Fake Call & SMS Make prank call or SMS and t...         spoof  "
      ]
     },
     "execution_count": 351,
     "metadata": {},
     "output_type": "execute_result"
    }
   ],
   "source": [
    "train_data.head()"
   ]
  },
  {
   "cell_type": "code",
   "execution_count": 352,
   "metadata": {},
   "outputs": [],
   "source": [
    "tfidf_init = tfidf(stop_words = stopwords, min_df = 5)\n",
    "vocabulary = tfidf_init.fit(train_data.text)\n",
    "train_matrix = vocabulary.transform(train_data.text).toarray()\n",
    "test_matrix = vocabulary.transform(test_data.text).toarray()"
   ]
  },
  {
   "cell_type": "code",
   "execution_count": 353,
   "metadata": {},
   "outputs": [],
   "source": [
    "train_data = pd.concat([train_data, pd.DataFrame(train_matrix)], axis = 1)\n",
    "test_data = pd.concat([test_data, pd.DataFrame(test_matrix)], axis = 1)"
   ]
  },
  {
   "cell_type": "code",
   "execution_count": 354,
   "metadata": {},
   "outputs": [
    {
     "data": {
      "text/html": [
       "<div>\n",
       "<style scoped>\n",
       "    .dataframe tbody tr th:only-of-type {\n",
       "        vertical-align: middle;\n",
       "    }\n",
       "\n",
       "    .dataframe tbody tr th {\n",
       "        vertical-align: top;\n",
       "    }\n",
       "\n",
       "    .dataframe thead th {\n",
       "        text-align: right;\n",
       "    }\n",
       "</style>\n",
       "<table border=\"1\" class=\"dataframe\">\n",
       "  <thead>\n",
       "    <tr style=\"text-align: right;\">\n",
       "      <th></th>\n",
       "      <th>index</th>\n",
       "      <th>appId</th>\n",
       "      <th>text</th>\n",
       "      <th>category</th>\n",
       "      <th>0</th>\n",
       "      <th>1</th>\n",
       "      <th>2</th>\n",
       "      <th>3</th>\n",
       "      <th>4</th>\n",
       "      <th>5</th>\n",
       "      <th>...</th>\n",
       "      <th>3379</th>\n",
       "      <th>3380</th>\n",
       "      <th>3381</th>\n",
       "      <th>3382</th>\n",
       "      <th>3383</th>\n",
       "      <th>3384</th>\n",
       "      <th>3385</th>\n",
       "      <th>3386</th>\n",
       "      <th>3387</th>\n",
       "      <th>3388</th>\n",
       "    </tr>\n",
       "  </thead>\n",
       "  <tbody>\n",
       "    <tr>\n",
       "      <td>0</td>\n",
       "      <td>292</td>\n",
       "      <td>com.fmee.fmeeserv</td>\n",
       "      <td>b'GPS Tracker By FollowMee Locate and Track Yo...</td>\n",
       "      <td>surveillance</td>\n",
       "      <td>0.0</td>\n",
       "      <td>0.0</td>\n",
       "      <td>0.0</td>\n",
       "      <td>0.021414</td>\n",
       "      <td>0.000000</td>\n",
       "      <td>0.0</td>\n",
       "      <td>...</td>\n",
       "      <td>0.0</td>\n",
       "      <td>0.0</td>\n",
       "      <td>0.0</td>\n",
       "      <td>0.0</td>\n",
       "      <td>0.0</td>\n",
       "      <td>0.0</td>\n",
       "      <td>0.0</td>\n",
       "      <td>0.0</td>\n",
       "      <td>0.0</td>\n",
       "      <td>0.0</td>\n",
       "    </tr>\n",
       "    <tr>\n",
       "      <td>1</td>\n",
       "      <td>688</td>\n",
       "      <td>com.skibapps.messagespyremover</td>\n",
       "      <td>b'Message Spy Remover (Anti Spy) Detect, Ident...</td>\n",
       "      <td>defense</td>\n",
       "      <td>0.0</td>\n",
       "      <td>0.0</td>\n",
       "      <td>0.0</td>\n",
       "      <td>0.032309</td>\n",
       "      <td>0.000000</td>\n",
       "      <td>0.0</td>\n",
       "      <td>...</td>\n",
       "      <td>0.0</td>\n",
       "      <td>0.0</td>\n",
       "      <td>0.0</td>\n",
       "      <td>0.0</td>\n",
       "      <td>0.0</td>\n",
       "      <td>0.0</td>\n",
       "      <td>0.0</td>\n",
       "      <td>0.0</td>\n",
       "      <td>0.0</td>\n",
       "      <td>0.0</td>\n",
       "    </tr>\n",
       "    <tr>\n",
       "      <td>2</td>\n",
       "      <td>12</td>\n",
       "      <td>appinventor.ai_oscar_rdzmty7.UnlockPhonePlus_copy</td>\n",
       "      <td>b\"Unlock Phone ( Unlock Codes ) Unlock your ce...</td>\n",
       "      <td>tutorial</td>\n",
       "      <td>0.0</td>\n",
       "      <td>0.0</td>\n",
       "      <td>0.0</td>\n",
       "      <td>0.036652</td>\n",
       "      <td>0.040718</td>\n",
       "      <td>0.0</td>\n",
       "      <td>...</td>\n",
       "      <td>0.0</td>\n",
       "      <td>0.0</td>\n",
       "      <td>0.0</td>\n",
       "      <td>0.0</td>\n",
       "      <td>0.0</td>\n",
       "      <td>0.0</td>\n",
       "      <td>0.0</td>\n",
       "      <td>0.0</td>\n",
       "      <td>0.0</td>\n",
       "      <td>0.0</td>\n",
       "    </tr>\n",
       "    <tr>\n",
       "      <td>3</td>\n",
       "      <td>236</td>\n",
       "      <td>com.djit.equalizerplusforandroidfree</td>\n",
       "      <td>b\"Equalizer music player booster The best musi...</td>\n",
       "      <td>none</td>\n",
       "      <td>0.0</td>\n",
       "      <td>0.0</td>\n",
       "      <td>0.0</td>\n",
       "      <td>0.021145</td>\n",
       "      <td>0.000000</td>\n",
       "      <td>0.0</td>\n",
       "      <td>...</td>\n",
       "      <td>0.0</td>\n",
       "      <td>0.0</td>\n",
       "      <td>0.0</td>\n",
       "      <td>0.0</td>\n",
       "      <td>0.0</td>\n",
       "      <td>0.0</td>\n",
       "      <td>0.0</td>\n",
       "      <td>0.0</td>\n",
       "      <td>0.0</td>\n",
       "      <td>0.0</td>\n",
       "    </tr>\n",
       "    <tr>\n",
       "      <td>4</td>\n",
       "      <td>290</td>\n",
       "      <td>com.flexsolution.fakecallsms</td>\n",
       "      <td>b'Fake Call &amp; SMS Make prank call or SMS and t...</td>\n",
       "      <td>spoof</td>\n",
       "      <td>0.0</td>\n",
       "      <td>0.0</td>\n",
       "      <td>0.0</td>\n",
       "      <td>0.000000</td>\n",
       "      <td>0.054280</td>\n",
       "      <td>0.0</td>\n",
       "      <td>...</td>\n",
       "      <td>0.0</td>\n",
       "      <td>0.0</td>\n",
       "      <td>0.0</td>\n",
       "      <td>0.0</td>\n",
       "      <td>0.0</td>\n",
       "      <td>0.0</td>\n",
       "      <td>0.0</td>\n",
       "      <td>0.0</td>\n",
       "      <td>0.0</td>\n",
       "      <td>0.0</td>\n",
       "    </tr>\n",
       "  </tbody>\n",
       "</table>\n",
       "<p>5 rows × 3393 columns</p>\n",
       "</div>"
      ],
      "text/plain": [
       "   index                                              appId  \\\n",
       "0    292                                  com.fmee.fmeeserv   \n",
       "1    688                     com.skibapps.messagespyremover   \n",
       "2     12  appinventor.ai_oscar_rdzmty7.UnlockPhonePlus_copy   \n",
       "3    236               com.djit.equalizerplusforandroidfree   \n",
       "4    290                       com.flexsolution.fakecallsms   \n",
       "\n",
       "                                                text      category    0    1  \\\n",
       "0  b'GPS Tracker By FollowMee Locate and Track Yo...  surveillance  0.0  0.0   \n",
       "1  b'Message Spy Remover (Anti Spy) Detect, Ident...       defense  0.0  0.0   \n",
       "2  b\"Unlock Phone ( Unlock Codes ) Unlock your ce...      tutorial  0.0  0.0   \n",
       "3  b\"Equalizer music player booster The best musi...          none  0.0  0.0   \n",
       "4  b'Fake Call & SMS Make prank call or SMS and t...         spoof  0.0  0.0   \n",
       "\n",
       "     2         3         4    5  ...  3379  3380  3381  3382  3383  3384  \\\n",
       "0  0.0  0.021414  0.000000  0.0  ...   0.0   0.0   0.0   0.0   0.0   0.0   \n",
       "1  0.0  0.032309  0.000000  0.0  ...   0.0   0.0   0.0   0.0   0.0   0.0   \n",
       "2  0.0  0.036652  0.040718  0.0  ...   0.0   0.0   0.0   0.0   0.0   0.0   \n",
       "3  0.0  0.021145  0.000000  0.0  ...   0.0   0.0   0.0   0.0   0.0   0.0   \n",
       "4  0.0  0.000000  0.054280  0.0  ...   0.0   0.0   0.0   0.0   0.0   0.0   \n",
       "\n",
       "   3385  3386  3387  3388  \n",
       "0   0.0   0.0   0.0   0.0  \n",
       "1   0.0   0.0   0.0   0.0  \n",
       "2   0.0   0.0   0.0   0.0  \n",
       "3   0.0   0.0   0.0   0.0  \n",
       "4   0.0   0.0   0.0   0.0  \n",
       "\n",
       "[5 rows x 3393 columns]"
      ]
     },
     "execution_count": 354,
     "metadata": {},
     "output_type": "execute_result"
    }
   ],
   "source": [
    "train_data.head()"
   ]
  },
  {
   "cell_type": "code",
   "execution_count": 355,
   "metadata": {},
   "outputs": [],
   "source": [
    "train_labels = train_data.category.values\n",
    "test_labels = test_data.category.values"
   ]
  },
  {
   "cell_type": "code",
   "execution_count": 356,
   "metadata": {},
   "outputs": [],
   "source": [
    "train_id = train_data.appId\n",
    "test_id = test_data.appId"
   ]
  },
  {
   "cell_type": "code",
   "execution_count": 357,
   "metadata": {},
   "outputs": [],
   "source": [
    "train_data = train_data.drop(['index', 'appId', 'text', 'category'], axis = 1)\n",
    "test_data = test_data.drop(['index', 'appId', 'text', 'category'], axis = 1)"
   ]
  },
  {
   "cell_type": "code",
   "execution_count": 358,
   "metadata": {},
   "outputs": [],
   "source": [
    "params = {\n",
    "    'loss': ['hinge', 'log', 'squared_hinge', 'modified_huber'],\n",
    "    'penalty': ['l1', 'l2', 'elasticnet'],\n",
    "    'alpha': [.000001, .00001, .0001, .0005, .001, .005, .01, .05],\n",
    "    'l1_ratio': [0, .15, .3, .45, .6, .75, .9, 1],\n",
    "    'fit_intercept': [True, False],\n",
    "    'learning_rate': ['constant', 'optimal', 'invscaling', 'adaptive'],\n",
    "    'eta0': [.001]\n",
    "}"
   ]
  },
  {
   "cell_type": "code",
   "execution_count": 359,
   "metadata": {},
   "outputs": [
    {
     "data": {
      "text/plain": [
       "6144"
      ]
     },
     "execution_count": 359,
     "metadata": {},
     "output_type": "execute_result"
    }
   ],
   "source": [
    "len(params['loss'])*len(params['penalty'])*len(params['alpha'])*len(params['l1_ratio'])*len(params['fit_intercept'])*len(params['learning_rate'])"
   ]
  },
  {
   "cell_type": "code",
   "execution_count": 360,
   "metadata": {},
   "outputs": [],
   "source": [
    "sgd = SGDClassifier()"
   ]
  },
  {
   "cell_type": "code",
   "execution_count": 361,
   "metadata": {},
   "outputs": [],
   "source": [
    "random_search = rs(sgd, params, n_iter = 30, scoring = 'recall_macro', cv = 3, random_state = 28)"
   ]
  },
  {
   "cell_type": "code",
   "execution_count": 362,
   "metadata": {},
   "outputs": [
    {
     "name": "stderr",
     "output_type": "stream",
     "text": [
      "/usr/local/lib/python3.7/site-packages/sklearn/model_selection/_search.py:814: DeprecationWarning: The default of the `iid` parameter will change from True to False in version 0.22 and will be removed in 0.24. This will change numeric results when test-set sizes are unequal.\n",
      "  DeprecationWarning)\n"
     ]
    },
    {
     "data": {
      "text/plain": [
       "RandomizedSearchCV(cv=3, error_score='raise-deprecating',\n",
       "                   estimator=SGDClassifier(alpha=0.0001, average=False,\n",
       "                                           class_weight=None,\n",
       "                                           early_stopping=False, epsilon=0.1,\n",
       "                                           eta0=0.0, fit_intercept=True,\n",
       "                                           l1_ratio=0.15,\n",
       "                                           learning_rate='optimal',\n",
       "                                           loss='hinge', max_iter=1000,\n",
       "                                           n_iter_no_change=5, n_jobs=None,\n",
       "                                           penalty='l2', power_t=0.5,\n",
       "                                           random_state=None, shuffle=True,\n",
       "                                           tol=0.001, va...\n",
       "                                        'eta0': [0.001],\n",
       "                                        'fit_intercept': [True, False],\n",
       "                                        'l1_ratio': [0, 0.15, 0.3, 0.45, 0.6,\n",
       "                                                     0.75, 0.9, 1],\n",
       "                                        'learning_rate': ['constant', 'optimal',\n",
       "                                                          'invscaling',\n",
       "                                                          'adaptive'],\n",
       "                                        'loss': ['hinge', 'log',\n",
       "                                                 'squared_hinge',\n",
       "                                                 'modified_huber'],\n",
       "                                        'penalty': ['l1', 'l2', 'elasticnet']},\n",
       "                   pre_dispatch='2*n_jobs', random_state=28, refit=True,\n",
       "                   return_train_score=False, scoring='recall_macro', verbose=0)"
      ]
     },
     "execution_count": 362,
     "metadata": {},
     "output_type": "execute_result"
    }
   ],
   "source": [
    "random_search.fit(train_data.values, train_labels)"
   ]
  },
  {
   "cell_type": "code",
   "execution_count": 363,
   "metadata": {},
   "outputs": [],
   "source": [
    "best_sgd = random_search.best_estimator_"
   ]
  },
  {
   "cell_type": "code",
   "execution_count": 364,
   "metadata": {},
   "outputs": [
    {
     "data": {
      "text/plain": [
       "SGDClassifier(alpha=0.0001, average=False, class_weight=None,\n",
       "              early_stopping=False, epsilon=0.1, eta0=0.001, fit_intercept=True,\n",
       "              l1_ratio=0.75, learning_rate='optimal', loss='hinge',\n",
       "              max_iter=1000, n_iter_no_change=5, n_jobs=None, penalty='l1',\n",
       "              power_t=0.5, random_state=None, shuffle=True, tol=0.001,\n",
       "              validation_fraction=0.1, verbose=0, warm_start=False)"
      ]
     },
     "execution_count": 364,
     "metadata": {},
     "output_type": "execute_result"
    }
   ],
   "source": [
    "best_sgd.fit(train_data, train_labels)"
   ]
  },
  {
   "cell_type": "code",
   "execution_count": 366,
   "metadata": {},
   "outputs": [
    {
     "data": {
      "text/plain": [
       "0.7948717948717948"
      ]
     },
     "execution_count": 366,
     "metadata": {},
     "output_type": "execute_result"
    }
   ],
   "source": [
    "best_sgd.score(test_data, test_labels)"
   ]
  },
  {
   "cell_type": "code",
   "execution_count": 368,
   "metadata": {},
   "outputs": [],
   "source": [
    "sgd_predictions = best_sgd.predict(test_data)"
   ]
  },
  {
   "cell_type": "code",
   "execution_count": 370,
   "metadata": {},
   "outputs": [
    {
     "name": "stderr",
     "output_type": "stream",
     "text": [
      "/usr/local/lib/python3.7/site-packages/sklearn/metrics/classification.py:1437: UndefinedMetricWarning: Precision is ill-defined and being set to 0.0 in labels with no predicted samples.\n",
      "  'precision', 'predicted', average, warn_for)\n"
     ]
    },
    {
     "data": {
      "text/plain": [
       "0.6588745083517088"
      ]
     },
     "execution_count": 370,
     "metadata": {},
     "output_type": "execute_result"
    }
   ],
   "source": [
    "precision(test_labels, sgd_predictions, average = 'macro')"
   ]
  },
  {
   "cell_type": "code",
   "execution_count": 371,
   "metadata": {},
   "outputs": [
    {
     "data": {
      "text/plain": [
       "0.6346025729624042"
      ]
     },
     "execution_count": 371,
     "metadata": {},
     "output_type": "execute_result"
    }
   ],
   "source": [
    "recall(test_labels, sgd_predictions, average = 'macro')"
   ]
  },
  {
   "cell_type": "code",
   "execution_count": 372,
   "metadata": {},
   "outputs": [
    {
     "name": "stderr",
     "output_type": "stream",
     "text": [
      "/usr/local/lib/python3.7/site-packages/sklearn/metrics/classification.py:1437: UndefinedMetricWarning: F-score is ill-defined and being set to 0.0 in labels with no predicted samples.\n",
      "  'precision', 'predicted', average, warn_for)\n"
     ]
    },
    {
     "data": {
      "text/plain": [
       "0.6400802081860059"
      ]
     },
     "execution_count": 372,
     "metadata": {},
     "output_type": "execute_result"
    }
   ],
   "source": [
    "f1_score(test_labels, sgd_predictions, average = 'macro')"
   ]
  },
  {
   "cell_type": "code",
   "execution_count": 374,
   "metadata": {},
   "outputs": [
    {
     "data": {
      "text/plain": [
       "array([[  0,   0,   0,   0,   0,   0,   0,   0,   2,   0],\n",
       "       [  0,   5,   0,   0,   0,   0,   3,   0,   2,   0],\n",
       "       [  0,   0,   6,   0,   1,   0,   1,   0,   0,   1],\n",
       "       [  0,   0,   1,  15,   1,   0,   3,   0,   0,   1],\n",
       "       [  0,   0,   0,   1,  14,   0,   1,   0,   0,   0],\n",
       "       [  0,   0,   1,   0,   0,   2,   0,   0,   0,   0],\n",
       "       [  0,   1,   1,   1,   1,   0, 121,   1,   6,   2],\n",
       "       [  0,   0,   0,   1,   0,   0,   1,   7,   0,   2],\n",
       "       [  0,   0,   0,   2,   0,   0,   1,   2,  14,   2],\n",
       "       [  0,   1,   1,   3,   1,   0,   4,   2,   1,  33]])"
      ]
     },
     "execution_count": 374,
     "metadata": {},
     "output_type": "execute_result"
    }
   ],
   "source": [
    "cm(test_labels, sgd_predictions, labels = list(set(test_labels)))"
   ]
  },
  {
   "cell_type": "code",
   "execution_count": 375,
   "metadata": {},
   "outputs": [],
   "source": [
    "with open('allMktData.txt', 'r') as f:\n",
    "    app_data = []\n",
    "    for line in f:\n",
    "        app_data.append(line.split('\\t'))"
   ]
  },
  {
   "cell_type": "code",
   "execution_count": 392,
   "metadata": {},
   "outputs": [
    {
     "data": {
      "text/plain": [
       "391805"
      ]
     },
     "execution_count": 392,
     "metadata": {},
     "output_type": "execute_result"
    }
   ],
   "source": [
    "len(app_data)"
   ]
  },
  {
   "cell_type": "code",
   "execution_count": 390,
   "metadata": {},
   "outputs": [],
   "source": [
    "eng_data = []\n",
    "for app in app_data:\n",
    "    if len(app) == 3:\n",
    "        if langid.classify(app[2])[0] == 'en':\n",
    "            eng_data.append(app)"
   ]
  },
  {
   "cell_type": "code",
   "execution_count": 391,
   "metadata": {},
   "outputs": [
    {
     "data": {
      "text/plain": [
       "337869"
      ]
     },
     "execution_count": 391,
     "metadata": {},
     "output_type": "execute_result"
    }
   ],
   "source": [
    "len(eng_data)"
   ]
  },
  {
   "cell_type": "code",
   "execution_count": 396,
   "metadata": {},
   "outputs": [],
   "source": [
    "formatted_data = []\n",
    "for app in eng_data:\n",
    "    helper = []\n",
    "    helper.append(app[0])\n",
    "    helper.append(app[1] + ' ' + app[2])\n",
    "    formatted_data.append(helper)"
   ]
  },
  {
   "cell_type": "code",
   "execution_count": 397,
   "metadata": {},
   "outputs": [],
   "source": [
    "new_app_data = pd.DataFrame(formatted_data, columns = ['appId', 'text'])"
   ]
  },
  {
   "cell_type": "code",
   "execution_count": 398,
   "metadata": {},
   "outputs": [
    {
     "data": {
      "text/html": [
       "<div>\n",
       "<style scoped>\n",
       "    .dataframe tbody tr th:only-of-type {\n",
       "        vertical-align: middle;\n",
       "    }\n",
       "\n",
       "    .dataframe tbody tr th {\n",
       "        vertical-align: top;\n",
       "    }\n",
       "\n",
       "    .dataframe thead th {\n",
       "        text-align: right;\n",
       "    }\n",
       "</style>\n",
       "<table border=\"1\" class=\"dataframe\">\n",
       "  <thead>\n",
       "    <tr style=\"text-align: right;\">\n",
       "      <th></th>\n",
       "      <th>appId</th>\n",
       "      <th>text</th>\n",
       "    </tr>\n",
       "  </thead>\n",
       "  <tbody>\n",
       "    <tr>\n",
       "      <td>0</td>\n",
       "      <td>com.cupidmedia.wrapper.pinkcupid</td>\n",
       "      <td>PinkCupid - Lesbian Dating App PinkCupid is a ...</td>\n",
       "    </tr>\n",
       "    <tr>\n",
       "      <td>1</td>\n",
       "      <td>com.spencerlearning.ultimatephonics</td>\n",
       "      <td>Ultimate Phonics Reading App This app is a mus...</td>\n",
       "    </tr>\n",
       "    <tr>\n",
       "      <td>2</td>\n",
       "      <td>com.pocketprep.ase</td>\n",
       "      <td>ASE A-Series Pocket Prep Automobile technician...</td>\n",
       "    </tr>\n",
       "    <tr>\n",
       "      <td>3</td>\n",
       "      <td>com.pocketprep.ftce</td>\n",
       "      <td>FTCE Pocket Prep Pocket Prep’s FTCE® practice ...</td>\n",
       "    </tr>\n",
       "    <tr>\n",
       "      <td>4</td>\n",
       "      <td>com.schoolpro</td>\n",
       "      <td>School Assistant + School Assistant + is your ...</td>\n",
       "    </tr>\n",
       "  </tbody>\n",
       "</table>\n",
       "</div>"
      ],
      "text/plain": [
       "                                 appId  \\\n",
       "0     com.cupidmedia.wrapper.pinkcupid   \n",
       "1  com.spencerlearning.ultimatephonics   \n",
       "2                   com.pocketprep.ase   \n",
       "3                  com.pocketprep.ftce   \n",
       "4                        com.schoolpro   \n",
       "\n",
       "                                                text  \n",
       "0  PinkCupid - Lesbian Dating App PinkCupid is a ...  \n",
       "1  Ultimate Phonics Reading App This app is a mus...  \n",
       "2  ASE A-Series Pocket Prep Automobile technician...  \n",
       "3  FTCE Pocket Prep Pocket Prep’s FTCE® practice ...  \n",
       "4  School Assistant + School Assistant + is your ...  "
      ]
     },
     "execution_count": 398,
     "metadata": {},
     "output_type": "execute_result"
    }
   ],
   "source": [
    "new_app_data.head()"
   ]
  },
  {
   "cell_type": "code",
   "execution_count": 402,
   "metadata": {},
   "outputs": [
    {
     "data": {
      "text/html": [
       "<div>\n",
       "<style scoped>\n",
       "    .dataframe tbody tr th:only-of-type {\n",
       "        vertical-align: middle;\n",
       "    }\n",
       "\n",
       "    .dataframe tbody tr th {\n",
       "        vertical-align: top;\n",
       "    }\n",
       "\n",
       "    .dataframe thead th {\n",
       "        text-align: right;\n",
       "    }\n",
       "</style>\n",
       "<table border=\"1\" class=\"dataframe\">\n",
       "  <thead>\n",
       "    <tr style=\"text-align: right;\">\n",
       "      <th></th>\n",
       "      <th>appId</th>\n",
       "      <th>text</th>\n",
       "      <th>category</th>\n",
       "    </tr>\n",
       "  </thead>\n",
       "  <tbody>\n",
       "    <tr>\n",
       "      <td>0</td>\n",
       "      <td>a2ndappwhats.sdkw.com</td>\n",
       "      <td>b\"2nd Account for Whatsapp 2 Whatsapps on Same...</td>\n",
       "      <td>surveillance</td>\n",
       "    </tr>\n",
       "    <tr>\n",
       "      <td>1</td>\n",
       "      <td>air.au.com.metro.DumbWaysToDie2</td>\n",
       "      <td>b\"Dumb Ways to Die 2: The Games A new set of d...</td>\n",
       "      <td>none</td>\n",
       "    </tr>\n",
       "    <tr>\n",
       "      <td>2</td>\n",
       "      <td>air.com.applauz.timeoutkids</td>\n",
       "      <td>b'Time Out - Behaviour Meter Live Behaviour Me...</td>\n",
       "      <td>control</td>\n",
       "    </tr>\n",
       "    <tr>\n",
       "      <td>3</td>\n",
       "      <td>ajx.com.calltracker</td>\n",
       "      <td>b\"Call Tracker Call Tracker helps you identify...</td>\n",
       "      <td>callerid</td>\n",
       "    </tr>\n",
       "    <tr>\n",
       "      <td>4</td>\n",
       "      <td>allcall.location.tracker</td>\n",
       "      <td>b\"All Call Location Tracker All Calls Location...</td>\n",
       "      <td>callerid</td>\n",
       "    </tr>\n",
       "  </tbody>\n",
       "</table>\n",
       "</div>"
      ],
      "text/plain": [
       "                             appId  \\\n",
       "0            a2ndappwhats.sdkw.com   \n",
       "1  air.au.com.metro.DumbWaysToDie2   \n",
       "2      air.com.applauz.timeoutkids   \n",
       "3              ajx.com.calltracker   \n",
       "4         allcall.location.tracker   \n",
       "\n",
       "                                                text      category  \n",
       "0  b\"2nd Account for Whatsapp 2 Whatsapps on Same...  surveillance  \n",
       "1  b\"Dumb Ways to Die 2: The Games A new set of d...          none  \n",
       "2  b'Time Out - Behaviour Meter Live Behaviour Me...       control  \n",
       "3  b\"Call Tracker Call Tracker helps you identify...      callerid  \n",
       "4  b\"All Call Location Tracker All Calls Location...      callerid  "
      ]
     },
     "execution_count": 402,
     "metadata": {},
     "output_type": "execute_result"
    }
   ],
   "source": [
    "data.head()"
   ]
  },
  {
   "cell_type": "code",
   "execution_count": 403,
   "metadata": {},
   "outputs": [],
   "source": [
    "tfidf_init = tfidf(stop_words = stopwords, min_df = 5)\n",
    "vocabulary = tfidf_init.fit(data.text)"
   ]
  },
  {
   "cell_type": "code",
   "execution_count": 404,
   "metadata": {},
   "outputs": [],
   "source": [
    "new_app_data_matrix = vocabulary.transform(new_app_data.text.values)\n",
    "data_matrix = vocabulary.transform(data.text.values)"
   ]
  },
  {
   "cell_type": "code",
   "execution_count": 408,
   "metadata": {},
   "outputs": [],
   "source": [
    "new_app_data = pd.concat([new_app_data, pd.DataFrame(new_app_data_matrix.toarray())], axis = 1)"
   ]
  },
  {
   "cell_type": "code",
   "execution_count": 407,
   "metadata": {},
   "outputs": [],
   "source": [
    "data = pd.concat([data, pd.DataFrame(data_matrix.toarray())], axis = 1)"
   ]
  },
  {
   "cell_type": "code",
   "execution_count": 409,
   "metadata": {},
   "outputs": [
    {
     "data": {
      "text/html": [
       "<div>\n",
       "<style scoped>\n",
       "    .dataframe tbody tr th:only-of-type {\n",
       "        vertical-align: middle;\n",
       "    }\n",
       "\n",
       "    .dataframe tbody tr th {\n",
       "        vertical-align: top;\n",
       "    }\n",
       "\n",
       "    .dataframe thead th {\n",
       "        text-align: right;\n",
       "    }\n",
       "</style>\n",
       "<table border=\"1\" class=\"dataframe\">\n",
       "  <thead>\n",
       "    <tr style=\"text-align: right;\">\n",
       "      <th></th>\n",
       "      <th>appId</th>\n",
       "      <th>text</th>\n",
       "      <th>category</th>\n",
       "      <th>0</th>\n",
       "      <th>1</th>\n",
       "      <th>2</th>\n",
       "      <th>3</th>\n",
       "      <th>4</th>\n",
       "      <th>5</th>\n",
       "      <th>6</th>\n",
       "      <th>...</th>\n",
       "      <th>4031</th>\n",
       "      <th>4032</th>\n",
       "      <th>4033</th>\n",
       "      <th>4034</th>\n",
       "      <th>4035</th>\n",
       "      <th>4036</th>\n",
       "      <th>4037</th>\n",
       "      <th>4038</th>\n",
       "      <th>4039</th>\n",
       "      <th>4040</th>\n",
       "    </tr>\n",
       "  </thead>\n",
       "  <tbody>\n",
       "    <tr>\n",
       "      <td>0</td>\n",
       "      <td>a2ndappwhats.sdkw.com</td>\n",
       "      <td>b\"2nd Account for Whatsapp 2 Whatsapps on Same...</td>\n",
       "      <td>surveillance</td>\n",
       "      <td>0.0</td>\n",
       "      <td>0.0</td>\n",
       "      <td>0.0</td>\n",
       "      <td>0.0</td>\n",
       "      <td>0.0</td>\n",
       "      <td>0.0</td>\n",
       "      <td>0.0</td>\n",
       "      <td>...</td>\n",
       "      <td>0.0</td>\n",
       "      <td>0.0</td>\n",
       "      <td>0.0</td>\n",
       "      <td>0.0</td>\n",
       "      <td>0.104762</td>\n",
       "      <td>0.0</td>\n",
       "      <td>0.0</td>\n",
       "      <td>0.0</td>\n",
       "      <td>0.0</td>\n",
       "      <td>0.0</td>\n",
       "    </tr>\n",
       "    <tr>\n",
       "      <td>1</td>\n",
       "      <td>air.au.com.metro.DumbWaysToDie2</td>\n",
       "      <td>b\"Dumb Ways to Die 2: The Games A new set of d...</td>\n",
       "      <td>none</td>\n",
       "      <td>0.0</td>\n",
       "      <td>0.0</td>\n",
       "      <td>0.0</td>\n",
       "      <td>0.0</td>\n",
       "      <td>0.0</td>\n",
       "      <td>0.0</td>\n",
       "      <td>0.0</td>\n",
       "      <td>...</td>\n",
       "      <td>0.0</td>\n",
       "      <td>0.0</td>\n",
       "      <td>0.0</td>\n",
       "      <td>0.0</td>\n",
       "      <td>0.000000</td>\n",
       "      <td>0.0</td>\n",
       "      <td>0.0</td>\n",
       "      <td>0.0</td>\n",
       "      <td>0.0</td>\n",
       "      <td>0.0</td>\n",
       "    </tr>\n",
       "    <tr>\n",
       "      <td>2</td>\n",
       "      <td>air.com.applauz.timeoutkids</td>\n",
       "      <td>b'Time Out - Behaviour Meter Live Behaviour Me...</td>\n",
       "      <td>control</td>\n",
       "      <td>0.0</td>\n",
       "      <td>0.0</td>\n",
       "      <td>0.0</td>\n",
       "      <td>0.0</td>\n",
       "      <td>0.0</td>\n",
       "      <td>0.0</td>\n",
       "      <td>0.0</td>\n",
       "      <td>...</td>\n",
       "      <td>0.0</td>\n",
       "      <td>0.0</td>\n",
       "      <td>0.0</td>\n",
       "      <td>0.0</td>\n",
       "      <td>0.000000</td>\n",
       "      <td>0.0</td>\n",
       "      <td>0.0</td>\n",
       "      <td>0.0</td>\n",
       "      <td>0.0</td>\n",
       "      <td>0.0</td>\n",
       "    </tr>\n",
       "    <tr>\n",
       "      <td>3</td>\n",
       "      <td>ajx.com.calltracker</td>\n",
       "      <td>b\"Call Tracker Call Tracker helps you identify...</td>\n",
       "      <td>callerid</td>\n",
       "      <td>0.0</td>\n",
       "      <td>0.0</td>\n",
       "      <td>0.0</td>\n",
       "      <td>0.0</td>\n",
       "      <td>0.0</td>\n",
       "      <td>0.0</td>\n",
       "      <td>0.0</td>\n",
       "      <td>...</td>\n",
       "      <td>0.0</td>\n",
       "      <td>0.0</td>\n",
       "      <td>0.0</td>\n",
       "      <td>0.0</td>\n",
       "      <td>0.000000</td>\n",
       "      <td>0.0</td>\n",
       "      <td>0.0</td>\n",
       "      <td>0.0</td>\n",
       "      <td>0.0</td>\n",
       "      <td>0.0</td>\n",
       "    </tr>\n",
       "    <tr>\n",
       "      <td>4</td>\n",
       "      <td>allcall.location.tracker</td>\n",
       "      <td>b\"All Call Location Tracker All Calls Location...</td>\n",
       "      <td>callerid</td>\n",
       "      <td>0.0</td>\n",
       "      <td>0.0</td>\n",
       "      <td>0.0</td>\n",
       "      <td>0.0</td>\n",
       "      <td>0.0</td>\n",
       "      <td>0.0</td>\n",
       "      <td>0.0</td>\n",
       "      <td>...</td>\n",
       "      <td>0.0</td>\n",
       "      <td>0.0</td>\n",
       "      <td>0.0</td>\n",
       "      <td>0.0</td>\n",
       "      <td>0.000000</td>\n",
       "      <td>0.0</td>\n",
       "      <td>0.0</td>\n",
       "      <td>0.0</td>\n",
       "      <td>0.0</td>\n",
       "      <td>0.0</td>\n",
       "    </tr>\n",
       "  </tbody>\n",
       "</table>\n",
       "<p>5 rows × 4044 columns</p>\n",
       "</div>"
      ],
      "text/plain": [
       "                             appId  \\\n",
       "0            a2ndappwhats.sdkw.com   \n",
       "1  air.au.com.metro.DumbWaysToDie2   \n",
       "2      air.com.applauz.timeoutkids   \n",
       "3              ajx.com.calltracker   \n",
       "4         allcall.location.tracker   \n",
       "\n",
       "                                                text      category    0    1  \\\n",
       "0  b\"2nd Account for Whatsapp 2 Whatsapps on Same...  surveillance  0.0  0.0   \n",
       "1  b\"Dumb Ways to Die 2: The Games A new set of d...          none  0.0  0.0   \n",
       "2  b'Time Out - Behaviour Meter Live Behaviour Me...       control  0.0  0.0   \n",
       "3  b\"Call Tracker Call Tracker helps you identify...      callerid  0.0  0.0   \n",
       "4  b\"All Call Location Tracker All Calls Location...      callerid  0.0  0.0   \n",
       "\n",
       "     2    3    4    5    6  ...  4031  4032  4033  4034      4035  4036  4037  \\\n",
       "0  0.0  0.0  0.0  0.0  0.0  ...   0.0   0.0   0.0   0.0  0.104762   0.0   0.0   \n",
       "1  0.0  0.0  0.0  0.0  0.0  ...   0.0   0.0   0.0   0.0  0.000000   0.0   0.0   \n",
       "2  0.0  0.0  0.0  0.0  0.0  ...   0.0   0.0   0.0   0.0  0.000000   0.0   0.0   \n",
       "3  0.0  0.0  0.0  0.0  0.0  ...   0.0   0.0   0.0   0.0  0.000000   0.0   0.0   \n",
       "4  0.0  0.0  0.0  0.0  0.0  ...   0.0   0.0   0.0   0.0  0.000000   0.0   0.0   \n",
       "\n",
       "   4038  4039  4040  \n",
       "0   0.0   0.0   0.0  \n",
       "1   0.0   0.0   0.0  \n",
       "2   0.0   0.0   0.0  \n",
       "3   0.0   0.0   0.0  \n",
       "4   0.0   0.0   0.0  \n",
       "\n",
       "[5 rows x 4044 columns]"
      ]
     },
     "execution_count": 409,
     "metadata": {},
     "output_type": "execute_result"
    }
   ],
   "source": [
    "data.head()"
   ]
  },
  {
   "cell_type": "code",
   "execution_count": 410,
   "metadata": {},
   "outputs": [
    {
     "data": {
      "text/html": [
       "<div>\n",
       "<style scoped>\n",
       "    .dataframe tbody tr th:only-of-type {\n",
       "        vertical-align: middle;\n",
       "    }\n",
       "\n",
       "    .dataframe tbody tr th {\n",
       "        vertical-align: top;\n",
       "    }\n",
       "\n",
       "    .dataframe thead th {\n",
       "        text-align: right;\n",
       "    }\n",
       "</style>\n",
       "<table border=\"1\" class=\"dataframe\">\n",
       "  <thead>\n",
       "    <tr style=\"text-align: right;\">\n",
       "      <th></th>\n",
       "      <th>appId</th>\n",
       "      <th>text</th>\n",
       "      <th>0</th>\n",
       "      <th>1</th>\n",
       "      <th>2</th>\n",
       "      <th>3</th>\n",
       "      <th>4</th>\n",
       "      <th>5</th>\n",
       "      <th>6</th>\n",
       "      <th>7</th>\n",
       "      <th>...</th>\n",
       "      <th>4031</th>\n",
       "      <th>4032</th>\n",
       "      <th>4033</th>\n",
       "      <th>4034</th>\n",
       "      <th>4035</th>\n",
       "      <th>4036</th>\n",
       "      <th>4037</th>\n",
       "      <th>4038</th>\n",
       "      <th>4039</th>\n",
       "      <th>4040</th>\n",
       "    </tr>\n",
       "  </thead>\n",
       "  <tbody>\n",
       "    <tr>\n",
       "      <td>0</td>\n",
       "      <td>com.cupidmedia.wrapper.pinkcupid</td>\n",
       "      <td>PinkCupid - Lesbian Dating App PinkCupid is a ...</td>\n",
       "      <td>0.0</td>\n",
       "      <td>0.000000</td>\n",
       "      <td>0.0</td>\n",
       "      <td>0.000000</td>\n",
       "      <td>0.00000</td>\n",
       "      <td>0.0</td>\n",
       "      <td>0.000000</td>\n",
       "      <td>0.0</td>\n",
       "      <td>...</td>\n",
       "      <td>0.0</td>\n",
       "      <td>0.0</td>\n",
       "      <td>0.0</td>\n",
       "      <td>0.0</td>\n",
       "      <td>0.0</td>\n",
       "      <td>0.0</td>\n",
       "      <td>0.0</td>\n",
       "      <td>0.0</td>\n",
       "      <td>0.0</td>\n",
       "      <td>0.0</td>\n",
       "    </tr>\n",
       "    <tr>\n",
       "      <td>1</td>\n",
       "      <td>com.spencerlearning.ultimatephonics</td>\n",
       "      <td>Ultimate Phonics Reading App This app is a mus...</td>\n",
       "      <td>0.0</td>\n",
       "      <td>0.000000</td>\n",
       "      <td>0.0</td>\n",
       "      <td>0.006727</td>\n",
       "      <td>0.00756</td>\n",
       "      <td>0.0</td>\n",
       "      <td>0.011026</td>\n",
       "      <td>0.0</td>\n",
       "      <td>...</td>\n",
       "      <td>0.0</td>\n",
       "      <td>0.0</td>\n",
       "      <td>0.0</td>\n",
       "      <td>0.0</td>\n",
       "      <td>0.0</td>\n",
       "      <td>0.0</td>\n",
       "      <td>0.0</td>\n",
       "      <td>0.0</td>\n",
       "      <td>0.0</td>\n",
       "      <td>0.0</td>\n",
       "    </tr>\n",
       "    <tr>\n",
       "      <td>2</td>\n",
       "      <td>com.pocketprep.ase</td>\n",
       "      <td>ASE A-Series Pocket Prep Automobile technician...</td>\n",
       "      <td>0.0</td>\n",
       "      <td>0.016221</td>\n",
       "      <td>0.0</td>\n",
       "      <td>0.000000</td>\n",
       "      <td>0.00000</td>\n",
       "      <td>0.0</td>\n",
       "      <td>0.000000</td>\n",
       "      <td>0.0</td>\n",
       "      <td>...</td>\n",
       "      <td>0.0</td>\n",
       "      <td>0.0</td>\n",
       "      <td>0.0</td>\n",
       "      <td>0.0</td>\n",
       "      <td>0.0</td>\n",
       "      <td>0.0</td>\n",
       "      <td>0.0</td>\n",
       "      <td>0.0</td>\n",
       "      <td>0.0</td>\n",
       "      <td>0.0</td>\n",
       "    </tr>\n",
       "    <tr>\n",
       "      <td>3</td>\n",
       "      <td>com.pocketprep.ftce</td>\n",
       "      <td>FTCE Pocket Prep Pocket Prep’s FTCE® practice ...</td>\n",
       "      <td>0.0</td>\n",
       "      <td>0.000000</td>\n",
       "      <td>0.0</td>\n",
       "      <td>0.000000</td>\n",
       "      <td>0.00000</td>\n",
       "      <td>0.0</td>\n",
       "      <td>0.000000</td>\n",
       "      <td>0.0</td>\n",
       "      <td>...</td>\n",
       "      <td>0.0</td>\n",
       "      <td>0.0</td>\n",
       "      <td>0.0</td>\n",
       "      <td>0.0</td>\n",
       "      <td>0.0</td>\n",
       "      <td>0.0</td>\n",
       "      <td>0.0</td>\n",
       "      <td>0.0</td>\n",
       "      <td>0.0</td>\n",
       "      <td>0.0</td>\n",
       "    </tr>\n",
       "    <tr>\n",
       "      <td>4</td>\n",
       "      <td>com.schoolpro</td>\n",
       "      <td>School Assistant + School Assistant + is your ...</td>\n",
       "      <td>0.0</td>\n",
       "      <td>0.000000</td>\n",
       "      <td>0.0</td>\n",
       "      <td>0.000000</td>\n",
       "      <td>0.00000</td>\n",
       "      <td>0.0</td>\n",
       "      <td>0.000000</td>\n",
       "      <td>0.0</td>\n",
       "      <td>...</td>\n",
       "      <td>0.0</td>\n",
       "      <td>0.0</td>\n",
       "      <td>0.0</td>\n",
       "      <td>0.0</td>\n",
       "      <td>0.0</td>\n",
       "      <td>0.0</td>\n",
       "      <td>0.0</td>\n",
       "      <td>0.0</td>\n",
       "      <td>0.0</td>\n",
       "      <td>0.0</td>\n",
       "    </tr>\n",
       "  </tbody>\n",
       "</table>\n",
       "<p>5 rows × 4043 columns</p>\n",
       "</div>"
      ],
      "text/plain": [
       "                                 appId  \\\n",
       "0     com.cupidmedia.wrapper.pinkcupid   \n",
       "1  com.spencerlearning.ultimatephonics   \n",
       "2                   com.pocketprep.ase   \n",
       "3                  com.pocketprep.ftce   \n",
       "4                        com.schoolpro   \n",
       "\n",
       "                                                text    0         1    2  \\\n",
       "0  PinkCupid - Lesbian Dating App PinkCupid is a ...  0.0  0.000000  0.0   \n",
       "1  Ultimate Phonics Reading App This app is a mus...  0.0  0.000000  0.0   \n",
       "2  ASE A-Series Pocket Prep Automobile technician...  0.0  0.016221  0.0   \n",
       "3  FTCE Pocket Prep Pocket Prep’s FTCE® practice ...  0.0  0.000000  0.0   \n",
       "4  School Assistant + School Assistant + is your ...  0.0  0.000000  0.0   \n",
       "\n",
       "          3        4    5         6    7  ...  4031  4032  4033  4034  4035  \\\n",
       "0  0.000000  0.00000  0.0  0.000000  0.0  ...   0.0   0.0   0.0   0.0   0.0   \n",
       "1  0.006727  0.00756  0.0  0.011026  0.0  ...   0.0   0.0   0.0   0.0   0.0   \n",
       "2  0.000000  0.00000  0.0  0.000000  0.0  ...   0.0   0.0   0.0   0.0   0.0   \n",
       "3  0.000000  0.00000  0.0  0.000000  0.0  ...   0.0   0.0   0.0   0.0   0.0   \n",
       "4  0.000000  0.00000  0.0  0.000000  0.0  ...   0.0   0.0   0.0   0.0   0.0   \n",
       "\n",
       "   4036  4037  4038  4039  4040  \n",
       "0   0.0   0.0   0.0   0.0   0.0  \n",
       "1   0.0   0.0   0.0   0.0   0.0  \n",
       "2   0.0   0.0   0.0   0.0   0.0  \n",
       "3   0.0   0.0   0.0   0.0   0.0  \n",
       "4   0.0   0.0   0.0   0.0   0.0  \n",
       "\n",
       "[5 rows x 4043 columns]"
      ]
     },
     "execution_count": 410,
     "metadata": {},
     "output_type": "execute_result"
    }
   ],
   "source": [
    "new_app_data.head()"
   ]
  },
  {
   "cell_type": "code",
   "execution_count": 414,
   "metadata": {},
   "outputs": [
    {
     "data": {
      "text/plain": [
       "SGDClassifier(alpha=0.0001, average=False, class_weight=None,\n",
       "              early_stopping=False, epsilon=0.1, eta0=0.001, fit_intercept=True,\n",
       "              l1_ratio=0.75, learning_rate='optimal', loss='hinge',\n",
       "              max_iter=1000, n_iter_no_change=5, n_jobs=None, penalty='l1',\n",
       "              power_t=0.5, random_state=None, shuffle=True, tol=0.001,\n",
       "              validation_fraction=0.1, verbose=0, warm_start=False)"
      ]
     },
     "execution_count": 414,
     "metadata": {},
     "output_type": "execute_result"
    }
   ],
   "source": [
    "best_sgd.fit(data.drop(['appId', 'text', 'category'], axis = 1).values, data.category.values)"
   ]
  },
  {
   "cell_type": "code",
   "execution_count": 575,
   "metadata": {},
   "outputs": [],
   "source": [
    "features = vocabulary.get_feature_names()"
   ]
  },
  {
   "cell_type": "code",
   "execution_count": 583,
   "metadata": {},
   "outputs": [
    {
     "data": {
      "text/plain": [
       "4041"
      ]
     },
     "execution_count": 583,
     "metadata": {},
     "output_type": "execute_result"
    }
   ],
   "source": [
    "len(features)"
   ]
  },
  {
   "cell_type": "code",
   "execution_count": 581,
   "metadata": {},
   "outputs": [],
   "source": [
    "indicies = np.argsort(best_sgd.coef_)\n",
    "indicies = indicies[0]\n",
    "top_words = np.array(features)[indicies]"
   ]
  },
  {
   "cell_type": "code",
   "execution_count": 582,
   "metadata": {},
   "outputs": [
    {
     "data": {
      "text/plain": [
       "array(['phone', 'device', 'hated', 'changer', 'displaying', 'satellite',\n",
       "       'free', 'family', 'id', 'sms', 'deleted', 'incoming', 'route',\n",
       "       'tracer', 'credits', 'install', 'spoof', 'uk', 'true', 'change',\n",
       "       'gps', 'locate', 'trackers', 'operating', 'hacking', 'crime',\n",
       "       'manager', 'hide', 'imei', 'cellular', 'really', 'smart',\n",
       "       'unlimited', 'reach', 'help', 'graphical', 'information', 'gt',\n",
       "       'texts', 'lost', 'data', 'view', 'fine', 'fetch', 'used',\n",
       "       'whatsapp', 'outgoing', 'needed', 'recovery', 'option', 'actual',\n",
       "       'stolen', 'pranked', 'practices', 'portrait', 'prank', 'posted',\n",
       "       'pre', 'pranks', 'precautions', 'port', 'precious', 'precise',\n",
       "       'popups', 'portal', 'portuguese', 'position', 'practical', 'posts',\n",
       "       'potential', 'potentially', 'post', 'possibly', 'possible',\n",
       "       'possibility', 'practice', 'power', 'possibilities', 'positive',\n",
       "       'positions', 'powerful', 'ppl', 'posting', 'português', 'powered',\n",
       "       '00', 'prepared', 'prefer', 'privacy', 'private', 'privately',\n",
       "       'privilege', 'privileges', 'privo', 'prize', 'prizes', 'pro',\n",
       "       'probability', 'probably', 'problem'], dtype='<U15')"
      ]
     },
     "execution_count": 582,
     "metadata": {},
     "output_type": "execute_result"
    }
   ],
   "source": [
    "top_words[:100]"
   ]
  },
  {
   "cell_type": "code",
   "execution_count": 415,
   "metadata": {},
   "outputs": [],
   "source": [
    "new_app_predictions = best_sgd.predict(new_app_data.drop(['appId', 'text'], axis = 1).values)"
   ]
  },
  {
   "cell_type": "code",
   "execution_count": 429,
   "metadata": {},
   "outputs": [],
   "source": [
    "send_to_paula = pd.concat([new_app_data[['appId', 'text']], pd.DataFrame(new_app_predictions, columns = ['prediction'])], axis = 1)"
   ]
  },
  {
   "cell_type": "code",
   "execution_count": 421,
   "metadata": {},
   "outputs": [],
   "source": [
    "send_to_paula = send_to_paula.sample(n=100, random_state = 28)"
   ]
  },
  {
   "cell_type": "code",
   "execution_count": 423,
   "metadata": {},
   "outputs": [],
   "source": [
    "send_to_paula_no_pred = send_to_paula.drop(['prediction'], axis = 1)"
   ]
  },
  {
   "cell_type": "code",
   "execution_count": 424,
   "metadata": {},
   "outputs": [],
   "source": [
    "send_to_paula.to_csv('/Users/nissani/Desktop/IPV/predicted_apps_100.csv')"
   ]
  },
  {
   "cell_type": "code",
   "execution_count": 426,
   "metadata": {},
   "outputs": [],
   "source": [
    "send_to_paula_no_pred.to_csv('/Users/nissani/Desktop/IPV/predicted_apps_100_no_pred.csv')"
   ]
  },
  {
   "cell_type": "code",
   "execution_count": 428,
   "metadata": {},
   "outputs": [
    {
     "data": {
      "text/plain": [
       "surveillance       537\n",
       "none               182\n",
       "defense             84\n",
       "info-extraction     83\n",
       "spoof               65\n",
       "tutorial            45\n",
       "callerid            41\n",
       "harassment          37\n",
       "evasion             11\n",
       "control              6\n",
       "Name: category, dtype: int64"
      ]
     },
     "execution_count": 428,
     "metadata": {},
     "output_type": "execute_result"
    }
   ],
   "source": [
    "data.category.value_counts()"
   ]
  },
  {
   "cell_type": "code",
   "execution_count": 524,
   "metadata": {},
   "outputs": [
    {
     "data": {
      "text/plain": [
       "Text(0, 0.5, 'Count')"
      ]
     },
     "execution_count": 524,
     "metadata": {},
     "output_type": "execute_result"
    },
    {
     "data": {
      "image/png": "[encoded data removed]",
      "text/plain": [
       "<Figure size 432x288 with 1 Axes>"
      ]
     },
     "metadata": {
      "needs_background": "light"
     },
     "output_type": "display_data"
    }
   ],
   "source": [
    "send_to_paula.prediction.value_counts().plot(kind = 'bar')\n",
    "plt.title('Distribution of App Categories: Classifier')\n",
    "plt.xlabel('Category')\n",
    "plt.ylabel('Count')"
   ]
  },
  {
   "cell_type": "code",
   "execution_count": 434,
   "metadata": {},
   "outputs": [
    {
     "data": {
      "text/plain": [
       "none               325185\n",
       "surveillance         7123\n",
       "spoof                2071\n",
       "defense              1940\n",
       "info-extraction       734\n",
       "tutorial              573\n",
       "harassment             96\n",
       "evasion                85\n",
       "callerid               48\n",
       "control                14\n",
       "Name: prediction, dtype: int64"
      ]
     },
     "execution_count": 434,
     "metadata": {},
     "output_type": "execute_result"
    }
   ],
   "source": [
    "send_to_paula.prediction.value_counts()"
   ]
  },
  {
   "cell_type": "code",
   "execution_count": 525,
   "metadata": {},
   "outputs": [
    {
     "data": {
      "text/plain": [
       "Text(0, 0.5, 'Count')"
      ]
     },
     "execution_count": 525,
     "metadata": {},
     "output_type": "execute_result"
    },
    {
     "data": {
      "image/png": "[encoded data removed]",
      "text/plain": [
       "<Figure size 432x288 with 1 Axes>"
      ]
     },
     "metadata": {
      "needs_background": "light"
     },
     "output_type": "display_data"
    }
   ],
   "source": [
    "data.category.value_counts().plot(kind = 'bar')\n",
    "plt.title('Distribution of App Categories: Our Labels')\n",
    "plt.xlabel('Category')\n",
    "plt.ylabel('Count')"
   ]
  },
  {
   "cell_type": "code",
   "execution_count": 436,
   "metadata": {},
   "outputs": [
    {
     "data": {
      "text/plain": [
       "surveillance       537\n",
       "none               182\n",
       "defense             84\n",
       "info-extraction     83\n",
       "spoof               65\n",
       "tutorial            45\n",
       "callerid            41\n",
       "harassment          37\n",
       "evasion             11\n",
       "control              6\n",
       "Name: category, dtype: int64"
      ]
     },
     "execution_count": 436,
     "metadata": {},
     "output_type": "execute_result"
    }
   ],
   "source": [
    "data.category.value_counts()"
   ]
  },
  {
   "cell_type": "code",
   "execution_count": 526,
   "metadata": {},
   "outputs": [
    {
     "data": {
      "text/plain": [
       "337869"
      ]
     },
     "execution_count": 526,
     "metadata": {},
     "output_type": "execute_result"
    }
   ],
   "source": [
    "len(send_to_paula)"
   ]
  },
  {
   "cell_type": "code",
   "execution_count": 527,
   "metadata": {},
   "outputs": [
    {
     "data": {
      "text/html": [
       "<div>\n",
       "<style scoped>\n",
       "    .dataframe tbody tr th:only-of-type {\n",
       "        vertical-align: middle;\n",
       "    }\n",
       "\n",
       "    .dataframe tbody tr th {\n",
       "        vertical-align: top;\n",
       "    }\n",
       "\n",
       "    .dataframe thead th {\n",
       "        text-align: right;\n",
       "    }\n",
       "</style>\n",
       "<table border=\"1\" class=\"dataframe\">\n",
       "  <thead>\n",
       "    <tr style=\"text-align: right;\">\n",
       "      <th></th>\n",
       "      <th>appId</th>\n",
       "      <th>text</th>\n",
       "      <th>prediction</th>\n",
       "    </tr>\n",
       "  </thead>\n",
       "  <tbody>\n",
       "    <tr>\n",
       "      <td>25664</td>\n",
       "      <td>com.voicecorder.bestrecorder.audiorecorder</td>\n",
       "      <td>Voice Recorder Voice recorder is a high qualit...</td>\n",
       "      <td>surveillance</td>\n",
       "    </tr>\n",
       "    <tr>\n",
       "      <td>22952</td>\n",
       "      <td>com.isenet.jettingforhusqvarna</td>\n",
       "      <td>Jetting for Husqvarna 2T This app will help yo...</td>\n",
       "      <td>surveillance</td>\n",
       "    </tr>\n",
       "    <tr>\n",
       "      <td>28687</td>\n",
       "      <td>com.mulleadys.mybins</td>\n",
       "      <td>Mulleadys Mulleadys Wheelie Bin Customer App -...</td>\n",
       "      <td>surveillance</td>\n",
       "    </tr>\n",
       "    <tr>\n",
       "      <td>51492</td>\n",
       "      <td>com.cosmicpie.spacetodolist</td>\n",
       "      <td>Kosmos - Work Time Tracker, Job Timesheet Time...</td>\n",
       "      <td>surveillance</td>\n",
       "    </tr>\n",
       "    <tr>\n",
       "      <td>3943</td>\n",
       "      <td>com.uattend</td>\n",
       "      <td>uAttend The uAttend mobile app is part of the ...</td>\n",
       "      <td>surveillance</td>\n",
       "    </tr>\n",
       "    <tr>\n",
       "      <td>120067</td>\n",
       "      <td>net.pkge.pkge</td>\n",
       "      <td>pkge.net - Package tracking The pkge.net servi...</td>\n",
       "      <td>surveillance</td>\n",
       "    </tr>\n",
       "    <tr>\n",
       "      <td>141580</td>\n",
       "      <td>com.voicecorder.bestrecorder.audiorecorder</td>\n",
       "      <td>Voice Recorder Voice recorder is a high qualit...</td>\n",
       "      <td>surveillance</td>\n",
       "    </tr>\n",
       "    <tr>\n",
       "      <td>110753</td>\n",
       "      <td>com.losasencio.Enviar_mensajes_a_dios</td>\n",
       "      <td>Send a message to God Send messages to God, th...</td>\n",
       "      <td>surveillance</td>\n",
       "    </tr>\n",
       "    <tr>\n",
       "      <td>125995</td>\n",
       "      <td>com.fashionhive.punjabisms</td>\n",
       "      <td>Punjabi SMS Punjabi Sms - Find 2017 largest co...</td>\n",
       "      <td>surveillance</td>\n",
       "    </tr>\n",
       "    <tr>\n",
       "      <td>295164</td>\n",
       "      <td>com.aw.ec</td>\n",
       "      <td>Employee Portal Payroll Relief With the Payrol...</td>\n",
       "      <td>surveillance</td>\n",
       "    </tr>\n",
       "  </tbody>\n",
       "</table>\n",
       "</div>"
      ],
      "text/plain": [
       "                                             appId  \\\n",
       "25664   com.voicecorder.bestrecorder.audiorecorder   \n",
       "22952               com.isenet.jettingforhusqvarna   \n",
       "28687                         com.mulleadys.mybins   \n",
       "51492                  com.cosmicpie.spacetodolist   \n",
       "3943                                   com.uattend   \n",
       "120067                               net.pkge.pkge   \n",
       "141580  com.voicecorder.bestrecorder.audiorecorder   \n",
       "110753       com.losasencio.Enviar_mensajes_a_dios   \n",
       "125995                  com.fashionhive.punjabisms   \n",
       "295164                                   com.aw.ec   \n",
       "\n",
       "                                                     text    prediction  \n",
       "25664   Voice Recorder Voice recorder is a high qualit...  surveillance  \n",
       "22952   Jetting for Husqvarna 2T This app will help yo...  surveillance  \n",
       "28687   Mulleadys Mulleadys Wheelie Bin Customer App -...  surveillance  \n",
       "51492   Kosmos - Work Time Tracker, Job Timesheet Time...  surveillance  \n",
       "3943    uAttend The uAttend mobile app is part of the ...  surveillance  \n",
       "120067  pkge.net - Package tracking The pkge.net servi...  surveillance  \n",
       "141580  Voice Recorder Voice recorder is a high qualit...  surveillance  \n",
       "110753  Send a message to God Send messages to God, th...  surveillance  \n",
       "125995  Punjabi SMS Punjabi Sms - Find 2017 largest co...  surveillance  \n",
       "295164  Employee Portal Payroll Relief With the Payrol...  surveillance  "
      ]
     },
     "execution_count": 527,
     "metadata": {},
     "output_type": "execute_result"
    }
   ],
   "source": [
    "send_to_paula[send_to_paula.prediction == 'surveillance'].sample(n = 10, random_state = 28)"
   ]
  },
  {
   "cell_type": "code",
   "execution_count": 528,
   "metadata": {},
   "outputs": [
    {
     "data": {
      "text/plain": [
       "['control',\n",
       " 'callerid',\n",
       " 'harassment',\n",
       " 'defense',\n",
       " 'spoof',\n",
       " 'evasion',\n",
       " 'surveillance',\n",
       " 'tutorial',\n",
       " 'info-extraction',\n",
       " 'none']"
      ]
     },
     "execution_count": 528,
     "metadata": {},
     "output_type": "execute_result"
    }
   ],
   "source": [
    "list(set(send_to_paula.prediction))"
   ]
  },
  {
   "cell_type": "code",
   "execution_count": 545,
   "metadata": {
    "collapsed": true,
    "jupyter": {
     "outputs_hidden": true
    }
   },
   "outputs": [
    {
     "data": {
      "text/html": [
       "<div>\n",
       "<style scoped>\n",
       "    .dataframe tbody tr th:only-of-type {\n",
       "        vertical-align: middle;\n",
       "    }\n",
       "\n",
       "    .dataframe tbody tr th {\n",
       "        vertical-align: top;\n",
       "    }\n",
       "\n",
       "    .dataframe thead th {\n",
       "        text-align: right;\n",
       "    }\n",
       "</style>\n",
       "<table border=\"1\" class=\"dataframe\">\n",
       "  <thead>\n",
       "    <tr style=\"text-align: right;\">\n",
       "      <th></th>\n",
       "      <th>appId</th>\n",
       "      <th>text</th>\n",
       "      <th>prediction</th>\n",
       "    </tr>\n",
       "  </thead>\n",
       "  <tbody>\n",
       "    <tr>\n",
       "      <td>155</td>\n",
       "      <td>com.Gagri.BreakingIndia</td>\n",
       "      <td>Breaking India This is an important book which...</td>\n",
       "      <td>callerid</td>\n",
       "    </tr>\n",
       "    <tr>\n",
       "      <td>5454</td>\n",
       "      <td>com.dojoexpert.dojologin</td>\n",
       "      <td>Dojo Login If you are a student of a martial a...</td>\n",
       "      <td>callerid</td>\n",
       "    </tr>\n",
       "    <tr>\n",
       "      <td>11493</td>\n",
       "      <td>brychta.stepan.universe</td>\n",
       "      <td>Universe The Universe is an astounding place. ...</td>\n",
       "      <td>callerid</td>\n",
       "    </tr>\n",
       "    <tr>\n",
       "      <td>14988</td>\n",
       "      <td>com.Gagri.BreakingIndia</td>\n",
       "      <td>Breaking India This is an important book which...</td>\n",
       "      <td>callerid</td>\n",
       "    </tr>\n",
       "    <tr>\n",
       "      <td>20567</td>\n",
       "      <td>brychta.stepan.universe</td>\n",
       "      <td>Universe The Universe is an astounding place. ...</td>\n",
       "      <td>callerid</td>\n",
       "    </tr>\n",
       "    <tr>\n",
       "      <td>29641</td>\n",
       "      <td>brychta.stepan.universe</td>\n",
       "      <td>Universe The Universe is an astounding place. ...</td>\n",
       "      <td>callerid</td>\n",
       "    </tr>\n",
       "    <tr>\n",
       "      <td>30511</td>\n",
       "      <td>com.Gagri.BreakingIndia</td>\n",
       "      <td>Breaking India This is an important book which...</td>\n",
       "      <td>callerid</td>\n",
       "    </tr>\n",
       "    <tr>\n",
       "      <td>44789</td>\n",
       "      <td>com.liveufly.app</td>\n",
       "      <td>Cheapest flights Liveufly is a travel metasear...</td>\n",
       "      <td>callerid</td>\n",
       "    </tr>\n",
       "    <tr>\n",
       "      <td>46632</td>\n",
       "      <td>brychta.stepan.universe</td>\n",
       "      <td>Universe The Universe is an astounding place. ...</td>\n",
       "      <td>callerid</td>\n",
       "    </tr>\n",
       "    <tr>\n",
       "      <td>52455</td>\n",
       "      <td>com.liveufly.app</td>\n",
       "      <td>Cheapest flights Liveufly is a travel metasear...</td>\n",
       "      <td>callerid</td>\n",
       "    </tr>\n",
       "    <tr>\n",
       "      <td>53172</td>\n",
       "      <td>com.Gagri.BreakingIndia</td>\n",
       "      <td>Breaking India This is an important book which...</td>\n",
       "      <td>callerid</td>\n",
       "    </tr>\n",
       "    <tr>\n",
       "      <td>54143</td>\n",
       "      <td>brychta.stepan.universe</td>\n",
       "      <td>Universe The Universe is an astounding place. ...</td>\n",
       "      <td>callerid</td>\n",
       "    </tr>\n",
       "    <tr>\n",
       "      <td>61680</td>\n",
       "      <td>brychta.stepan.universe</td>\n",
       "      <td>Universe The Universe is an astounding place. ...</td>\n",
       "      <td>callerid</td>\n",
       "    </tr>\n",
       "    <tr>\n",
       "      <td>68442</td>\n",
       "      <td>brychta.stepan.universe</td>\n",
       "      <td>Universe The Universe is an astounding place. ...</td>\n",
       "      <td>callerid</td>\n",
       "    </tr>\n",
       "    <tr>\n",
       "      <td>82166</td>\n",
       "      <td>com.Gagri.BreakingIndia</td>\n",
       "      <td>Breaking India This is an important book which...</td>\n",
       "      <td>callerid</td>\n",
       "    </tr>\n",
       "    <tr>\n",
       "      <td>83158</td>\n",
       "      <td>brychta.stepan.universe</td>\n",
       "      <td>Universe The Universe is an astounding place. ...</td>\n",
       "      <td>callerid</td>\n",
       "    </tr>\n",
       "    <tr>\n",
       "      <td>90329</td>\n",
       "      <td>com.Gagri.BreakingIndia</td>\n",
       "      <td>Breaking India This is an important book which...</td>\n",
       "      <td>callerid</td>\n",
       "    </tr>\n",
       "    <tr>\n",
       "      <td>91360</td>\n",
       "      <td>brychta.stepan.universe</td>\n",
       "      <td>Universe The Universe is an astounding place. ...</td>\n",
       "      <td>callerid</td>\n",
       "    </tr>\n",
       "    <tr>\n",
       "      <td>105552</td>\n",
       "      <td>com.Gagri.BreakingIndia</td>\n",
       "      <td>Breaking India This is an important book which...</td>\n",
       "      <td>callerid</td>\n",
       "    </tr>\n",
       "    <tr>\n",
       "      <td>115312</td>\n",
       "      <td>com.Gagri.BreakingIndia</td>\n",
       "      <td>Breaking India This is an important book which...</td>\n",
       "      <td>callerid</td>\n",
       "    </tr>\n",
       "    <tr>\n",
       "      <td>116368</td>\n",
       "      <td>brychta.stepan.universe</td>\n",
       "      <td>Universe The Universe is an astounding place. ...</td>\n",
       "      <td>callerid</td>\n",
       "    </tr>\n",
       "    <tr>\n",
       "      <td>125521</td>\n",
       "      <td>brychta.stepan.universe</td>\n",
       "      <td>Universe The Universe is an astounding place. ...</td>\n",
       "      <td>callerid</td>\n",
       "    </tr>\n",
       "    <tr>\n",
       "      <td>133445</td>\n",
       "      <td>com.Gagri.BreakingIndia</td>\n",
       "      <td>Breaking India This is an important book which...</td>\n",
       "      <td>callerid</td>\n",
       "    </tr>\n",
       "    <tr>\n",
       "      <td>134589</td>\n",
       "      <td>brychta.stepan.universe</td>\n",
       "      <td>Universe The Universe is an astounding place. ...</td>\n",
       "      <td>callerid</td>\n",
       "    </tr>\n",
       "    <tr>\n",
       "      <td>141698</td>\n",
       "      <td>com.Gagri.BreakingIndia</td>\n",
       "      <td>Breaking India This is an important book which...</td>\n",
       "      <td>callerid</td>\n",
       "    </tr>\n",
       "    <tr>\n",
       "      <td>149729</td>\n",
       "      <td>com.Gagri.BreakingIndia</td>\n",
       "      <td>Breaking India This is an important book which...</td>\n",
       "      <td>callerid</td>\n",
       "    </tr>\n",
       "    <tr>\n",
       "      <td>150218</td>\n",
       "      <td>brychta.stepan.universe</td>\n",
       "      <td>Universe The Universe is an astounding place. ...</td>\n",
       "      <td>callerid</td>\n",
       "    </tr>\n",
       "    <tr>\n",
       "      <td>156697</td>\n",
       "      <td>com.Gagri.BreakingIndia</td>\n",
       "      <td>Breaking India This is an important book which...</td>\n",
       "      <td>callerid</td>\n",
       "    </tr>\n",
       "    <tr>\n",
       "      <td>157462</td>\n",
       "      <td>brychta.stepan.universe</td>\n",
       "      <td>Universe The Universe is an astounding place. ...</td>\n",
       "      <td>callerid</td>\n",
       "    </tr>\n",
       "    <tr>\n",
       "      <td>164294</td>\n",
       "      <td>brychta.stepan.universe</td>\n",
       "      <td>Universe The Universe is an astounding place. ...</td>\n",
       "      <td>callerid</td>\n",
       "    </tr>\n",
       "    <tr>\n",
       "      <td>170584</td>\n",
       "      <td>com.Gagri.BreakingIndia</td>\n",
       "      <td>Breaking India This is an important book which...</td>\n",
       "      <td>callerid</td>\n",
       "    </tr>\n",
       "    <tr>\n",
       "      <td>171876</td>\n",
       "      <td>brychta.stepan.universe</td>\n",
       "      <td>Universe The Universe is an astounding place. ...</td>\n",
       "      <td>callerid</td>\n",
       "    </tr>\n",
       "    <tr>\n",
       "      <td>181152</td>\n",
       "      <td>brychta.stepan.universe</td>\n",
       "      <td>Universe The Universe is an astounding place. ...</td>\n",
       "      <td>callerid</td>\n",
       "    </tr>\n",
       "    <tr>\n",
       "      <td>191427</td>\n",
       "      <td>brychta.stepan.universe</td>\n",
       "      <td>Universe The Universe is an astounding place. ...</td>\n",
       "      <td>callerid</td>\n",
       "    </tr>\n",
       "    <tr>\n",
       "      <td>200678</td>\n",
       "      <td>com.Gagri.BreakingIndia</td>\n",
       "      <td>Breaking India This is an important book which...</td>\n",
       "      <td>callerid</td>\n",
       "    </tr>\n",
       "    <tr>\n",
       "      <td>201624</td>\n",
       "      <td>brychta.stepan.universe</td>\n",
       "      <td>Universe The Universe is an astounding place. ...</td>\n",
       "      <td>callerid</td>\n",
       "    </tr>\n",
       "    <tr>\n",
       "      <td>212433</td>\n",
       "      <td>brychta.stepan.universe</td>\n",
       "      <td>Universe The Universe is an astounding place. ...</td>\n",
       "      <td>callerid</td>\n",
       "    </tr>\n",
       "    <tr>\n",
       "      <td>260938</td>\n",
       "      <td>com.Gagri.BreakingIndia</td>\n",
       "      <td>Breaking India This is an important book which...</td>\n",
       "      <td>callerid</td>\n",
       "    </tr>\n",
       "    <tr>\n",
       "      <td>262447</td>\n",
       "      <td>brychta.stepan.universe</td>\n",
       "      <td>Universe The Universe is an astounding place. ...</td>\n",
       "      <td>callerid</td>\n",
       "    </tr>\n",
       "    <tr>\n",
       "      <td>265111</td>\n",
       "      <td>\\N</td>\n",
       "      <td>YOO主题-EXO SHOW TIME \\N\\n</td>\n",
       "      <td>callerid</td>\n",
       "    </tr>\n",
       "    <tr>\n",
       "      <td>284542</td>\n",
       "      <td>com.Gagri.BreakingIndia</td>\n",
       "      <td>Breaking India This is an important book which...</td>\n",
       "      <td>callerid</td>\n",
       "    </tr>\n",
       "    <tr>\n",
       "      <td>287181</td>\n",
       "      <td>brychta.stepan.universe</td>\n",
       "      <td>Universe The Universe is an astounding place. ...</td>\n",
       "      <td>callerid</td>\n",
       "    </tr>\n",
       "    <tr>\n",
       "      <td>300877</td>\n",
       "      <td>\\N</td>\n",
       "      <td>Time -绿豆秀秀动态壁纸 \\N\\n</td>\n",
       "      <td>callerid</td>\n",
       "    </tr>\n",
       "    <tr>\n",
       "      <td>301556</td>\n",
       "      <td>\\N</td>\n",
       "      <td>YOO主题-the time \\N\\n</td>\n",
       "      <td>callerid</td>\n",
       "    </tr>\n",
       "    <tr>\n",
       "      <td>308187</td>\n",
       "      <td>brychta.stepan.universe</td>\n",
       "      <td>Universe The Universe is an astounding place. ...</td>\n",
       "      <td>callerid</td>\n",
       "    </tr>\n",
       "    <tr>\n",
       "      <td>322433</td>\n",
       "      <td>\\N</td>\n",
       "      <td>Toggl Time Tracker \\N\\n</td>\n",
       "      <td>callerid</td>\n",
       "    </tr>\n",
       "    <tr>\n",
       "      <td>330379</td>\n",
       "      <td>com.do_apps.catalog_450</td>\n",
       "      <td>Details mechanisms The application describes t...</td>\n",
       "      <td>callerid</td>\n",
       "    </tr>\n",
       "    <tr>\n",
       "      <td>330669</td>\n",
       "      <td>brychta.stepan.universe</td>\n",
       "      <td>Universe The Universe is an astounding place. ...</td>\n",
       "      <td>callerid</td>\n",
       "    </tr>\n",
       "  </tbody>\n",
       "</table>\n",
       "</div>"
      ],
      "text/plain": [
       "                           appId  \\\n",
       "155      com.Gagri.BreakingIndia   \n",
       "5454    com.dojoexpert.dojologin   \n",
       "11493    brychta.stepan.universe   \n",
       "14988    com.Gagri.BreakingIndia   \n",
       "20567    brychta.stepan.universe   \n",
       "29641    brychta.stepan.universe   \n",
       "30511    com.Gagri.BreakingIndia   \n",
       "44789           com.liveufly.app   \n",
       "46632    brychta.stepan.universe   \n",
       "52455           com.liveufly.app   \n",
       "53172    com.Gagri.BreakingIndia   \n",
       "54143    brychta.stepan.universe   \n",
       "61680    brychta.stepan.universe   \n",
       "68442    brychta.stepan.universe   \n",
       "82166    com.Gagri.BreakingIndia   \n",
       "83158    brychta.stepan.universe   \n",
       "90329    com.Gagri.BreakingIndia   \n",
       "91360    brychta.stepan.universe   \n",
       "105552   com.Gagri.BreakingIndia   \n",
       "115312   com.Gagri.BreakingIndia   \n",
       "116368   brychta.stepan.universe   \n",
       "125521   brychta.stepan.universe   \n",
       "133445   com.Gagri.BreakingIndia   \n",
       "134589   brychta.stepan.universe   \n",
       "141698   com.Gagri.BreakingIndia   \n",
       "149729   com.Gagri.BreakingIndia   \n",
       "150218   brychta.stepan.universe   \n",
       "156697   com.Gagri.BreakingIndia   \n",
       "157462   brychta.stepan.universe   \n",
       "164294   brychta.stepan.universe   \n",
       "170584   com.Gagri.BreakingIndia   \n",
       "171876   brychta.stepan.universe   \n",
       "181152   brychta.stepan.universe   \n",
       "191427   brychta.stepan.universe   \n",
       "200678   com.Gagri.BreakingIndia   \n",
       "201624   brychta.stepan.universe   \n",
       "212433   brychta.stepan.universe   \n",
       "260938   com.Gagri.BreakingIndia   \n",
       "262447   brychta.stepan.universe   \n",
       "265111                        \\N   \n",
       "284542   com.Gagri.BreakingIndia   \n",
       "287181   brychta.stepan.universe   \n",
       "300877                        \\N   \n",
       "301556                        \\N   \n",
       "308187   brychta.stepan.universe   \n",
       "322433                        \\N   \n",
       "330379   com.do_apps.catalog_450   \n",
       "330669   brychta.stepan.universe   \n",
       "\n",
       "                                                     text prediction  \n",
       "155     Breaking India This is an important book which...   callerid  \n",
       "5454    Dojo Login If you are a student of a martial a...   callerid  \n",
       "11493   Universe The Universe is an astounding place. ...   callerid  \n",
       "14988   Breaking India This is an important book which...   callerid  \n",
       "20567   Universe The Universe is an astounding place. ...   callerid  \n",
       "29641   Universe The Universe is an astounding place. ...   callerid  \n",
       "30511   Breaking India This is an important book which...   callerid  \n",
       "44789   Cheapest flights Liveufly is a travel metasear...   callerid  \n",
       "46632   Universe The Universe is an astounding place. ...   callerid  \n",
       "52455   Cheapest flights Liveufly is a travel metasear...   callerid  \n",
       "53172   Breaking India This is an important book which...   callerid  \n",
       "54143   Universe The Universe is an astounding place. ...   callerid  \n",
       "61680   Universe The Universe is an astounding place. ...   callerid  \n",
       "68442   Universe The Universe is an astounding place. ...   callerid  \n",
       "82166   Breaking India This is an important book which...   callerid  \n",
       "83158   Universe The Universe is an astounding place. ...   callerid  \n",
       "90329   Breaking India This is an important book which...   callerid  \n",
       "91360   Universe The Universe is an astounding place. ...   callerid  \n",
       "105552  Breaking India This is an important book which...   callerid  \n",
       "115312  Breaking India This is an important book which...   callerid  \n",
       "116368  Universe The Universe is an astounding place. ...   callerid  \n",
       "125521  Universe The Universe is an astounding place. ...   callerid  \n",
       "133445  Breaking India This is an important book which...   callerid  \n",
       "134589  Universe The Universe is an astounding place. ...   callerid  \n",
       "141698  Breaking India This is an important book which...   callerid  \n",
       "149729  Breaking India This is an important book which...   callerid  \n",
       "150218  Universe The Universe is an astounding place. ...   callerid  \n",
       "156697  Breaking India This is an important book which...   callerid  \n",
       "157462  Universe The Universe is an astounding place. ...   callerid  \n",
       "164294  Universe The Universe is an astounding place. ...   callerid  \n",
       "170584  Breaking India This is an important book which...   callerid  \n",
       "171876  Universe The Universe is an astounding place. ...   callerid  \n",
       "181152  Universe The Universe is an astounding place. ...   callerid  \n",
       "191427  Universe The Universe is an astounding place. ...   callerid  \n",
       "200678  Breaking India This is an important book which...   callerid  \n",
       "201624  Universe The Universe is an astounding place. ...   callerid  \n",
       "212433  Universe The Universe is an astounding place. ...   callerid  \n",
       "260938  Breaking India This is an important book which...   callerid  \n",
       "262447  Universe The Universe is an astounding place. ...   callerid  \n",
       "265111                           YOO主题-EXO SHOW TIME \\N\\n   callerid  \n",
       "284542  Breaking India This is an important book which...   callerid  \n",
       "287181  Universe The Universe is an astounding place. ...   callerid  \n",
       "300877                                Time -绿豆秀秀动态壁纸 \\N\\n   callerid  \n",
       "301556                                YOO主题-the time \\N\\n   callerid  \n",
       "308187  Universe The Universe is an astounding place. ...   callerid  \n",
       "322433                            Toggl Time Tracker \\N\\n   callerid  \n",
       "330379  Details mechanisms The application describes t...   callerid  \n",
       "330669  Universe The Universe is an astounding place. ...   callerid  "
      ]
     },
     "execution_count": 545,
     "metadata": {},
     "output_type": "execute_result"
    }
   ],
   "source": [
    "send_to_paula[send_to_paula.prediction == 'callerid']"
   ]
  },
  {
   "cell_type": "code",
   "execution_count": 547,
   "metadata": {},
   "outputs": [
    {
     "data": {
      "text/plain": [
       "80476"
      ]
     },
     "execution_count": 547,
     "metadata": {},
     "output_type": "execute_result"
    }
   ],
   "source": [
    "len(send_to_paula.drop_duplicates())"
   ]
  },
  {
   "cell_type": "code",
   "execution_count": 549,
   "metadata": {},
   "outputs": [
    {
     "data": {
      "text/plain": [
       "none               79448\n",
       "surveillance         642\n",
       "defense              131\n",
       "spoof                120\n",
       "info-extraction       54\n",
       "tutorial              47\n",
       "harassment            13\n",
       "evasion               10\n",
       "callerid               9\n",
       "control                2\n",
       "Name: prediction, dtype: int64"
      ]
     },
     "execution_count": 549,
     "metadata": {},
     "output_type": "execute_result"
    }
   ],
   "source": [
    "send_to_paula.drop_duplicates().prediction.value_counts()"
   ]
  },
  {
   "cell_type": "code",
   "execution_count": 550,
   "metadata": {},
   "outputs": [],
   "source": [
    "send_to_paula = send_to_paula.drop_duplicates()"
   ]
  },
  {
   "cell_type": "code",
   "execution_count": 555,
   "metadata": {},
   "outputs": [],
   "source": [
    "stratified_sample = []\n",
    "for category in list(set(send_to_paula.prediction)):\n",
    "    if len(send_to_paula[send_to_paula.prediction == category]) < 10:\n",
    "        stratified_sample.append(send_to_paula[send_to_paula.prediction == category])\n",
    "    else:\n",
    "        stratified_sample.append(send_to_paula[send_to_paula.prediction == category].sample(n = 10, \n",
    "                                                                                            random_state = 28, \n",
    "                                                                                            replace = False))"
   ]
  },
  {
   "cell_type": "code",
   "execution_count": 556,
   "metadata": {},
   "outputs": [
    {
     "data": {
      "text/plain": [
       "10"
      ]
     },
     "execution_count": 556,
     "metadata": {},
     "output_type": "execute_result"
    }
   ],
   "source": [
    "len(stratified_sample)"
   ]
  },
  {
   "cell_type": "code",
   "execution_count": 557,
   "metadata": {},
   "outputs": [],
   "source": [
    "paula_stratified = pd.concat(stratified_sample, axis = 0)"
   ]
  },
  {
   "cell_type": "code",
   "execution_count": 560,
   "metadata": {},
   "outputs": [],
   "source": [
    "paula_stratified.to_csv('/Users/nissani/Desktop/IPV/predicted_apps_balanced_sample.csv')"
   ]
  },
  {
   "cell_type": "code",
   "execution_count": 561,
   "metadata": {},
   "outputs": [],
   "source": [
    "paula_stratified.drop(['prediction'], axis = 1).to_csv('/Users/nissani/Desktop/IPV/predicted_apps_balanced_sample_no_pred.csv')"
   ]
  },
  {
   "cell_type": "code",
   "execution_count": 29,
   "metadata": {},
   "outputs": [
    {
     "ename": "NameError",
     "evalue": "name 'send_to_paula' is not defined",
     "output_type": "error",
     "traceback": [
      "\u001b[0;31m---------------------------------------------------------------------------\u001b[0m",
      "\u001b[0;31mNameError\u001b[0m                                 Traceback (most recent call last)",
      "\u001b[0;32m<ipython-input-29-a772da743619>\u001b[0m in \u001b[0;36m<module>\u001b[0;34m\u001b[0m\n\u001b[0;32m----> 1\u001b[0;31m \u001b[0msend_to_paula\u001b[0m\u001b[0;34m.\u001b[0m\u001b[0mprediction\u001b[0m\u001b[0;34m.\u001b[0m\u001b[0mvalue_counts\u001b[0m\u001b[0;34m(\u001b[0m\u001b[0;34m)\u001b[0m\u001b[0;34m.\u001b[0m\u001b[0mplot\u001b[0m\u001b[0;34m(\u001b[0m\u001b[0mkind\u001b[0m \u001b[0;34m=\u001b[0m \u001b[0;34m'bar'\u001b[0m\u001b[0;34m)\u001b[0m\u001b[0;34m\u001b[0m\u001b[0;34m\u001b[0m\u001b[0m\n\u001b[0m\u001b[1;32m      2\u001b[0m \u001b[0mplt\u001b[0m\u001b[0;34m.\u001b[0m\u001b[0mtitle\u001b[0m\u001b[0;34m(\u001b[0m\u001b[0;34m'Distribution of App Categories: Labeled by Classifier'\u001b[0m\u001b[0;34m)\u001b[0m\u001b[0;34m\u001b[0m\u001b[0;34m\u001b[0m\u001b[0m\n\u001b[1;32m      3\u001b[0m \u001b[0mplt\u001b[0m\u001b[0;34m.\u001b[0m\u001b[0mxlabel\u001b[0m\u001b[0;34m(\u001b[0m\u001b[0;34m'Category'\u001b[0m\u001b[0;34m)\u001b[0m\u001b[0;34m\u001b[0m\u001b[0;34m\u001b[0m\u001b[0m\n\u001b[1;32m      4\u001b[0m \u001b[0mplt\u001b[0m\u001b[0;34m.\u001b[0m\u001b[0mylabel\u001b[0m\u001b[0;34m(\u001b[0m\u001b[0;34m'Count'\u001b[0m\u001b[0;34m)\u001b[0m\u001b[0;34m\u001b[0m\u001b[0;34m\u001b[0m\u001b[0m\n",
      "\u001b[0;31mNameError\u001b[0m: name 'send_to_paula' is not defined"
     ]
    }
   ],
   "source": [
    "send_to_paula.prediction.value_counts().plot(kind = 'bar')\n",
    "plt.title('Distribution of App Categories: Labeled by Classifier')\n",
    "plt.xlabel('Category')\n",
    "plt.ylabel('Count')"
   ]
  },
  {
   "cell_type": "code",
   "execution_count": null,
   "metadata": {},
   "outputs": [],
   "source": []
  }
 ],
 "metadata": {
  "kernelspec": {
   "display_name": "Python 3",
   "language": "python",
   "name": "python3"
  },
  "language_info": {
   "codemirror_mode": {
    "name": "ipython",
    "version": 3
   },
   "file_extension": ".py",
   "mimetype": "text/x-python",
   "name": "python",
   "nbconvert_exporter": "python",
   "pygments_lexer": "ipython3",
   "version": "3.7.4"
  }
 },
 "nbformat": 4,
 "nbformat_minor": 4
}
