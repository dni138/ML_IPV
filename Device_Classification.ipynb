{
 "cells": [
  {
   "cell_type": "code",
   "execution_count": 1,
   "metadata": {},
   "outputs": [],
   "source": [
    "import numpy as np\n",
    "import pandas as pd\n",
    "import matplotlib as plt\n",
    "import seaborn as sns"
   ]
  },
  {
   "cell_type": "code",
   "execution_count": 1,
   "metadata": {},
   "outputs": [],
   "source": [
    "with open('allMktData.txt', 'r') as f:\n",
    "    app_data = []\n",
    "    for line in f:\n",
    "        app_data.append(line.split('\\t'))"
   ]
  },
  {
   "cell_type": "code",
   "execution_count": 2,
   "metadata": {},
   "outputs": [
    {
     "data": {
      "text/plain": [
       "391805"
      ]
     },
     "execution_count": 2,
     "metadata": {},
     "output_type": "execute_result"
    }
   ],
   "source": [
    "len(app_data)"
   ]
  },
  {
   "cell_type": "code",
   "execution_count": 4,
   "metadata": {},
   "outputs": [],
   "source": [
    "with open('installdata.tabseparatedtext', 'r') as f:\n",
    "    device_data = []\n",
    "    for line in f:\n",
    "        device_data.append(line.split('\\t')[:-1])"
   ]
  },
  {
   "cell_type": "code",
   "execution_count": 5,
   "metadata": {},
   "outputs": [],
   "source": [
    "device_data = device_data[1:]"
   ]
  },
  {
   "cell_type": "code",
   "execution_count": 6,
   "metadata": {},
   "outputs": [
    {
     "data": {
      "text/plain": [
       "[' HinKhoj.Dictionary                                 ',\n",
       " ' cn.wps.moffice_eng                                 ',\n",
       " ' cn.xender                                          ',\n",
       " ' com.UCMobile.intl                                  ',\n",
       " ' com.adobe.reader                                   ',\n",
       " ' com.alibaba.aliexpresshd                           ',\n",
       " ' com.avast.android.batterysaver                     ',\n",
       " ' com.cleanmaster.mguard                             ',\n",
       " ' com.eterno                                         ',\n",
       " ' com.facebook.katana                                ',\n",
       " ' com.facebook.orca                                  ',\n",
       " ' com.google.android.apps.cloudprint                 ',\n",
       " ' com.google.android.apps.maps                       ',\n",
       " ' com.google.android.gm                              ',\n",
       " ' com.google.android.gms                             ',\n",
       " ' com.google.android.marvin.talkback                 ',\n",
       " ' com.google.android.tts                             ',\n",
       " ' com.google.android.videos                          ',\n",
       " ' com.google.android.webview                         ',\n",
       " ' com.google.android.youtube                         ',\n",
       " ' com.hinkhoj.questionbank                           ',\n",
       " ' com.jio.jioplay.tv                                 ',\n",
       " ' com.jio.join                                       ',\n",
       " ' com.jio.media.jiobeats                             ',\n",
       " ' com.jio.myjio                                      ',\n",
       " ' com.mxtech.videoplayer.ad                          ',\n",
       " ' com.myairtelapp                                    ',\n",
       " ' com.olx.southasia                                  ',\n",
       " ' com.opera.max.global                               ',\n",
       " ' com.opera.mini.native                              ',\n",
       " ' com.reliancejio.mobilesecurity                     ',\n",
       " ' com.saavn.android                                  ',\n",
       " ' com.sonyliv                                        ',\n",
       " ' com.teenpatti.hd.gold                              ',\n",
       " ' com.truecaller                                     ',\n",
       " ' com.uc.browser.en                                  ',\n",
       " ' com.uc.iflow                                       ',\n",
       " ' com.whatsapp                                       ',\n",
       " ' cris.icms.ntes                                     ',\n",
       " ' in.amazon.mShop.android.shopping                   ',\n",
       " ' io.teslatech.callbreak                             ']"
      ]
     },
     "execution_count": 6,
     "metadata": {},
     "output_type": "execute_result"
    }
   ],
   "source": [
    "device_data[0]"
   ]
  },
  {
   "cell_type": "code",
   "execution_count": 88,
   "metadata": {},
   "outputs": [],
   "source": [
    "coded_apps = pd.read_csv('all-coded-apps.csv')"
   ]
  },
  {
   "cell_type": "code",
   "execution_count": 89,
   "metadata": {},
   "outputs": [],
   "source": [
    "coded_apps = coded_apps.drop(['more comments', 'Comments', 'more comments.1', 'best-url', 'permissions'], axis = 1)"
   ]
  },
  {
   "cell_type": "code",
   "execution_count": 90,
   "metadata": {},
   "outputs": [],
   "source": [
    "coded_apps['genre'] = coded_apps['genre'].fillna('no_genre')"
   ]
  },
  {
   "cell_type": "code",
   "execution_count": 91,
   "metadata": {},
   "outputs": [],
   "source": [
    "coded_apps['title'] = coded_apps['title'].fillna('no_title')"
   ]
  },
  {
   "cell_type": "code",
   "execution_count": 92,
   "metadata": {},
   "outputs": [
    {
     "data": {
      "text/html": [
       "<div>\n",
       "<style scoped>\n",
       "    .dataframe tbody tr th:only-of-type {\n",
       "        vertical-align: middle;\n",
       "    }\n",
       "\n",
       "    .dataframe tbody tr th {\n",
       "        vertical-align: top;\n",
       "    }\n",
       "\n",
       "    .dataframe thead th {\n",
       "        text-align: right;\n",
       "    }\n",
       "</style>\n",
       "<table border=\"1\" class=\"dataframe\">\n",
       "  <thead>\n",
       "    <tr style=\"text-align: right;\">\n",
       "      <th></th>\n",
       "      <th>dataset</th>\n",
       "      <th>appid</th>\n",
       "      <th>title</th>\n",
       "      <th>code</th>\n",
       "      <th>genre</th>\n",
       "    </tr>\n",
       "  </thead>\n",
       "  <tbody>\n",
       "    <tr>\n",
       "      <td>0</td>\n",
       "      <td>CR1MAP</td>\n",
       "      <td>com.phone.locationtracker.lookupphonenumber</td>\n",
       "      <td>Lookup Phone Number</td>\n",
       "      <td>callerid:misc</td>\n",
       "      <td>COMMUNICATION</td>\n",
       "    </tr>\n",
       "    <tr>\n",
       "      <td>1</td>\n",
       "      <td>2017</td>\n",
       "      <td>allcall.location.tracker</td>\n",
       "      <td>All Call Location Tracker</td>\n",
       "      <td>callerid:location</td>\n",
       "      <td>COMMUNICATION</td>\n",
       "    </tr>\n",
       "    <tr>\n",
       "      <td>2</td>\n",
       "      <td>2017</td>\n",
       "      <td>bhabhi.tadka.number.location.desi</td>\n",
       "      <td>Live Location By Phone Number</td>\n",
       "      <td>callerid:location</td>\n",
       "      <td>no_genre</td>\n",
       "    </tr>\n",
       "    <tr>\n",
       "      <td>3</td>\n",
       "      <td>2017</td>\n",
       "      <td>com.aappstech.gpsphonetracker</td>\n",
       "      <td>Phone Number Locator</td>\n",
       "      <td>callerid:location</td>\n",
       "      <td>TOOLS</td>\n",
       "    </tr>\n",
       "    <tr>\n",
       "      <td>4</td>\n",
       "      <td>2017</td>\n",
       "      <td>com.androidtech706.simphoneinfo</td>\n",
       "      <td>Trace Call Phone Tracker Live.</td>\n",
       "      <td>callerid:location</td>\n",
       "      <td>ENTERTAINMENT</td>\n",
       "    </tr>\n",
       "  </tbody>\n",
       "</table>\n",
       "</div>"
      ],
      "text/plain": [
       "  dataset                                        appid  \\\n",
       "0  CR1MAP  com.phone.locationtracker.lookupphonenumber   \n",
       "1    2017                     allcall.location.tracker   \n",
       "2    2017            bhabhi.tadka.number.location.desi   \n",
       "3    2017                com.aappstech.gpsphonetracker   \n",
       "4    2017              com.androidtech706.simphoneinfo   \n",
       "\n",
       "                            title               code          genre  \n",
       "0             Lookup Phone Number      callerid:misc  COMMUNICATION  \n",
       "1       All Call Location Tracker  callerid:location  COMMUNICATION  \n",
       "2   Live Location By Phone Number  callerid:location       no_genre  \n",
       "3            Phone Number Locator  callerid:location          TOOLS  \n",
       "4  Trace Call Phone Tracker Live.  callerid:location  ENTERTAINMENT  "
      ]
     },
     "execution_count": 92,
     "metadata": {},
     "output_type": "execute_result"
    }
   ],
   "source": [
    "coded_apps.head()"
   ]
  },
  {
   "cell_type": "code",
   "execution_count": 93,
   "metadata": {},
   "outputs": [],
   "source": [
    "higher_order_codes = []\n",
    "for code in coded_apps['code']:\n",
    "    higher_order_codes.append(code.split(':')[0])"
   ]
  },
  {
   "cell_type": "code",
   "execution_count": 94,
   "metadata": {},
   "outputs": [],
   "source": [
    "coded_apps = pd.concat([coded_apps, pd.DataFrame(higher_order_codes, columns = ['higher_order_code'])], axis = 1)"
   ]
  },
  {
   "cell_type": "code",
   "execution_count": 95,
   "metadata": {},
   "outputs": [
    {
     "data": {
      "text/plain": [
       "none               1847\n",
       "surveillance       1000\n",
       "info-extraction     297\n",
       "spoof               242\n",
       "defense             186\n",
       "harassment          169\n",
       "tutorial            150\n",
       "evasion              93\n",
       "callerid             77\n",
       "control              18\n",
       "malware               6\n",
       "Name: higher_order_code, dtype: int64"
      ]
     },
     "execution_count": 95,
     "metadata": {},
     "output_type": "execute_result"
    }
   ],
   "source": [
    "coded_apps['higher_order_code'].value_counts()"
   ]
  },
  {
   "cell_type": "code",
   "execution_count": 96,
   "metadata": {},
   "outputs": [],
   "source": [
    "coded_apps = coded_apps[coded_apps['higher_order_code'] != 'malware']"
   ]
  },
  {
   "cell_type": "code",
   "execution_count": 97,
   "metadata": {},
   "outputs": [],
   "source": [
    "coded_apps = coded_apps.reset_index()"
   ]
  },
  {
   "cell_type": "code",
   "execution_count": 98,
   "metadata": {},
   "outputs": [
    {
     "data": {
      "text/html": [
       "<div>\n",
       "<style scoped>\n",
       "    .dataframe tbody tr th:only-of-type {\n",
       "        vertical-align: middle;\n",
       "    }\n",
       "\n",
       "    .dataframe tbody tr th {\n",
       "        vertical-align: top;\n",
       "    }\n",
       "\n",
       "    .dataframe thead th {\n",
       "        text-align: right;\n",
       "    }\n",
       "</style>\n",
       "<table border=\"1\" class=\"dataframe\">\n",
       "  <thead>\n",
       "    <tr style=\"text-align: right;\">\n",
       "      <th></th>\n",
       "      <th>index</th>\n",
       "      <th>dataset</th>\n",
       "      <th>appid</th>\n",
       "      <th>title</th>\n",
       "      <th>code</th>\n",
       "      <th>genre</th>\n",
       "      <th>higher_order_code</th>\n",
       "    </tr>\n",
       "  </thead>\n",
       "  <tbody>\n",
       "    <tr>\n",
       "      <td>0</td>\n",
       "      <td>0</td>\n",
       "      <td>CR1MAP</td>\n",
       "      <td>com.phone.locationtracker.lookupphonenumber</td>\n",
       "      <td>Lookup Phone Number</td>\n",
       "      <td>callerid:misc</td>\n",
       "      <td>COMMUNICATION</td>\n",
       "      <td>callerid</td>\n",
       "    </tr>\n",
       "    <tr>\n",
       "      <td>1</td>\n",
       "      <td>1</td>\n",
       "      <td>2017</td>\n",
       "      <td>allcall.location.tracker</td>\n",
       "      <td>All Call Location Tracker</td>\n",
       "      <td>callerid:location</td>\n",
       "      <td>COMMUNICATION</td>\n",
       "      <td>callerid</td>\n",
       "    </tr>\n",
       "    <tr>\n",
       "      <td>2</td>\n",
       "      <td>2</td>\n",
       "      <td>2017</td>\n",
       "      <td>bhabhi.tadka.number.location.desi</td>\n",
       "      <td>Live Location By Phone Number</td>\n",
       "      <td>callerid:location</td>\n",
       "      <td>no_genre</td>\n",
       "      <td>callerid</td>\n",
       "    </tr>\n",
       "    <tr>\n",
       "      <td>3</td>\n",
       "      <td>3</td>\n",
       "      <td>2017</td>\n",
       "      <td>com.aappstech.gpsphonetracker</td>\n",
       "      <td>Phone Number Locator</td>\n",
       "      <td>callerid:location</td>\n",
       "      <td>TOOLS</td>\n",
       "      <td>callerid</td>\n",
       "    </tr>\n",
       "    <tr>\n",
       "      <td>4</td>\n",
       "      <td>4</td>\n",
       "      <td>2017</td>\n",
       "      <td>com.androidtech706.simphoneinfo</td>\n",
       "      <td>Trace Call Phone Tracker Live.</td>\n",
       "      <td>callerid:location</td>\n",
       "      <td>ENTERTAINMENT</td>\n",
       "      <td>callerid</td>\n",
       "    </tr>\n",
       "  </tbody>\n",
       "</table>\n",
       "</div>"
      ],
      "text/plain": [
       "   index dataset                                        appid  \\\n",
       "0      0  CR1MAP  com.phone.locationtracker.lookupphonenumber   \n",
       "1      1    2017                     allcall.location.tracker   \n",
       "2      2    2017            bhabhi.tadka.number.location.desi   \n",
       "3      3    2017                com.aappstech.gpsphonetracker   \n",
       "4      4    2017              com.androidtech706.simphoneinfo   \n",
       "\n",
       "                            title               code          genre  \\\n",
       "0             Lookup Phone Number      callerid:misc  COMMUNICATION   \n",
       "1       All Call Location Tracker  callerid:location  COMMUNICATION   \n",
       "2   Live Location By Phone Number  callerid:location       no_genre   \n",
       "3            Phone Number Locator  callerid:location          TOOLS   \n",
       "4  Trace Call Phone Tracker Live.  callerid:location  ENTERTAINMENT   \n",
       "\n",
       "  higher_order_code  \n",
       "0          callerid  \n",
       "1          callerid  \n",
       "2          callerid  \n",
       "3          callerid  \n",
       "4          callerid  "
      ]
     },
     "execution_count": 98,
     "metadata": {},
     "output_type": "execute_result"
    }
   ],
   "source": [
    "coded_apps.head()"
   ]
  },
  {
   "cell_type": "code",
   "execution_count": 99,
   "metadata": {},
   "outputs": [],
   "source": [
    "coded_app_ids = list(coded_apps['appid'])"
   ]
  },
  {
   "cell_type": "code",
   "execution_count": 100,
   "metadata": {},
   "outputs": [],
   "source": [
    "text_data = []\n",
    "for idx in coded_app_ids:\n",
    "    for data in app_data:\n",
    "        if idx == data[0]:\n",
    "            if data[2]:\n",
    "                text_data.append('no_description')\n",
    "            else:\n",
    "                text_data.appned(data[2])"
   ]
  },
  {
   "cell_type": "code",
   "execution_count": 101,
   "metadata": {},
   "outputs": [],
   "source": [
    "coded_apps = pd.concat([coded_apps, pd.DataFrame(text_data_list, columns = ['descriptions'])], axis = 1)"
   ]
  },
  {
   "cell_type": "code",
   "execution_count": 102,
   "metadata": {},
   "outputs": [
    {
     "data": {
      "text/html": [
       "<div>\n",
       "<style scoped>\n",
       "    .dataframe tbody tr th:only-of-type {\n",
       "        vertical-align: middle;\n",
       "    }\n",
       "\n",
       "    .dataframe tbody tr th {\n",
       "        vertical-align: top;\n",
       "    }\n",
       "\n",
       "    .dataframe thead th {\n",
       "        text-align: right;\n",
       "    }\n",
       "</style>\n",
       "<table border=\"1\" class=\"dataframe\">\n",
       "  <thead>\n",
       "    <tr style=\"text-align: right;\">\n",
       "      <th></th>\n",
       "      <th>index</th>\n",
       "      <th>dataset</th>\n",
       "      <th>appid</th>\n",
       "      <th>title</th>\n",
       "      <th>code</th>\n",
       "      <th>genre</th>\n",
       "      <th>higher_order_code</th>\n",
       "      <th>descriptions</th>\n",
       "    </tr>\n",
       "  </thead>\n",
       "  <tbody>\n",
       "    <tr>\n",
       "      <td>0</td>\n",
       "      <td>0</td>\n",
       "      <td>CR1MAP</td>\n",
       "      <td>com.phone.locationtracker.lookupphonenumber</td>\n",
       "      <td>Lookup Phone Number</td>\n",
       "      <td>callerid:misc</td>\n",
       "      <td>COMMUNICATION</td>\n",
       "      <td>callerid</td>\n",
       "      <td>no_description</td>\n",
       "    </tr>\n",
       "    <tr>\n",
       "      <td>1</td>\n",
       "      <td>1</td>\n",
       "      <td>2017</td>\n",
       "      <td>allcall.location.tracker</td>\n",
       "      <td>All Call Location Tracker</td>\n",
       "      <td>callerid:location</td>\n",
       "      <td>COMMUNICATION</td>\n",
       "      <td>callerid</td>\n",
       "      <td>no_description</td>\n",
       "    </tr>\n",
       "    <tr>\n",
       "      <td>2</td>\n",
       "      <td>2</td>\n",
       "      <td>2017</td>\n",
       "      <td>bhabhi.tadka.number.location.desi</td>\n",
       "      <td>Live Location By Phone Number</td>\n",
       "      <td>callerid:location</td>\n",
       "      <td>no_genre</td>\n",
       "      <td>callerid</td>\n",
       "      <td>no_description</td>\n",
       "    </tr>\n",
       "    <tr>\n",
       "      <td>3</td>\n",
       "      <td>3</td>\n",
       "      <td>2017</td>\n",
       "      <td>com.aappstech.gpsphonetracker</td>\n",
       "      <td>Phone Number Locator</td>\n",
       "      <td>callerid:location</td>\n",
       "      <td>TOOLS</td>\n",
       "      <td>callerid</td>\n",
       "      <td>no_description</td>\n",
       "    </tr>\n",
       "    <tr>\n",
       "      <td>4</td>\n",
       "      <td>4</td>\n",
       "      <td>2017</td>\n",
       "      <td>com.androidtech706.simphoneinfo</td>\n",
       "      <td>Trace Call Phone Tracker Live.</td>\n",
       "      <td>callerid:location</td>\n",
       "      <td>ENTERTAINMENT</td>\n",
       "      <td>callerid</td>\n",
       "      <td>no_description</td>\n",
       "    </tr>\n",
       "  </tbody>\n",
       "</table>\n",
       "</div>"
      ],
      "text/plain": [
       "   index dataset                                        appid  \\\n",
       "0      0  CR1MAP  com.phone.locationtracker.lookupphonenumber   \n",
       "1      1    2017                     allcall.location.tracker   \n",
       "2      2    2017            bhabhi.tadka.number.location.desi   \n",
       "3      3    2017                com.aappstech.gpsphonetracker   \n",
       "4      4    2017              com.androidtech706.simphoneinfo   \n",
       "\n",
       "                            title               code          genre  \\\n",
       "0             Lookup Phone Number      callerid:misc  COMMUNICATION   \n",
       "1       All Call Location Tracker  callerid:location  COMMUNICATION   \n",
       "2   Live Location By Phone Number  callerid:location       no_genre   \n",
       "3            Phone Number Locator  callerid:location          TOOLS   \n",
       "4  Trace Call Phone Tracker Live.  callerid:location  ENTERTAINMENT   \n",
       "\n",
       "  higher_order_code    descriptions  \n",
       "0          callerid  no_description  \n",
       "1          callerid  no_description  \n",
       "2          callerid  no_description  \n",
       "3          callerid  no_description  \n",
       "4          callerid  no_description  "
      ]
     },
     "execution_count": 102,
     "metadata": {},
     "output_type": "execute_result"
    }
   ],
   "source": [
    "coded_apps.head()"
   ]
  },
  {
   "cell_type": "code",
   "execution_count": 103,
   "metadata": {},
   "outputs": [
    {
     "data": {
      "text/plain": [
       "no_description                                                                                                                                                                                                                                                                                                                                                                                                                                                                                                                                                                                                                                                                                                                                                                                                                                                                                                                                                                                                                                                                                                                                                                                                                                                                                                                                                                                                                                                                                                                                                                                                                                                                                                                                                                                                                                                                                                                                                                                                                                                                                                                                                                                                                                                                                                                                                                                                                                                                                                                                                                                                                                                                                                                                                                                                                                                                                                                                                                                                                                                                                                                                                                                                                                                                                                                                                                                                                                                                                                                                                                                                                                                                                                                                                                                                                                                                                                                                                                                                                                                                                                                                                                                                                                                                                                                                                                                                      3936\n",
       "If you don’t want others to know that you are reading their messages, Hide - Blue Ticks or Last Seen is made for you!<br><br>Recover back your privacy on social networks and chats with this amazing app. You now have the freedom to read your friend&#39;s incoming messages incognito, without leaving any last seen notice or blue double checks, and it works for all the top messaging apps.<br><br>Finally! No more read receipts, no check marks, no blue double tick or last seen!<br><br>Hide - Blue Ticks or Last Seen is really easy to use: when you receive a message from one of these messenger apps, it will also be received in the Hide - Blue Ticks or Last Seen  application. There, you can read it freely, whenever you want, without having any of your friends knowing that you have seen it. <br><br>No need to remove internet connection or activate offline mode: <br>Hide - Blue Ticks or Last Seen provides a beautiful design and a simple to use interface where you can easily access messages and even sort them by messenger!<br><br>Here are some of the awesome features available in Hide - Blue Ticks or Last Seen  :<br><br>READ YOUR MESSAGES INCOGNITO<br>- No last seen, No Blue ticks, No Last time seen for all popular chatting apps.<br>- Read chat messages invisibly and incognito.<br>- Enjoy your photos, videos and audio files without leaving the double blue check notice<br>- Also, you can now hide your private photos and videos<br>- Make your photos and videos hidden from the outside world.<br><br>DISCLAIMER<br>All trademarks displayed on this applications are the property of their respective owners.<br>None of these companies&#39; logos are displayed on the app.\\n                                                                                                                                                                                                                                                                                                                                                                                                                                                                                                                                                                                                                                                                                                                                                                                                                                                                                                                                                                                                                                                                                                                                                                                                                                                                                                                                                                                                                                                                                                                                                                                                                                                                                                                                                                                                                                                                                                                                                                                                                                                                                                                                                                                                                                                                                                                                                                                                                                                                                                                                                                                                                                                                        1\n",
       "A compact and easy to use voice translation, translate your voice and speak aloud the translate results. allowing you to travel, communication, social networking is no longer a language barrier. Voice Translator Free can also be used as you learn and understand a language tool, a carry your own custom dictionary. Your voice will be translated and saved locally, used in offline. Besides, Camera OCR tool will be useful when you have problem with a long paragraph or a language that you can not type, you just need to shoot and Free Voice Translator will help you translate.<br>---------------------------<br>Advantages<br>* App can record your voice and then translate to multi languages.<br>* Perfect translate voice even though in a bad environment of sounds.<br>* Camera OCR can identify long passages in complex conditions.<br>* Translation results are exactly and easy to understand.<br>* Quick and easy translate.<br>* Share translate results.<br>* Quick translate display as on-screen bubble<br>---------------------------<br>Provided Languages:<br>41 Languages For Translation: Arabic, Bengali, Burmese, Chinese, Danish, Dutch, English, French, Filipino, German, Greek, Gujarati, Hebrew, Hindi, Hungarian, Indonesian, Italian, Japanese, Kannada, Khmer, Korean, Lao, Malay, Malayalam, Marathi, Nepali, Persian, Polish, Portuguese, Punjabi, Russian, Sinhala, Spanish, Taiwanese, Tamil, Tegulu, Turkish, Thai, Ukrainian, Urdu, Vietnamese\\n                                                                                                                                                                                                                                                                                                                                                                                                                                                                                                                                                                                                                                                                                                                                                                                                                                                                                                                                                                                                                                                                                                                                                                                                                                                                                                                                                                                                                                                                                                                                                                                                                                                                                                                                                                                                                                                                                                                                                                                                                                                                                                                                                                                                                                                                                                                                                                                                                                                                                                                                                                                                                                                                                                                                                                                                                                                                                                                 1\n",
       "iFake Text Message allows you to create fake text messages. Create a screenshot that looks exactly like a real iPhone text.  This is the best App on the Android market for creating fake text messages.<br><br><br>With dozens of options and limitless capabilities, this app allows you to use your creativity and create fun and exciting ways to prank your friends and generate any text message image that you can imagine. Let your creativity run wild and create your awesome Fake Text Message conversations now.\\n                                                                                                                                                                                                                                                                                                                                                                                                                                                                                                                                                                                                                                                                                                                                                                                                                                                                                                                                                                                                                                                                                                                                                                                                                                                                                                                                                                                                                                                                                                                                                                                                                                                                                                                                                                                                                                                                                                                                                                                                                                                                                                                                                                                                                                                                                                                                                                                                                                                                                                                                                                                                                                                                                                                                                                                                                                                                                                                                                                                                                                                                                                                                                                                                                                                                                                                                                                                                                                                                                                                                                                                                                                                                                                                                                                                                                                                                                         1\n",
       "Vysor lets you view and control your Android on your computer. Use apps, play games, control your Android with your mouse and keyboard. Go wireless, and mirror your Android to your desktop; great for presentations.<br><br>Vysor Share also lets you share your screen to others for remote assistance.<br><br>Developers: Vysor lets you ditch the emulator and seamlessly work on a real Android device. No need to fiddle with it in your hands. Use Vysor Share to set up device farms and remotely debug and test your applications across a wide range of devices.<br><br>Setup:<br>1) Install Vysor for Android.<br><br>2) Follow the instructions for getting USB debugging enabled. Here&#39;s a Youtube video to help you out:<br>https://www.youtube.com/watch?v=Ucs34BkfPB0<br><br>3) Download the Vysor Chrome app. This will let you view your Android from your PC:<br>https://chrome.google.com/webstore/detail/vysor/gidgenkbbabolejbgbpnhbimgjbffefm<br><br>4) Windows users will need to install ADB Drivers:<br>http://download.clockworkmod.com/test/UniversalAdbDriverSetup.msi<br><br>5) You&#39;re good to go!<br><br>Having any issues? Head over to the support forum:<br>https://plus.google.com/110558071969009568835/posts/1uS4nfW7xhp\\n                                                                                                                                                                                                                                                                                                                                                                                                                                                                                                                                                                                                                                                                                                                                                                                                                                                                                                                                                                                                                                                                                                                                                                                                                                                                                                                                                                                                                                                                                                                                                                                                                                                                                                                                                                                                                                                                                                                                                                                                                                                                                                                                                                                                                                                                                                                                                                                                                                                                                                                                                                                                                                                                                                                                                                                                                                                                                                                                                                                                                                                                                                                                               1\n",
       "                                                                                                                                                                                                                                                                                                                                                                                                                                                                                                                                                                                                                                                                                                                                                                                                                                                                                                                                                                                                                                                                                                                                                                                                                                                                                                                                                                                                                                                                                                                                                                                                                                                                                                                                                                                                                                                                                                                                                                                                                                                                                                                                                                                                                                                                                                                                                                                                                                                                                                                                                                                                                                                                                                                                                                                                                                                                                                                                                                                                                                                                                                                                                                                                                                                                                                                                                                                                                                                                                                                                                                                                                                                                                                                                                                                                                                                                                                                                                                                                                                                                                                                                                                                                                                                                                                                                                                                                                    ... \n",
       "With this application you can fool your family simulating a conversation by sending prank/ fake SMS messages<br><br>How It Works:<br>1. Click Start Fake Messages<br>2. Set Name, telephone, photography and messages<br>3. Fool your friends !!!<br><br><br>Why use our app called Send Fake Messages - Simulator?<br>- Send Fake Messages - Simulator is free. It will always be free.<br>- Save your SMS conversations so you can use them again\\n                                                                                                                                                                                                                                                                                                                                                                                                                                                                                                                                                                                                                                                                                                                                                                                                                                                                                                                                                                                                                                                                                                                                                                                                                                                                                                                                                                                                                                                                                                                                                                                                                                                                                                                                                                                                                                                                                                                                                                                                                                                                                                                                                                                                                                                                                                                                                                                                                                                                                                                                                                                                                                                                                                                                                                                                                                                                                                                                                                                                                                                                                                                                                                                                                                                                                                                                                                                                                                                                                                                                                                                                                                                                                                                                                                                                                                                                                                                                                                  1\n",
       "Link2SD is an application manager that makes it easy for Android 2.0+ users on their device to move applications to the SD card. It enables you to manage your apps and storage easily.<br><br><b>Features:</b><br>✔ Link apk, dex and lib files of apps to SD card <br>✔ Link internal data of apps to SD card <b>(Plus)</b><br>✔ Link external data and obb folders of apps and games to SD card <b>(Plus)</b><br>✔ Link dex files of the system apps to SD card <b>(Plus)</b><br>✔ Auto clear cache service <b>(Plus)</b><br>✔ Automatically link newly installed apps (optional)<br>✔ Move any user apps to SD even though the app does not support moving to SD (&quot;force move&quot;)<br>✔ Shows the apps that support moving to SD with native app2sd <br>✔ Set the default install location of the apps; auto, internal, or external <br>✔ Batch link, unlink, reinstall, uninstall, &quot;move to SD&quot;, &quot;move to phone&quot; functions <br>✔ Notify when movable apps installed <br>✔ Uninstall system applications (bloatware removal) <br>✔ Freeze and un-freeze system and users applications <br>✔ Convert system apps into user apps <br>✔ Convert user apps into system apps <br>✔ Integrate &quot;Updated&quot; system apps into system (ROM) <br>✔ Clear data and cache of the application <br>✔ Batch clear data and cache of the selected apps<br>✔ Clear all apps cache at once (1-tap cache cleaner without being root)<br>✔ Exclusion list for &quot;Clear all app cache&quot; function<br>✔ Clear cache widget (1-tap cache cleaner without being root) <br>✔ Notify if total cache size exceeds specified size <br>✔ Reboot manager includes power off, normal reboot, quick (hot) reboot, reboot recovery, reboot bootloader / download mode<br>✔ Reboot widget to boot with one click<br>✔ List applications, show detailed size information and link status <br>✔ Wide variety of options to sort and filter apps <br>✔ Search applications by name <br>✔ Display available space information of internal storage, SD card and SD card 2nd partition <br>✔ Share the Play Store link or the APK (app&#39;s full package) file of the apps<br>✔ Create shortcut for the apps<br>✔ Support 40+ languages<br><br><b>How it works:</b><br><b>Linking apps</b><br>Link2SD uses a secondary partition on your SD card and uses it as another segment of internal storage.<br>Link2SD moves apk, dalvik-cache (.dex), lib and internal data files into this partition, which the OS mounts on boot, and creates a symbolic link in the original location.<br>This retains the file structure that the system expects but with the bulk of the data moved to the SD card.<br><br><b>Linking obb and external data folders of apps and games</b><br>On devices that have emulated SD card, obb and external data folders are located in the internal storage, not in the external (real) SD card.<br>Link2SD moves these folders to the 1st or the 2nd partition of your external SD card (depending on your selection) and with the bind option of the mount command remounts the file hierarchy at external SD card while it is still available at the original location.<br><br><b><u>What you need:</u></b><br><b>Linking apps</b><br>- root permission<br>- second partition on SD card<br><br>You should have two partitions on your SD card and both should be primary.<br><br>You need to use a non-FAT file system (ext2, ext3, ext4 or f2fs) on your 2nd partition in order to link app&#39;s private data files. Because the FAT file system (FAT16, FAT32 or exFAT) does not support UNIX file ownership or permissions and will cause a security breakdown of app&#39;s private files.<br>Link2SD does not create the second partition, you need to create it yourself.<br><br><b>Linking obb and external data folders of apps and games</b><br>- root permission<br><br>Second partition on SD card is optional, folders can be moved to the 1st or 2nd second partition of the SD card.<br><br>Link2SD also provides native App2SD feature of Android OS. It can move any user apps to SD card (force move), with batch moving capability.<br><br>Link2SD is a free (ad supported) app, you can upgrade to Link2SD Plus to remove ads and get additional features.<br><br>DISCLAIMER: It is made available for use at your own risk with no warranty of any kind.\\n       1\n",
       "📞Showcaller specialized in identifying true caller id name and region, unknown incoming calls and avoid spam, scam, telemarketing and robocalls. A powerful caller ID app, call blocker, call recorder, quick number book, contacts and Phone Dialer. More than 50 Million people trust! <br><br>🌟Only 5 MB; Fast, Safe and Smart🌟<br>🌟Caller ID working even offline🌟<br><br>It is the most accurate &amp; easy-to-use caller id app can help you instantly identify the incoming calls not in your contact list. Showcaller identify most of unknown calls and show detailed true caller id name and region on incoming calls, so you can see Caller ID and names of people who is calling.<br><br>Showcaller can help you identify spam calls, see who is calling with true caller id name and region, block number, stop spam &amp; telemarketers. Simple and smart auto telephone voice recorder. It is powered by a database of a billion phone numbers and millions of happy Showcaller users who depend on the app daily.<br><br>Why should you choose Showcaller?<br><br>📞 Caller ID - Showcaller shows you true caller id name and region. Once a result is found, you can add it directly to your phone book, contacts and number book. Find out who called, true call region, name, carrier and more. Browsing number tags and user reviews can help you get more number details. <br><br>🚫 Call Blocker - Block number from known spammers or unwanted callers. Showcaller also provides spam reports during incoming calls from unknown and private numbers that could be used to block calls. True Call Blocker help you say goodbye to telemarketing, scam, fraud, sales, ads, harassment and more!<br><br>✨ Call Recorder / Call Recording - Auto record any incoming &amp; outgoing calls with clear HD quality recording on both sides. You just need to enable automatic recording mode and when you make an outgoing call or have an incoming call from someone. You can also use true call recorder manage your recording files, Listen to the recording, add notes and share it. (not supported on Android Pie)<br><br>✨ Smart Dialer - Fast T9 search in your recent calls and contacts, replace your stock system default free calling app, bring your dialing experience to the next level! Make a phone call more smoothly and intelligently. <br><br>🔎 Phone Number Lookup - All phone number searches within Smart Search are stored. Perform a phone number search on an incoming call and copy a number anywhere to find out who it belongs to (true caller id name and region). The most powerful phone number lookup in Showcaller.<br><br>👤 Quick Contacts - Easily have access to your recently or frequently contacts, call or text them, this makes your communication fast and simple. You can also add or modify your Phone number book easily as you like.<br><br>🔥 Offline Database (Lightning identification) - Fast caller ID and offline accessibility. Identify and show true caller ID without network. Caller ID working even offline!<br><br>☀ Easy to Use - Quick to download, easy to setup, it needs very little space to run, extremely fast and reliable to Caller ID.<br><br>✨ Showcaller Premium - No ads; No limited search times; Automatic block spam calls.<br><br>Showcaller is absolutely free caller id app to identify true caller id name and region. If you enjoy it, feel free to rate it accordingly. Start protecting your phone communication now and enjoy a pleasant calling experience.<br><br>Showcaller works great across all countries especially 🇮🇳INDIA, 🇮🇩INDONESIA, 🇺🇸USA, 🇬🇧UK, 🇸🇦SAUDI ARABIA, 🇧🇷BRAZIL, 🇮🇶IRAQ, 🇮🇱ISRAEL, 🇳🇬NIGERIA and others.<br><br>Showcaller currently supports: Android 4.0 - Android 9.0. <br><br>Don’t hesitate to join in Showcaller and enjoy the most accurate true caller id service, I bet Showcaller for Android definitely worth your time and effort.<br><br>‼Please don’t give us bad rate if you have encountered with any problem. Your feedback always keeps us improving with more and more cool features.<br><br>COMMUNITY<br>Hello, users ! Please follow us: Facebook Page: facebook.com/showcallerinc\\n                                                                                                                                                                                    1\n",
       "Updated (2019) for Delhi and Noida Metro Navigator<br><br>Your one stop solution for all information required on Delhi and Noida Metro.<br><br>Follow us in twitter for latest updates:<br>support@tilzmatictech.com<br>  <br>#1 App for Delhi / Noida Metro     <br><br>Features - Offline<br><br>1. Fare Calculator <br>2. HD Map<br>3. Route Planner<br>4. Parking Rate <br>5. Love Confessions (Metro Stories)<br>6. Upcoming Metro Map<br>7. First/Last Metro<br>8. Platform Information<br>9. Online Recharge<br>10. Gate Information<br><br>Pink Line added, Magenta Line added<br><br>&lt;--  Internet needed for Ads Only :) --&gt;<br><br>Simple, effective and accurate data including fares, parking fee info, offline route map and all this is without the use of the internet. We encourage suggestions, feedback and complaints to improve our product. Happy travelling.<br><br>Developed By <br>Priyanka Goel (priyanka.goel@tilzmatictech.com)<br>Anupam Dutta (anupam.dutta@tilzmatictech.com)<br><br>Delhi Metro Travel Transportation  Route Planner Map Navigation  Tariff Fare Delhi Metro Offline Delhi Greater Noida Metro DMRC\\n                                                                                                                                                                                                                                                                                                                                                                                                                                                                                                                                                                                                                                                                                                                                                                                                                                                                                                                                                                                                                                                                                                                                                                                                                                                                                                                                                                                                                                                                                                                                                                                                                                                                                                                                                                                                                                                                                                                                                                                                                                                                                                                                                                                                                                                                                                                                                                                                                                                                                                                                                                                                                                                                                                                                                                                                                                                                                                                                                                                                                                                                                                                                                                                                                                                            1\n",
       "Weather is exceptionally easy to use app for staying always updated with the weather conditions. <br><br>The Weather app is specifically designed to be as simple and intuitive as possible. With just one click you receive the weather condition in your status bar at your current location.<br><br>The climate state is gorgeously animated so that you can almost experience it, seeing how the weather comes alive. <br><br>The app is using Weather Underground as a data channel and the live updates are really tiny so that you would not use up your data cap.  <br><br>FEATURES<br><br>- Weather supports geo-positioning, retrieving the latest weather conditions for your current location<br><br>- An option to manually add your location<br><br>- Measure ambient temperature and UV index on supported devices<br><br>- Full support for Android TV<br><br>- Available on your favorite smartwatch. Full support for Wear OS.<br><br>- Add and track the weather conditions in multiple locations<br><br>- Weather is one of the most lightweight weather apps on Google Play! <br><br>- Animated weather conditions - see how the weather comes alive!<br><br>- Widgets for different locations<br><br>- Hourly and weekly forecasts<br><br>- Intuitive, seamless user interface<br><br>- Support for the lock screen widget in Android 4.2<br><br>- Weather benefits all known screen resolutions  <br><br>- Offers quality support for Android devices - from Android 1.5 to Android 5.0<br><br>- Tap on the temperature to switch between Celsius and Fahrenheit  <br><br>- You can allow and disable the notifications<br><br>- Choose by yourself what will be the next feature of Weather! Leave a comment or send us an e-mail and help us make Weather the best app of its kind.<br><br> <br><br>Get in touch with us and follow the latest news regarding our apps:<br>http://www.facebook.com/macropinch<br>http://twitter.com/macropinch\\n                                                                                                                                                                                                                                                                                                                                                                                                                                                                                                                                                                                                                                                                                                                                                                                                                                                                                                                                                                                                                                                                                                                                                                                                                                                                                                                                                                                                                                                                                                                                                                                                                                                                                                                                                                                                                                                                                                                                                                                                                                                                                                                                                                                                                                                                                                                                                                                                                                              1\n",
       "Name: descriptions, Length: 143, dtype: int64"
      ]
     },
     "execution_count": 103,
     "metadata": {},
     "output_type": "execute_result"
    }
   ],
   "source": [
    "coded_apps.descriptions.value_counts()"
   ]
  },
  {
   "cell_type": "code",
   "execution_count": null,
   "metadata": {},
   "outputs": [],
   "source": []
  }
 ],
 "metadata": {
  "kernelspec": {
   "display_name": "Python 3",
   "language": "python",
   "name": "python3"
  },
  "language_info": {
   "codemirror_mode": {
    "name": "ipython",
    "version": 3
   },
   "file_extension": ".py",
   "mimetype": "text/x-python",
   "name": "python",
   "nbconvert_exporter": "python",
   "pygments_lexer": "ipython3",
   "version": "3.7.4"
  }
 },
 "nbformat": 4,
 "nbformat_minor": 4
}
