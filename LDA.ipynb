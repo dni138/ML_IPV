{
 "cells": [
  {
   "cell_type": "code",
   "execution_count": 33,
   "metadata": {},
   "outputs": [
    {
     "name": "stderr",
     "output_type": "stream",
     "text": [
      "[nltk_data] Downloading package stopwords to\n",
      "[nltk_data]     /Users/nissani/nltk_data...\n",
      "[nltk_data]   Package stopwords is already up-to-date!\n"
     ]
    }
   ],
   "source": [
    "import numpy as np\n",
    "import pandas as pd\n",
    "import gensim\n",
    "from gensim.models.ldamodel import LdaModel\n",
    "import gensim.corpora as corpora\n",
    "import nltk; nltk.download('stopwords')\n",
    "from nltk.corpus import stopwords\n",
    "import re\n",
    "from gensim.utils import simple_preprocess\n",
    "import spacy\n",
    "from gensim.models import CoherenceModel"
   ]
  },
  {
   "cell_type": "code",
   "execution_count": 2,
   "metadata": {},
   "outputs": [],
   "source": [
    "data = pd.read_csv('/Users/nissani/Desktop/IPV/concatenated_text.csv')"
   ]
  },
  {
   "cell_type": "code",
   "execution_count": 3,
   "metadata": {},
   "outputs": [],
   "source": [
    "data = data.drop(['Unnamed: 0'], axis = 1)"
   ]
  },
  {
   "cell_type": "code",
   "execution_count": 4,
   "metadata": {},
   "outputs": [
    {
     "data": {
      "text/html": [
       "<div>\n",
       "<style scoped>\n",
       "    .dataframe tbody tr th:only-of-type {\n",
       "        vertical-align: middle;\n",
       "    }\n",
       "\n",
       "    .dataframe tbody tr th {\n",
       "        vertical-align: top;\n",
       "    }\n",
       "\n",
       "    .dataframe thead th {\n",
       "        text-align: right;\n",
       "    }\n",
       "</style>\n",
       "<table border=\"1\" class=\"dataframe\">\n",
       "  <thead>\n",
       "    <tr style=\"text-align: right;\">\n",
       "      <th></th>\n",
       "      <th>appId</th>\n",
       "      <th>text</th>\n",
       "      <th>true label</th>\n",
       "      <th>category</th>\n",
       "    </tr>\n",
       "  </thead>\n",
       "  <tbody>\n",
       "    <tr>\n",
       "      <td>0</td>\n",
       "      <td>a2ndappwhats.sdkw.com</td>\n",
       "      <td>b\"2nd Account for Whatsapp 2 Whatsapps on Same...</td>\n",
       "      <td>surveillance:social-media</td>\n",
       "      <td>surveillance</td>\n",
       "    </tr>\n",
       "    <tr>\n",
       "      <td>1</td>\n",
       "      <td>air.au.com.metro.DumbWaysToDie2</td>\n",
       "      <td>b\"Dumb Ways to Die 2: The Games A new set of d...</td>\n",
       "      <td>none:misc</td>\n",
       "      <td>none</td>\n",
       "    </tr>\n",
       "    <tr>\n",
       "      <td>2</td>\n",
       "      <td>air.com.applauz.timeoutkids</td>\n",
       "      <td>b'Time Out - Behaviour Meter Live Behaviour Me...</td>\n",
       "      <td>control:use-limitation</td>\n",
       "      <td>control</td>\n",
       "    </tr>\n",
       "    <tr>\n",
       "      <td>3</td>\n",
       "      <td>ajx.com.calltracker</td>\n",
       "      <td>b\"Call Tracker Call Tracker helps you identify...</td>\n",
       "      <td>callerid:misc</td>\n",
       "      <td>callerid</td>\n",
       "    </tr>\n",
       "    <tr>\n",
       "      <td>4</td>\n",
       "      <td>allcall.location.tracker</td>\n",
       "      <td>b\"All Call Location Tracker All Calls Location...</td>\n",
       "      <td>callerid:location</td>\n",
       "      <td>callerid</td>\n",
       "    </tr>\n",
       "  </tbody>\n",
       "</table>\n",
       "</div>"
      ],
      "text/plain": [
       "                             appId  \\\n",
       "0            a2ndappwhats.sdkw.com   \n",
       "1  air.au.com.metro.DumbWaysToDie2   \n",
       "2      air.com.applauz.timeoutkids   \n",
       "3              ajx.com.calltracker   \n",
       "4         allcall.location.tracker   \n",
       "\n",
       "                                                text  \\\n",
       "0  b\"2nd Account for Whatsapp 2 Whatsapps on Same...   \n",
       "1  b\"Dumb Ways to Die 2: The Games A new set of d...   \n",
       "2  b'Time Out - Behaviour Meter Live Behaviour Me...   \n",
       "3  b\"Call Tracker Call Tracker helps you identify...   \n",
       "4  b\"All Call Location Tracker All Calls Location...   \n",
       "\n",
       "                  true label      category  \n",
       "0  surveillance:social-media  surveillance  \n",
       "1                  none:misc          none  \n",
       "2     control:use-limitation       control  \n",
       "3              callerid:misc      callerid  \n",
       "4          callerid:location      callerid  "
      ]
     },
     "execution_count": 4,
     "metadata": {},
     "output_type": "execute_result"
    }
   ],
   "source": [
    "data.head()"
   ]
  },
  {
   "cell_type": "code",
   "execution_count": 5,
   "metadata": {},
   "outputs": [],
   "source": [
    "stop_words = stopwords.words('english')\n",
    "stop_words.append('phone')\n",
    "stop_words.append('device')\n",
    "stop_words.append('app')\n",
    "stop_words.append('application')"
   ]
  },
  {
   "cell_type": "code",
   "execution_count": 6,
   "metadata": {},
   "outputs": [],
   "source": [
    "text_data = list(data['text'])"
   ]
  },
  {
   "cell_type": "code",
   "execution_count": 7,
   "metadata": {},
   "outputs": [],
   "source": [
    "text_data = [re.sub('\\S*@\\S*\\s?', '', sent) for sent in text_data]"
   ]
  },
  {
   "cell_type": "code",
   "execution_count": 8,
   "metadata": {},
   "outputs": [],
   "source": [
    "text_data = [re.sub('\\s+', ' ', sent) for sent in text_data]"
   ]
  },
  {
   "cell_type": "code",
   "execution_count": 9,
   "metadata": {},
   "outputs": [],
   "source": [
    "text_data = [re.sub(\"\\'\", \"\", sent) for sent in text_data]"
   ]
  },
  {
   "cell_type": "code",
   "execution_count": 10,
   "metadata": {},
   "outputs": [],
   "source": [
    "def sent_to_words(sentences):\n",
    "    for sentence in sentences:\n",
    "        yield(gensim.utils.simple_preprocess(str(sentence), deacc=True))"
   ]
  },
  {
   "cell_type": "code",
   "execution_count": 11,
   "metadata": {},
   "outputs": [],
   "source": [
    "text_data_list = sent_to_words(text_data)"
   ]
  },
  {
   "cell_type": "code",
   "execution_count": 12,
   "metadata": {},
   "outputs": [],
   "source": [
    "def remove_stopwords(texts):\n",
    "    return [[word for word in simple_preprocess(str(doc)) if word not in stop_words] for doc in texts]\n",
    "\n",
    "def lemmatization(texts, allowed_postags=['NOUN', 'ADJ', 'VERB', 'ADV']):\n",
    "    \"\"\"https://spacy.io/api/annotation\"\"\"\n",
    "    texts_out = []\n",
    "    for sent in texts:\n",
    "        doc = nlp(\" \".join(sent)) \n",
    "        texts_out.append([token.lemma_ for token in doc if token.pos_ in allowed_postags])\n",
    "    return texts_out"
   ]
  },
  {
   "cell_type": "code",
   "execution_count": 13,
   "metadata": {},
   "outputs": [],
   "source": [
    "no_stopwords_data = remove_stopwords(text_data_list)"
   ]
  },
  {
   "cell_type": "code",
   "execution_count": 14,
   "metadata": {},
   "outputs": [],
   "source": [
    "nlp = spacy.load('en', disable=['parser', 'ner'])"
   ]
  },
  {
   "cell_type": "code",
   "execution_count": 15,
   "metadata": {},
   "outputs": [],
   "source": [
    "lemmatized_data = lemmatization(no_stopwords_data)"
   ]
  },
  {
   "cell_type": "code",
   "execution_count": 16,
   "metadata": {},
   "outputs": [],
   "source": [
    "id2word = corpora.Dictionary(lemmatized_data)"
   ]
  },
  {
   "cell_type": "code",
   "execution_count": 17,
   "metadata": {},
   "outputs": [],
   "source": [
    "texts = lemmatized_data"
   ]
  },
  {
   "cell_type": "code",
   "execution_count": 18,
   "metadata": {},
   "outputs": [],
   "source": [
    "corpus = [id2word.doc2bow(text) for text in texts]"
   ]
  },
  {
   "cell_type": "code",
   "execution_count": 29,
   "metadata": {},
   "outputs": [],
   "source": [
    "lda_model = LdaModel(corpus=corpus,\n",
    "                   id2word=id2word,\n",
    "                   num_topics=10, \n",
    "                   random_state=100,\n",
    "                   update_every=1,\n",
    "                   chunksize=100,\n",
    "                   passes=10,\n",
    "                   alpha='auto',\n",
    "                   per_word_topics=True)"
   ]
  },
  {
   "cell_type": "code",
   "execution_count": 30,
   "metadata": {},
   "outputs": [
    {
     "data": {
      "text/plain": [
       "<gensim.models.ldamodel.LdaModel at 0x123efbcd0>"
      ]
     },
     "execution_count": 30,
     "metadata": {},
     "output_type": "execute_result"
    }
   ],
   "source": [
    "lda_model"
   ]
  },
  {
   "cell_type": "code",
   "execution_count": 31,
   "metadata": {},
   "outputs": [
    {
     "data": {
      "text/plain": [
       "[(0,\n",
       "  '0.056*\"video\" + 0.045*\"hide\" + 0.041*\"lock\" + 0.037*\"camera\" + 0.036*\"photo\" + 0.021*\"screen\" + 0.018*\"password\" + 0.017*\"private\" + 0.016*\"unlock\" + 0.016*\"privacy\"'),\n",
       " (1,\n",
       "  '0.018*\"use\" + 0.015*\"file\" + 0.015*\"work\" + 0.008*\"delete\" + 0.008*\"feature\" + 0.007*\"support\" + 0.007*\"android\" + 0.007*\"find\" + 0.007*\"download\" + 0.007*\"great\"'),\n",
       " (2,\n",
       "  '0.018*\"work\" + 0.016*\"use\" + 0.016*\"time\" + 0.014*\"get\" + 0.014*\"friend\" + 0.014*\"whatsapp\" + 0.013*\"make\" + 0.011*\"see\" + 0.011*\"free\" + 0.010*\"account\"'),\n",
       " (3,\n",
       "  '0.018*\"use\" + 0.011*\"tool\" + 0.011*\"control\" + 0.010*\"datum\" + 0.010*\"information\" + 0.009*\"spy\" + 0.009*\"monitor\" + 0.009*\"system\" + 0.008*\"app\" + 0.008*\"access\"'),\n",
       " (4,\n",
       "  '0.207*\"call\" + 0.062*\"number\" + 0.062*\"record\" + 0.027*\"caller\" + 0.026*\"would\" + 0.022*\"recorder\" + 0.021*\"incoming\" + 0.019*\"recording\" + 0.014*\"contact\" + 0.013*\"free\"'),\n",
       " (5,\n",
       "  '0.122*\"message\" + 0.060*\"text\" + 0.059*\"send\" + 0.029*\"number\" + 0.029*\"email\" + 0.027*\"receive\" + 0.024*\"sms\" + 0.023*\"forward\" + 0.019*\"contact\" + 0.016*\"credit\"'),\n",
       " (6,\n",
       "  '0.053*\"tv\" + 0.021*\"remote\" + 0.017*\"infrared\" + 0.015*\"cable\" + 0.013*\"street\" + 0.013*\"row\" + 0.012*\"renew\" + 0.010*\"nfeature\" + 0.008*\"glance\" + 0.008*\"controller\"'),\n",
       " (7,\n",
       "  '0.050*\"partner\" + 0.031*\"cheat\" + 0.030*\"boyfriend\" + 0.028*\"girlfriend\" + 0.024*\"couple\" + 0.021*\"lie\" + 0.017*\"relationship\" + 0.017*\"horoscope\" + 0.015*\"spouse\" + 0.012*\"husband\"'),\n",
       " (8,\n",
       "  '0.061*\"game\" + 0.021*\"play\" + 0.018*\"detector\" + 0.015*\"camera\" + 0.011*\"good\" + 0.010*\"detect\" + 0.010*\"level\" + 0.009*\"spy\" + 0.008*\"car\" + 0.008*\"make\"'),\n",
       " (9,\n",
       "  '0.064*\"location\" + 0.046*\"tracker\" + 0.041*\"track\" + 0.038*\"mobile\" + 0.025*\"number\" + 0.023*\"family\" + 0.021*\"gps\" + 0.021*\"find\" + 0.017*\"friend\" + 0.017*\"use\"')]"
      ]
     },
     "execution_count": 31,
     "metadata": {},
     "output_type": "execute_result"
    }
   ],
   "source": [
    "lda_model.print_topics()"
   ]
  },
  {
   "cell_type": "code",
   "execution_count": 40,
   "metadata": {},
   "outputs": [],
   "source": [
    "coherence_model_lda = CoherenceModel(model=lda_model, texts=lemmatized_data, dictionary=id2word, coherence='c_v')"
   ]
  },
  {
   "cell_type": "code",
   "execution_count": 41,
   "metadata": {},
   "outputs": [
    {
     "data": {
      "text/plain": [
       "0.42774197388184343"
      ]
     },
     "execution_count": 41,
     "metadata": {},
     "output_type": "execute_result"
    }
   ],
   "source": [
    "coherence_model_lda.get_coherence()"
   ]
  },
  {
   "cell_type": "code",
   "execution_count": null,
   "metadata": {},
   "outputs": [],
   "source": []
  }
 ],
 "metadata": {
  "kernelspec": {
   "display_name": "Python 3",
   "language": "python",
   "name": "python3"
  },
  "language_info": {
   "codemirror_mode": {
    "name": "ipython",
    "version": 3
   },
   "file_extension": ".py",
   "mimetype": "text/x-python",
   "name": "python",
   "nbconvert_exporter": "python",
   "pygments_lexer": "ipython3",
   "version": "3.7.4"
  }
 },
 "nbformat": 4,
 "nbformat_minor": 4
}
